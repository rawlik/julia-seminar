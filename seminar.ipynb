{
 "cells": [
  {
   "cell_type": "markdown",
   "metadata": {},
   "source": [
    "# Introduction"
   ]
  },
  {
   "cell_type": "code",
   "execution_count": null,
   "metadata": {},
   "outputs": [],
   "source": []
  },
  {
   "cell_type": "code",
   "execution_count": null,
   "metadata": {
    "ExecuteTime": {
     "end_time": "2018-05-13T06:40:52.984000+02:00",
     "start_time": "2018-05-13T04:40:45.609Z"
    }
   },
   "outputs": [],
   "source": [
    "using PyCall\n",
    "\n",
    "py\"\"\"\n",
    "def pymysum(a):\n",
    "    result = 0\n",
    "    for x in a:\n",
    "        result += x\n",
    "    return result\n",
    "\"\"\"\n",
    "\n",
    "pymysum = py\"pymysum\""
   ]
  },
  {
   "cell_type": "code",
   "execution_count": null,
   "metadata": {
    "ExecuteTime": {
     "end_time": "2018-05-13T06:41:52.194000+02:00",
     "start_time": "2018-05-13T04:41:49.349Z"
    }
   },
   "outputs": [],
   "source": [
    "N = 10_000_000\n",
    "a = float.(collect(1:N))\n",
    "\n",
    "pymysum(a)\n",
    "@time pymysum(a)"
   ]
  },
  {
   "cell_type": "code",
   "execution_count": null,
   "metadata": {
    "ExecuteTime": {
     "end_time": "2018-05-13T06:42:01.230000+02:00",
     "start_time": "2018-05-13T04:41:59.790Z"
    }
   },
   "outputs": [],
   "source": [
    "@pyimport numpy as np"
   ]
  },
  {
   "cell_type": "code",
   "execution_count": null,
   "metadata": {
    "ExecuteTime": {
     "end_time": "2018-05-13T06:42:09.651000+02:00",
     "start_time": "2018-05-13T04:42:09.634Z"
    }
   },
   "outputs": [],
   "source": [
    "np.sum(a)\n",
    "@time np.sum(a)"
   ]
  },
  {
   "cell_type": "markdown",
   "metadata": {},
   "source": [
    "python's `main()` can be found here: https://github.com/python/cpython/blob/master/Programs/python.c\n",
    "\n",
    "```C\n",
    "/* Minimal main program -- everything is loaded from the library */\n",
    "\n",
    "#include \"Python.h\"\n",
    "\n",
    "#ifdef MS_WINDOWS\n",
    "int\n",
    "wmain(int argc, wchar_t **argv)\n",
    "{\n",
    "    return Py_Main(argc, argv);\n",
    "}\n",
    "#else\n",
    "int\n",
    "main(int argc, char **argv)\n",
    "{\n",
    "    return _Py_UnixMain(argc, argv);\n",
    "}\n",
    "#endif\n",
    "```"
   ]
  },
  {
   "cell_type": "code",
   "execution_count": null,
   "metadata": {
    "ExecuteTime": {
     "end_time": "2018-05-13T06:43:09.094000+02:00",
     "start_time": "2018-05-13T04:43:09.085Z"
    }
   },
   "outputs": [],
   "source": [
    "# first call compiles the function\n",
    "sum(a)"
   ]
  },
  {
   "cell_type": "code",
   "execution_count": null,
   "metadata": {
    "ExecuteTime": {
     "end_time": "2018-05-13T06:43:09.903000+02:00",
     "start_time": "2018-05-13T04:43:09.893Z"
    }
   },
   "outputs": [],
   "source": [
    "@time sum(a)"
   ]
  },
  {
   "cell_type": "code",
   "execution_count": null,
   "metadata": {
    "ExecuteTime": {
     "end_time": "2018-05-13T06:43:18.462000+02:00",
     "start_time": "2018-05-13T04:43:18.230Z"
    }
   },
   "outputs": [],
   "source": [
    "function mysum(a)\n",
    "    result = zero(eltype(a))\n",
    "    for x in a\n",
    "        result += x\n",
    "    end\n",
    "    result\n",
    "end"
   ]
  },
  {
   "cell_type": "code",
   "execution_count": null,
   "metadata": {
    "ExecuteTime": {
     "end_time": "2018-05-13T06:45:17.620000+02:00",
     "start_time": "2018-05-13T04:45:17.596Z"
    }
   },
   "outputs": [],
   "source": [
    "mysum(a)\n",
    "@time mysum(a)"
   ]
  },
  {
   "cell_type": "code",
   "execution_count": null,
   "metadata": {
    "ExecuteTime": {
     "end_time": "2018-05-12T17:22:40.229000+02:00",
     "start_time": "2018-05-12T15:22:39.794Z"
    },
    "scrolled": true
   },
   "outputs": [],
   "source": [
    "@less sum(a)"
   ]
  },
  {
   "cell_type": "markdown",
   "metadata": {},
   "source": [
    "In Julia `sum()` is defined as:\n",
    "```julia\n",
    "sum(a) = mapreduce(identity, +, a)\n",
    "sum(a::AbstractArray{Bool}) = countnz(a)\n",
    "```\n",
    "\n",
    "Doing `julia> @less mapreduce(identity, +, a)` points to the same file, where we find:\n",
    "\n",
    "```julia\n",
    "## reduce & mapreduce\n",
    "\n",
    "# `mapreduce_impl()` is called by `mapreduce()` (via `_mapreduce()`, when `A`\n",
    "# supports linear indexing) and does actual calculations (for `A[ifirst:ilast]` subset).\n",
    "```\n",
    "\n",
    "The actual code:\n",
    "\n",
    "```julia\n",
    "function mapreduce_impl(f, op, A::AbstractArray, ifirst::Integer, ilast::Integer, blksize::Int=pairwise_blocksize(f, op))\n",
    "    if ifirst == ilast\n",
    "        @inbounds a1 = A[ifirst]\n",
    "        return r_promote(op, f(a1))\n",
    "    elseif ifirst + blksize > ilast\n",
    "        # sequential portion\n",
    "        @inbounds a1 = A[ifirst]\n",
    "        @inbounds a2 = A[ifirst+1]\n",
    "        v = op(r_promote(op, f(a1)), r_promote(op, f(a2)))\n",
    "        @simd for i = ifirst + 2 : ilast\n",
    "            @inbounds ai = A[i]\n",
    "            v = op(v, f(ai))\n",
    "        end\n",
    "        return v\n",
    "    else\n",
    "        # pairwise portion\n",
    "        imid = (ifirst + ilast) >> 1\n",
    "        v1 = mapreduce_impl(f, op, A, ifirst, imid, blksize)\n",
    "        v2 = mapreduce_impl(f, op, A, imid+1, ilast, blksize)\n",
    "        return op(v1, v2)\n",
    "    end\n",
    "end\n",
    "```"
   ]
  },
  {
   "cell_type": "markdown",
   "metadata": {},
   "source": [
    "## Quicksort - less trivial example"
   ]
  },
  {
   "cell_type": "code",
   "execution_count": null,
   "metadata": {
    "ExecuteTime": {
     "end_time": "2018-05-12T17:28:57.984000+02:00",
     "start_time": "2018-05-12T15:28:57.978Z"
    }
   },
   "outputs": [],
   "source": [
    "# stolen from https://stackoverflow.com/a/18262384\n",
    "py\"\"\"\n",
    "def pymyquicksort(array):\n",
    "    less = []\n",
    "    equal = []\n",
    "    greater = []\n",
    "\n",
    "    if len(array) > 1:\n",
    "        pivot = array[0]\n",
    "        for x in array:\n",
    "            if x < pivot:\n",
    "                less.append(x)\n",
    "            if x == pivot:\n",
    "                equal.append(x)\n",
    "            if x > pivot:\n",
    "                greater.append(x)\n",
    "        # Don't forget to return something!\n",
    "        return pymyquicksort(less) + equal + pymyquicksort(greater)  # Just use the + operator to join lists\n",
    "    # Note that you want equal ^^^^^ not pivot\n",
    "    else:  # You need to hande the part at the end of the recursion - when you only have one element in your array, just return the array.\n",
    "        return array\n",
    "\"\"\"\n",
    "pymyquicksort = py\"pymyquicksort\""
   ]
  },
  {
   "cell_type": "code",
   "execution_count": null,
   "metadata": {
    "ExecuteTime": {
     "end_time": "2018-05-12T17:28:59.998000+02:00",
     "start_time": "2018-05-12T15:28:58.350Z"
    }
   },
   "outputs": [],
   "source": [
    "A = rand(100_000)\n",
    "@time pymyquicksort(A)"
   ]
  },
  {
   "cell_type": "code",
   "execution_count": null,
   "metadata": {
    "ExecuteTime": {
     "end_time": "2018-05-12T17:29:02.929000+02:00",
     "start_time": "2018-05-12T15:29:02.830Z"
    }
   },
   "outputs": [],
   "source": [
    "function myquicksort(A)\n",
    "    length(A) > 1 || return A\n",
    "    \n",
    "    less = similar(A, 0)\n",
    "    equal = similar(A, 0)\n",
    "    greater = similar(A, 0)\n",
    "\n",
    "    pivot = A[1]\n",
    "    for x in A\n",
    "        x < pivot && push!(less, x)\n",
    "        x == pivot && push!(equal, x)\n",
    "        x > pivot && push!(greater, x)\n",
    "    end\n",
    "    \n",
    "    [ myquicksort(less); equal; myquicksort(greater) ]\n",
    "end"
   ]
  },
  {
   "cell_type": "code",
   "execution_count": null,
   "metadata": {
    "ExecuteTime": {
     "end_time": "2018-05-12T17:29:16.262000+02:00",
     "start_time": "2018-05-12T15:29:16.118Z"
    }
   },
   "outputs": [],
   "source": [
    "myquicksort(A)\n",
    "@time myquicksort(A)"
   ]
  },
  {
   "cell_type": "code",
   "execution_count": null,
   "metadata": {
    "ExecuteTime": {
     "end_time": "2018-05-12T17:29:51.871000+02:00",
     "start_time": "2018-05-12T15:29:51.848Z"
    }
   },
   "outputs": [],
   "source": [
    "@code_native myquicksort(A)"
   ]
  },
  {
   "cell_type": "code",
   "execution_count": null,
   "metadata": {
    "ExecuteTime": {
     "end_time": "2018-05-12T17:29:07.552000+02:00",
     "start_time": "2018-05-12T15:29:07.462Z"
    }
   },
   "outputs": [],
   "source": [
    "square_area(a) = a * a"
   ]
  },
  {
   "cell_type": "code",
   "execution_count": null,
   "metadata": {
    "ExecuteTime": {
     "end_time": "2018-05-05T09:27:40.511000+02:00",
     "start_time": "2018-05-05T07:27:40.504Z"
    }
   },
   "outputs": [],
   "source": [
    "code_native(square_area, (Int32,))"
   ]
  },
  {
   "cell_type": "code",
   "execution_count": null,
   "metadata": {
    "ExecuteTime": {
     "end_time": "2018-05-12T17:30:15.784000+02:00",
     "start_time": "2018-05-12T15:30:15.772Z"
    }
   },
   "outputs": [],
   "source": [
    "code_native(square_area, (Float64,))"
   ]
  },
  {
   "cell_type": "markdown",
   "metadata": {},
   "source": [
    "# Fresnel propagation"
   ]
  },
  {
   "cell_type": "markdown",
   "metadata": {},
   "source": [
    "`PyPlot` is already installed, but installing it is as simple as:\n",
    "\n",
    "`julia> Pkg.add(\"PyPlot\")`\n",
    "\n",
    "Julia has a built-in package manager."
   ]
  },
  {
   "cell_type": "code",
   "execution_count": null,
   "metadata": {
    "ExecuteTime": {
     "end_time": "2018-05-13T09:03:02.461000+02:00",
     "start_time": "2018-05-13T07:02:50.016Z"
    }
   },
   "outputs": [],
   "source": [
    "using PyPlot"
   ]
  },
  {
   "cell_type": "code",
   "execution_count": null,
   "metadata": {
    "ExecuteTime": {
     "end_time": "2018-05-13T06:55:19.163000+02:00",
     "start_time": "2018-05-13T04:55:18.414Z"
    }
   },
   "outputs": [],
   "source": [
    "\"The rectangle function.\"\n",
    "rect(x) = one(x) * (abs(x) < 0.5)\n",
    "\n",
    "\"A circular grating\"\n",
    "circle(x, y, m, L) = m * rect(sqrt(x^2 + y^2) / 2L)"
   ]
  },
  {
   "cell_type": "code",
   "execution_count": null,
   "metadata": {
    "ExecuteTime": {
     "end_time": "2018-05-13T06:55:47.256000+02:00",
     "start_time": "2018-05-13T04:55:41.260Z"
    }
   },
   "outputs": [],
   "source": [
    "x = linspace(-1, 1)\n",
    "plot(x, rect.(x), \".-\")"
   ]
  },
  {
   "cell_type": "code",
   "execution_count": null,
   "metadata": {
    "ExecuteTime": {
     "end_time": "2018-05-13T06:55:50.040000+02:00",
     "start_time": "2018-05-13T04:55:50.035Z"
    }
   },
   "outputs": [],
   "source": [
    "\"frequencies for which the fft is calculated\"\n",
    "fftfreq(n) = ifftshift(-cld(n-1, 2) : fld(n-1, 2)) / n\n",
    "\n",
    "\"Transfer function for the Fresnel free propagation.\"\n",
    "H(fx, fy, λ, z) = exp(-im * π * λ * z * (fx^2 + fy^2))"
   ]
  },
  {
   "cell_type": "code",
   "execution_count": null,
   "metadata": {
    "ExecuteTime": {
     "end_time": "2018-05-13T06:59:03.059000+02:00",
     "start_time": "2018-05-13T04:59:03.054Z"
    }
   },
   "outputs": [],
   "source": [
    "δx = δy = 0.1e-6\n",
    "# Make sure Nx is a power of 2 for performance reasons\n",
    "Nx = Ny = nextprod([2], 4000)\n",
    "\n",
    "# x is a row vector, y is a column vector\n",
    "x = δx * (collect(1:Nx) - Nx/2)'\n",
    "y = δy * (collect(1:Ny) - Ny/2)\n",
    "\n",
    "fx = (fftfreq(length(x)) ./ δx)'\n",
    "fy = fftfreq(length(y)) ./ δy"
   ]
  },
  {
   "cell_type": "code",
   "execution_count": null,
   "metadata": {
    "ExecuteTime": {
     "end_time": "2018-05-13T06:59:26.398000+02:00",
     "start_time": "2018-05-13T04:59:23.620Z"
    }
   },
   "outputs": [],
   "source": [
    "u0 = ones(Complex128, length(y), length(x))\n",
    "\n",
    "# grating 20μm\n",
    "p1 = 20e-6\n",
    "u1 = u0 .* circle.(x, y, 1, p1)\n",
    "U1 = fft(u1)\n",
    "\n",
    "# wavelength 100pm\n",
    "λ = 100e-12\n",
    "u2(z) = ifft(U1 .* H.(fx, fy, λ, z), (1, 2))\n",
    "\n",
    "\"The distance for the given Fresnel number\"\n",
    "NF2z(NF) = (p1/2)^2 / (λ * NF)"
   ]
  },
  {
   "cell_type": "code",
   "execution_count": null,
   "metadata": {
    "ExecuteTime": {
     "end_time": "2018-05-13T06:59:47.386000+02:00",
     "start_time": "2018-05-13T04:59:44.335Z"
    }
   },
   "outputs": [],
   "source": [
    "z = NF2z(2)\n",
    "intensity_image = abs.(u2(z)).^2"
   ]
  },
  {
   "cell_type": "code",
   "execution_count": null,
   "metadata": {
    "ExecuteTime": {
     "end_time": "2018-05-13T06:59:52.032000+02:00",
     "start_time": "2018-05-13T04:59:49.652Z"
    }
   },
   "outputs": [],
   "source": [
    "imshow(intensity_image,\n",
    "    cmap = \"Greys_r\",\n",
    "    interpolation = \"bicubic\",\n",
    "    aspect = 1)\n",
    "xlim(1800, 2300)\n",
    "ylim(1800, 2300)"
   ]
  },
  {
   "cell_type": "code",
   "execution_count": null,
   "metadata": {
    "ExecuteTime": {
     "end_time": "2018-05-13T21:20:04.701000+02:00",
     "start_time": "2018-05-13T19:20:03.585Z"
    }
   },
   "outputs": [],
   "source": [
    "@profile intensity_image = abs.(u2(z)).^2"
   ]
  },
  {
   "cell_type": "code",
   "execution_count": null,
   "metadata": {
    "ExecuteTime": {
     "end_time": "2018-05-13T21:20:16.957000+02:00",
     "start_time": "2018-05-13T19:20:14.255Z"
    }
   },
   "outputs": [],
   "source": [
    "Profile.print()"
   ]
  },
  {
   "cell_type": "markdown",
   "metadata": {},
   "source": [
    "# Intergrating with Python"
   ]
  },
  {
   "cell_type": "code",
   "execution_count": null,
   "metadata": {
    "ExecuteTime": {
     "end_time": "2018-05-14T21:22:47.971000+02:00",
     "start_time": "2018-05-14T19:22:47.886Z"
    }
   },
   "outputs": [],
   "source": [
    "using PyCall"
   ]
  },
  {
   "cell_type": "code",
   "execution_count": null,
   "metadata": {
    "ExecuteTime": {
     "end_time": "2018-05-14T21:22:52.066000+02:00",
     "start_time": "2018-05-14T19:22:48.758Z"
    }
   },
   "outputs": [],
   "source": [
    "@pyimport scipy.optimize as so\n",
    "so.newton(x -> cos(x) - x, 1)"
   ]
  },
  {
   "cell_type": "markdown",
   "metadata": {},
   "source": [
    "Single line `py\"...\"` returns a value, but has to be a single expression."
   ]
  },
  {
   "cell_type": "code",
   "execution_count": null,
   "metadata": {
    "ExecuteTime": {
     "end_time": "2018-05-14T21:22:52.693000+02:00",
     "start_time": "2018-05-14T19:22:49.911Z"
    }
   },
   "outputs": [],
   "source": [
    "py\"len([12, 23])\""
   ]
  },
  {
   "cell_type": "markdown",
   "metadata": {},
   "source": [
    "Multiline `py\"\"\"...\"\"\"` can execute arbitrary python code, but returns `nothing`."
   ]
  },
  {
   "cell_type": "code",
   "execution_count": null,
   "metadata": {
    "ExecuteTime": {
     "end_time": "2018-05-14T21:22:52.699000+02:00",
     "start_time": "2018-05-14T19:22:50.743Z"
    }
   },
   "outputs": [],
   "source": [
    "py\"\"\"\n",
    "def python_add(a, b):\n",
    "    return a + b\n",
    "\"\"\"\n",
    "python_add = py\"python_add\""
   ]
  },
  {
   "cell_type": "code",
   "execution_count": null,
   "metadata": {
    "ExecuteTime": {
     "end_time": "2018-05-14T21:22:52.812000+02:00",
     "start_time": "2018-05-14T19:22:51.247Z"
    }
   },
   "outputs": [],
   "source": [
    "python_add(2, 2)"
   ]
  },
  {
   "cell_type": "code",
   "execution_count": null,
   "metadata": {
    "ExecuteTime": {
     "end_time": "2018-05-14T21:30:00.997000+02:00",
     "start_time": "2018-05-14T19:30:00.993Z"
    }
   },
   "outputs": [],
   "source": [
    "py\"\"\"\n",
    "class PythonClass:\n",
    "    pass\n",
    "\n",
    "pyobject = PythonClass()\n",
    "pyobject.field = \"value\"\n",
    "\"\"\"\n",
    "pyobject = py\"pyobject\""
   ]
  },
  {
   "cell_type": "code",
   "execution_count": null,
   "metadata": {
    "ExecuteTime": {
     "end_time": "2018-05-14T21:30:29.143000+02:00",
     "start_time": "2018-05-14T19:30:29.139Z"
    }
   },
   "outputs": [],
   "source": [
    "py\"pyobject.field\""
   ]
  },
  {
   "cell_type": "code",
   "execution_count": null,
   "metadata": {
    "ExecuteTime": {
     "end_time": "2018-05-14T21:30:47.839000+02:00",
     "start_time": "2018-05-14T19:30:47.834Z"
    }
   },
   "outputs": [],
   "source": [
    "pyobject[:field]"
   ]
  },
  {
   "cell_type": "markdown",
   "metadata": {
    "ExecuteTime": {
     "end_time": "2018-05-04T22:49:42.682000+02:00",
     "start_time": "2018-05-04T20:49:42.678Z"
    }
   },
   "source": [
    "# Plotting with matplotlib"
   ]
  },
  {
   "cell_type": "code",
   "execution_count": null,
   "metadata": {
    "ExecuteTime": {
     "end_time": "2018-05-04T23:17:49.757000+02:00",
     "start_time": "2018-05-04T21:17:39.916Z"
    }
   },
   "outputs": [],
   "source": [
    "using PyPlot"
   ]
  },
  {
   "cell_type": "code",
   "execution_count": null,
   "metadata": {
    "ExecuteTime": {
     "end_time": "2018-05-04T23:17:53.954000+02:00",
     "start_time": "2018-05-04T21:17:40.340Z"
    }
   },
   "outputs": [],
   "source": [
    "errorbar(0:9, rand(10), fmt = \".\", yerr = 0.1)\n",
    "xlabel(\"whatever (a.u.)\")\n",
    "ylabel(\"intensity (a.u.)\")"
   ]
  },
  {
   "cell_type": "markdown",
   "metadata": {},
   "source": [
    "# Calling C"
   ]
  },
  {
   "cell_type": "code",
   "execution_count": null,
   "metadata": {
    "ExecuteTime": {
     "end_time": "2018-05-04T23:17:54.152000+02:00",
     "start_time": "2018-05-04T21:17:42.748Z"
    }
   },
   "outputs": [],
   "source": [
    "ccall((:clock, \"libc\"), Int32, ())"
   ]
  },
  {
   "cell_type": "code",
   "execution_count": null,
   "metadata": {
    "ExecuteTime": {
     "end_time": "2018-05-04T23:17:54.577000+02:00",
     "start_time": "2018-05-04T21:17:43.278Z"
    }
   },
   "outputs": [],
   "source": [
    "ccall((:getenv, \"libc\"), Cstring, (Cstring,), \"SHELL\") |> unsafe_string"
   ]
  },
  {
   "cell_type": "markdown",
   "metadata": {},
   "source": [
    "Can easily wrap functions:"
   ]
  },
  {
   "cell_type": "code",
   "execution_count": null,
   "metadata": {
    "ExecuteTime": {
     "end_time": "2018-05-05T12:53:09.797000+02:00",
     "start_time": "2018-05-05T10:53:09.692Z"
    }
   },
   "outputs": [],
   "source": [
    "getenv(v) = ccall((:getenv, \"libc\"), Cstring, (Cstring,), v) |> unsafe_string"
   ]
  },
  {
   "cell_type": "code",
   "execution_count": null,
   "metadata": {
    "ExecuteTime": {
     "end_time": "2018-05-05T12:53:17.044000+02:00",
     "start_time": "2018-05-05T10:53:17.034Z"
    }
   },
   "outputs": [],
   "source": [
    "getenv(\"HOME\")"
   ]
  },
  {
   "cell_type": "code",
   "execution_count": null,
   "metadata": {
    "ExecuteTime": {
     "end_time": "2018-05-15T15:40:24.859000+02:00",
     "start_time": "2018-05-15T13:40:24.845Z"
    }
   },
   "outputs": [],
   "source": [
    "a = collect(1:10)"
   ]
  },
  {
   "cell_type": "code",
   "execution_count": null,
   "metadata": {
    "ExecuteTime": {
     "end_time": "2018-05-15T15:40:30.061000+02:00",
     "start_time": "2018-05-15T13:40:29.885Z"
    }
   },
   "outputs": [],
   "source": [
    "pointer(a)"
   ]
  },
  {
   "cell_type": "markdown",
   "metadata": {},
   "source": [
    "# C++ integration"
   ]
  },
  {
   "cell_type": "code",
   "execution_count": null,
   "metadata": {
    "ExecuteTime": {
     "end_time": "2018-05-04T23:18:54.567000+02:00",
     "start_time": "2018-05-04T21:17:53.216Z"
    }
   },
   "outputs": [],
   "source": [
    "using Cxx"
   ]
  },
  {
   "cell_type": "code",
   "execution_count": null,
   "metadata": {
    "ExecuteTime": {
     "end_time": "2018-05-04T23:18:56.321000+02:00",
     "start_time": "2018-05-04T21:17:54.642Z"
    }
   },
   "outputs": [],
   "source": [
    "cxx\"\"\" #include<iostream> \"\"\""
   ]
  },
  {
   "cell_type": "code",
   "execution_count": null,
   "metadata": {
    "ExecuteTime": {
     "end_time": "2018-05-04T23:18:56.347000+02:00",
     "start_time": "2018-05-04T21:17:55.534Z"
    }
   },
   "outputs": [],
   "source": [
    "cxx\"\"\"  \n",
    "  void mycppfunction() {   \n",
    "    int z = 0;\n",
    "    int y = 4;\n",
    "    int x = 10;\n",
    "    z = x*y + 2;\n",
    "    std::cout << \"The number is \" << z << std::endl;\n",
    " }\n",
    "\"\"\""
   ]
  },
  {
   "cell_type": "code",
   "execution_count": null,
   "metadata": {
    "ExecuteTime": {
     "end_time": "2018-05-04T23:18:57.752000+02:00",
     "start_time": "2018-05-04T21:18:05.236Z"
    }
   },
   "outputs": [],
   "source": [
    "julia_function() = @cxx mycppfunction()"
   ]
  },
  {
   "cell_type": "code",
   "execution_count": null,
   "metadata": {
    "ExecuteTime": {
     "end_time": "2018-05-04T23:18:58.901000+02:00",
     "start_time": "2018-05-04T21:18:05.982Z"
    }
   },
   "outputs": [],
   "source": [
    "julia_function()"
   ]
  },
  {
   "cell_type": "markdown",
   "metadata": {},
   "source": [
    "# Parallel computing"
   ]
  },
  {
   "cell_type": "code",
   "execution_count": null,
   "metadata": {
    "ExecuteTime": {
     "end_time": "2018-05-13T08:01:50.831000+02:00",
     "start_time": "2018-05-13T06:01:50.827Z"
    }
   },
   "outputs": [],
   "source": [
    "incircle(x, y, r) = x^2 + y^2 < r^2"
   ]
  },
  {
   "cell_type": "code",
   "execution_count": null,
   "metadata": {
    "ExecuteTime": {
     "end_time": "2018-05-13T08:11:50.049000+02:00",
     "start_time": "2018-05-13T06:11:49.259Z"
    }
   },
   "outputs": [],
   "source": [
    "function estimateπ(N)\n",
    "    inside = 0\n",
    "    for i in 1:N\n",
    "        x = rand() - 0.5\n",
    "        y = rand() - 0.5\n",
    "\n",
    "        incircle(x, y, 0.5) && (inside += 1)\n",
    "    end\n",
    "    inside / N / 0.5^2\n",
    "end\n",
    "    \n",
    "\n",
    "estimateπ(1000)\n",
    "@time estimateπ(100_000_000)"
   ]
  },
  {
   "cell_type": "code",
   "execution_count": null,
   "metadata": {
    "ExecuteTime": {
     "end_time": "2018-05-13T08:04:35.098000+02:00",
     "start_time": "2018-05-13T06:04:32.686Z"
    }
   },
   "outputs": [],
   "source": [
    "addprocs(4)"
   ]
  },
  {
   "cell_type": "code",
   "execution_count": null,
   "metadata": {
    "ExecuteTime": {
     "end_time": "2018-05-13T08:05:17.684000+02:00",
     "start_time": "2018-05-13T06:05:17.372Z"
    }
   },
   "outputs": [],
   "source": [
    "@everywhere @show myid()"
   ]
  },
  {
   "cell_type": "code",
   "execution_count": null,
   "metadata": {
    "ExecuteTime": {
     "end_time": "2018-05-13T08:05:34.504000+02:00",
     "start_time": "2018-05-13T06:05:34.477Z"
    }
   },
   "outputs": [],
   "source": [
    "@everywhere incircle(x, y, r) = x^2 + y^2 < r^2"
   ]
  },
  {
   "cell_type": "code",
   "execution_count": null,
   "metadata": {
    "ExecuteTime": {
     "end_time": "2018-05-13T08:13:27.573000+02:00",
     "start_time": "2018-05-13T06:13:26.590Z"
    }
   },
   "outputs": [],
   "source": [
    "N = 100_000_000\n",
    "Nworker = N ÷ nworkers()\n",
    "\n",
    "@time inside = @parallel (+) for i in 1:N\n",
    "    x = rand() - 0.5\n",
    "    y = rand() - 0.5\n",
    "\n",
    "    incircle(x, y, 0.5)\n",
    "end\n",
    "\n",
    "inside / N / 0.5^2"
   ]
  },
  {
   "cell_type": "markdown",
   "metadata": {},
   "source": [
    "# Shell-capabilities"
   ]
  },
  {
   "cell_type": "code",
   "execution_count": null,
   "metadata": {
    "ExecuteTime": {
     "end_time": "2018-05-13T09:08:30.985000+02:00",
     "start_time": "2018-05-13T07:08:30.885Z"
    }
   },
   "outputs": [],
   "source": [
    "run(`ls`)"
   ]
  },
  {
   "cell_type": "code",
   "execution_count": null,
   "metadata": {
    "ExecuteTime": {
     "end_time": "2018-05-14T21:35:16.828000+02:00",
     "start_time": "2018-05-14T19:35:16.825Z"
    }
   },
   "outputs": [],
   "source": [
    "url = \"https://raw.githubusercontent.com/rawlik/Coils.jl/master/Coils.jl\""
   ]
  },
  {
   "cell_type": "code",
   "execution_count": null,
   "metadata": {
    "ExecuteTime": {
     "end_time": "2018-05-14T21:46:24.250000+02:00",
     "start_time": "2018-05-14T19:46:23.755Z"
    }
   },
   "outputs": [],
   "source": [
    "# get all the functions defined in that file\n",
    "byline_matches = [ match(r\"^function ([a-zA-Z0-9_]+)\\(.*\\)\", s) for s in split(readstring(`curl $url`), \"\\n\") ]\n",
    "[ m.captures[] for m in byline_matches if m != nothing]"
   ]
  },
  {
   "cell_type": "code",
   "execution_count": null,
   "metadata": {
    "ExecuteTime": {
     "end_time": "2018-05-14T21:47:47.093000+02:00",
     "start_time": "2018-05-14T19:47:46.907Z"
    }
   },
   "outputs": [],
   "source": [
    "# How many lines does the file have?\n",
    "run(pipeline(`curl $url`, `wc -l`))"
   ]
  },
  {
   "cell_type": "markdown",
   "metadata": {},
   "source": [
    "# Type system and multiple-dispatch"
   ]
  },
  {
   "cell_type": "code",
   "execution_count": null,
   "metadata": {
    "ExecuteTime": {
     "end_time": "2018-05-13T09:07:33.457000+02:00",
     "start_time": "2018-05-13T07:07:32.144Z"
    }
   },
   "outputs": [],
   "source": [
    "methods(+)"
   ]
  },
  {
   "cell_type": "markdown",
   "metadata": {},
   "source": [
    "# Metaprogramming"
   ]
  },
  {
   "cell_type": "code",
   "execution_count": null,
   "metadata": {
    "ExecuteTime": {
     "end_time": "2018-05-15T15:32:55.744000+02:00",
     "start_time": "2018-05-15T13:32:55.700Z"
    }
   },
   "outputs": [],
   "source": [
    "x1 = 1"
   ]
  },
  {
   "cell_type": "code",
   "execution_count": null,
   "metadata": {
    "ExecuteTime": {
     "end_time": "2018-05-15T15:32:58.905000+02:00",
     "start_time": "2018-05-15T13:32:58.901Z"
    }
   },
   "outputs": [],
   "source": [
    "x2 = 2"
   ]
  },
  {
   "cell_type": "code",
   "execution_count": null,
   "metadata": {
    "ExecuteTime": {
     "end_time": "2018-05-15T15:33:13.383000+02:00",
     "start_time": "2018-05-15T13:33:13.371Z"
    }
   },
   "outputs": [],
   "source": [
    "typeof(:x1)"
   ]
  },
  {
   "cell_type": "code",
   "execution_count": null,
   "metadata": {
    "ExecuteTime": {
     "end_time": "2018-05-15T15:33:18.535000+02:00",
     "start_time": "2018-05-15T13:33:18.532Z"
    }
   },
   "outputs": [],
   "source": [
    "eval(:x1)"
   ]
  },
  {
   "cell_type": "code",
   "execution_count": null,
   "metadata": {
    "ExecuteTime": {
     "end_time": "2018-05-15T15:39:28.438000+02:00",
     "start_time": "2018-05-15T13:39:28.434Z"
    }
   },
   "outputs": [],
   "source": [
    "dump(:(sin(t)^2 + cos(p)^2))"
   ]
  },
  {
   "cell_type": "code",
   "execution_count": null,
   "metadata": {
    "ExecuteTime": {
     "end_time": "2018-05-15T15:35:13.970000+02:00",
     "start_time": "2018-05-15T13:35:13.962Z"
    }
   },
   "outputs": [],
   "source": [
    "whichx = 1"
   ]
  },
  {
   "cell_type": "code",
   "execution_count": null,
   "metadata": {
    "ExecuteTime": {
     "end_time": "2018-05-15T15:36:09.495000+02:00",
     "start_time": "2018-05-15T13:36:09.493Z"
    }
   },
   "outputs": [],
   "source": [
    "eval(parse(\"x$whichx\"))"
   ]
  },
  {
   "cell_type": "code",
   "execution_count": null,
   "metadata": {
    "ExecuteTime": {
     "end_time": "2018-05-15T15:36:40.937000+02:00",
     "start_time": "2018-05-15T13:36:40.916Z"
    }
   },
   "outputs": [],
   "source": [
    "for whichx in 1:2\n",
    "    @show \"x$whichx\" |> parse |> eval\n",
    "end"
   ]
  },
  {
   "cell_type": "code",
   "execution_count": null,
   "metadata": {
    "ExecuteTime": {
     "end_time": "2018-05-15T15:37:46.040000+02:00",
     "start_time": "2018-05-15T13:37:46.033Z"
    }
   },
   "outputs": [],
   "source": [
    "# stolen from https://en.wikibooks.org/wiki/Introducing_Julia\n",
    "\n",
    "macro until(condition, block)\n",
    "    quote\n",
    "        while true\n",
    "            $(esc(block))\n",
    "            if $(esc(condition))\n",
    "                break\n",
    "            end\n",
    "        end\n",
    "    end\n",
    "end"
   ]
  },
  {
   "cell_type": "code",
   "execution_count": null,
   "metadata": {
    "ExecuteTime": {
     "end_time": "2018-05-15T15:38:17.144000+02:00",
     "start_time": "2018-05-15T13:38:17.131Z"
    }
   },
   "outputs": [],
   "source": [
    "i = 0 \n",
    "@until i == 10 begin\n",
    "    i += 1\n",
    "    @show i\n",
    "end"
   ]
  },
  {
   "cell_type": "markdown",
   "metadata": {},
   "source": [
    "# The down side of julia"
   ]
  },
  {
   "cell_type": "code",
   "execution_count": null,
   "metadata": {
    "ExecuteTime": {
     "end_time": "2018-05-13T13:48:22.238000+02:00",
     "start_time": "2018-05-13T11:48:20.519Z"
    }
   },
   "outputs": [],
   "source": [
    "@time `julia -e \"println(2+2)\"` |> run"
   ]
  },
  {
   "cell_type": "code",
   "execution_count": null,
   "metadata": {
    "ExecuteTime": {
     "end_time": "2018-05-13T13:49:01.301000+02:00",
     "start_time": "2018-05-13T11:49:01.029Z"
    }
   },
   "outputs": [],
   "source": [
    "@time `python3 -c \"print(2+2)\"` |> run"
   ]
  },
  {
   "cell_type": "code",
   "execution_count": null,
   "metadata": {
    "ExecuteTime": {
     "end_time": "2018-05-14T10:10:47.822000+02:00",
     "start_time": "2018-05-14T08:10:38.954Z"
    }
   },
   "outputs": [],
   "source": [
    "@time `julia -e \"using PyPlot\"` |> run"
   ]
  },
  {
   "cell_type": "code",
   "execution_count": null,
   "metadata": {
    "ExecuteTime": {
     "end_time": "2018-05-14T10:10:51.981000+02:00",
     "start_time": "2018-05-14T08:10:51.327Z"
    }
   },
   "outputs": [],
   "source": [
    "@time `python3 -c \"from pylab import *\"` |> run"
   ]
  },
  {
   "cell_type": "markdown",
   "metadata": {},
   "source": [
    "# Crash-course"
   ]
  },
  {
   "cell_type": "markdown",
   "metadata": {},
   "source": [
    "Based on `https://learnxinyminutes.com/docs/julia/` with modifications."
   ]
  },
  {
   "cell_type": "code",
   "execution_count": null,
   "metadata": {
    "ExecuteTime": {
     "end_time": "2018-05-13T07:00:07.595000+02:00",
     "start_time": "2018-05-13T05:00:07.441Z"
    }
   },
   "outputs": [],
   "source": [
    "2"
   ]
  },
  {
   "cell_type": "code",
   "execution_count": null,
   "metadata": {
    "ExecuteTime": {
     "end_time": "2018-05-13T07:00:08.308000+02:00",
     "start_time": "2018-05-13T05:00:08.097Z"
    }
   },
   "outputs": [],
   "source": [
    "2 + 1im"
   ]
  },
  {
   "cell_type": "code",
   "execution_count": null,
   "metadata": {
    "ExecuteTime": {
     "end_time": "2018-05-13T07:00:08.812000+02:00",
     "start_time": "2018-05-13T05:00:08.758Z"
    }
   },
   "outputs": [],
   "source": [
    "1im^2"
   ]
  },
  {
   "cell_type": "code",
   "execution_count": null,
   "metadata": {
    "ExecuteTime": {
     "end_time": "2018-05-13T07:00:14.788000+02:00",
     "start_time": "2018-05-13T05:00:14.478Z"
    }
   },
   "outputs": [],
   "source": [
    "2//3"
   ]
  },
  {
   "cell_type": "code",
   "execution_count": null,
   "metadata": {
    "ExecuteTime": {
     "end_time": "2018-05-13T07:01:03.638000+02:00",
     "start_time": "2018-05-13T05:01:03.381Z"
    }
   },
   "outputs": [],
   "source": [
    "pi"
   ]
  },
  {
   "cell_type": "code",
   "execution_count": null,
   "metadata": {
    "ExecuteTime": {
     "end_time": "2018-05-13T07:01:04.193000+02:00",
     "start_time": "2018-05-13T05:01:04.181Z"
    }
   },
   "outputs": [],
   "source": [
    "2π"
   ]
  },
  {
   "cell_type": "code",
   "execution_count": null,
   "metadata": {
    "ExecuteTime": {
     "end_time": "2018-05-13T07:01:07.482000+02:00",
     "start_time": "2018-05-13T05:01:07.478Z"
    }
   },
   "outputs": [],
   "source": [
    "2(3+2)"
   ]
  },
  {
   "cell_type": "code",
   "execution_count": null,
   "metadata": {
    "ExecuteTime": {
     "end_time": "2018-05-13T07:01:07.962000+02:00",
     "start_time": "2018-05-13T05:01:07.956Z"
    }
   },
   "outputs": [],
   "source": [
    "5 / 2"
   ]
  },
  {
   "cell_type": "code",
   "execution_count": null,
   "metadata": {
    "ExecuteTime": {
     "end_time": "2018-05-13T07:01:09.530000+02:00",
     "start_time": "2018-05-13T05:01:09.527Z"
    }
   },
   "outputs": [],
   "source": [
    "5 ÷ 2"
   ]
  },
  {
   "cell_type": "code",
   "execution_count": null,
   "metadata": {
    "ExecuteTime": {
     "end_time": "2018-05-13T07:01:11.793000+02:00",
     "start_time": "2018-05-13T05:01:11.790Z"
    }
   },
   "outputs": [],
   "source": [
    "1 / 0"
   ]
  },
  {
   "cell_type": "code",
   "execution_count": null,
   "metadata": {
    "ExecuteTime": {
     "end_time": "2018-05-13T07:01:15.850000+02:00",
     "start_time": "2018-05-13T05:01:15.848Z"
    }
   },
   "outputs": [],
   "source": [
    "2 << 1"
   ]
  },
  {
   "cell_type": "markdown",
   "metadata": {},
   "source": [
    "Constants have constant *type*."
   ]
  },
  {
   "cell_type": "code",
   "execution_count": null,
   "metadata": {
    "ExecuteTime": {
     "end_time": "2018-05-04T23:28:10.629000+02:00",
     "start_time": "2018-05-04T21:28:10.624Z"
    }
   },
   "outputs": [],
   "source": [
    "const constant = 3"
   ]
  },
  {
   "cell_type": "code",
   "execution_count": null,
   "metadata": {
    "ExecuteTime": {
     "end_time": "2018-05-04T23:28:17.799000+02:00",
     "start_time": "2018-05-04T21:28:17.796Z"
    }
   },
   "outputs": [],
   "source": [
    "constant = 4"
   ]
  },
  {
   "cell_type": "code",
   "execution_count": null,
   "metadata": {
    "ExecuteTime": {
     "end_time": "2018-05-04T23:28:23.408000+02:00",
     "start_time": "2018-05-04T21:28:23.400Z"
    }
   },
   "outputs": [],
   "source": [
    "constant = 3.14"
   ]
  },
  {
   "cell_type": "markdown",
   "metadata": {
    "heading_collapsed": true
   },
   "source": [
    "## Arrays"
   ]
  },
  {
   "cell_type": "code",
   "execution_count": null,
   "metadata": {
    "ExecuteTime": {
     "end_time": "2018-05-04T23:29:08.244000+02:00",
     "start_time": "2018-05-04T21:29:07.650Z"
    },
    "hidden": true
   },
   "outputs": [],
   "source": [
    "a = [4, 5, 6]"
   ]
  },
  {
   "cell_type": "code",
   "execution_count": null,
   "metadata": {
    "ExecuteTime": {
     "end_time": "2018-05-04T23:29:11.559000+02:00",
     "start_time": "2018-05-04T21:29:11.556Z"
    },
    "hidden": true
   },
   "outputs": [],
   "source": [
    "a[1]"
   ]
  },
  {
   "cell_type": "code",
   "execution_count": null,
   "metadata": {
    "ExecuteTime": {
     "end_time": "2018-05-04T23:29:19.926000+02:00",
     "start_time": "2018-05-04T21:29:19.912Z"
    },
    "hidden": true
   },
   "outputs": [],
   "source": [
    "a = [4; 5; 6]"
   ]
  },
  {
   "cell_type": "code",
   "execution_count": null,
   "metadata": {
    "ExecuteTime": {
     "end_time": "2018-05-04T23:29:27.770000+02:00",
     "start_time": "2018-05-04T21:29:27.766Z"
    },
    "hidden": true
   },
   "outputs": [],
   "source": [
    "a[end]"
   ]
  },
  {
   "cell_type": "code",
   "execution_count": null,
   "metadata": {
    "ExecuteTime": {
     "end_time": "2018-05-04T23:29:36.100000+02:00",
     "start_time": "2018-05-04T21:29:36.096Z"
    },
    "hidden": true
   },
   "outputs": [],
   "source": [
    "a[end - 1]"
   ]
  },
  {
   "cell_type": "code",
   "execution_count": null,
   "metadata": {
    "ExecuteTime": {
     "end_time": "2018-05-04T23:29:47.644000+02:00",
     "start_time": "2018-05-04T21:29:47.640Z"
    },
    "hidden": true
   },
   "outputs": [],
   "source": [
    "a[]"
   ]
  },
  {
   "cell_type": "code",
   "execution_count": null,
   "metadata": {
    "ExecuteTime": {
     "end_time": "2018-05-04T23:30:10.832000+02:00",
     "start_time": "2018-05-04T21:30:10.798Z"
    },
    "hidden": true
   },
   "outputs": [],
   "source": [
    "a[[1, 3]]"
   ]
  },
  {
   "cell_type": "code",
   "execution_count": null,
   "metadata": {
    "ExecuteTime": {
     "end_time": "2018-05-04T23:30:18.331000+02:00",
     "start_time": "2018-05-04T21:30:18.280Z"
    },
    "hidden": true
   },
   "outputs": [],
   "source": [
    "a[[true, false, true]]"
   ]
  },
  {
   "cell_type": "code",
   "execution_count": null,
   "metadata": {
    "ExecuteTime": {
     "end_time": "2018-05-04T23:30:28.936000+02:00",
     "start_time": "2018-05-04T21:30:28.760Z"
    },
    "hidden": true
   },
   "outputs": [],
   "source": [
    "1:5"
   ]
  },
  {
   "cell_type": "code",
   "execution_count": null,
   "metadata": {
    "ExecuteTime": {
     "end_time": "2018-05-04T23:30:32.739000+02:00",
     "start_time": "2018-05-04T21:30:32.732Z"
    },
    "hidden": true
   },
   "outputs": [],
   "source": [
    "collect(1:5)"
   ]
  },
  {
   "cell_type": "code",
   "execution_count": null,
   "metadata": {
    "ExecuteTime": {
     "end_time": "2018-05-04T23:30:53.794000+02:00",
     "start_time": "2018-05-04T21:30:53.780Z"
    },
    "hidden": true
   },
   "outputs": [],
   "source": [
    "a[1:3]"
   ]
  },
  {
   "cell_type": "code",
   "execution_count": null,
   "metadata": {
    "ExecuteTime": {
     "end_time": "2018-05-04T23:30:57.171000+02:00",
     "start_time": "2018-05-04T21:30:57.168Z"
    },
    "hidden": true
   },
   "outputs": [],
   "source": [
    "a[2:end]"
   ]
  },
  {
   "cell_type": "code",
   "execution_count": null,
   "metadata": {
    "ExecuteTime": {
     "end_time": "2018-05-04T23:31:03.632000+02:00",
     "start_time": "2018-05-04T21:31:03.608Z"
    },
    "hidden": true
   },
   "outputs": [],
   "source": [
    "a[end:-1:1]"
   ]
  },
  {
   "cell_type": "code",
   "execution_count": null,
   "metadata": {
    "ExecuteTime": {
     "end_time": "2018-05-04T23:31:10.041000+02:00",
     "start_time": "2018-05-04T21:31:10.038Z"
    },
    "hidden": true
   },
   "outputs": [],
   "source": [
    "a[1] = 0"
   ]
  },
  {
   "cell_type": "code",
   "execution_count": null,
   "metadata": {
    "ExecuteTime": {
     "end_time": "2018-05-04T23:31:11.957000+02:00",
     "start_time": "2018-05-04T21:31:11.954Z"
    },
    "hidden": true
   },
   "outputs": [],
   "source": [
    "a"
   ]
  },
  {
   "cell_type": "code",
   "execution_count": null,
   "metadata": {
    "ExecuteTime": {
     "end_time": "2018-05-04T23:31:22.828000+02:00",
     "start_time": "2018-05-04T21:31:22.214Z"
    },
    "hidden": true
   },
   "outputs": [],
   "source": [
    "matrix = [1 2; 3 4]"
   ]
  },
  {
   "cell_type": "code",
   "execution_count": null,
   "metadata": {
    "ExecuteTime": {
     "end_time": "2018-05-04T23:31:30.022000+02:00",
     "start_time": "2018-05-04T21:31:30.016Z"
    },
    "hidden": true
   },
   "outputs": [],
   "source": [
    "matrix = [1 2\n",
    "          3 4]"
   ]
  },
  {
   "cell_type": "code",
   "execution_count": null,
   "metadata": {
    "ExecuteTime": {
     "end_time": "2018-05-04T23:31:43.020000+02:00",
     "start_time": "2018-05-04T21:31:42.420Z"
    },
    "hidden": true
   },
   "outputs": [],
   "source": [
    "b = Int8[4, 5, 6]"
   ]
  },
  {
   "cell_type": "code",
   "execution_count": null,
   "metadata": {
    "ExecuteTime": {
     "end_time": "2018-05-04T23:31:49.499000+02:00",
     "start_time": "2018-05-04T21:31:49.468Z"
    },
    "hidden": true
   },
   "outputs": [],
   "source": [
    "10a"
   ]
  },
  {
   "cell_type": "code",
   "execution_count": null,
   "metadata": {
    "ExecuteTime": {
     "end_time": "2018-05-04T23:31:56.939000+02:00",
     "start_time": "2018-05-04T21:31:56.848Z"
    },
    "hidden": true
   },
   "outputs": [],
   "source": [
    "matrix * [10, 20]"
   ]
  },
  {
   "cell_type": "code",
   "execution_count": null,
   "metadata": {
    "ExecuteTime": {
     "end_time": "2018-05-04T23:32:06.799000+02:00",
     "start_time": "2018-05-04T21:32:06.796Z"
    },
    "hidden": true
   },
   "outputs": [],
   "source": [
    "# Julia distinguishes row and column vectors:\n",
    "x = [1, 2]"
   ]
  },
  {
   "cell_type": "code",
   "execution_count": null,
   "metadata": {
    "ExecuteTime": {
     "end_time": "2018-05-04T23:32:13.708000+02:00",
     "start_time": "2018-05-04T21:32:13.692Z"
    },
    "hidden": true
   },
   "outputs": [],
   "source": [
    "y = [1 2]"
   ]
  },
  {
   "cell_type": "code",
   "execution_count": null,
   "metadata": {
    "ExecuteTime": {
     "end_time": "2018-05-04T23:32:28.262000+02:00",
     "start_time": "2018-05-04T21:32:27.740Z"
    },
    "hidden": true
   },
   "outputs": [],
   "source": [
    "x * y"
   ]
  },
  {
   "cell_type": "code",
   "execution_count": null,
   "metadata": {
    "ExecuteTime": {
     "end_time": "2018-05-04T23:32:38.158000+02:00",
     "start_time": "2018-05-04T21:32:38.154Z"
    },
    "hidden": true
   },
   "outputs": [],
   "source": [
    "y * x"
   ]
  },
  {
   "cell_type": "code",
   "execution_count": null,
   "metadata": {
    "ExecuteTime": {
     "end_time": "2018-05-04T23:32:45.026000+02:00",
     "start_time": "2018-05-04T21:32:44.930Z"
    },
    "hidden": true
   },
   "outputs": [],
   "source": [
    "matrix'"
   ]
  },
  {
   "cell_type": "code",
   "execution_count": null,
   "metadata": {
    "ExecuteTime": {
     "end_time": "2018-05-04T23:32:58.659000+02:00",
     "start_time": "2018-05-04T21:32:58.458Z"
    },
    "hidden": true
   },
   "outputs": [],
   "source": [
    "[1, 2] * [3, 4]"
   ]
  },
  {
   "cell_type": "code",
   "execution_count": null,
   "metadata": {
    "ExecuteTime": {
     "end_time": "2018-05-04T23:33:08.127000+02:00",
     "start_time": "2018-05-04T21:33:07.426Z"
    },
    "hidden": true
   },
   "outputs": [],
   "source": [
    "# Use the so-called dot operators to perform operations element-wise\n",
    "[1, 2] .* [3, 4]"
   ]
  },
  {
   "cell_type": "code",
   "execution_count": null,
   "metadata": {
    "ExecuteTime": {
     "end_time": "2018-05-04T23:33:15.157000+02:00",
     "start_time": "2018-05-04T21:33:15.022Z"
    },
    "hidden": true
   },
   "outputs": [],
   "source": [
    "# Dot operators support broadcasting - singleton dimensions are automatically expanded.\n",
    "[1 2; 3 4] .* [10, 20]"
   ]
  },
  {
   "cell_type": "code",
   "execution_count": null,
   "metadata": {
    "ExecuteTime": {
     "end_time": "2018-05-04T23:33:46.848000+02:00",
     "start_time": "2018-05-04T21:33:46.754Z"
    },
    "hidden": true
   },
   "outputs": [],
   "source": [
    "[1 2; 3 4] .* [10 10; 20 20]"
   ]
  },
  {
   "cell_type": "code",
   "execution_count": null,
   "metadata": {
    "ExecuteTime": {
     "end_time": "2018-05-04T23:33:51.516000+02:00",
     "start_time": "2018-05-04T21:33:51.512Z"
    },
    "hidden": true
   },
   "outputs": [],
   "source": [
    "a"
   ]
  },
  {
   "cell_type": "code",
   "execution_count": null,
   "metadata": {
    "ExecuteTime": {
     "end_time": "2018-05-04T23:33:55.328000+02:00",
     "start_time": "2018-05-04T21:33:55.322Z"
    },
    "hidden": true
   },
   "outputs": [],
   "source": [
    "a .= 7"
   ]
  },
  {
   "cell_type": "code",
   "execution_count": null,
   "metadata": {
    "ExecuteTime": {
     "end_time": "2018-05-04T23:34:04.773000+02:00",
     "start_time": "2018-05-04T21:34:04.768Z"
    },
    "hidden": true
   },
   "outputs": [],
   "source": [
    "b = [1, 2, 3]\n",
    "c = [10, 20, 30]"
   ]
  },
  {
   "cell_type": "code",
   "execution_count": null,
   "metadata": {
    "ExecuteTime": {
     "end_time": "2018-05-04T23:34:13.140000+02:00",
     "start_time": "2018-05-04T21:34:13.120Z"
    },
    "hidden": true
   },
   "outputs": [],
   "source": [
    "a .= b .* c"
   ]
  },
  {
   "cell_type": "code",
   "execution_count": null,
   "metadata": {
    "ExecuteTime": {
     "end_time": "2018-05-14T21:49:16.045000+02:00",
     "start_time": "2018-05-14T19:49:15.866Z"
    },
    "hidden": true
   },
   "outputs": [],
   "source": [
    "@. a = b * c"
   ]
  },
  {
   "cell_type": "code",
   "execution_count": null,
   "metadata": {
    "ExecuteTime": {
     "end_time": "2018-05-04T23:34:29.508000+02:00",
     "start_time": "2018-05-04T21:34:28.400Z"
    },
    "hidden": true
   },
   "outputs": [],
   "source": [
    "a[a.>20]"
   ]
  },
  {
   "cell_type": "markdown",
   "metadata": {
    "heading_collapsed": true
   },
   "source": [
    "## Strings"
   ]
  },
  {
   "cell_type": "code",
   "execution_count": null,
   "metadata": {
    "ExecuteTime": {
     "end_time": "2018-05-04T23:35:03.963000+02:00",
     "start_time": "2018-05-04T21:35:03.848Z"
    },
    "hidden": true
   },
   "outputs": [],
   "source": [
    "s = \"This is a string.\""
   ]
  },
  {
   "cell_type": "code",
   "execution_count": null,
   "metadata": {
    "ExecuteTime": {
     "end_time": "2018-05-04T23:35:08.971000+02:00",
     "start_time": "2018-05-04T21:35:08.966Z"
    },
    "hidden": true
   },
   "outputs": [],
   "source": [
    "\"\"\"You can\n",
    "have multiline strings, too.\"\"\""
   ]
  },
  {
   "cell_type": "code",
   "execution_count": null,
   "metadata": {
    "ExecuteTime": {
     "end_time": "2018-05-04T23:35:14.993000+02:00",
     "start_time": "2018-05-04T21:35:14.790Z"
    },
    "hidden": true
   },
   "outputs": [],
   "source": [
    "'a'"
   ]
  },
  {
   "cell_type": "code",
   "execution_count": null,
   "metadata": {
    "ExecuteTime": {
     "end_time": "2018-05-04T23:35:22.087000+02:00",
     "start_time": "2018-05-04T21:35:22.084Z"
    },
    "hidden": true
   },
   "outputs": [],
   "source": [
    "s[1]"
   ]
  },
  {
   "cell_type": "code",
   "execution_count": null,
   "metadata": {
    "ExecuteTime": {
     "end_time": "2018-05-04T23:35:27.961000+02:00",
     "start_time": "2018-05-04T21:35:27.958Z"
    },
    "hidden": true
   },
   "outputs": [],
   "source": [
    "s[1:4]"
   ]
  },
  {
   "cell_type": "code",
   "execution_count": null,
   "metadata": {
    "ExecuteTime": {
     "end_time": "2018-05-04T23:35:35.403000+02:00",
     "start_time": "2018-05-04T21:35:35.400Z"
    },
    "hidden": true
   },
   "outputs": [],
   "source": [
    "utf8string = \"Θεσσαλονίκη\""
   ]
  },
  {
   "cell_type": "code",
   "execution_count": null,
   "metadata": {
    "ExecuteTime": {
     "end_time": "2018-05-04T23:35:42.629000+02:00",
     "start_time": "2018-05-04T21:35:42.624Z"
    },
    "hidden": true
   },
   "outputs": [],
   "source": [
    "utf8string[1]"
   ]
  },
  {
   "cell_type": "code",
   "execution_count": null,
   "metadata": {
    "ExecuteTime": {
     "end_time": "2018-05-04T23:35:45.503000+02:00",
     "start_time": "2018-05-04T21:35:45.440Z"
    },
    "hidden": true
   },
   "outputs": [],
   "source": [
    "utf8string[2]"
   ]
  },
  {
   "cell_type": "code",
   "execution_count": null,
   "metadata": {
    "ExecuteTime": {
     "end_time": "2018-05-04T23:35:53.739000+02:00",
     "start_time": "2018-05-04T21:35:53.112Z"
    },
    "hidden": true
   },
   "outputs": [],
   "source": [
    "[ c for c in utf8string ]"
   ]
  },
  {
   "cell_type": "code",
   "execution_count": null,
   "metadata": {
    "ExecuteTime": {
     "end_time": "2018-05-04T23:36:03.466000+02:00",
     "start_time": "2018-05-04T21:36:02.830Z"
    },
    "hidden": true
   },
   "outputs": [],
   "source": [
    "s[1] = \"T\""
   ]
  },
  {
   "cell_type": "code",
   "execution_count": null,
   "metadata": {
    "ExecuteTime": {
     "end_time": "2018-05-14T21:49:34.660000+02:00",
     "start_time": "2018-05-14T19:49:34.625Z"
    },
    "hidden": true
   },
   "outputs": [],
   "source": [
    "# `$` is used for interpolation.\n",
    "\"pi is $pi\""
   ]
  },
  {
   "cell_type": "code",
   "execution_count": null,
   "metadata": {
    "ExecuteTime": {
     "end_time": "2018-05-04T23:36:17.906000+02:00",
     "start_time": "2018-05-04T21:36:17.902Z"
    },
    "hidden": true
   },
   "outputs": [],
   "source": [
    "\"2 + 2 = $(2 + 2)\""
   ]
  },
  {
   "cell_type": "code",
   "execution_count": null,
   "metadata": {
    "ExecuteTime": {
     "end_time": "2018-05-04T23:36:37.478000+02:00",
     "start_time": "2018-05-04T21:36:37.294Z"
    },
    "hidden": true
   },
   "outputs": [],
   "source": [
    "@printf \"%d is less than %f\" 4.5 5.3"
   ]
  },
  {
   "cell_type": "code",
   "execution_count": null,
   "metadata": {
    "ExecuteTime": {
     "end_time": "2018-05-04T23:36:41.862000+02:00",
     "start_time": "2018-05-04T21:36:41.808Z"
    },
    "hidden": true
   },
   "outputs": [],
   "source": [
    "@sprintf \"%d is less than %f\" 4.5 5.3"
   ]
  },
  {
   "cell_type": "code",
   "execution_count": null,
   "metadata": {
    "ExecuteTime": {
     "end_time": "2018-05-04T23:36:55.920000+02:00",
     "start_time": "2018-05-04T21:36:55.900Z"
    },
    "hidden": true
   },
   "outputs": [],
   "source": [
    "print(\"Print without newline... \")\n",
    "println(\"Print with newline at the end.\")"
   ]
  },
  {
   "cell_type": "code",
   "execution_count": null,
   "metadata": {
    "ExecuteTime": {
     "end_time": "2018-05-04T23:37:10.343000+02:00",
     "start_time": "2018-05-04T21:37:10.336Z"
    },
    "hidden": true
   },
   "outputs": [],
   "source": [
    "\"one\" * \"two\""
   ]
  },
  {
   "cell_type": "code",
   "execution_count": null,
   "metadata": {
    "ExecuteTime": {
     "end_time": "2018-05-04T23:37:19.443000+02:00",
     "start_time": "2018-05-04T21:37:19.436Z"
    },
    "hidden": true
   },
   "outputs": [],
   "source": [
    "\"one\"^3"
   ]
  },
  {
   "cell_type": "code",
   "execution_count": null,
   "metadata": {
    "ExecuteTime": {
     "end_time": "2018-05-04T23:37:28.262000+02:00",
     "start_time": "2018-05-04T21:37:28.258Z"
    },
    "hidden": true
   },
   "outputs": [],
   "source": [
    "ismatch(r\"^\\s*(?:#|$)\", \"not a comment\")"
   ]
  },
  {
   "cell_type": "code",
   "execution_count": null,
   "metadata": {
    "ExecuteTime": {
     "end_time": "2018-05-04T23:37:32.255000+02:00",
     "start_time": "2018-05-04T21:37:32.250Z"
    },
    "hidden": true
   },
   "outputs": [],
   "source": [
    "ismatch(r\"^\\s*(?:#|$)\", \"# a comment\")"
   ]
  },
  {
   "cell_type": "code",
   "execution_count": null,
   "metadata": {
    "ExecuteTime": {
     "end_time": "2018-05-04T23:37:36.865000+02:00",
     "start_time": "2018-05-04T21:37:36.394Z"
    },
    "hidden": true
   },
   "outputs": [],
   "source": [
    "b\"abc\""
   ]
  },
  {
   "cell_type": "markdown",
   "metadata": {
    "heading_collapsed": true
   },
   "source": [
    "## Collections"
   ]
  },
  {
   "cell_type": "code",
   "execution_count": null,
   "metadata": {
    "ExecuteTime": {
     "end_time": "2018-05-14T21:51:36.307000+02:00",
     "start_time": "2018-05-14T19:51:36.304Z"
    },
    "hidden": true
   },
   "outputs": [],
   "source": [
    "a = []\n",
    "# Any is the supertype of all types  (more on that later).\n",
    "# This means, that this vector can hold anything."
   ]
  },
  {
   "cell_type": "code",
   "execution_count": null,
   "metadata": {
    "ExecuteTime": {
     "end_time": "2018-05-14T21:51:48.059000+02:00",
     "start_time": "2018-05-14T19:51:48.059Z"
    },
    "hidden": true
   },
   "outputs": [],
   "source": [
    "# Add stuff to the end of a with push! (single element)\n",
    "# and append! (another collection)\n",
    "push!(a, 1)"
   ]
  },
  {
   "cell_type": "code",
   "execution_count": null,
   "metadata": {
    "ExecuteTime": {
     "end_time": "2018-05-14T21:51:54.467000+02:00",
     "start_time": "2018-05-14T19:51:54.464Z"
    },
    "hidden": true
   },
   "outputs": [],
   "source": [
    "push!(a, 2)"
   ]
  },
  {
   "cell_type": "code",
   "execution_count": null,
   "metadata": {
    "ExecuteTime": {
     "end_time": "2018-05-14T21:52:06.370000+02:00",
     "start_time": "2018-05-14T19:52:06.368Z"
    },
    "hidden": true
   },
   "outputs": [],
   "source": [
    "push!(a, 4)"
   ]
  },
  {
   "cell_type": "code",
   "execution_count": null,
   "metadata": {
    "ExecuteTime": {
     "end_time": "2018-05-14T21:52:08.162000+02:00",
     "start_time": "2018-05-14T19:52:08.159Z"
    },
    "hidden": true
   },
   "outputs": [],
   "source": [
    "push!(a, 3)"
   ]
  },
  {
   "cell_type": "code",
   "execution_count": null,
   "metadata": {
    "ExecuteTime": {
     "end_time": "2018-05-14T21:52:27.050000+02:00",
     "start_time": "2018-05-14T19:52:26.943Z"
    },
    "hidden": true
   },
   "outputs": [],
   "source": [
    "# By convention, function names that end in exclamations points indicate that\n",
    "# they modify their arguments. Usually it is the first argument being modified.\n",
    "append!(a, [\"six\", π])"
   ]
  },
  {
   "cell_type": "code",
   "execution_count": null,
   "metadata": {
    "ExecuteTime": {
     "end_time": "2018-05-14T21:52:53.067000+02:00",
     "start_time": "2018-05-14T19:52:53.056Z"
    },
    "hidden": true
   },
   "outputs": [],
   "source": [
    "# Remove from the end with pop\n",
    "pop!(a) # => π = 3.14…\n",
    "a"
   ]
  },
  {
   "cell_type": "code",
   "execution_count": null,
   "metadata": {
    "ExecuteTime": {
     "end_time": "2018-05-14T21:53:08.988000+02:00",
     "start_time": "2018-05-14T19:53:08.985Z"
    },
    "hidden": true
   },
   "outputs": [],
   "source": [
    "# we also have shift and unshift\n",
    "shift!(a)"
   ]
  },
  {
   "cell_type": "code",
   "execution_count": null,
   "metadata": {
    "ExecuteTime": {
     "end_time": "2018-05-14T21:53:22.402000+02:00",
     "start_time": "2018-05-14T19:53:22.399Z"
    },
    "hidden": true
   },
   "outputs": [],
   "source": [
    "a"
   ]
  },
  {
   "cell_type": "code",
   "execution_count": null,
   "metadata": {
    "ExecuteTime": {
     "end_time": "2018-05-14T21:53:36.047000+02:00",
     "start_time": "2018-05-14T19:53:36.039Z"
    },
    "hidden": true
   },
   "outputs": [],
   "source": [
    "unshift!(a, 7)"
   ]
  },
  {
   "cell_type": "code",
   "execution_count": null,
   "metadata": {
    "ExecuteTime": {
     "end_time": "2018-05-14T21:53:55.747000+02:00",
     "start_time": "2018-05-14T19:53:55.743Z"
    },
    "hidden": true
   },
   "outputs": [],
   "source": [
    "# Remove elements from an array by index with splice!\n",
    "splice!(a, 2)"
   ]
  },
  {
   "cell_type": "code",
   "execution_count": null,
   "metadata": {
    "ExecuteTime": {
     "end_time": "2018-05-14T21:54:00.494000+02:00",
     "start_time": "2018-05-14T19:54:00.490Z"
    },
    "hidden": true
   },
   "outputs": [],
   "source": [
    "a"
   ]
  },
  {
   "cell_type": "code",
   "execution_count": null,
   "metadata": {
    "ExecuteTime": {
     "end_time": "2018-05-14T21:54:08.621000+02:00",
     "start_time": "2018-05-14T19:54:08.445Z"
    },
    "hidden": true
   },
   "outputs": [],
   "source": [
    "# Check for existence in a list with in\n",
    "in(1, a)"
   ]
  },
  {
   "cell_type": "code",
   "execution_count": null,
   "metadata": {
    "ExecuteTime": {
     "end_time": "2018-05-14T21:54:16.313000+02:00",
     "start_time": "2018-05-14T19:54:16.310Z"
    },
    "hidden": true
   },
   "outputs": [],
   "source": [
    "3 in a"
   ]
  },
  {
   "cell_type": "code",
   "execution_count": null,
   "metadata": {
    "ExecuteTime": {
     "end_time": "2018-05-14T21:54:22.312000+02:00",
     "start_time": "2018-05-14T19:54:22.309Z"
    },
    "hidden": true
   },
   "outputs": [],
   "source": [
    "# Examine the length with length\n",
    "length(a)"
   ]
  },
  {
   "cell_type": "code",
   "execution_count": null,
   "metadata": {
    "ExecuteTime": {
     "end_time": "2018-05-14T21:54:28.617000+02:00",
     "start_time": "2018-05-14T19:54:28.613Z"
    },
    "hidden": true
   },
   "outputs": [],
   "source": [
    "# Sorting\n",
    "arr = [5,4,6]"
   ]
  },
  {
   "cell_type": "code",
   "execution_count": null,
   "metadata": {
    "ExecuteTime": {
     "end_time": "2018-05-14T21:54:39.873000+02:00",
     "start_time": "2018-05-14T19:54:39.761Z"
    },
    "hidden": true
   },
   "outputs": [],
   "source": [
    "sort(arr)"
   ]
  },
  {
   "cell_type": "code",
   "execution_count": null,
   "metadata": {
    "ExecuteTime": {
     "end_time": "2018-05-14T21:54:51.721000+02:00",
     "start_time": "2018-05-14T19:54:51.719Z"
    },
    "hidden": true
   },
   "outputs": [],
   "source": [
    "arr"
   ]
  },
  {
   "cell_type": "code",
   "execution_count": null,
   "metadata": {
    "ExecuteTime": {
     "end_time": "2018-05-14T21:54:56.736000+02:00",
     "start_time": "2018-05-14T19:54:56.733Z"
    },
    "hidden": true
   },
   "outputs": [],
   "source": [
    "sort!(arr)"
   ]
  },
  {
   "cell_type": "code",
   "execution_count": null,
   "metadata": {
    "ExecuteTime": {
     "end_time": "2018-05-14T21:55:05.180000+02:00",
     "start_time": "2018-05-14T19:55:05.177Z"
    },
    "hidden": true
   },
   "outputs": [],
   "source": [
    "arr"
   ]
  },
  {
   "cell_type": "code",
   "execution_count": null,
   "metadata": {
    "ExecuteTime": {
     "end_time": "2018-05-14T21:55:27.648000+02:00",
     "start_time": "2018-05-14T19:55:27.438Z"
    },
    "hidden": true
   },
   "outputs": [],
   "source": [
    "# Tuples are immutable.\n",
    "tup = (1, 2, 3)"
   ]
  },
  {
   "cell_type": "code",
   "execution_count": null,
   "metadata": {
    "ExecuteTime": {
     "end_time": "2018-05-14T21:55:57.034000+02:00",
     "start_time": "2018-05-14T19:55:56.998Z"
    },
    "hidden": true
   },
   "outputs": [],
   "source": [
    "tup[1] = 3"
   ]
  },
  {
   "cell_type": "code",
   "execution_count": null,
   "metadata": {
    "ExecuteTime": {
     "end_time": "2018-05-14T21:56:14.774000+02:00",
     "start_time": "2018-05-14T19:56:14.772Z"
    },
    "hidden": true
   },
   "outputs": [],
   "source": [
    "# Many list functions also work on tuples\n",
    "length(tup)"
   ]
  },
  {
   "cell_type": "code",
   "execution_count": null,
   "metadata": {
    "ExecuteTime": {
     "end_time": "2018-05-14T21:56:24.861000+02:00",
     "start_time": "2018-05-14T19:56:24.620Z"
    },
    "hidden": true
   },
   "outputs": [],
   "source": [
    "tup[1:2]"
   ]
  },
  {
   "cell_type": "code",
   "execution_count": null,
   "metadata": {
    "ExecuteTime": {
     "end_time": "2018-05-14T21:56:30.288000+02:00",
     "start_time": "2018-05-14T19:56:30.278Z"
    },
    "hidden": true
   },
   "outputs": [],
   "source": [
    "2 in tup"
   ]
  },
  {
   "cell_type": "code",
   "execution_count": null,
   "metadata": {
    "ExecuteTime": {
     "end_time": "2018-05-14T21:56:36.054000+02:00",
     "start_time": "2018-05-14T19:56:36.051Z"
    },
    "hidden": true
   },
   "outputs": [],
   "source": [
    "# You can unpack tuples into variables\n",
    "a, b, c = (1, 2, 3)"
   ]
  },
  {
   "cell_type": "code",
   "execution_count": null,
   "metadata": {
    "ExecuteTime": {
     "end_time": "2018-05-14T21:56:42.469000+02:00",
     "start_time": "2018-05-14T19:56:42.466Z"
    },
    "hidden": true
   },
   "outputs": [],
   "source": [
    "a"
   ]
  },
  {
   "cell_type": "code",
   "execution_count": null,
   "metadata": {
    "ExecuteTime": {
     "end_time": "2018-05-14T21:56:49.989000+02:00",
     "start_time": "2018-05-14T19:56:49.986Z"
    },
    "hidden": true
   },
   "outputs": [],
   "source": [
    "b"
   ]
  },
  {
   "cell_type": "code",
   "execution_count": null,
   "metadata": {
    "ExecuteTime": {
     "end_time": "2018-05-14T21:56:55.824000+02:00",
     "start_time": "2018-05-14T19:56:55.821Z"
    },
    "hidden": true
   },
   "outputs": [],
   "source": [
    "c"
   ]
  },
  {
   "cell_type": "code",
   "execution_count": null,
   "metadata": {
    "ExecuteTime": {
     "end_time": "2018-05-14T21:57:19.991000+02:00",
     "start_time": "2018-05-14T19:57:19.988Z"
    },
    "hidden": true
   },
   "outputs": [],
   "source": [
    "# Tuples are created even if you leave out the parentheses\n",
    "d, g, h = 4, 5, 6"
   ]
  },
  {
   "cell_type": "code",
   "execution_count": null,
   "metadata": {
    "ExecuteTime": {
     "end_time": "2018-05-14T21:57:28.895000+02:00",
     "start_time": "2018-05-14T19:57:28.888Z"
    },
    "hidden": true
   },
   "outputs": [],
   "source": [
    "# A 1-element tuple is distinct from the value it contains\n",
    "(1,) == 1"
   ]
  },
  {
   "cell_type": "code",
   "execution_count": null,
   "metadata": {
    "ExecuteTime": {
     "end_time": "2018-05-14T21:57:34.550000+02:00",
     "start_time": "2018-05-14T19:57:34.548Z"
    },
    "hidden": true
   },
   "outputs": [],
   "source": [
    "(1) == 1"
   ]
  },
  {
   "cell_type": "code",
   "execution_count": null,
   "metadata": {
    "ExecuteTime": {
     "end_time": "2018-05-14T21:57:43.767000+02:00",
     "start_time": "2018-05-14T19:57:43.762Z"
    },
    "hidden": true
   },
   "outputs": [],
   "source": [
    "# Look how easy it is to swap two values\n",
    "g, d = d, g"
   ]
  },
  {
   "cell_type": "code",
   "execution_count": null,
   "metadata": {
    "ExecuteTime": {
     "end_time": "2018-05-14T21:57:47.363000+02:00",
     "start_time": "2018-05-14T19:57:47.360Z"
    },
    "hidden": true
   },
   "outputs": [],
   "source": [
    "g"
   ]
  },
  {
   "cell_type": "code",
   "execution_count": null,
   "metadata": {
    "ExecuteTime": {
     "end_time": "2018-05-14T21:57:51.822000+02:00",
     "start_time": "2018-05-14T19:57:51.820Z"
    },
    "hidden": true
   },
   "outputs": [],
   "source": [
    "d"
   ]
  },
  {
   "cell_type": "code",
   "execution_count": null,
   "metadata": {
    "ExecuteTime": {
     "end_time": "2018-05-14T21:58:03.517000+02:00",
     "start_time": "2018-05-14T19:58:03.137Z"
    },
    "hidden": true
   },
   "outputs": [],
   "source": [
    "# Dictionaries store mappings\n",
    "empty_dict = Dict()"
   ]
  },
  {
   "cell_type": "code",
   "execution_count": null,
   "metadata": {
    "ExecuteTime": {
     "end_time": "2018-05-14T21:58:10.168000+02:00",
     "start_time": "2018-05-14T19:58:09.769Z"
    },
    "hidden": true
   },
   "outputs": [],
   "source": [
    "# You can create a dictionary using a literal\n",
    "filled_dict = Dict(\"one\"=> 1, \"two\"=> 2, \"three\"=> 3)"
   ]
  },
  {
   "cell_type": "code",
   "execution_count": null,
   "metadata": {
    "ExecuteTime": {
     "end_time": "2018-05-14T21:58:17.707000+02:00",
     "start_time": "2018-05-14T19:58:17.692Z"
    },
    "hidden": true
   },
   "outputs": [],
   "source": [
    "# Look up values with []\n",
    "filled_dict[\"one\"]"
   ]
  },
  {
   "cell_type": "code",
   "execution_count": null,
   "metadata": {
    "ExecuteTime": {
     "end_time": "2018-05-14T21:58:59.172000+02:00",
     "start_time": "2018-05-14T19:58:58.939Z"
    },
    "hidden": true
   },
   "outputs": [],
   "source": [
    "# Get all keys\n",
    "# Note - dictionary keys are not sorted or in the order you inserted them.\n",
    "keys(filled_dict)"
   ]
  },
  {
   "cell_type": "code",
   "execution_count": null,
   "metadata": {
    "ExecuteTime": {
     "end_time": "2018-05-14T21:59:22.067000+02:00",
     "start_time": "2018-05-14T19:59:21.842Z"
    },
    "hidden": true
   },
   "outputs": [],
   "source": [
    "# Get all values\n",
    "values(filled_dict)"
   ]
  },
  {
   "cell_type": "code",
   "execution_count": null,
   "metadata": {
    "ExecuteTime": {
     "end_time": "2018-05-14T21:59:29.795000+02:00",
     "start_time": "2018-05-14T19:59:29.776Z"
    },
    "hidden": true
   },
   "outputs": [],
   "source": [
    "# Check for existence of keys in a dictionary with in, haskey\n",
    "in((\"one\" => 1), filled_dict)"
   ]
  },
  {
   "cell_type": "code",
   "execution_count": null,
   "metadata": {
    "ExecuteTime": {
     "end_time": "2018-05-14T21:59:38.085000+02:00",
     "start_time": "2018-05-14T19:59:38.082Z"
    },
    "hidden": true
   },
   "outputs": [],
   "source": [
    "(\"two\" => 3) in filled_dict"
   ]
  },
  {
   "cell_type": "code",
   "execution_count": null,
   "metadata": {
    "ExecuteTime": {
     "end_time": "2018-05-14T21:59:45.718000+02:00",
     "start_time": "2018-05-14T19:59:45.709Z"
    },
    "hidden": true
   },
   "outputs": [],
   "source": [
    "haskey(filled_dict, \"one\")"
   ]
  },
  {
   "cell_type": "code",
   "execution_count": null,
   "metadata": {
    "ExecuteTime": {
     "end_time": "2018-05-14T21:59:52.801000+02:00",
     "start_time": "2018-05-14T19:59:52.787Z"
    },
    "hidden": true
   },
   "outputs": [],
   "source": [
    "haskey(filled_dict, 1)"
   ]
  },
  {
   "cell_type": "code",
   "execution_count": null,
   "metadata": {
    "ExecuteTime": {
     "end_time": "2018-05-14T22:00:07.994000+02:00",
     "start_time": "2018-05-14T20:00:07.944Z"
    },
    "hidden": true
   },
   "outputs": [],
   "source": [
    "filled_dict[\"four\"]"
   ]
  },
  {
   "cell_type": "code",
   "execution_count": null,
   "metadata": {
    "ExecuteTime": {
     "end_time": "2018-05-14T22:00:18.980000+02:00",
     "start_time": "2018-05-14T20:00:18.961Z"
    },
    "hidden": true
   },
   "outputs": [],
   "source": [
    "# Use the get method to avoid that error by providing a default value\n",
    "# get(dictionary,key,default_value)\n",
    "get(filled_dict, \"one\", 4)"
   ]
  },
  {
   "cell_type": "code",
   "execution_count": null,
   "metadata": {
    "ExecuteTime": {
     "end_time": "2018-05-14T22:00:22.906000+02:00",
     "start_time": "2018-05-14T20:00:22.904Z"
    },
    "hidden": true
   },
   "outputs": [],
   "source": [
    "get(filled_dict, \"four\", 4)"
   ]
  },
  {
   "cell_type": "code",
   "execution_count": null,
   "metadata": {
    "ExecuteTime": {
     "end_time": "2018-05-14T22:00:46.924000+02:00",
     "start_time": "2018-05-14T20:00:46.669Z"
    },
    "hidden": true
   },
   "outputs": [],
   "source": [
    "# Use Sets to represent collections of unordered, unique values\n",
    "empty_set = Set()"
   ]
  },
  {
   "cell_type": "code",
   "execution_count": null,
   "metadata": {
    "ExecuteTime": {
     "end_time": "2018-05-14T22:00:52.982000+02:00",
     "start_time": "2018-05-14T20:00:52.721Z"
    },
    "hidden": true
   },
   "outputs": [],
   "source": [
    "# Initialize a set with values\n",
    "filled_set = Set([1,2,2,3,4])"
   ]
  },
  {
   "cell_type": "code",
   "execution_count": null,
   "metadata": {
    "ExecuteTime": {
     "end_time": "2018-05-14T22:01:00.533000+02:00",
     "start_time": "2018-05-14T20:01:00.525Z"
    },
    "hidden": true
   },
   "outputs": [],
   "source": [
    "# Add more values to a set\n",
    "push!(filled_set, 5)"
   ]
  },
  {
   "cell_type": "code",
   "execution_count": null,
   "metadata": {
    "ExecuteTime": {
     "end_time": "2018-05-14T22:01:39.630000+02:00",
     "start_time": "2018-05-14T20:01:39.626Z"
    },
    "hidden": true
   },
   "outputs": [],
   "source": [
    "filled_set"
   ]
  },
  {
   "cell_type": "code",
   "execution_count": null,
   "metadata": {
    "ExecuteTime": {
     "end_time": "2018-05-14T22:01:44.964000+02:00",
     "start_time": "2018-05-14T20:01:44.961Z"
    },
    "hidden": true
   },
   "outputs": [],
   "source": [
    "# Check if the values are in the set\n",
    "2 in filled_set"
   ]
  },
  {
   "cell_type": "code",
   "execution_count": null,
   "metadata": {
    "ExecuteTime": {
     "end_time": "2018-05-14T22:01:50.843000+02:00",
     "start_time": "2018-05-14T20:01:50.840Z"
    },
    "hidden": true
   },
   "outputs": [],
   "source": [
    "10 in filled_set"
   ]
  },
  {
   "cell_type": "code",
   "execution_count": null,
   "metadata": {
    "ExecuteTime": {
     "end_time": "2018-05-14T22:02:01.043000+02:00",
     "start_time": "2018-05-14T20:02:01.038Z"
    },
    "hidden": true
   },
   "outputs": [],
   "source": [
    "# There are functions for set intersection, union, and difference.\n",
    "other_set = Set([3, 4, 5, 6])"
   ]
  },
  {
   "cell_type": "code",
   "execution_count": null,
   "metadata": {
    "ExecuteTime": {
     "end_time": "2018-05-14T22:02:06.251000+02:00",
     "start_time": "2018-05-14T20:02:06.225Z"
    },
    "hidden": true
   },
   "outputs": [],
   "source": [
    "intersect(filled_set, other_set)"
   ]
  },
  {
   "cell_type": "code",
   "execution_count": null,
   "metadata": {
    "ExecuteTime": {
     "end_time": "2018-05-14T22:02:21.320000+02:00",
     "start_time": "2018-05-14T20:02:21.317Z"
    },
    "hidden": true
   },
   "outputs": [],
   "source": [
    "filled_set ∩ other_set # The same with ∩ (\\cap)"
   ]
  },
  {
   "cell_type": "code",
   "execution_count": null,
   "metadata": {
    "ExecuteTime": {
     "end_time": "2018-05-14T22:02:34.204000+02:00",
     "start_time": "2018-05-14T20:02:34.188Z"
    },
    "hidden": true
   },
   "outputs": [],
   "source": [
    "union(filled_set, other_set)"
   ]
  },
  {
   "cell_type": "code",
   "execution_count": null,
   "metadata": {
    "ExecuteTime": {
     "end_time": "2018-05-14T22:02:42.423000+02:00",
     "start_time": "2018-05-14T20:02:42.421Z"
    },
    "hidden": true
   },
   "outputs": [],
   "source": [
    "filled_set ∪ other_set # The same ∪ (\\cup)"
   ]
  },
  {
   "cell_type": "code",
   "execution_count": null,
   "metadata": {
    "ExecuteTime": {
     "end_time": "2018-05-14T22:02:48.704000+02:00",
     "start_time": "2018-05-14T20:02:48.691Z"
    },
    "hidden": true
   },
   "outputs": [],
   "source": [
    "setdiff(Set([1,2,3,4]), Set([2,3,5]))"
   ]
  },
  {
   "cell_type": "code",
   "execution_count": null,
   "metadata": {
    "ExecuteTime": {
     "end_time": "2018-05-14T22:02:56.557000+02:00",
     "start_time": "2018-05-14T20:02:56.542Z"
    },
    "hidden": true
   },
   "outputs": [],
   "source": [
    "# Set operations work on arrays, too\n",
    "[1,2,3,4] ∩ [2,3,4]"
   ]
  },
  {
   "cell_type": "markdown",
   "metadata": {
    "heading_collapsed": true
   },
   "source": [
    "## Control Flow"
   ]
  },
  {
   "cell_type": "code",
   "execution_count": null,
   "metadata": {
    "ExecuteTime": {
     "end_time": "2018-05-14T22:05:20.574000+02:00",
     "start_time": "2018-05-14T20:05:20.568Z"
    },
    "hidden": true
   },
   "outputs": [],
   "source": [
    "# Let's make a variable\n",
    "some_var = 5"
   ]
  },
  {
   "cell_type": "code",
   "execution_count": null,
   "metadata": {
    "ExecuteTime": {
     "end_time": "2018-05-14T22:05:27.507000+02:00",
     "start_time": "2018-05-14T20:05:27.503Z"
    },
    "hidden": true
   },
   "outputs": [],
   "source": [
    "# Here is an if statement. Indentation is not meaningful in Julia.\n",
    "if some_var > 10\n",
    "    println(\"some_var is totally bigger than 10.\")\n",
    "elseif some_var < 10    # This elseif clause is optional.\n",
    "    println(\"some_var is smaller than 10.\")\n",
    "else                    # The else clause is optional too.\n",
    "    println(\"some_var is indeed 10.\")\n",
    "end"
   ]
  },
  {
   "cell_type": "code",
   "execution_count": null,
   "metadata": {
    "ExecuteTime": {
     "end_time": "2018-05-14T22:05:36.509000+02:00",
     "start_time": "2018-05-14T20:05:36.506Z"
    },
    "hidden": true
   },
   "outputs": [],
   "source": [
    "# if statement can return variables\n",
    "result = if some_var > 10\n",
    "    \"greater than 10\"\n",
    "else\n",
    "    \"smaller of equal 10\"\n",
    "end\n",
    "result"
   ]
  },
  {
   "cell_type": "code",
   "execution_count": null,
   "metadata": {
    "ExecuteTime": {
     "end_time": "2018-05-14T22:05:46.185000+02:00",
     "start_time": "2018-05-14T20:05:46.180Z"
    },
    "hidden": true
   },
   "outputs": [],
   "source": [
    "# There is the ternary operator\n",
    "result = some_var > 5 ? \"greater than 5\" : \"smaller of equal 5\"\n",
    "result"
   ]
  },
  {
   "cell_type": "code",
   "execution_count": null,
   "metadata": {
    "ExecuteTime": {
     "end_time": "2018-05-14T22:05:53.579000+02:00",
     "start_time": "2018-05-14T20:05:53.568Z"
    },
    "hidden": true
   },
   "outputs": [],
   "source": [
    "# For loops iterate over iterables.\n",
    "# Iterable types include Range, Array, Set, Dict, and AbstractString.\n",
    "for animal = [\"dog\", \"cat\", \"mouse\"]\n",
    "    println(\"$animal is a mammal\")\n",
    "end"
   ]
  },
  {
   "cell_type": "code",
   "execution_count": null,
   "metadata": {
    "ExecuteTime": {
     "end_time": "2018-05-14T22:05:58.762000+02:00",
     "start_time": "2018-05-14T20:05:58.745Z"
    },
    "hidden": true
   },
   "outputs": [],
   "source": [
    "# You can use 'in' instead of '='.\n",
    "for i in 1:3\n",
    "    println(\"i is now $i\")\n",
    "end"
   ]
  },
  {
   "cell_type": "code",
   "execution_count": null,
   "metadata": {
    "ExecuteTime": {
     "end_time": "2018-05-14T22:06:03.661000+02:00",
     "start_time": "2018-05-14T20:06:03.633Z"
    },
    "hidden": true
   },
   "outputs": [],
   "source": [
    "for a in Dict(\"dog\" => \"mammal\", \"cat\" => \"mammal\", \"mouse\" => \"mammal\")\n",
    "    println(\"$(a[1]) is a $(a[2])\")\n",
    "end"
   ]
  },
  {
   "cell_type": "code",
   "execution_count": null,
   "metadata": {
    "ExecuteTime": {
     "end_time": "2018-05-14T22:06:11.620000+02:00",
     "start_time": "2018-05-14T20:06:11.600Z"
    },
    "hidden": true
   },
   "outputs": [],
   "source": [
    "for (k,v) in Dict(\"dog\" => \"mammal\", \"cat\" => \"mammal\", \"mouse\" => \"mammal\")\n",
    "    println(\"$k is a $v\")\n",
    "end"
   ]
  },
  {
   "cell_type": "code",
   "execution_count": null,
   "metadata": {
    "ExecuteTime": {
     "end_time": "2018-05-14T22:06:18.789000+02:00",
     "start_time": "2018-05-14T20:06:18.746Z"
    },
    "hidden": true
   },
   "outputs": [],
   "source": [
    "# While loops loop while a condition is true\n",
    "x = 0\n",
    "while x < 4\n",
    "    println(x)\n",
    "    x += 1  # Shorthand for x = x + 1\n",
    "end"
   ]
  },
  {
   "cell_type": "code",
   "execution_count": null,
   "metadata": {
    "ExecuteTime": {
     "end_time": "2018-05-14T22:06:24.723000+02:00",
     "start_time": "2018-05-14T20:06:24.685Z"
    },
    "hidden": true
   },
   "outputs": [],
   "source": [
    "# Handle exceptions with a try/catch block\n",
    "try\n",
    "   error(\"help\")\n",
    "catch e\n",
    "   println(\"caught it $e\")\n",
    "end"
   ]
  },
  {
   "cell_type": "markdown",
   "metadata": {
    "heading_collapsed": true
   },
   "source": [
    "## Functions"
   ]
  },
  {
   "cell_type": "code",
   "execution_count": null,
   "metadata": {
    "ExecuteTime": {
     "end_time": "2018-05-14T22:06:55.530000+02:00",
     "start_time": "2018-05-14T20:06:55.438Z"
    },
    "hidden": true
   },
   "outputs": [],
   "source": [
    "# The keyword 'function' creates new functions\n",
    "# function name(arglist)\n",
    "#   body...\n",
    "# end\n",
    "function add(x, y)\n",
    "    println(\"x is $x and y is $y\")\n",
    "\n",
    "    # Functions return the value of their last statement\n",
    "    x + y\n",
    "end"
   ]
  },
  {
   "cell_type": "code",
   "execution_count": null,
   "metadata": {
    "ExecuteTime": {
     "end_time": "2018-05-14T22:07:03.613000+02:00",
     "start_time": "2018-05-14T20:07:03.604Z"
    },
    "hidden": true
   },
   "outputs": [],
   "source": [
    "add(5, 6)"
   ]
  },
  {
   "cell_type": "code",
   "execution_count": null,
   "metadata": {
    "ExecuteTime": {
     "end_time": "2018-05-14T22:07:10.490000+02:00",
     "start_time": "2018-05-14T20:07:10.486Z"
    },
    "hidden": true
   },
   "outputs": [],
   "source": [
    "# By the way, every binary operator is a function, too, so:\n",
    "+(5, 6)"
   ]
  },
  {
   "cell_type": "code",
   "execution_count": null,
   "metadata": {
    "ExecuteTime": {
     "end_time": "2018-05-14T22:07:42.075000+02:00",
     "start_time": "2018-05-14T20:07:42.070Z"
    },
    "hidden": true
   },
   "outputs": [],
   "source": [
    "# Compact assignment of functions\n",
    "add(x, y) = x + y\n",
    "add(3, 4)"
   ]
  },
  {
   "cell_type": "code",
   "execution_count": null,
   "metadata": {
    "ExecuteTime": {
     "end_time": "2018-05-14T22:07:36.261000+02:00",
     "start_time": "2018-05-14T20:07:36.255Z"
    },
    "hidden": true
   },
   "outputs": [],
   "source": [
    "# Function can also return multiple values as tuple\n",
    "add_subtract(x, y) = x + y, x - y\n",
    "add_subtract(3, 4)"
   ]
  },
  {
   "cell_type": "code",
   "execution_count": null,
   "metadata": {
    "hidden": true
   },
   "outputs": [],
   "source": [
    "# You can define functions that take a variable number of\n",
    "# positional arguments\n",
    "function varargs(args...)\n",
    "    return args\n",
    "    # use the keyword return to return anywhere in the function\n",
    "end\n",
    "\n",
    "v"
   ]
  },
  {
   "cell_type": "code",
   "execution_count": null,
   "metadata": {
    "ExecuteTime": {
     "end_time": "2018-05-14T22:08:05.796000+02:00",
     "start_time": "2018-05-14T20:08:05.761Z"
    },
    "hidden": true
   },
   "outputs": [],
   "source": [
    "# You can define functions that take a variable number of\n",
    "# positional arguments\n",
    "function varargs(args...)\n",
    "    return args\n",
    "    # use the keyword return to return anywhere in the function\n",
    "end\n",
    "varargs(1,2,3)"
   ]
  },
  {
   "cell_type": "code",
   "execution_count": null,
   "metadata": {
    "ExecuteTime": {
     "end_time": "2018-05-14T22:08:19.637000+02:00",
     "start_time": "2018-05-14T20:08:19.635Z"
    },
    "hidden": true
   },
   "outputs": [],
   "source": [
    "# The ... is called a splat.\n",
    "# We just used it in a function definition.\n",
    "# It can also be used in a function call,\n",
    "# where it will splat an Array or Tuple's contents into the argument list.\n",
    "add([5,6]...) # this is equivalent to add(5,6)"
   ]
  },
  {
   "cell_type": "code",
   "execution_count": null,
   "metadata": {
    "ExecuteTime": {
     "end_time": "2018-05-14T22:08:28.089000+02:00",
     "start_time": "2018-05-14T20:08:28.084Z"
    },
    "hidden": true
   },
   "outputs": [],
   "source": [
    "x = (5,6)     # => (5,6)\n",
    "add(x...)     # this is equivalent to add(5,6)"
   ]
  },
  {
   "cell_type": "code",
   "execution_count": null,
   "metadata": {
    "ExecuteTime": {
     "end_time": "2018-05-14T22:08:42.900000+02:00",
     "start_time": "2018-05-14T20:08:42.879Z"
    },
    "hidden": true
   },
   "outputs": [],
   "source": [
    "# You can define functions with optional positional arguments\n",
    "function defaults(a, b, x = 5, y = 6)\n",
    "    return \"$a $b and $x $y\"\n",
    "end\n",
    "\n",
    "defaults('h','g')"
   ]
  },
  {
   "cell_type": "code",
   "execution_count": null,
   "metadata": {
    "ExecuteTime": {
     "end_time": "2018-05-14T22:08:51.045000+02:00",
     "start_time": "2018-05-14T20:08:51.029Z"
    },
    "hidden": true
   },
   "outputs": [],
   "source": [
    "defaults('h','g','j')"
   ]
  },
  {
   "cell_type": "code",
   "execution_count": null,
   "metadata": {
    "ExecuteTime": {
     "end_time": "2018-05-14T22:08:59.251000+02:00",
     "start_time": "2018-05-14T20:08:59.228Z"
    },
    "hidden": true
   },
   "outputs": [],
   "source": [
    "defaults('h','g','j','k')"
   ]
  },
  {
   "cell_type": "code",
   "execution_count": null,
   "metadata": {
    "ExecuteTime": {
     "end_time": "2018-05-14T22:09:06.330000+02:00",
     "start_time": "2018-05-14T20:09:06.305Z"
    },
    "hidden": true
   },
   "outputs": [],
   "source": [
    "defaults('h')"
   ]
  },
  {
   "cell_type": "code",
   "execution_count": null,
   "metadata": {
    "ExecuteTime": {
     "end_time": "2018-05-14T22:09:10.149000+02:00",
     "start_time": "2018-05-14T20:09:10.144Z"
    },
    "hidden": true
   },
   "outputs": [],
   "source": [
    "defaults()"
   ]
  },
  {
   "cell_type": "code",
   "execution_count": null,
   "metadata": {
    "ExecuteTime": {
     "end_time": "2018-05-14T22:09:32.268000+02:00",
     "start_time": "2018-05-14T20:09:31.916Z"
    },
    "hidden": true
   },
   "outputs": [],
   "source": [
    "# You can define functions that take keyword arguments,\n",
    "# specified after a semicolon\n",
    "function keyword_args(; k1 = 4, name2 = \"hello\") # note the ;\n",
    "    return Dict(\"k1\" => k1, \"name2\" => name2)\n",
    "end\n",
    "\n",
    "keyword_args(name2 = \"ness\")"
   ]
  },
  {
   "cell_type": "code",
   "execution_count": null,
   "metadata": {
    "ExecuteTime": {
     "end_time": "2018-05-14T22:09:37.261000+02:00",
     "start_time": "2018-05-14T20:09:36.960Z"
    },
    "hidden": true
   },
   "outputs": [],
   "source": [
    "keyword_args(k1 = \"mine\")"
   ]
  },
  {
   "cell_type": "code",
   "execution_count": null,
   "metadata": {
    "ExecuteTime": {
     "end_time": "2018-05-14T22:09:42.243000+02:00",
     "start_time": "2018-05-14T20:09:42.234Z"
    },
    "hidden": true
   },
   "outputs": [],
   "source": [
    "keyword_args()"
   ]
  },
  {
   "cell_type": "code",
   "execution_count": null,
   "metadata": {
    "ExecuteTime": {
     "end_time": "2018-05-14T22:09:56.287000+02:00",
     "start_time": "2018-05-14T20:09:56.255Z"
    },
    "hidden": true
   },
   "outputs": [],
   "source": [
    "# You can combine all kinds of arguments in the same function\n",
    "function all_the_args(normal_arg, optional_positional_arg=2; keyword_arg=\"foo\")\n",
    "    println(\"normal arg: $normal_arg\")\n",
    "    println(\"optional arg: $optional_positional_arg\")\n",
    "    println(\"keyword arg: $keyword_arg\")\n",
    "end\n",
    "\n",
    "all_the_args(1, 3, keyword_arg=4)"
   ]
  },
  {
   "cell_type": "code",
   "execution_count": null,
   "metadata": {
    "ExecuteTime": {
     "end_time": "2018-05-14T22:10:04.374000+02:00",
     "start_time": "2018-05-14T20:10:04.275Z"
    },
    "hidden": true
   },
   "outputs": [],
   "source": [
    "# Julia has first class functions\n",
    "function create_adder(x)\n",
    "    adder = function (y)\n",
    "        return x + y\n",
    "    end\n",
    "    return adder\n",
    "end"
   ]
  },
  {
   "cell_type": "code",
   "execution_count": null,
   "metadata": {
    "ExecuteTime": {
     "end_time": "2018-05-14T22:10:20.579000+02:00",
     "start_time": "2018-05-14T20:10:20.573Z"
    },
    "hidden": true
   },
   "outputs": [],
   "source": [
    "# This is \"stabby lambda syntax\" for creating anonymous functions\n",
    "(x -> x > 2)(3)"
   ]
  },
  {
   "cell_type": "code",
   "execution_count": null,
   "metadata": {
    "ExecuteTime": {
     "end_time": "2018-05-14T22:10:42.436000+02:00",
     "start_time": "2018-05-14T20:10:42.433Z"
    },
    "hidden": true
   },
   "outputs": [],
   "source": [
    "# This function is identical to create_adder implementation above.\n",
    "function create_adder(x)\n",
    "    y -> x + y\n",
    "end"
   ]
  },
  {
   "cell_type": "code",
   "execution_count": null,
   "metadata": {
    "ExecuteTime": {
     "end_time": "2018-05-14T22:10:51.079000+02:00",
     "start_time": "2018-05-14T20:10:51.071Z"
    },
    "hidden": true
   },
   "outputs": [],
   "source": [
    "# You can also name the internal function, if you want\n",
    "function create_adder(x)\n",
    "    function adder(y)\n",
    "        x + y\n",
    "    end\n",
    "    adder\n",
    "end\n",
    "\n",
    "add_10 = create_adder(10)\n",
    "add_10(3)"
   ]
  },
  {
   "cell_type": "code",
   "execution_count": null,
   "metadata": {
    "ExecuteTime": {
     "end_time": "2018-05-14T22:11:00.359000+02:00",
     "start_time": "2018-05-14T20:11:00.277Z"
    },
    "hidden": true
   },
   "outputs": [],
   "source": [
    "# There are built-in higher order functions\n",
    "map(iszero, [1, 0, 3, 0])"
   ]
  },
  {
   "cell_type": "code",
   "execution_count": null,
   "metadata": {
    "ExecuteTime": {
     "end_time": "2018-05-14T22:11:40.545000+02:00",
     "start_time": "2018-05-14T20:11:40.518Z"
    },
    "hidden": true
   },
   "outputs": [],
   "source": [
    "# negating a function gives a function with its result negated\n",
    "map(!iszero, [1, 0, 3, 0])"
   ]
  },
  {
   "cell_type": "code",
   "execution_count": null,
   "metadata": {
    "ExecuteTime": {
     "end_time": "2018-05-14T22:12:23.879000+02:00",
     "start_time": "2018-05-14T20:12:23.867Z"
    },
    "hidden": true
   },
   "outputs": [],
   "source": [
    "filter(x -> x > 5, [3, 4, 5, 6, 7])"
   ]
  },
  {
   "cell_type": "code",
   "execution_count": null,
   "metadata": {
    "ExecuteTime": {
     "end_time": "2018-05-14T22:12:34.687000+02:00",
     "start_time": "2018-05-14T20:12:34.653Z"
    },
    "hidden": true
   },
   "outputs": [],
   "source": [
    "# The \"do\" block creates an anonymous function and passes is as the first\n",
    "# argument.\n",
    "result = map([1, 2, 3, 4, 5, 6]) do x\n",
    "    x % 2 == 0\n",
    "end\n",
    "result"
   ]
  },
  {
   "cell_type": "code",
   "execution_count": null,
   "metadata": {
    "ExecuteTime": {
     "end_time": "2018-05-14T22:12:45.359000+02:00",
     "start_time": "2018-05-14T20:12:45.306Z"
    },
    "hidden": true
   },
   "outputs": [],
   "source": [
    "result == map(x -> x % 2 == 0, [1, 2, 3, 4, 5, 6])"
   ]
  },
  {
   "cell_type": "code",
   "execution_count": null,
   "metadata": {
    "ExecuteTime": {
     "end_time": "2018-05-14T22:13:07.841000+02:00",
     "start_time": "2018-05-14T20:13:07.768Z"
    },
    "hidden": true
   },
   "outputs": [],
   "source": [
    "# The binary operator ∘ (\\circ) combines functions\n",
    "map( (-) ∘ √, [1, 4, 16])"
   ]
  },
  {
   "cell_type": "code",
   "execution_count": null,
   "metadata": {
    "ExecuteTime": {
     "end_time": "2018-05-14T22:13:14.098000+02:00",
     "start_time": "2018-05-14T20:13:14.092Z"
    },
    "hidden": true
   },
   "outputs": [],
   "source": [
    "# √, \\sqrt[TAB], is the square root. It can also be used without parentheses\n",
    "√2 # => 1.41…"
   ]
  },
  {
   "cell_type": "code",
   "execution_count": null,
   "metadata": {
    "ExecuteTime": {
     "end_time": "2018-05-14T22:13:24.770000+02:00",
     "start_time": "2018-05-14T20:13:24.746Z"
    },
    "hidden": true
   },
   "outputs": [],
   "source": [
    "# We can use list comprehensions for nicer maps\n",
    "[add_10(i) for i = [1, 2, 3]]"
   ]
  },
  {
   "cell_type": "code",
   "execution_count": null,
   "metadata": {
    "ExecuteTime": {
     "end_time": "2018-05-14T22:13:30.021000+02:00",
     "start_time": "2018-05-14T20:13:30.018Z"
    },
    "hidden": true
   },
   "outputs": [],
   "source": [
    "[add_10(i) for i in [1, 2, 3]]"
   ]
  },
  {
   "cell_type": "code",
   "execution_count": null,
   "metadata": {
    "ExecuteTime": {
     "end_time": "2018-05-14T22:13:50.980000+02:00",
     "start_time": "2018-05-14T20:13:50.317Z"
    },
    "hidden": true
   },
   "outputs": [],
   "source": [
    "# List comprehensions work in more dimensions, too\n",
    "[x + y for x in 1:2, y in 10:10:30]"
   ]
  },
  {
   "cell_type": "code",
   "execution_count": null,
   "metadata": {
    "ExecuteTime": {
     "end_time": "2018-05-14T22:14:46.557000+02:00",
     "start_time": "2018-05-14T20:14:45.553Z"
    },
    "hidden": true
   },
   "outputs": [],
   "source": [
    "# Function followed by a dot acts element-wise\n",
    "isfinite.([1, 1/0, NaN]) # => [true, false, false]"
   ]
  },
  {
   "cell_type": "code",
   "execution_count": null,
   "metadata": {
    "ExecuteTime": {
     "end_time": "2018-05-14T22:14:56.669000+02:00",
     "start_time": "2018-05-14T20:14:56.583Z"
    },
    "hidden": true
   },
   "outputs": [],
   "source": [
    "x = rand(3)\n",
    "abs.(sin.(x).^2 .+ cos.(x).^2 .- 1) .≤ eps(Float64) # => [true, true, true]\n",
    "# Many dot operations are automatically fused into a single loop."
   ]
  },
  {
   "cell_type": "code",
   "execution_count": null,
   "metadata": {
    "ExecuteTime": {
     "end_time": "2018-05-14T22:15:02.492000+02:00",
     "start_time": "2018-05-14T20:15:02.384Z"
    },
    "hidden": true
   },
   "outputs": [],
   "source": [
    "# @. adds a dot to every function and operator after it\n",
    "@. abs(sin(x)^2 + cos(x)^2 - 1) ≤ eps(Float64) # => [true, true, true]"
   ]
  },
  {
   "cell_type": "markdown",
   "metadata": {
    "heading_collapsed": true
   },
   "source": [
    "## Types"
   ]
  },
  {
   "cell_type": "code",
   "execution_count": null,
   "metadata": {
    "ExecuteTime": {
     "end_time": "2018-05-14T22:16:04.059000+02:00",
     "start_time": "2018-05-14T20:16:03.886Z"
    },
    "hidden": true
   },
   "outputs": [],
   "source": [
    "# Julia has a type system.\n",
    "# Every value has a type; variables do not have types themselves.\n",
    "# You can use the `typeof` function to get the type of a value.\n",
    "typeof(5) # => Int64"
   ]
  },
  {
   "cell_type": "code",
   "execution_count": null,
   "metadata": {
    "ExecuteTime": {
     "end_time": "2018-05-14T22:16:09.592000+02:00",
     "start_time": "2018-05-14T20:16:09.581Z"
    },
    "hidden": true
   },
   "outputs": [],
   "source": [
    "# Types are first-class values\n",
    "typeof(Int64)"
   ]
  },
  {
   "cell_type": "code",
   "execution_count": null,
   "metadata": {
    "ExecuteTime": {
     "end_time": "2018-05-14T22:16:17.064000+02:00",
     "start_time": "2018-05-14T20:16:17.062Z"
    },
    "hidden": true
   },
   "outputs": [],
   "source": [
    "typeof(DataType)\n",
    "# DataType is the type that represents types, including itself."
   ]
  },
  {
   "cell_type": "code",
   "execution_count": null,
   "metadata": {
    "ExecuteTime": {
     "end_time": "2018-05-14T22:16:26.501000+02:00",
     "start_time": "2018-05-14T20:16:26.497Z"
    },
    "hidden": true
   },
   "outputs": [],
   "source": [
    "# Types are used for documentation, optimizations, and dispatch.\n",
    "# They are not statically checked.\n",
    "\n",
    "# Users can define types\n",
    "struct Tiger\n",
    "  taillength::Float64\n",
    "  coatcolor # not including a type annotation is the same as `::Any`\n",
    "end"
   ]
  },
  {
   "cell_type": "code",
   "execution_count": null,
   "metadata": {
    "ExecuteTime": {
     "end_time": "2018-05-14T22:16:32.473000+02:00",
     "start_time": "2018-05-14T20:16:32.278Z"
    },
    "hidden": true
   },
   "outputs": [],
   "source": [
    "# The default constructor's arguments are the properties\n",
    "# of the type, in the order they are listed in the definition\n",
    "tigger = Tiger(3.5, \"orange\")"
   ]
  },
  {
   "cell_type": "code",
   "execution_count": null,
   "metadata": {
    "ExecuteTime": {
     "end_time": "2018-05-14T22:16:44.122000+02:00",
     "start_time": "2018-05-14T20:16:44.120Z"
    },
    "hidden": true
   },
   "outputs": [],
   "source": [
    "# The type doubles as the constructor function for values of that type\n",
    "sherekhan = typeof(tigger)(5.6, \"fire\")"
   ]
  },
  {
   "cell_type": "code",
   "execution_count": null,
   "metadata": {
    "ExecuteTime": {
     "end_time": "2018-05-14T22:17:03.176000+02:00",
     "start_time": "2018-05-14T20:17:03.175Z"
    },
    "hidden": true
   },
   "outputs": [],
   "source": [
    "# These struct-style types are called concrete types\n",
    "# They can be instantiated, but cannot have subtypes.\n",
    "# The other kind of types is abstract types.\n",
    "\n",
    "# abstract type Name\n",
    "abstract type Cat  # just a name and point in the type hierarchy\n",
    "end"
   ]
  },
  {
   "cell_type": "code",
   "execution_count": null,
   "metadata": {
    "ExecuteTime": {
     "end_time": "2018-05-14T22:17:14.025000+02:00",
     "start_time": "2018-05-14T20:17:13.112Z"
    },
    "hidden": true
   },
   "outputs": [],
   "source": [
    "# Abstract types cannot be instantiated, but can have subtypes.\n",
    "# For example, Number is an abstract type\n",
    "subtypes(Number)"
   ]
  },
  {
   "cell_type": "code",
   "execution_count": null,
   "metadata": {
    "ExecuteTime": {
     "end_time": "2018-05-14T22:17:22.856000+02:00",
     "start_time": "2018-05-14T20:17:22.844Z"
    },
    "hidden": true
   },
   "outputs": [],
   "source": [
    "subtypes(Cat)"
   ]
  },
  {
   "cell_type": "code",
   "execution_count": null,
   "metadata": {
    "ExecuteTime": {
     "end_time": "2018-05-14T22:17:32.090000+02:00",
     "start_time": "2018-05-14T20:17:32.071Z"
    },
    "hidden": true
   },
   "outputs": [],
   "source": [
    "# AbstractString, as the name implies, is also an abstract type\n",
    "subtypes(AbstractString)"
   ]
  },
  {
   "cell_type": "code",
   "execution_count": null,
   "metadata": {
    "ExecuteTime": {
     "end_time": "2018-05-14T22:17:41.967000+02:00",
     "start_time": "2018-05-14T20:17:41.964Z"
    },
    "hidden": true
   },
   "outputs": [],
   "source": [
    "# Every type has a super type; use the `supertype` function to get it.\n",
    "typeof(5)"
   ]
  },
  {
   "cell_type": "code",
   "execution_count": null,
   "metadata": {
    "ExecuteTime": {
     "end_time": "2018-05-14T22:17:47.793000+02:00",
     "start_time": "2018-05-14T20:17:47.787Z"
    },
    "hidden": true
   },
   "outputs": [],
   "source": [
    "supertype(Int64)"
   ]
  },
  {
   "cell_type": "code",
   "execution_count": null,
   "metadata": {
    "ExecuteTime": {
     "end_time": "2018-05-14T22:18:47.666000+02:00",
     "start_time": "2018-05-14T20:18:47.660Z"
    },
    "hidden": true
   },
   "outputs": [],
   "source": [
    "supertype(Signed)"
   ]
  },
  {
   "cell_type": "code",
   "execution_count": null,
   "metadata": {
    "ExecuteTime": {
     "end_time": "2018-05-14T22:18:54.265000+02:00",
     "start_time": "2018-05-14T20:18:54.259Z"
    },
    "hidden": true
   },
   "outputs": [],
   "source": [
    "supertype(Integer)"
   ]
  },
  {
   "cell_type": "code",
   "execution_count": null,
   "metadata": {
    "ExecuteTime": {
     "end_time": "2018-05-14T22:18:59.448000+02:00",
     "start_time": "2018-05-14T20:18:59.441Z"
    },
    "hidden": true
   },
   "outputs": [],
   "source": [
    "supertype(Real)"
   ]
  },
  {
   "cell_type": "code",
   "execution_count": null,
   "metadata": {
    "ExecuteTime": {
     "end_time": "2018-05-14T22:19:05.640000+02:00",
     "start_time": "2018-05-14T20:19:05.633Z"
    },
    "hidden": true
   },
   "outputs": [],
   "source": [
    "supertype(Number)"
   ]
  },
  {
   "cell_type": "code",
   "execution_count": null,
   "metadata": {
    "ExecuteTime": {
     "end_time": "2018-05-14T22:19:15.244000+02:00",
     "start_time": "2018-05-14T20:19:15.241Z"
    },
    "hidden": true
   },
   "outputs": [],
   "source": [
    "supertype(Any) # => Any"
   ]
  },
  {
   "cell_type": "code",
   "execution_count": null,
   "metadata": {
    "ExecuteTime": {
     "end_time": "2018-05-14T22:19:25.456000+02:00",
     "start_time": "2018-05-14T20:19:25.449Z"
    },
    "hidden": true
   },
   "outputs": [],
   "source": [
    "# All of these type, except for Int64, are abstract.\n",
    "typeof(\"fire\")"
   ]
  },
  {
   "cell_type": "code",
   "execution_count": null,
   "metadata": {
    "ExecuteTime": {
     "end_time": "2018-05-14T22:19:31.426000+02:00",
     "start_time": "2018-05-14T20:19:31.414Z"
    },
    "hidden": true
   },
   "outputs": [],
   "source": [
    "supertype(String)"
   ]
  },
  {
   "cell_type": "code",
   "execution_count": null,
   "metadata": {
    "ExecuteTime": {
     "end_time": "2018-05-14T22:19:36.586000+02:00",
     "start_time": "2018-05-14T20:19:36.581Z"
    },
    "hidden": true
   },
   "outputs": [],
   "source": [
    "supertype(AbstractString)"
   ]
  },
  {
   "cell_type": "code",
   "execution_count": null,
   "metadata": {
    "ExecuteTime": {
     "end_time": "2018-05-14T22:19:42.956000+02:00",
     "start_time": "2018-05-14T20:19:42.952Z"
    },
    "hidden": true
   },
   "outputs": [],
   "source": [
    "# <: is the subtyping operator\n",
    "type Lion <: Cat # Lion is a subtype of Cat\n",
    "  mane_color\n",
    "  roar::AbstractString\n",
    "end"
   ]
  },
  {
   "cell_type": "code",
   "execution_count": null,
   "metadata": {
    "ExecuteTime": {
     "end_time": "2018-05-14T22:19:47.367000+02:00",
     "start_time": "2018-05-14T20:19:47.360Z"
    },
    "hidden": true
   },
   "outputs": [],
   "source": [
    "# You can define more constructors for your type\n",
    "# Just define a function of the same name as the type\n",
    "# and call an existing constructor to get a value of the correct type\n",
    "Lion(roar::AbstractString) = Lion(\"green\", roar)\n",
    "# This is an outer constructor because it's outside the type definition"
   ]
  },
  {
   "cell_type": "code",
   "execution_count": null,
   "metadata": {
    "ExecuteTime": {
     "end_time": "2018-05-14T22:19:49.850000+02:00",
     "start_time": "2018-05-14T20:19:49.845Z"
    },
    "hidden": true
   },
   "outputs": [],
   "source": [
    "type Panther <: Cat # Panther is also a subtype of Cat\n",
    "  eye_color\n",
    "  Panther() = new(\"green\")\n",
    "  # Panthers will only have this constructor, and no default constructor.\n",
    "  # new() is a spetial function available in inner constructors, that creates\n",
    "  # objects of the block's type.\n",
    "end\n",
    "# Using inner constructors, like Panther does, gives you control\n",
    "# over how values of the type can be created.\n",
    "# When possible, you should use outer constructors rather than inner ones."
   ]
  },
  {
   "cell_type": "markdown",
   "metadata": {
    "heading_collapsed": true
   },
   "source": [
    "## Multiple dispatch"
   ]
  },
  {
   "cell_type": "code",
   "execution_count": null,
   "metadata": {
    "ExecuteTime": {
     "end_time": "2018-05-14T22:20:08.323000+02:00",
     "start_time": "2018-05-14T20:20:08.216Z"
    },
    "hidden": true
   },
   "outputs": [],
   "source": [
    "# In Julia, all named functions are generic functions\n",
    "# This means that they are built up from many small methods\n",
    "# Each constructor for Lion is a method of the generic function Lion.\n",
    "\n",
    "# For a non-constructor example, let's make a function meow:\n",
    "\n",
    "# Definitions for Lion, Panther, Tiger\n",
    "function meow(animal::Lion)\n",
    "    animal.roar # access type properties using dot notation\n",
    "end\n",
    "\n",
    "function meow(animal::Panther)\n",
    "    \"grrr\"\n",
    "end\n",
    "\n",
    "function meow(animal::Tiger)\n",
    "    \"rawwwr\"\n",
    "end"
   ]
  },
  {
   "cell_type": "code",
   "execution_count": null,
   "metadata": {
    "ExecuteTime": {
     "end_time": "2018-05-14T22:20:13.708000+02:00",
     "start_time": "2018-05-14T20:20:13.705Z"
    },
    "hidden": true
   },
   "outputs": [],
   "source": [
    "# Testing the meow function\n",
    "meow(tigger)"
   ]
  },
  {
   "cell_type": "code",
   "execution_count": null,
   "metadata": {
    "ExecuteTime": {
     "end_time": "2018-05-14T22:20:21.232000+02:00",
     "start_time": "2018-05-14T20:20:21.222Z"
    },
    "hidden": true
   },
   "outputs": [],
   "source": [
    "meow(Lion(\"brown\", \"ROAAR\"))"
   ]
  },
  {
   "cell_type": "code",
   "execution_count": null,
   "metadata": {
    "ExecuteTime": {
     "end_time": "2018-05-14T22:20:29.921000+02:00",
     "start_time": "2018-05-14T20:20:29.918Z"
    },
    "hidden": true
   },
   "outputs": [],
   "source": [
    "meow(Panther())"
   ]
  },
  {
   "cell_type": "code",
   "execution_count": null,
   "metadata": {
    "ExecuteTime": {
     "end_time": "2018-05-14T22:20:41.251000+02:00",
     "start_time": "2018-05-14T20:20:41.247Z"
    },
    "hidden": true
   },
   "outputs": [],
   "source": [
    "# Review the local type hierarchy\n",
    "issubtype(Tiger, Cat)"
   ]
  },
  {
   "cell_type": "code",
   "execution_count": null,
   "metadata": {
    "ExecuteTime": {
     "end_time": "2018-05-14T22:20:46.241000+02:00",
     "start_time": "2018-05-14T20:20:46.238Z"
    },
    "hidden": true
   },
   "outputs": [],
   "source": [
    "issubtype(Lion, Cat)"
   ]
  },
  {
   "cell_type": "code",
   "execution_count": null,
   "metadata": {
    "ExecuteTime": {
     "end_time": "2018-05-14T22:20:51.252000+02:00",
     "start_time": "2018-05-14T20:20:51.250Z"
    },
    "hidden": true
   },
   "outputs": [],
   "source": [
    "issubtype(Panther, Cat)"
   ]
  },
  {
   "cell_type": "code",
   "execution_count": null,
   "metadata": {
    "ExecuteTime": {
     "end_time": "2018-05-14T22:21:02.113000+02:00",
     "start_time": "2018-05-14T20:21:02.104Z"
    },
    "hidden": true
   },
   "outputs": [],
   "source": [
    "# Defining a function that takes Cats\n",
    "function pet_cat(cat::Cat)\n",
    "    println(\"The cat says $(meow(cat))\")\n",
    "end\n",
    "\n",
    "pet_cat(Lion(\"42\"))"
   ]
  },
  {
   "cell_type": "code",
   "execution_count": null,
   "metadata": {
    "ExecuteTime": {
     "end_time": "2018-05-14T22:21:11.920000+02:00",
     "start_time": "2018-05-14T20:21:11.896Z"
    },
    "hidden": true
   },
   "outputs": [],
   "source": [
    "pet_cat(tigger)"
   ]
  },
  {
   "cell_type": "code",
   "execution_count": null,
   "metadata": {
    "ExecuteTime": {
     "end_time": "2018-05-14T22:21:34.658000+02:00",
     "start_time": "2018-05-14T20:21:34.558Z"
    },
    "hidden": true
   },
   "outputs": [],
   "source": [
    "# In OO languages, single dispatch is common;\n",
    "# this means that the method is picked based on the type of the first argument.\n",
    "# In Julia, all of the argument types contribute to selecting the best method.\n",
    "\n",
    "# Let's define a function with more arguments, so we can see the difference\n",
    "function fight(t::Tiger, c::Cat)\n",
    "    println(\"The $(t.coatcolor) tiger wins!\")\n",
    "end"
   ]
  },
  {
   "cell_type": "code",
   "execution_count": null,
   "metadata": {
    "ExecuteTime": {
     "end_time": "2018-05-14T22:21:42.828000+02:00",
     "start_time": "2018-05-14T20:21:42.821Z"
    },
    "hidden": true
   },
   "outputs": [],
   "source": [
    "fight(tigger, Panther())"
   ]
  },
  {
   "cell_type": "code",
   "execution_count": null,
   "metadata": {
    "ExecuteTime": {
     "end_time": "2018-05-14T22:21:50.188000+02:00",
     "start_time": "2018-05-14T20:21:50.181Z"
    },
    "hidden": true
   },
   "outputs": [],
   "source": [
    "fight(tigger, Lion(\"ROAR\"))"
   ]
  },
  {
   "cell_type": "code",
   "execution_count": null,
   "metadata": {
    "ExecuteTime": {
     "end_time": "2018-05-14T22:22:07.034000+02:00",
     "start_time": "2018-05-14T20:22:07.029Z"
    },
    "hidden": true
   },
   "outputs": [],
   "source": [
    "# Let's change the behavior when the Cat is specifically a Lion\n",
    "fight(t::Tiger, l::Lion) = println(\"The $(l.mane_color)-maned lion wins!\")"
   ]
  },
  {
   "cell_type": "code",
   "execution_count": null,
   "metadata": {
    "ExecuteTime": {
     "end_time": "2018-05-14T22:22:13.426000+02:00",
     "start_time": "2018-05-14T20:22:13.422Z"
    },
    "hidden": true
   },
   "outputs": [],
   "source": [
    "fight(tigger, Panther())"
   ]
  },
  {
   "cell_type": "code",
   "execution_count": null,
   "metadata": {
    "ExecuteTime": {
     "end_time": "2018-05-14T22:22:18.235000+02:00",
     "start_time": "2018-05-14T20:22:18.223Z"
    },
    "hidden": true
   },
   "outputs": [],
   "source": [
    "fight(tigger, Lion(\"ROAR\"))"
   ]
  },
  {
   "cell_type": "code",
   "execution_count": null,
   "metadata": {
    "ExecuteTime": {
     "end_time": "2018-05-14T22:22:35.222000+02:00",
     "start_time": "2018-05-14T20:22:35.215Z"
    },
    "hidden": true
   },
   "outputs": [],
   "source": [
    "# We don't need a Tiger in order to fight\n",
    "fight(l::Lion, c::Cat) = println(\"The victorious cat says $(meow(c))\")\n",
    "fight(Lion(\"balooga!\"), Panther())"
   ]
  },
  {
   "cell_type": "code",
   "execution_count": null,
   "metadata": {
    "ExecuteTime": {
     "end_time": "2018-05-14T22:22:42.102000+02:00",
     "start_time": "2018-05-14T20:22:42.092Z"
    },
    "hidden": true
   },
   "outputs": [],
   "source": [
    "# review the methods we created\n",
    "methods(fight)"
   ]
  },
  {
   "cell_type": "code",
   "execution_count": null,
   "metadata": {
    "ExecuteTime": {
     "end_time": "2018-05-14T22:22:52.037000+02:00",
     "start_time": "2018-05-14T20:22:52.012Z"
    },
    "hidden": true
   },
   "outputs": [],
   "source": [
    "fight(Panther(), Lion(\"RAWR\"))"
   ]
  },
  {
   "cell_type": "code",
   "execution_count": null,
   "metadata": {
    "ExecuteTime": {
     "end_time": "2018-05-14T22:23:10.982000+02:00",
     "start_time": "2018-05-14T20:23:10.979Z"
    },
    "hidden": true
   },
   "outputs": [],
   "source": [
    "# Also let the cat go first\n",
    "fight(c::Cat, l::Lion) = println(\"The cat beats the Lion\")"
   ]
  },
  {
   "cell_type": "code",
   "execution_count": null,
   "metadata": {
    "ExecuteTime": {
     "end_time": "2018-05-14T22:23:16.799000+02:00",
     "start_time": "2018-05-14T20:23:16.730Z"
    },
    "hidden": true
   },
   "outputs": [],
   "source": [
    "fight(Lion(\"RAR\"), Lion(\"brown\", \"rarrr\"))"
   ]
  },
  {
   "cell_type": "code",
   "execution_count": null,
   "metadata": {
    "ExecuteTime": {
     "end_time": "2018-05-14T22:23:27.961000+02:00",
     "start_time": "2018-05-14T20:23:27.953Z"
    },
    "hidden": true
   },
   "outputs": [],
   "source": [
    "fight(l1::Lion, l2::Lion) = println(\"The lions come to a tie\")\n",
    "fight(Lion(\"RAR\"), Lion(\"brown\", \"rarrr\"))"
   ]
  },
  {
   "cell_type": "markdown",
   "metadata": {},
   "source": [
    "## Macros"
   ]
  },
  {
   "cell_type": "code",
   "execution_count": null,
   "metadata": {
    "ExecuteTime": {
     "end_time": "2018-05-14T22:23:57.495000+02:00",
     "start_time": "2018-05-14T20:23:57.242Z"
    }
   },
   "outputs": [],
   "source": [
    "v = 9\n",
    "@show 10 * √v"
   ]
  },
  {
   "cell_type": "code",
   "execution_count": null,
   "metadata": {
    "ExecuteTime": {
     "end_time": "2018-05-14T22:24:04.432000+02:00",
     "start_time": "2018-05-14T20:24:04.233Z"
    }
   },
   "outputs": [],
   "source": [
    "@time inv(rand(100, 100))"
   ]
  },
  {
   "cell_type": "code",
   "execution_count": null,
   "metadata": {
    "ExecuteTime": {
     "end_time": "2018-05-14T22:24:18.409000+02:00",
     "start_time": "2018-05-14T20:24:18.400Z"
    }
   },
   "outputs": [],
   "source": [
    "@time inv(rand(100, 100))\n",
    "# prints \"    0.001164 seconds (19 allocations: 286.781 KiB)\"\n",
    "# The second time is faster. The first time the functions were compiled."
   ]
  },
  {
   "cell_type": "code",
   "execution_count": null,
   "metadata": {
    "ExecuteTime": {
     "end_time": "2018-05-14T22:24:29.739000+02:00",
     "start_time": "2018-05-14T20:24:29.570Z"
    }
   },
   "outputs": [],
   "source": [
    "a = rand(10)\n",
    "pointer(a)"
   ]
  },
  {
   "cell_type": "code",
   "execution_count": null,
   "metadata": {
    "ExecuteTime": {
     "end_time": "2018-05-14T22:24:35.128000+02:00",
     "start_time": "2018-05-14T20:24:35.097Z"
    }
   },
   "outputs": [],
   "source": [
    "# Slicing produces a new Array\n",
    "pointer(a[1:10]) == pointer(a)"
   ]
  },
  {
   "cell_type": "code",
   "execution_count": null,
   "metadata": {
    "ExecuteTime": {
     "end_time": "2018-05-14T22:24:43.254000+02:00",
     "start_time": "2018-05-14T20:24:43.025Z"
    }
   },
   "outputs": [],
   "source": [
    "# The @view macro produces a SubArray sharing memory with the original\n",
    "pointer(@view a[1:10]) == pointer(a)"
   ]
  }
 ],
 "metadata": {
  "kernelspec": {
   "display_name": "Julia 0.6.2",
   "language": "julia",
   "name": "julia-0.6"
  },
  "language_info": {
   "file_extension": ".jl",
   "mimetype": "application/julia",
   "name": "julia",
   "version": "0.6.2"
  },
  "toc": {
   "toc_cell": false,
   "toc_number_sections": true,
   "toc_threshold": 6,
   "toc_window_display": false
  }
 },
 "nbformat": 4,
 "nbformat_minor": 2
}
