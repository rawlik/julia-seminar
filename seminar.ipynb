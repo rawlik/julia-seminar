{
 "cells": [
  {
   "cell_type": "markdown",
   "metadata": {},
   "source": [
    "# Introduction"
   ]
  },
  {
   "cell_type": "code",
   "execution_count": 1,
   "metadata": {
    "ExecuteTime": {
     "end_time": "2018-05-13T06:40:52.984000+02:00",
     "start_time": "2018-05-13T04:40:45.609Z"
    }
   },
   "outputs": [
    {
     "data": {
      "text/plain": [
       "PyObject <function pymysum at 0x1291d5840>"
      ]
     },
     "execution_count": 1,
     "metadata": {},
     "output_type": "execute_result"
    }
   ],
   "source": [
    "using PyCall\n",
    "\n",
    "py\"\"\"\n",
    "def pymysum(a):\n",
    "    result = 0\n",
    "    for x in a:\n",
    "        result += x\n",
    "    return result\n",
    "\"\"\"\n",
    "\n",
    "pymysum = py\"pymysum\""
   ]
  },
  {
   "cell_type": "code",
   "execution_count": 5,
   "metadata": {
    "ExecuteTime": {
     "end_time": "2018-05-13T06:41:52.194000+02:00",
     "start_time": "2018-05-13T04:41:49.349Z"
    }
   },
   "outputs": [
    {
     "name": "stdout",
     "output_type": "stream",
     "text": [
      "  1.504624 seconds (28 allocations: 1.016 KiB)\n"
     ]
    },
    {
     "data": {
      "text/plain": [
       "5.0000005e13"
      ]
     },
     "execution_count": 5,
     "metadata": {},
     "output_type": "execute_result"
    }
   ],
   "source": [
    "N = 10_000_000\n",
    "a = float.(collect(1:N))\n",
    "\n",
    "pymysum(a)\n",
    "@time pymysum(a)"
   ]
  },
  {
   "cell_type": "code",
   "execution_count": 6,
   "metadata": {
    "ExecuteTime": {
     "end_time": "2018-05-13T06:42:01.230000+02:00",
     "start_time": "2018-05-13T04:41:59.790Z"
    }
   },
   "outputs": [],
   "source": [
    "@pyimport numpy as np"
   ]
  },
  {
   "cell_type": "code",
   "execution_count": 7,
   "metadata": {
    "ExecuteTime": {
     "end_time": "2018-05-13T06:42:09.651000+02:00",
     "start_time": "2018-05-13T04:42:09.634Z"
    }
   },
   "outputs": [
    {
     "name": "stdout",
     "output_type": "stream",
     "text": [
      "  0.004743 seconds (28 allocations: 1.016 KiB)\n"
     ]
    },
    {
     "data": {
      "text/plain": [
       "5.0000005e13"
      ]
     },
     "execution_count": 7,
     "metadata": {},
     "output_type": "execute_result"
    }
   ],
   "source": [
    "np.sum(a)\n",
    "@time np.sum(a)"
   ]
  },
  {
   "cell_type": "markdown",
   "metadata": {},
   "source": [
    "python's `main()` can be found here: https://github.com/python/cpython/blob/master/Programs/python.c\n",
    "\n",
    "```C\n",
    "/* Minimal main program -- everything is loaded from the library */\n",
    "\n",
    "#include \"Python.h\"\n",
    "\n",
    "#ifdef MS_WINDOWS\n",
    "int\n",
    "wmain(int argc, wchar_t **argv)\n",
    "{\n",
    "    return Py_Main(argc, argv);\n",
    "}\n",
    "#else\n",
    "int\n",
    "main(int argc, char **argv)\n",
    "{\n",
    "    return _Py_UnixMain(argc, argv);\n",
    "}\n",
    "#endif\n",
    "```"
   ]
  },
  {
   "cell_type": "code",
   "execution_count": 10,
   "metadata": {
    "ExecuteTime": {
     "end_time": "2018-05-13T06:43:09.094000+02:00",
     "start_time": "2018-05-13T04:43:09.085Z"
    }
   },
   "outputs": [
    {
     "data": {
      "text/plain": [
       "5.0000005e13"
      ]
     },
     "execution_count": 10,
     "metadata": {},
     "output_type": "execute_result"
    }
   ],
   "source": [
    "# first call compiles the function\n",
    "sum(a)"
   ]
  },
  {
   "cell_type": "code",
   "execution_count": 11,
   "metadata": {
    "ExecuteTime": {
     "end_time": "2018-05-13T06:43:09.903000+02:00",
     "start_time": "2018-05-13T04:43:09.893Z"
    }
   },
   "outputs": [
    {
     "name": "stdout",
     "output_type": "stream",
     "text": [
      "  0.006619 seconds (5 allocations: 176 bytes)\n"
     ]
    },
    {
     "data": {
      "text/plain": [
       "5.0000005e13"
      ]
     },
     "execution_count": 11,
     "metadata": {},
     "output_type": "execute_result"
    }
   ],
   "source": [
    "@time sum(a)"
   ]
  },
  {
   "cell_type": "code",
   "execution_count": 12,
   "metadata": {
    "ExecuteTime": {
     "end_time": "2018-05-13T06:43:18.462000+02:00",
     "start_time": "2018-05-13T04:43:18.230Z"
    }
   },
   "outputs": [
    {
     "data": {
      "text/plain": [
       "mysum (generic function with 1 method)"
      ]
     },
     "execution_count": 12,
     "metadata": {},
     "output_type": "execute_result"
    }
   ],
   "source": [
    "function mysum(a)\n",
    "    result = zero(eltype(a))\n",
    "    for x in a\n",
    "        result += x\n",
    "    end\n",
    "    result\n",
    "end"
   ]
  },
  {
   "cell_type": "code",
   "execution_count": 34,
   "metadata": {
    "ExecuteTime": {
     "end_time": "2018-05-13T06:45:17.620000+02:00",
     "start_time": "2018-05-13T04:45:17.596Z"
    }
   },
   "outputs": [
    {
     "name": "stdout",
     "output_type": "stream",
     "text": [
      "  0.010192 seconds (5 allocations: 176 bytes)\n"
     ]
    },
    {
     "data": {
      "text/plain": [
       "5.0000005e13"
      ]
     },
     "execution_count": 34,
     "metadata": {},
     "output_type": "execute_result"
    }
   ],
   "source": [
    "mysum(a)\n",
    "@time mysum(a)"
   ]
  },
  {
   "cell_type": "code",
   "execution_count": 19,
   "metadata": {
    "ExecuteTime": {
     "end_time": "2018-05-12T17:22:40.229000+02:00",
     "start_time": "2018-05-12T15:22:39.794Z"
    },
    "scrolled": true
   },
   "outputs": [
    {
     "name": "stdout",
     "output_type": "stream",
     "text": [
      "# This file is a part of Julia. License is MIT: https://julialang.org/license\n",
      "\n",
      "## reductions ##\n",
      "\n",
      "###### Generic (map)reduce functions ######\n",
      "\n",
      "if Int === Int32\n",
      "const SmallSigned = Union{Int8,Int16}\n",
      "const SmallUnsigned = Union{UInt8,UInt16}\n",
      "else\n",
      "const SmallSigned = Union{Int8,Int16,Int32}\n",
      "const SmallUnsigned = Union{UInt8,UInt16,UInt32}\n",
      "end\n",
      "\n",
      "const CommonReduceResult = Union{UInt64,UInt128,Int64,Int128,Float32,Float64}\n",
      "const WidenReduceResult = Union{SmallSigned, SmallUnsigned, Float16}\n",
      "\n",
      "# r_promote_type: promote T to the type of reduce(op, ::Array{T})\n",
      "# (some \"extra\" methods are required here to avoid ambiguity warnings)\n",
      "r_promote_type(op, ::Type{T}) where {T} = T\n",
      "r_promote_type(op, ::Type{T}) where {T<:WidenReduceResult} = widen(T)\n",
      "r_promote_type(::typeof(+), ::Type{T}) where {T<:WidenReduceResult} = widen(T)\n",
      "r_promote_type(::typeof(*), ::Type{T}) where {T<:WidenReduceResult} = widen(T)\n",
      "r_promote_type(::typeof(+), ::Type{T}) where {T<:Number} = typeof(zero(T)+zero(T))\n",
      "r_promote_type(::typeof(*), ::Type{T}) where {T<:Number} = typeof(one(T)*one(T))\n",
      "r_promote_type(::typeof(scalarmax), ::Type{T}) where {T<:WidenReduceResult} = T\n",
      "r_promote_type(::typeof(scalarmin), ::Type{T}) where {T<:WidenReduceResult} = T\n",
      "r_promote_type(::typeof(max), ::Type{T}) where {T<:WidenReduceResult} = T\n",
      "r_promote_type(::typeof(min), ::Type{T}) where {T<:WidenReduceResult} = T\n",
      "\n",
      "# r_promote: promote x to the type of reduce(op, [x])\n",
      "r_promote(op, x::T) where {T} = convert(r_promote_type(op, T), x)\n",
      "\n",
      "## foldl && mapfoldl\n",
      "\n",
      "function mapfoldl_impl(f, op, v0, itr, i)\n",
      "    # Unroll the while loop once; if v0 is known, the call to op may\n",
      "    # be evaluated at compile time\n",
      "    if done(itr, i)\n",
      "        return r_promote(op, v0)\n",
      "    else\n",
      "        (x, i) = next(itr, i)\n",
      "        v = op(r_promote(op, v0), f(x))\n",
      "        while !done(itr, i)\n",
      "            @inbounds (x, i) = next(itr, i)\n",
      "            v = op(v, f(x))\n",
      "        end\n",
      "        return v\n",
      "    end\n",
      "end\n",
      "\n",
      "\"\"\"\n",
      "    mapfoldl(f, op, v0, itr)\n",
      "\n",
      "Like [`mapreduce`](@ref), but with guaranteed left associativity, as in [`foldl`](@ref).\n",
      "`v0` will be used exactly once.\n",
      "\"\"\"\n",
      "mapfoldl(f, op, v0, itr) = mapfoldl_impl(f, op, v0, itr, start(itr))\n",
      "\n",
      "\"\"\"\n",
      "    mapfoldl(f, op, itr)\n",
      "\n",
      "Like `mapfoldl(f, op, v0, itr)`, but using the first element of `itr` as `v0`. In general,\n",
      "this cannot be used with empty collections (see `reduce(op, itr)`).\n",
      "\"\"\"\n",
      "function mapfoldl(f, op, itr)\n",
      "    i = start(itr)\n",
      "    if done(itr, i)\n",
      "        return Base.mr_empty_iter(f, op, itr, iteratoreltype(itr))\n",
      "    end\n",
      "    (x, i) = next(itr, i)\n",
      "    v0 = f(x)\n",
      "    mapfoldl_impl(f, op, v0, itr, i)\n",
      "end\n",
      "\n",
      "\"\"\"\n",
      "    foldl(op, v0, itr)\n",
      "\n",
      "Like [`reduce`](@ref), but with guaranteed left associativity. `v0` will be used\n",
      "exactly once.\n",
      "\n",
      "```jldoctest\n",
      "julia> foldl(-, 1, 2:5)\n",
      "-13\n",
      "```\n",
      "\"\"\"\n",
      "foldl(op, v0, itr) = mapfoldl(identity, op, v0, itr)\n",
      "\n",
      "\"\"\"\n",
      "    foldl(op, itr)\n",
      "\n",
      "Like `foldl(op, v0, itr)`, but using the first element of `itr` as `v0`. In general, this\n",
      "cannot be used with empty collections (see `reduce(op, itr)`).\n",
      "\n",
      "```jldoctest\n",
      "julia> foldl(-, 2:5)\n",
      "-10\n",
      "```\n",
      "\"\"\"\n",
      "foldl(op, itr) = mapfoldl(identity, op, itr)\n",
      "\n",
      "## foldr & mapfoldr\n",
      "\n",
      "function mapfoldr_impl(f, op, v0, itr, i::Integer)\n",
      "    # Unroll the while loop once; if v0 is known, the call to op may\n",
      "    # be evaluated at compile time\n",
      "    if isempty(itr) || i == 0\n",
      "        return r_promote(op, v0)\n",
      "    else\n",
      "        x = itr[i]\n",
      "        v  = op(f(x), r_promote(op, v0))\n",
      "        while i > 1\n",
      "            x = itr[i -= 1]\n",
      "            v = op(f(x), v)\n",
      "        end\n",
      "        return v\n",
      "    end\n",
      "end\n",
      "\n",
      "\"\"\"\n",
      "    mapfoldr(f, op, v0, itr)\n",
      "\n",
      "Like [`mapreduce`](@ref), but with guaranteed right associativity, as in [`foldr`](@ref).\n",
      "`v0` will be used exactly once.\n",
      "\"\"\"\n",
      "mapfoldr(f, op, v0, itr) = mapfoldr_impl(f, op, v0, itr, endof(itr))\n",
      "\n",
      "\"\"\"\n",
      "    mapfoldr(f, op, itr)\n",
      "\n",
      "Like `mapfoldr(f, op, v0, itr)`, but using the first element of `itr` as `v0`. In general,\n",
      "this cannot be used with empty collections (see `reduce(op, itr)`).\n",
      "\"\"\"\n",
      "function mapfoldr(f, op, itr)\n",
      "    i = endof(itr)\n",
      "    if isempty(itr)\n",
      "        return Base.mr_empty_iter(f, op, itr, iteratoreltype(itr))\n",
      "    end\n",
      "    return mapfoldr_impl(f, op, f(itr[i]), itr, i-1)\n",
      "end\n",
      "\n",
      "\"\"\"\n",
      "    foldr(op, v0, itr)\n",
      "\n",
      "Like [`reduce`](@ref), but with guaranteed right associativity. `v0` will be used\n",
      "exactly once.\n",
      "\n",
      "```jldoctest\n",
      "julia> foldr(-, 1, 2:5)\n",
      "-1\n",
      "```\n",
      "\"\"\"\n",
      "foldr(op, v0, itr) = mapfoldr(identity, op, v0, itr)\n",
      "\n",
      "\"\"\"\n",
      "    foldr(op, itr)\n",
      "\n",
      "Like `foldr(op, v0, itr)`, but using the last element of `itr` as `v0`. In general, this\n",
      "cannot be used with empty collections (see `reduce(op, itr)`).\n",
      "\n",
      "```jldoctest\n",
      "julia> foldr(-, 2:5)\n",
      "-2\n",
      "```\n",
      "\"\"\"\n",
      "foldr(op, itr) = mapfoldr(identity, op, itr)\n",
      "\n",
      "## reduce & mapreduce\n",
      "\n",
      "# `mapreduce_impl()` is called by `mapreduce()` (via `_mapreduce()`, when `A`\n",
      "# supports linear indexing) and does actual calculations (for `A[ifirst:ilast]` subset).\n",
      "# For efficiency, no parameter validity checks are done, it's the caller's responsibility.\n",
      "# `ifirst:ilast` range is assumed to be a valid non-empty subset of `A` indices.\n",
      "\n",
      "# This is a generic implementation of `mapreduce_impl()`,\n",
      "# certain `op` (e.g. `min` and `max`) may have their own specialized versions.\n",
      "function mapreduce_impl(f, op, A::AbstractArray, ifirst::Integer, ilast::Integer, blksize::Int=pairwise_blocksize(f, op))\n",
      "    if ifirst == ilast\n",
      "        @inbounds a1 = A[ifirst]\n",
      "        return r_promote(op, f(a1))\n",
      "    elseif ifirst + blksize > ilast\n",
      "        # sequential portion\n",
      "        @inbounds a1 = A[ifirst]\n",
      "        @inbounds a2 = A[ifirst+1]\n",
      "        v = op(r_promote(op, f(a1)), r_promote(op, f(a2)))\n",
      "        @simd for i = ifirst + 2 : ilast\n",
      "            @inbounds ai = A[i]\n",
      "            v = op(v, f(ai))\n",
      "        end\n",
      "        return v\n",
      "    else\n",
      "        # pairwise portion\n",
      "        imid = (ifirst + ilast) >> 1\n",
      "        v1 = mapreduce_impl(f, op, A, ifirst, imid, blksize)\n",
      "        v2 = mapreduce_impl(f, op, A, imid+1, ilast, blksize)\n",
      "        return op(v1, v2)\n",
      "    end\n",
      "end\n",
      "\n",
      "\"\"\"\n",
      "    mapreduce(f, op, itr)\n",
      "\n",
      "Like `mapreduce(f, op, v0, itr)`. In general, this cannot be used with empty collections\n",
      "(see `reduce(op, itr)`).\n",
      "\"\"\"\n",
      "mapreduce(f, op, itr) = mapfoldl(f, op, itr)\n",
      "\n",
      "\"\"\"\n",
      "    mapreduce(f, op, v0, itr)\n",
      "\n",
      "Apply function `f` to each element in `itr`, and then reduce the result using the binary\n",
      "function `op`. `v0` must be a neutral element for `op` that will be returned for empty\n",
      "collections. It is unspecified whether `v0` is used for non-empty collections.\n",
      "\n",
      "[`mapreduce`](@ref) is functionally equivalent to calling `reduce(op, v0,\n",
      "map(f, itr))`, but will in general execute faster since no intermediate collection needs to\n",
      "be created. See documentation for [`reduce`](@ref) and [`map`](@ref).\n",
      "\n",
      "```jldoctest\n",
      "julia> mapreduce(x->x^2, +, [1:3;]) # == 1 + 4 + 9\n",
      "14\n",
      "```\n",
      "\n",
      "The associativity of the reduction is implementation-dependent. Additionally, some\n",
      "implementations may reuse the return value of `f` for elements that appear multiple times in\n",
      "`itr`. Use [`mapfoldl`](@ref) or [`mapfoldr`](@ref) instead for\n",
      "guaranteed left or right associativity and invocation of `f` for every value.\n",
      "\"\"\"\n",
      "mapreduce(f, op, v0, itr) = mapfoldl(f, op, v0, itr)\n",
      "\n",
      "# Note: sum_seq usually uses four or more accumulators after partial\n",
      "# unrolling, so each accumulator gets at most 256 numbers\n",
      "pairwise_blocksize(f, op) = 1024\n",
      "\n",
      "# This combination appears to show a benefit from a larger block size\n",
      "pairwise_blocksize(::typeof(abs2), ::typeof(+)) = 4096\n",
      "\n",
      "\n",
      "# handling empty arrays\n",
      "_empty_reduce_error() = throw(ArgumentError(\"reducing over an empty collection is not allowed\"))\n",
      "mr_empty(f, op, T) = _empty_reduce_error()\n",
      "# use zero(T)::T to improve type information when zero(T) is not defined\n",
      "mr_empty(::typeof(identity), op::typeof(+), T) = r_promote(op, zero(T)::T)\n",
      "mr_empty(::typeof(abs), op::typeof(+), T) = r_promote(op, abs(zero(T)::T))\n",
      "mr_empty(::typeof(abs2), op::typeof(+), T) = r_promote(op, abs2(zero(T)::T))\n",
      "mr_empty(::typeof(identity), op::typeof(*), T) = r_promote(op, one(T)::T)\n",
      "mr_empty(::typeof(abs), op::typeof(scalarmax), T) = abs(zero(T)::T)\n",
      "mr_empty(::typeof(abs2), op::typeof(scalarmax), T) = abs2(zero(T)::T)\n",
      "mr_empty(::typeof(abs), op::typeof(max), T) = mr_empty(abs, scalarmax, T)\n",
      "mr_empty(::typeof(abs2), op::typeof(max), T) = mr_empty(abs2, scalarmax, T)\n",
      "mr_empty(f, op::typeof(&), T) = true\n",
      "mr_empty(f, op::typeof(|), T) = false\n",
      "\n",
      "mr_empty_iter(f, op, itr, ::HasEltype) = mr_empty(f, op, eltype(itr))\n",
      "mr_empty_iter(f, op::typeof(&), itr, ::EltypeUnknown) = true\n",
      "mr_empty_iter(f, op::typeof(|), itr, ::EltypeUnknown) = false\n",
      "mr_empty_iter(f, op, itr, ::EltypeUnknown) = _empty_reduce_error()\n",
      "\n",
      "_mapreduce(f, op, A::AbstractArray) = _mapreduce(f, op, IndexStyle(A), A)\n",
      "\n",
      "function _mapreduce(f, op, ::IndexLinear, A::AbstractArray{T}) where T\n",
      "    inds = linearindices(A)\n",
      "    n = length(inds)\n",
      "    if n == 0\n",
      "        return mr_empty(f, op, T)\n",
      "    elseif n == 1\n",
      "        @inbounds a1 = A[inds[1]]\n",
      "        return r_promote(op, f(a1))\n",
      "    elseif n < 16 # process short array here, avoid mapreduce_impl() compilation\n",
      "        @inbounds i = inds[1]\n",
      "        @inbounds a1 = A[i]\n",
      "        @inbounds a2 = A[i+=1]\n",
      "        s = op(r_promote(op, f(a1)), r_promote(op, f(a2)))\n",
      "        while i < last(inds)\n",
      "            @inbounds Ai = A[i+=1]\n",
      "            s = op(s, f(Ai))\n",
      "        end\n",
      "        return s\n",
      "    else\n",
      "        return mapreduce_impl(f, op, A, first(inds), last(inds))\n",
      "    end\n",
      "end\n",
      "\n",
      "_mapreduce(f, op, ::IndexCartesian, A::AbstractArray) = mapfoldl(f, op, A)\n",
      "\n",
      "mapreduce(f, op, A::AbstractArray) = _mapreduce(f, op, IndexStyle(A), A)\n",
      "mapreduce(f, op, a::Number) = f(a)\n",
      "\n",
      "\"\"\"\n",
      "    reduce(op, v0, itr)\n",
      "\n",
      "Reduce the given collection `ìtr` with the given binary operator `op`. `v0` must be a\n",
      "neutral element for `op` that will be returned for empty collections. It is unspecified\n",
      "whether `v0` is used for non-empty collections.\n",
      "\n",
      "Reductions for certain commonly-used operators have special implementations which should be\n",
      "used instead: `maximum(itr)`, `minimum(itr)`, `sum(itr)`, `prod(itr)`, `any(itr)`,\n",
      "`all(itr)`.\n",
      "\n",
      "The associativity of the reduction is implementation dependent. This means that you can't\n",
      "use non-associative operations like `-` because it is undefined whether `reduce(-,[1,2,3])`\n",
      "should be evaluated as `(1-2)-3` or `1-(2-3)`. Use [`foldl`](@ref) or\n",
      "[`foldr`](@ref) instead for guaranteed left or right associativity.\n",
      "\n",
      "Some operations accumulate error, and parallelism will also be easier if the reduction can\n",
      "be executed in groups. Future versions of Julia might change the algorithm. Note that the\n",
      "elements are not reordered if you use an ordered collection.\n",
      "\n",
      "# Examples\n",
      "\n",
      "```jldoctest\n",
      "julia> reduce(*, 1, [2; 3; 4])\n",
      "24\n",
      "```\n",
      "\"\"\"\n",
      "reduce(op, v0, itr) = mapreduce(identity, op, v0, itr)\n",
      "\n",
      "\"\"\"\n",
      "    reduce(op, itr)\n",
      "\n",
      "Like `reduce(op, v0, itr)`. This cannot be used with empty collections, except for some\n",
      "special cases (e.g. when `op` is one of `+`, `*`, `max`, `min`, `&`, `|`) when Julia can\n",
      "determine the neutral element of `op`.\n",
      "\n",
      "```jldoctest\n",
      "julia> reduce(*, [2; 3; 4])\n",
      "24\n",
      "```\n",
      "\"\"\"\n",
      "reduce(op, itr) = mapreduce(identity, op, itr)\n",
      "reduce(op, a::Number) = a\n",
      "\n",
      "###### Specific reduction functions ######\n",
      "\n",
      "## sum\n",
      "\n",
      "\"\"\"\n",
      "    sum(f, itr)\n",
      "\n",
      "Sum the results of calling function `f` on each element of `itr`.\n",
      "\n",
      "```jldoctest\n",
      "julia> sum(abs2, [2; 3; 4])\n",
      "29\n",
      "```\n",
      "\"\"\"\n",
      "sum(f::Callable, a) = mapreduce(f, +, a)\n",
      "\n",
      "\"\"\"\n",
      "    sum(itr)\n",
      "\n"
     ]
    },
    {
     "name": "stdout",
     "output_type": "stream",
     "text": [
      "Returns the sum of all elements in a collection.\n",
      "\n",
      "```jldoctest\n",
      "julia> sum(1:20)\n",
      "210\n",
      "```\n",
      "\"\"\"\n",
      "sum(a) = mapreduce(identity, +, a)\n",
      "sum(a::AbstractArray{Bool}) = countnz(a)\n",
      "\n",
      "\n",
      "# Kahan (compensated) summation: O(1) error growth, at the expense\n",
      "# of a considerable increase in computational expense.\n",
      "\n",
      "\"\"\"\n",
      "    sum_kbn(A)\n",
      "\n",
      "Returns the sum of all elements of `A`, using the Kahan-Babuska-Neumaier compensated\n",
      "summation algorithm for additional accuracy.\n",
      "\"\"\"\n",
      "function sum_kbn(A)\n",
      "    T = _default_eltype(typeof(A))\n",
      "    c = r_promote(+, zero(T)::T)\n",
      "    i = start(A)\n",
      "    if done(A, i)\n",
      "        return c\n",
      "    end\n",
      "    Ai, i = next(A, i)\n",
      "    s = Ai - c\n",
      "    while !(done(A, i))\n",
      "        Ai, i = next(A, i)\n",
      "        t = s + Ai\n",
      "        if abs(s) >= abs(Ai)\n",
      "            c -= ((s-t) + Ai)\n",
      "        else\n",
      "            c -= ((Ai-t) + s)\n",
      "        end\n",
      "        s = t\n",
      "    end\n",
      "    s - c\n",
      "end\n",
      "\n",
      "## prod\n",
      "\"\"\"\n",
      "    prod(f, itr)\n",
      "\n",
      "Returns the product of `f` applied to each element of `itr`.\n",
      "\n",
      "```jldoctest\n",
      "julia> prod(abs2, [2; 3; 4])\n",
      "576\n",
      "```\n",
      "\"\"\"\n",
      "prod(f::Callable, a) = mapreduce(f, *, a)\n",
      "\n",
      "\"\"\"\n",
      "    prod(itr)\n",
      "\n",
      "Returns the product of all elements of a collection.\n",
      "\n",
      "```jldoctest\n",
      "julia> prod(1:20)\n",
      "2432902008176640000\n",
      "```\n",
      "\"\"\"\n",
      "prod(a) = mapreduce(identity, *, a)\n",
      "\n",
      "## maximum & minimum\n",
      "\n",
      "function mapreduce_impl(f, op::Union{typeof(scalarmax),\n",
      "                                     typeof(scalarmin),\n",
      "                                     typeof(max),\n",
      "                                     typeof(min)},\n",
      "                        A::AbstractArray, first::Int, last::Int)\n",
      "    # locate the first non NaN number\n",
      "    @inbounds a1 = A[first]\n",
      "    v = f(a1)\n",
      "    i = first + 1\n",
      "    while (v == v) && (i <= last)\n",
      "        @inbounds ai = A[i]\n",
      "        v = op(v, f(ai))\n",
      "        i += 1\n",
      "    end\n",
      "    v\n",
      "end\n",
      "\n",
      "maximum(f::Callable, a) = mapreduce(f, scalarmax, a)\n",
      "minimum(f::Callable, a) = mapreduce(f, scalarmin, a)\n",
      "\n",
      "\"\"\"\n",
      "    maximum(itr)\n",
      "\n",
      "Returns the largest element in a collection.\n",
      "\n",
      "```jldoctest\n",
      "julia> maximum(-20.5:10)\n",
      "9.5\n",
      "\n",
      "julia> maximum([1,2,3])\n",
      "3\n",
      "```\n",
      "\"\"\"\n",
      "maximum(a) = mapreduce(identity, scalarmax, a)\n",
      "\n",
      "\"\"\"\n",
      "    minimum(itr)\n",
      "\n",
      "Returns the smallest element in a collection.\n",
      "\n",
      "```jldoctest\n",
      "julia> minimum(-20.5:10)\n",
      "-20.5\n",
      "\n",
      "julia> minimum([1,2,3])\n",
      "1\n",
      "```\n",
      "\"\"\"\n",
      "minimum(a) = mapreduce(identity, scalarmin, a)\n",
      "\n",
      "## extrema\n",
      "\n",
      "extrema(r::Range) = (minimum(r), maximum(r))\n",
      "extrema(x::Real) = (x, x)\n",
      "\n",
      "\"\"\"\n",
      "    extrema(itr) -> Tuple\n",
      "\n",
      "Compute both the minimum and maximum element in a single pass, and return them as a 2-tuple.\n",
      "\n",
      "```jldoctest\n",
      "julia> extrema(2:10)\n",
      "(2, 10)\n",
      "\n",
      "julia> extrema([9,pi,4.5])\n",
      "(3.141592653589793, 9.0)\n",
      "```\n",
      "\"\"\"\n",
      "function extrema(itr)\n",
      "    s = start(itr)\n",
      "    done(itr, s) && throw(ArgumentError(\"collection must be non-empty\"))\n",
      "    (v, s) = next(itr, s)\n",
      "    vmin = vmax = v\n",
      "    while !done(itr, s)\n",
      "        (x, s) = next(itr, s)\n",
      "        vmax = max(x, vmax)\n",
      "        vmin = min(x, vmin)\n",
      "    end\n",
      "    return (vmin, vmax)\n",
      "end\n",
      "\n",
      "## all & any\n",
      "\n",
      "\"\"\"\n",
      "    any(itr) -> Bool\n",
      "\n",
      "Test whether any elements of a boolean collection are `true`, returning `true` as\n",
      "soon as the first `true` value in `itr` is encountered (short-circuiting).\n",
      "\n",
      "```jldoctest\n",
      "julia> a = [true,false,false,true]\n",
      "4-element Array{Bool,1}:\n",
      "  true\n",
      " false\n",
      " false\n",
      "  true\n",
      "\n",
      "julia> any(a)\n",
      "true\n",
      "\n",
      "julia> any((println(i); v) for (i, v) in enumerate(a))\n",
      "1\n",
      "true\n",
      "```\n",
      "\"\"\"\n",
      "any(itr) = any(identity, itr)\n",
      "\n",
      "\"\"\"\n",
      "    all(itr) -> Bool\n",
      "\n",
      "Test whether all elements of a boolean collection are `true`, returning `false` as\n",
      "soon as the first `false` value in `itr` is encountered (short-circuiting).\n",
      "\n",
      "```jldoctest\n",
      "julia> a = [true,false,false,true]\n",
      "4-element Array{Bool,1}:\n",
      "  true\n",
      " false\n",
      " false\n",
      "  true\n",
      "\n",
      "julia> all(a)\n",
      "false\n",
      "\n",
      "julia> all((println(i); v) for (i, v) in enumerate(a))\n",
      "1\n",
      "2\n",
      "false\n",
      "```\n",
      "\"\"\"\n",
      "all(itr) = all(identity, itr)\n",
      "\n",
      "\"\"\"\n",
      "    any(p, itr) -> Bool\n",
      "\n",
      "Determine whether predicate `p` returns `true` for any elements of `itr`, returning\n",
      "`true` as soon as the first item in `itr` for which `p` returns `true` is encountered\n",
      "(short-circuiting).\n",
      "\n",
      "```jldoctest\n",
      "julia> any(i->(4<=i<=6), [3,5,7])\n",
      "true\n",
      "\n",
      "julia> any(i -> (println(i); i > 3), 1:10)\n",
      "1\n",
      "2\n",
      "3\n",
      "4\n",
      "true\n",
      "```\n",
      "\"\"\"\n",
      "function any(f, itr)\n",
      "    for x in itr\n",
      "        f(x) && return true\n",
      "    end\n",
      "    return false\n",
      "end\n",
      "\n",
      "\"\"\"\n",
      "    all(p, itr) -> Bool\n",
      "\n",
      "Determine whether predicate `p` returns `true` for all elements of `itr`, returning\n",
      "`false` as soon as the first item in `itr` for which `p` returns `false` is encountered\n",
      "(short-circuiting).\n",
      "\n",
      "```jldoctest\n",
      "julia> all(i->(4<=i<=6), [4,5,6])\n",
      "true\n",
      "\n",
      "julia> all(i -> (println(i); i < 3), 1:10)\n",
      "1\n",
      "2\n",
      "3\n",
      "false\n",
      "```\n",
      "\"\"\"\n",
      "function all(f, itr)\n",
      "    for x in itr\n",
      "        f(x) || return false\n",
      "    end\n",
      "    return true\n",
      "end\n",
      "\n",
      "## in & contains\n",
      "\n",
      "\"\"\"\n",
      "    in(item, collection) -> Bool\n",
      "    ∈(item,collection) -> Bool\n",
      "    ∋(collection,item) -> Bool\n",
      "    ∉(item,collection) -> Bool\n",
      "    ∌(collection,item) -> Bool\n",
      "\n",
      "Determine whether an item is in the given collection, in the sense that it is `==` to one of\n",
      "the values generated by iterating over the collection. Some collections need a slightly\n",
      "different definition; for example [`Set`](@ref)s check whether the item\n",
      "[`isequal`](@ref) to one of the elements. [`Dict`](@ref)s look for\n",
      "`(key,value)` pairs, and the key is compared using [`isequal`](@ref). To test for\n",
      "the presence of a key in a dictionary, use [`haskey`](@ref) or `k in keys(dict)`.\n",
      "\n",
      "```jldoctest\n",
      "julia> a = 1:3:20\n",
      "1:3:19\n",
      "\n",
      "julia> 4 in a\n",
      "true\n",
      "\n",
      "julia> 5 in a\n",
      "false\n",
      "```\n",
      "\"\"\"\n",
      "in(x, itr) = any(y -> y == x, itr)\n",
      "\n",
      "const ∈ = in\n",
      "∉(x, itr)=!∈(x, itr)\n",
      "∋(itr, x)= ∈(x, itr)\n",
      "∌(itr, x)=!∋(itr, x)\n",
      "\n",
      "\"\"\"\n",
      "    contains(fun, itr, x) -> Bool\n",
      "\n",
      "Returns `true` if there is at least one element `y` in `itr` such that `fun(y,x)` is `true`.\n",
      "\n",
      "```jldoctest\n",
      "julia> vec = [10, 100, 200]\n",
      "3-element Array{Int64,1}:\n",
      "  10\n",
      " 100\n",
      " 200\n",
      "\n",
      "julia> contains(==, vec, 200)\n",
      "true\n",
      "\n",
      "julia> contains(==, vec, 300)\n",
      "false\n",
      "\n",
      "julia> contains(>, vec, 100)\n",
      "true\n",
      "\n",
      "julia> contains(>, vec, 200)\n",
      "false\n",
      "```\n",
      "\"\"\"\n",
      "function contains(eq::Function, itr, x)\n",
      "    for y in itr\n",
      "        eq(y, x) && return true\n",
      "    end\n",
      "    return false\n",
      "end\n",
      "\n",
      "\n",
      "## countnz & count\n",
      "\n",
      "\"\"\"\n",
      "    count(p, itr) -> Integer\n",
      "    count(itr) -> Integer\n",
      "\n",
      "Count the number of elements in `itr` for which predicate `p` returns `true`.\n",
      "If `p` is omitted, counts the number of `true` elements in `itr` (which\n",
      "should be a collection of boolean values).\n",
      "\n",
      "```jldoctest\n",
      "julia> count(i->(4<=i<=6), [2,3,4,5,6])\n",
      "3\n",
      "\n",
      "julia> count([true, false, true, true])\n",
      "3\n",
      "```\n",
      "\"\"\"\n",
      "function count(pred, itr)\n",
      "    n = 0\n",
      "    for x in itr\n",
      "        n += pred(x)::Bool\n",
      "    end\n",
      "    return n\n",
      "end\n",
      "function count(pred, a::AbstractArray)\n",
      "    n = 0\n",
      "    for i in eachindex(a)\n",
      "        @inbounds n += pred(a[i])::Bool\n",
      "    end\n",
      "    return n\n",
      "end\n",
      "count(itr) = count(identity, itr)\n",
      "\n",
      "\"\"\"\n",
      "    countnz(A) -> Integer\n",
      "\n",
      "Counts the number of nonzero values in array `A` (dense or sparse). Note that this is not a constant-time operation.\n",
      "For sparse matrices, one should usually use [`nnz`](@ref), which returns the number of stored values.\n",
      "\n",
      "```jldoctest\n",
      "julia> A = [1 2 4; 0 0 1; 1 1 0]\n",
      "3×3 Array{Int64,2}:\n",
      " 1  2  4\n",
      " 0  0  1\n",
      " 1  1  0\n",
      "\n",
      "julia> countnz(A)\n",
      "6\n",
      "```\n",
      "\"\"\"\n",
      "countnz(a) = count(x -> x != 0, a)\n"
     ]
    }
   ],
   "source": [
    "@less sum(a)"
   ]
  },
  {
   "cell_type": "code",
   "execution_count": 38,
   "metadata": {
    "ExecuteTime": {
     "end_time": "2018-05-13T06:47:51.470000+02:00",
     "start_time": "2018-05-13T04:47:51.274Z"
    }
   },
   "outputs": [
    {
     "data": {
      "text/plain": [
       "Base.#max"
      ]
     },
     "execution_count": 38,
     "metadata": {},
     "output_type": "execute_result"
    }
   ],
   "source": [
    "typeof(max)"
   ]
  },
  {
   "cell_type": "markdown",
   "metadata": {},
   "source": [
    "In Julia `sum()` is defined as:\n",
    "```julia\n",
    "sum(a) = mapreduce(identity, +, a)\n",
    "sum(a::AbstractArray{Bool}) = countnz(a)\n",
    "```\n",
    "\n",
    "Doing `julia> @less mapreduce(identity, +, a)` points to the same file, where we find:\n",
    "\n",
    "```julia\n",
    "## reduce & mapreduce\n",
    "\n",
    "# `mapreduce_impl()` is called by `mapreduce()` (via `_mapreduce()`, when `A`\n",
    "# supports linear indexing) and does actual calculations (for `A[ifirst:ilast]` subset).\n",
    "```\n",
    "\n",
    "The actual code:\n",
    "\n",
    "```julia\n",
    "function mapreduce_impl(f, op, A::AbstractArray, ifirst::Integer, ilast::Integer, blksize::Int=pairwise_blocksize(f, op))\n",
    "    if ifirst == ilast\n",
    "        @inbounds a1 = A[ifirst]\n",
    "        return r_promote(op, f(a1))\n",
    "    elseif ifirst + blksize > ilast\n",
    "        # sequential portion\n",
    "        @inbounds a1 = A[ifirst]\n",
    "        @inbounds a2 = A[ifirst+1]\n",
    "        v = op(r_promote(op, f(a1)), r_promote(op, f(a2)))\n",
    "        @simd for i = ifirst + 2 : ilast\n",
    "            @inbounds ai = A[i]\n",
    "            v = op(v, f(ai))\n",
    "        end\n",
    "        return v\n",
    "    else\n",
    "        # pairwise portion\n",
    "        imid = (ifirst + ilast) >> 1\n",
    "        v1 = mapreduce_impl(f, op, A, ifirst, imid, blksize)\n",
    "        v2 = mapreduce_impl(f, op, A, imid+1, ilast, blksize)\n",
    "        return op(v1, v2)\n",
    "    end\n",
    "end\n",
    "```"
   ]
  },
  {
   "cell_type": "markdown",
   "metadata": {},
   "source": [
    "## Quicksort - less trivial example"
   ]
  },
  {
   "cell_type": "code",
   "execution_count": 23,
   "metadata": {
    "ExecuteTime": {
     "end_time": "2018-05-12T17:28:57.984000+02:00",
     "start_time": "2018-05-12T15:28:57.978Z"
    }
   },
   "outputs": [
    {
     "data": {
      "text/plain": [
       "PyObject <function pymyquicksort at 0x13022ce18>"
      ]
     },
     "execution_count": 23,
     "metadata": {},
     "output_type": "execute_result"
    }
   ],
   "source": [
    "# stolen from https://stackoverflow.com/a/18262384\n",
    "py\"\"\"\n",
    "def pymyquicksort(array):\n",
    "    less = []\n",
    "    equal = []\n",
    "    greater = []\n",
    "\n",
    "    if len(array) > 1:\n",
    "        pivot = array[0]\n",
    "        for x in array:\n",
    "            if x < pivot:\n",
    "                less.append(x)\n",
    "            if x == pivot:\n",
    "                equal.append(x)\n",
    "            if x > pivot:\n",
    "                greater.append(x)\n",
    "        # Don't forget to return something!\n",
    "        return pymyquicksort(less) + equal + pymyquicksort(greater)  # Just use the + operator to join lists\n",
    "    # Note that you want equal ^^^^^ not pivot\n",
    "    else:  # You need to hande the part at the end of the recursion - when you only have one element in your array, just return the array.\n",
    "        return array\n",
    "\"\"\"\n",
    "pymyquicksort = py\"pymyquicksort\""
   ]
  },
  {
   "cell_type": "code",
   "execution_count": 24,
   "metadata": {
    "ExecuteTime": {
     "end_time": "2018-05-12T17:28:59.998000+02:00",
     "start_time": "2018-05-12T15:28:58.350Z"
    }
   },
   "outputs": [
    {
     "name": "stdout",
     "output_type": "stream",
     "text": [
      "  0.947976 seconds (211.75 k allocations: 5.191 MiB)\n"
     ]
    },
    {
     "data": {
      "text/plain": [
       "100000-element Array{Float64,1}:\n",
       " 1.48128e-5 \n",
       " 1.54889e-5 \n",
       " 2.34351e-5 \n",
       " 3.1999e-5  \n",
       " 3.53653e-5 \n",
       " 8.76275e-5 \n",
       " 9.26869e-5 \n",
       " 0.000107586\n",
       " 0.000117944\n",
       " 0.00012328 \n",
       " 0.000133145\n",
       " 0.000137021\n",
       " 0.000143654\n",
       " ⋮          \n",
       " 0.999892   \n",
       " 0.999932   \n",
       " 0.999946   \n",
       " 0.999949   \n",
       " 0.999953   \n",
       " 0.99996    \n",
       " 0.999969   \n",
       " 0.999971   \n",
       " 0.999976   \n",
       " 0.999993   \n",
       " 0.999997   \n",
       " 0.999998   "
      ]
     },
     "execution_count": 24,
     "metadata": {},
     "output_type": "execute_result"
    }
   ],
   "source": [
    "A = rand(100_000)\n",
    "@time pymyquicksort(A)"
   ]
  },
  {
   "cell_type": "code",
   "execution_count": 25,
   "metadata": {
    "ExecuteTime": {
     "end_time": "2018-05-12T17:29:02.929000+02:00",
     "start_time": "2018-05-12T15:29:02.830Z"
    }
   },
   "outputs": [
    {
     "data": {
      "text/plain": [
       "myquicksort (generic function with 1 method)"
      ]
     },
     "execution_count": 25,
     "metadata": {},
     "output_type": "execute_result"
    }
   ],
   "source": [
    "function myquicksort(A)\n",
    "    length(A) > 1 || return A\n",
    "    \n",
    "    less = similar(A, 0)\n",
    "    equal = similar(A, 0)\n",
    "    greater = similar(A, 0)\n",
    "\n",
    "    pivot = A[1]\n",
    "    for x in A\n",
    "        x < pivot && push!(less, x)\n",
    "        x == pivot && push!(equal, x)\n",
    "        x > pivot && push!(greater, x)\n",
    "    end\n",
    "    \n",
    "    [ myquicksort(less); equal; myquicksort(greater) ]\n",
    "end"
   ]
  },
  {
   "cell_type": "code",
   "execution_count": 30,
   "metadata": {
    "ExecuteTime": {
     "end_time": "2018-05-12T17:29:16.262000+02:00",
     "start_time": "2018-05-12T15:29:16.118Z"
    }
   },
   "outputs": [
    {
     "name": "stdout",
     "output_type": "stream",
     "text": [
      "  0.078021 seconds (509.63 k allocations: 88.179 MiB, 25.27% gc time)\n"
     ]
    },
    {
     "data": {
      "text/plain": [
       "100000-element Array{Float64,1}:\n",
       " 1.48128e-5 \n",
       " 1.54889e-5 \n",
       " 2.34351e-5 \n",
       " 3.1999e-5  \n",
       " 3.53653e-5 \n",
       " 8.76275e-5 \n",
       " 9.26869e-5 \n",
       " 0.000107586\n",
       " 0.000117944\n",
       " 0.00012328 \n",
       " 0.000133145\n",
       " 0.000137021\n",
       " 0.000143654\n",
       " ⋮          \n",
       " 0.999892   \n",
       " 0.999932   \n",
       " 0.999946   \n",
       " 0.999949   \n",
       " 0.999953   \n",
       " 0.99996    \n",
       " 0.999969   \n",
       " 0.999971   \n",
       " 0.999976   \n",
       " 0.999993   \n",
       " 0.999997   \n",
       " 0.999998   "
      ]
     },
     "execution_count": 30,
     "metadata": {},
     "output_type": "execute_result"
    }
   ],
   "source": [
    "myquicksort(A)\n",
    "@time myquicksort(A)"
   ]
  },
  {
   "cell_type": "code",
   "execution_count": 32,
   "metadata": {
    "ExecuteTime": {
     "end_time": "2018-05-12T17:29:51.871000+02:00",
     "start_time": "2018-05-12T15:29:51.848Z"
    }
   },
   "outputs": [
    {
     "name": "stdout",
     "output_type": "stream",
     "text": [
      "\t.section\t__TEXT,__text,regular,pure_instructions\n",
      "Filename: In[25]\n",
      "\tpushq\t%rbp\n",
      "\tmovq\t%rsp, %rbp\n",
      "\tpushq\t%r15\n",
      "\tpushq\t%r14\n",
      "\tpushq\t%r13\n",
      "\tpushq\t%r12\n",
      "\tpushq\t%rbx\n",
      "\tsubq\t$200, %rsp\n",
      "\tmovq\t%rdi, %r12\n",
      "\tmovabsq\t$jl_get_ptls_states_fast, %rax\n",
      "\tcallq\t*%rax\n",
      "\tmovq\t%rax, %r15\n",
      "\tmovq\t$0, -80(%rbp)\n",
      "\tmovq\t$0, -88(%rbp)\n",
      "\tmovq\t$0, -96(%rbp)\n",
      "\tmovq\t$0, -104(%rbp)\n",
      "\tmovq\t$0, -120(%rbp)\n",
      "\tmovq\t$0, -128(%rbp)\n",
      "\tmovq\t$0, -136(%rbp)\n",
      "\tmovq\t$0, -144(%rbp)\n",
      "\tmovq\t$0, -152(%rbp)\n",
      "\tmovq\t$0, -160(%rbp)\n",
      "\tmovq\t$0, -168(%rbp)\n",
      "\tmovq\t$0, -176(%rbp)\n",
      "\tmovq\t$0, -184(%rbp)\n",
      "\tmovq\t$0, -192(%rbp)\n",
      "\tmovq\t$0, -200(%rbp)\n",
      "\tmovq\t$0, -208(%rbp)\n",
      "\tmovq\t$0, -216(%rbp)\n",
      "\tmovq\t$36, -232(%rbp)\n",
      "\tmovq\t(%r15), %rax\n",
      "\tmovq\t%rax, -224(%rbp)\n",
      "\tleaq\t-232(%rbp), %rax\n",
      "\tmovq\t%rax, (%r15)\n",
      "\tmovq\t$0, -112(%rbp)\n",
      "Source line: 2\n",
      "\tcmpq\t$1, 8(%r12)\n",
      "\tjg\tL282\n",
      "\tmovq\t-224(%rbp), %rax\n",
      "\tmovq\t%rax, (%r15)\n",
      "\tmovq\t%r12, %rax\n",
      "\tleaq\t-40(%rbp), %rsp\n",
      "\tpopq\t%rbx\n",
      "\tpopq\t%r12\n",
      "\tpopq\t%r13\n",
      "\tpopq\t%r14\n",
      "\tpopq\t%r15\n",
      "\tpopq\t%rbp\n",
      "\tretq\n",
      "L282:\n",
      "\tmovabsq\t$jl_alloc_array_1d, %r13\n",
      "Source line: 4\n",
      "\tleaq\t92989152(%r13), %r14\n",
      "\txorl\t%esi, %esi\n",
      "\tmovq\t%r14, %rdi\n",
      "\tcallq\t*%r13\n",
      "\tmovq\t%rax, %rbx\n",
      "\tmovq\t%rbx, -216(%rbp)\n",
      "Source line: 5\n",
      "\txorl\t%esi, %esi\n",
      "\tmovq\t%r14, %rdi\n",
      "\tcallq\t*%r13\n",
      "\tmovq\t%rax, -48(%rbp)\n",
      "\tmovq\t%rax, -208(%rbp)\n",
      "Source line: 6\n",
      "\txorl\t%esi, %esi\n",
      "\tmovq\t%r14, %rdi\n",
      "\tcallq\t*%r13\n",
      "\tmovq\t%rax, %r14\n",
      "\tmovq\t%r14, -200(%rbp)\n",
      "Source line: 8\n",
      "\tmovq\t24(%r12), %rax\n",
      "\ttestq\t%rax, %rax\n",
      "\tje\tL1011\n",
      "\tmovq\t%r15, -240(%rbp)\n",
      "Source line: 9\n",
      "\tcmpq\t$0, 8(%r12)\n",
      "\tmovq\t-48(%rbp), %rdi\n",
      "\tje\tL749\n",
      "Source line: 8\n",
      "\tmovq\t(%r12), %rcx\n",
      "\tmovsd\t(%rcx), %xmm0           ## xmm0 = mem[0],zero\n",
      "\txorl\t%ecx, %ecx\n",
      "\tmovabsq\t$jl_alloc_array_1d, %rdx\n",
      "Source line: 652\n",
      "\tleaq\t3648(%rdx), %rdx\n",
      "\tmovq\t%rdx, -64(%rbp)\n",
      "\tmovsd\t%xmm0, -56(%rbp)\n",
      "\tjmp\tL440\n",
      "\tnopl\t(%rax)\n",
      "Source line: 9\n",
      "L432:\n",
      "\tmovq\t24(%r12), %rax\n",
      "\tmovq\t%r15, %rcx\n",
      "L440:\n",
      "\tleaq\t1(%rcx), %r15\n",
      "\tcmpq\t%rax, %rcx\n",
      "\tjae\tL878\n",
      "\tmovq\t(%r12), %rax\n",
      "\tmovq\t(%rax,%rcx,8), %r13\n",
      "Source line: 10\n",
      "\tmovd\t%r13, %xmm1\n",
      "\tucomisd\t%xmm1, %xmm0\n",
      "\tjbe\tL560\n",
      "\tmovsd\t%xmm1, -72(%rbp)\n",
      "Source line: 652\n",
      "\tmovq\t%rbx, -192(%rbp)\n",
      "\tmovl\t$1, %esi\n",
      "\tmovq\t%rbx, %rdi\n",
      "\tcallq\t*-64(%rbp)\n",
      "Source line: 64\n",
      "\tmovq\t%rbx, -184(%rbp)\n",
      "\tmovq\t24(%rbx), %rcx\n",
      "Source line: 653\n",
      "\tmovq\t%rbx, -176(%rbp)\n",
      "\ttestq\t%rcx, %rcx\n",
      "\tmovl\t$0, %eax\n",
      "\tcmovnsq\t%rcx, %rax\n",
      "\tleaq\t-1(%rax), %rdx\n",
      "\tcmpq\t%rcx, %rdx\n",
      "\tjae\tL912\n",
      "\tmovq\t(%rbx), %rcx\n",
      "\tmovq\t%r13, -8(%rcx,%rax,8)\n",
      "\tmovq\t-48(%rbp), %rdi\n",
      "\tmovsd\t-56(%rbp), %xmm0        ## xmm0 = mem[0],zero\n",
      "\tmovsd\t-72(%rbp), %xmm1        ## xmm1 = mem[0],zero\n",
      "Source line: 11\n",
      "L560:\n",
      "\tucomisd\t%xmm0, %xmm1\n",
      "\tjne\tL657\n",
      "\tjp\tL657\n",
      "\tmovsd\t%xmm1, -72(%rbp)\n",
      "Source line: 652\n",
      "\tmovq\t%rdi, -168(%rbp)\n",
      "\tmovl\t$1, %esi\n",
      "\tmovq\t-48(%rbp), %rdi\n",
      "\tcallq\t*-64(%rbp)\n",
      "\tmovq\t-48(%rbp), %rdi\n",
      "Source line: 64\n",
      "\tmovq\t%rdi, -160(%rbp)\n",
      "\tmovq\t24(%rdi), %rcx\n",
      "Source line: 653\n",
      "\tmovq\t%rdi, -152(%rbp)\n",
      "\ttestq\t%rcx, %rcx\n",
      "\tmovl\t$0, %eax\n",
      "\tcmovnsq\t%rcx, %rax\n",
      "\tleaq\t-1(%rax), %rdx\n",
      "\tcmpq\t%rcx, %rdx\n",
      "\tjae\tL980\n",
      "\tmovq\t(%rdi), %rcx\n",
      "\tmovq\t%r13, -8(%rcx,%rax,8)\n",
      "\tmovsd\t-56(%rbp), %xmm0        ## xmm0 = mem[0],zero\n",
      "\tmovsd\t-72(%rbp), %xmm1        ## xmm1 = mem[0],zero\n",
      "Source line: 12\n",
      "L657:\n",
      "\tucomisd\t%xmm0, %xmm1\n",
      "\tjbe\tL738\n",
      "Source line: 652\n",
      "\tmovq\t%r14, -144(%rbp)\n",
      "\tmovl\t$1, %esi\n",
      "\tmovq\t%r14, %rdi\n",
      "\tcallq\t*-64(%rbp)\n",
      "Source line: 64\n",
      "\tmovq\t%r14, -136(%rbp)\n",
      "\tmovq\t24(%r14), %rcx\n",
      "Source line: 653\n",
      "\tmovq\t%r14, -128(%rbp)\n",
      "\ttestq\t%rcx, %rcx\n",
      "\tmovl\t$0, %eax\n",
      "\tcmovnsq\t%rcx, %rax\n",
      "\tleaq\t-1(%rax), %rdx\n",
      "\tcmpq\t%rcx, %rdx\n",
      "\tjae\tL946\n",
      "\tmovq\t(%r14), %rcx\n",
      "\tmovq\t%r13, -8(%rcx,%rax,8)\n",
      "\tmovq\t-48(%rbp), %rdi\n",
      "\tmovsd\t-56(%rbp), %xmm0        ## xmm0 = mem[0],zero\n",
      "Source line: 9\n",
      "L738:\n",
      "\tcmpq\t8(%r12), %r15\n",
      "\tjne\tL432\n",
      "L749:\n",
      "\tleaq\t-104(%rbp), %r12\n",
      "Source line: 15\n",
      "\tmovq\t%rbx, -120(%rbp)\n",
      "\tmovabsq\t$myquicksort, %r15\n",
      "\tmovq\t%rdi, %r13\n",
      "\tmovq\t%rbx, %rdi\n",
      "\tcallq\t*%r15\n",
      "\tmovq\t%rax, -96(%rbp)\n",
      "\tmovq\t%r13, -88(%rbp)\n",
      "\tmovq\t%r14, -112(%rbp)\n",
      "\tmovq\t%r14, %rdi\n",
      "\tcallq\t*%r15\n",
      "\tmovq\t%rax, -80(%rbp)\n",
      "\tmovabsq\t$jl_alloc_array_1d, %rdi\n",
      "\tleaq\t94172112(%rdi), %rax\n",
      "\tmovq\t%rax, -104(%rbp)\n",
      "\taddq\t$423460704, %rdi        ## imm = 0x193D7F60\n",
      "\tmovabsq\t$jl_invoke, %rax\n",
      "\tmovl\t$4, %edx\n",
      "\tmovq\t%r12, %rsi\n",
      "\tcallq\t*%rax\n",
      "\tmovq\t-224(%rbp), %rcx\n",
      "\tmovq\t-240(%rbp), %rdx\n",
      "\tmovq\t%rcx, (%rdx)\n",
      "\tleaq\t-40(%rbp), %rsp\n",
      "\tpopq\t%rbx\n",
      "\tpopq\t%r12\n",
      "\tpopq\t%r13\n",
      "\tpopq\t%r14\n",
      "\tpopq\t%r15\n",
      "\tpopq\t%rbp\n",
      "\tretq\n",
      "Source line: 9\n",
      "L878:\n",
      "\tmovq\t%rsp, %rax\n",
      "\tleaq\t-16(%rax), %rsi\n",
      "\tmovq\t%rsi, %rsp\n",
      "\tmovq\t%r15, -16(%rax)\n",
      "\tmovabsq\t$jl_bounds_error_ints, %rax\n",
      "\tmovl\t$1, %edx\n",
      "\tmovq\t%r12, %rdi\n",
      "\tcallq\t*%rax\n",
      "Source line: 653\n",
      "L912:\n",
      "\tmovq\t%rsp, %rcx\n",
      "\tleaq\t-16(%rcx), %rsi\n",
      "\tmovq\t%rsi, %rsp\n",
      "\tmovq\t%rax, -16(%rcx)\n",
      "\tmovabsq\t$jl_bounds_error_ints, %rax\n",
      "\tmovl\t$1, %edx\n",
      "\tmovq\t%rbx, %rdi\n",
      "\tcallq\t*%rax\n",
      "Source line: 653\n",
      "L946:\n",
      "\tmovq\t%rsp, %rcx\n",
      "\tleaq\t-16(%rcx), %rsi\n",
      "\tmovq\t%rsi, %rsp\n",
      "\tmovq\t%rax, -16(%rcx)\n",
      "\tmovabsq\t$jl_bounds_error_ints, %rax\n",
      "\tmovl\t$1, %edx\n",
      "\tmovq\t%r14, %rdi\n",
      "\tcallq\t*%rax\n",
      "Source line: 653\n",
      "L980:\n",
      "\tmovq\t%rsp, %rcx\n",
      "\tleaq\t-16(%rcx), %rsi\n",
      "\tmovq\t%rsi, %rsp\n",
      "\tmovq\t%rax, -16(%rcx)\n",
      "\tmovabsq\t$jl_bounds_error_ints, %rax\n",
      "\tmovl\t$1, %edx\n",
      "\tcallq\t*%rax\n",
      "Source line: 8\n",
      "L1011:\n",
      "\tmovq\t%rsp, %rax\n",
      "\tleaq\t-16(%rax), %rsi\n",
      "\tmovq\t%rsi, %rsp\n",
      "\tmovq\t$1, -16(%rax)\n",
      "\tmovabsq\t$jl_bounds_error_ints, %rax\n",
      "\tmovl\t$1, %edx\n",
      "\tmovq\t%r12, %rdi\n",
      "\tcallq\t*%rax\n",
      "\tnopl\t(%rax)\n"
     ]
    }
   ],
   "source": [
    "@code_native myquicksort(A)"
   ]
  },
  {
   "cell_type": "code",
   "execution_count": 27,
   "metadata": {
    "ExecuteTime": {
     "end_time": "2018-05-12T17:29:07.552000+02:00",
     "start_time": "2018-05-12T15:29:07.462Z"
    }
   },
   "outputs": [
    {
     "data": {
      "text/plain": [
       "square_area (generic function with 1 method)"
      ]
     },
     "execution_count": 27,
     "metadata": {},
     "output_type": "execute_result"
    }
   ],
   "source": [
    "square_area(a) = a * a"
   ]
  },
  {
   "cell_type": "code",
   "execution_count": 94,
   "metadata": {
    "ExecuteTime": {
     "end_time": "2018-05-05T09:27:40.511000+02:00",
     "start_time": "2018-05-05T07:27:40.504Z"
    }
   },
   "outputs": [
    {
     "name": "stdout",
     "output_type": "stream",
     "text": [
      "\t.section\t__TEXT,__text,regular,pure_instructions\n",
      "Filename: In[93]\n",
      "\tpushq\t%rbp\n",
      "\tmovq\t%rsp, %rbp\n",
      "Source line: 1\n",
      "\timull\t%edi, %edi\n",
      "\tmovl\t%edi, %eax\n",
      "\tpopq\t%rbp\n",
      "\tretq\n",
      "\tnopl\t(%rax,%rax)\n"
     ]
    }
   ],
   "source": [
    "code_native(square_area, (Int32,))"
   ]
  },
  {
   "cell_type": "code",
   "execution_count": 33,
   "metadata": {
    "ExecuteTime": {
     "end_time": "2018-05-12T17:30:15.784000+02:00",
     "start_time": "2018-05-12T15:30:15.772Z"
    }
   },
   "outputs": [
    {
     "name": "stdout",
     "output_type": "stream",
     "text": [
      "\t.section\t__TEXT,__text,regular,pure_instructions\n",
      "Filename: In[27]\n",
      "\tpushq\t%rbp\n",
      "\tmovq\t%rsp, %rbp\n",
      "Source line: 1\n",
      "\tmulsd\t%xmm0, %xmm0\n",
      "\tpopq\t%rbp\n",
      "\tretq\n",
      "\tnopw\t(%rax,%rax)\n"
     ]
    }
   ],
   "source": [
    "code_native(square_area, (Float64,))"
   ]
  },
  {
   "cell_type": "markdown",
   "metadata": {},
   "source": [
    "# Fresnel propagation"
   ]
  },
  {
   "cell_type": "markdown",
   "metadata": {},
   "source": [
    "`PyPlot` is already installed, but installing it is as simple as:\n",
    "\n",
    "`julia> Pkg.add(\"PyPlot\")`\n",
    "\n",
    "Julia has a built-in package manager."
   ]
  },
  {
   "cell_type": "code",
   "execution_count": 1,
   "metadata": {
    "ExecuteTime": {
     "end_time": "2018-05-13T09:03:02.461000+02:00",
     "start_time": "2018-05-13T07:02:50.016Z"
    }
   },
   "outputs": [],
   "source": [
    "using PyPlot"
   ]
  },
  {
   "cell_type": "code",
   "execution_count": 40,
   "metadata": {
    "ExecuteTime": {
     "end_time": "2018-05-13T06:55:19.163000+02:00",
     "start_time": "2018-05-13T04:55:18.414Z"
    }
   },
   "outputs": [
    {
     "data": {
      "text/plain": [
       "circle"
      ]
     },
     "execution_count": 40,
     "metadata": {},
     "output_type": "execute_result"
    }
   ],
   "source": [
    "\"The rectangle function.\"\n",
    "rect(x) = one(x) * (abs(x) < 0.5)\n",
    "\n",
    "\"A circular grating\"\n",
    "circle(x, y, m, L) = m * rect(sqrt(x^2 + y^2) / 2L)"
   ]
  },
  {
   "cell_type": "code",
   "execution_count": 41,
   "metadata": {
    "ExecuteTime": {
     "end_time": "2018-05-13T06:55:47.256000+02:00",
     "start_time": "2018-05-13T04:55:41.260Z"
    }
   },
   "outputs": [
    {
     "data": {
      "image/png": "[encoded data removed]",
      "text/plain": [
       "PyPlot.Figure(PyObject <Figure size 640x480 with 1 Axes>)"
      ]
     },
     "metadata": {},
     "output_type": "display_data"
    },
    {
     "data": {
      "text/plain": [
       "1-element Array{PyCall.PyObject,1}:\n",
       " PyObject <matplotlib.lines.Line2D object at 0x141115d30>"
      ]
     },
     "execution_count": 41,
     "metadata": {},
     "output_type": "execute_result"
    }
   ],
   "source": [
    "x = linspace(-1, 1)\n",
    "plot(x, rect.(x), \".-\")"
   ]
  },
  {
   "cell_type": "code",
   "execution_count": 42,
   "metadata": {
    "ExecuteTime": {
     "end_time": "2018-05-13T06:55:50.040000+02:00",
     "start_time": "2018-05-13T04:55:50.035Z"
    }
   },
   "outputs": [
    {
     "data": {
      "text/plain": [
       "H"
      ]
     },
     "execution_count": 42,
     "metadata": {},
     "output_type": "execute_result"
    }
   ],
   "source": [
    "\"frequencies for which the fft is calculated\"\n",
    "fftfreq(n) = ifftshift(-cld(n-1, 2) : fld(n-1, 2)) / n\n",
    "\n",
    "\"Transfer function for the Fresnel free propagation.\"\n",
    "H(fx, fy, λ, z) = exp(-im * π * λ * z * (fx^2 + fy^2))"
   ]
  },
  {
   "cell_type": "code",
   "execution_count": 55,
   "metadata": {
    "ExecuteTime": {
     "end_time": "2018-05-13T06:59:03.059000+02:00",
     "start_time": "2018-05-13T04:59:03.054Z"
    }
   },
   "outputs": [
    {
     "data": {
      "text/plain": [
       "4096-element Array{Float64,1}:\n",
       "      0.0 \n",
       "   2441.41\n",
       "   4882.81\n",
       "   7324.22\n",
       "   9765.63\n",
       "  12207.0 \n",
       "  14648.4 \n",
       "  17089.8 \n",
       "  19531.3 \n",
       "  21972.7 \n",
       "  24414.1 \n",
       "  26855.5 \n",
       "  29296.9 \n",
       "      ⋮   \n",
       " -29296.9 \n",
       " -26855.5 \n",
       " -24414.1 \n",
       " -21972.7 \n",
       " -19531.3 \n",
       " -17089.8 \n",
       " -14648.4 \n",
       " -12207.0 \n",
       "  -9765.63\n",
       "  -7324.22\n",
       "  -4882.81\n",
       "  -2441.41"
      ]
     },
     "execution_count": 55,
     "metadata": {},
     "output_type": "execute_result"
    }
   ],
   "source": [
    "δx = δy = 0.1e-6\n",
    "# Make sure Nx is a power of 2 for performance reasons\n",
    "Nx = Ny = nextprod([2], 4000)\n",
    "\n",
    "# x is a row vector, y is a column vector\n",
    "x = δx * (collect(1:Nx) - Nx/2)'\n",
    "y = δy * (collect(1:Ny) - Ny/2)\n",
    "\n",
    "fx = (fftfreq(length(x)) ./ δx)'\n",
    "fy = fftfreq(length(y)) ./ δy"
   ]
  },
  {
   "cell_type": "code",
   "execution_count": 56,
   "metadata": {
    "ExecuteTime": {
     "end_time": "2018-05-13T06:59:26.398000+02:00",
     "start_time": "2018-05-13T04:59:23.620Z"
    }
   },
   "outputs": [
    {
     "data": {
      "text/plain": [
       "NF2z"
      ]
     },
     "execution_count": 56,
     "metadata": {},
     "output_type": "execute_result"
    }
   ],
   "source": [
    "u0 = ones(Complex128, length(y), length(x))\n",
    "\n",
    "# grating 20μm\n",
    "p1 = 20e-6\n",
    "u1 = u0 .* circle.(x, y, 1, p1)\n",
    "U1 = fft(u1)\n",
    "\n",
    "# wavelength 100pm\n",
    "λ = 100e-12\n",
    "u2(z) = ifft(U1 .* H.(fx, fy, λ, z), (1, 2))\n",
    "\n",
    "\"The distance for the given Fresnel number\"\n",
    "NF2z(NF) = (p1/2)^2 / (λ * NF)"
   ]
  },
  {
   "cell_type": "code",
   "execution_count": 58,
   "metadata": {
    "ExecuteTime": {
     "end_time": "2018-05-13T06:59:47.386000+02:00",
     "start_time": "2018-05-13T04:59:44.335Z"
    }
   },
   "outputs": [
    {
     "data": {
      "text/plain": [
       "4096×4096 Array{Float64,2}:\n",
       " 8.53723e-5   2.22064e-5  6.73061e-6  3.17539e-5  …  8.53723e-5   0.000122974\n",
       " 2.22064e-5   8.73651e-6  1.52025e-6  3.51344e-6     2.22064e-5   2.91737e-5 \n",
       " 6.73061e-6   1.52025e-6  2.61547e-6  4.96522e-6     6.73061e-6   1.06978e-5 \n",
       " 3.17539e-5   3.51344e-6  4.96522e-6  2.13609e-5     3.17539e-5   5.10666e-5 \n",
       " 3.99198e-5   7.54487e-6  2.22216e-6  1.7782e-5      3.99198e-5   5.98337e-5 \n",
       " 2.35365e-5   8.6161e-6   2.54916e-7  2.70762e-6  …  2.35365e-5   3.11157e-5 \n",
       " 2.38469e-5   9.56857e-6  5.79152e-6  6.83606e-6     2.38469e-5   3.29052e-5 \n",
       " 4.60656e-5   1.35762e-5  1.18957e-5  2.17695e-5     4.60656e-5   6.82271e-5 \n",
       " 4.98812e-5   1.73212e-5  9.65732e-6  1.65396e-5     4.98812e-5   7.01388e-5 \n",
       " 2.82905e-5   1.55557e-5  5.20021e-6  1.10031e-6     2.82905e-5   3.42405e-5 \n",
       " 2.35646e-5   9.03755e-6  8.81894e-6  1.23885e-5  …  2.35646e-5   3.37567e-5 \n",
       " 4.85089e-5   4.17927e-6  1.50466e-5  4.17085e-5     4.85089e-5   8.20864e-5 \n",
       " 6.41935e-5   6.85562e-6  1.16104e-5  4.14674e-5     6.41935e-5   0.000104711\n",
       " ⋮                                                ⋱               ⋮          \n",
       " 2.35646e-5   9.03755e-6  8.81894e-6  1.23885e-5     2.35646e-5   3.37567e-5 \n",
       " 2.82905e-5   1.55557e-5  5.20021e-6  1.10031e-6  …  2.82905e-5   3.42405e-5 \n",
       " 4.98812e-5   1.73212e-5  9.65732e-6  1.65396e-5     4.98812e-5   7.01388e-5 \n",
       " 4.60656e-5   1.35762e-5  1.18957e-5  2.17695e-5     4.60656e-5   6.82271e-5 \n",
       " 2.38469e-5   9.56857e-6  5.79152e-6  6.83606e-6     2.38469e-5   3.29052e-5 \n",
       " 2.35365e-5   8.6161e-6   2.54916e-7  2.70762e-6     2.35365e-5   3.11157e-5 \n",
       " 3.99198e-5   7.54487e-6  2.22216e-6  1.7782e-5   …  3.99198e-5   5.98337e-5 \n",
       " 3.17539e-5   3.51344e-6  4.96522e-6  2.13609e-5     3.17539e-5   5.10666e-5 \n",
       " 6.73061e-6   1.52025e-6  2.61547e-6  4.96522e-6     6.73061e-6   1.06978e-5 \n",
       " 2.22064e-5   8.73651e-6  1.52025e-6  3.51344e-6     2.22064e-5   2.91737e-5 \n",
       " 8.53723e-5   2.22064e-5  6.73061e-6  3.17539e-5     8.53723e-5   0.000122974\n",
       " 0.000122974  2.91737e-5  1.06978e-5  5.10666e-5  …  0.000122974  0.000180105"
      ]
     },
     "execution_count": 58,
     "metadata": {},
     "output_type": "execute_result"
    }
   ],
   "source": [
    "z = NF2z(2)\n",
    "intensity_image = abs.(u2(z)).^2"
   ]
  },
  {
   "cell_type": "code",
   "execution_count": 59,
   "metadata": {
    "ExecuteTime": {
     "end_time": "2018-05-13T06:59:52.032000+02:00",
     "start_time": "2018-05-13T04:59:49.652Z"
    }
   },
   "outputs": [
    {
     "data": {
      "image/png": "[encoded data removed]",
      "text/plain": [
       "PyPlot.Figure(PyObject <Figure size 640x480 with 1 Axes>)"
      ]
     },
     "metadata": {},
     "output_type": "display_data"
    },
    {
     "data": {
      "text/plain": [
       "(1800, 2300)"
      ]
     },
     "execution_count": 59,
     "metadata": {},
     "output_type": "execute_result"
    }
   ],
   "source": [
    "imshow(intensity_image,\n",
    "    cmap = \"Greys_r\",\n",
    "    interpolation = \"bicubic\",\n",
    "    aspect = 1)\n",
    "xlim(1800, 2300)\n",
    "ylim(1800, 2300)"
   ]
  },
  {
   "cell_type": "markdown",
   "metadata": {},
   "source": [
    "# Intergrating with Python"
   ]
  },
  {
   "cell_type": "code",
   "execution_count": 1,
   "metadata": {
    "ExecuteTime": {
     "end_time": "2018-05-04T23:17:38.032000+02:00",
     "start_time": "2018-05-04T21:17:29.620Z"
    }
   },
   "outputs": [],
   "source": [
    "using PyCall"
   ]
  },
  {
   "cell_type": "code",
   "execution_count": 2,
   "metadata": {
    "ExecuteTime": {
     "end_time": "2018-05-04T23:17:42.808000+02:00",
     "start_time": "2018-05-04T21:17:30.020Z"
    }
   },
   "outputs": [
    {
     "data": {
      "text/plain": [
       "0.7390851332151607"
      ]
     },
     "execution_count": 2,
     "metadata": {},
     "output_type": "execute_result"
    }
   ],
   "source": [
    "@pyimport scipy.optimize as so\n",
    "so.newton(x -> cos(x) - x, 1)"
   ]
  },
  {
   "cell_type": "markdown",
   "metadata": {},
   "source": [
    "Single line `py\"...\"` returns a value, but has to be a single expression."
   ]
  },
  {
   "cell_type": "code",
   "execution_count": 16,
   "metadata": {
    "ExecuteTime": {
     "end_time": "2018-05-04T23:19:17.640000+02:00",
     "start_time": "2018-05-04T21:19:17.514Z"
    }
   },
   "outputs": [
    {
     "data": {
      "text/plain": [
       "2"
      ]
     },
     "execution_count": 16,
     "metadata": {},
     "output_type": "execute_result"
    }
   ],
   "source": [
    "py\"len([12, 23])\""
   ]
  },
  {
   "cell_type": "markdown",
   "metadata": {},
   "source": [
    "Multiline `py\"\"\"...\"\"\"` can execute arbitrary python code, but returns `nothing`."
   ]
  },
  {
   "cell_type": "code",
   "execution_count": 4,
   "metadata": {
    "ExecuteTime": {
     "end_time": "2018-05-04T23:17:44.247000+02:00",
     "start_time": "2018-05-04T21:17:31.812Z"
    }
   },
   "outputs": [
    {
     "data": {
      "text/plain": [
       "PyObject <function python_add at 0x1258dce18>"
      ]
     },
     "execution_count": 4,
     "metadata": {},
     "output_type": "execute_result"
    }
   ],
   "source": [
    "py\"\"\"\n",
    "def python_add(a, b):\n",
    "    return a + b\n",
    "\"\"\"\n",
    "python_add = py\"python_add\""
   ]
  },
  {
   "cell_type": "code",
   "execution_count": 5,
   "metadata": {
    "ExecuteTime": {
     "end_time": "2018-05-04T23:17:44.541000+02:00",
     "start_time": "2018-05-04T21:17:32.310Z"
    }
   },
   "outputs": [
    {
     "data": {
      "text/plain": [
       "4"
      ]
     },
     "execution_count": 5,
     "metadata": {},
     "output_type": "execute_result"
    }
   ],
   "source": [
    "python_add(2, 2)"
   ]
  },
  {
   "cell_type": "markdown",
   "metadata": {
    "ExecuteTime": {
     "end_time": "2018-05-04T22:49:42.682000+02:00",
     "start_time": "2018-05-04T20:49:42.678Z"
    }
   },
   "source": [
    "# Plotting with matplotlib"
   ]
  },
  {
   "cell_type": "code",
   "execution_count": 6,
   "metadata": {
    "ExecuteTime": {
     "end_time": "2018-05-04T23:17:49.757000+02:00",
     "start_time": "2018-05-04T21:17:39.916Z"
    }
   },
   "outputs": [],
   "source": [
    "using PyPlot"
   ]
  },
  {
   "cell_type": "code",
   "execution_count": 7,
   "metadata": {
    "ExecuteTime": {
     "end_time": "2018-05-04T23:17:53.954000+02:00",
     "start_time": "2018-05-04T21:17:40.340Z"
    }
   },
   "outputs": [
    {
     "data": {
      "image/png": "[encoded data removed]",
      "text/plain": [
       "PyPlot.Figure(PyObject <Figure size 640x480 with 1 Axes>)"
      ]
     },
     "metadata": {},
     "output_type": "display_data"
    },
    {
     "data": {
      "text/plain": [
       "PyObject Text(24,0.5,'intensity (a.u.)')"
      ]
     },
     "execution_count": 7,
     "metadata": {},
     "output_type": "execute_result"
    }
   ],
   "source": [
    "errorbar(0:9, rand(10), fmt = \".\", yerr = 0.1)\n",
    "xlabel(\"whatever (a.u.)\")\n",
    "ylabel(\"intensity (a.u.)\")"
   ]
  },
  {
   "cell_type": "markdown",
   "metadata": {},
   "source": [
    "# Calling C"
   ]
  },
  {
   "cell_type": "code",
   "execution_count": 8,
   "metadata": {
    "ExecuteTime": {
     "end_time": "2018-05-04T23:17:54.152000+02:00",
     "start_time": "2018-05-04T21:17:42.748Z"
    }
   },
   "outputs": [
    {
     "data": {
      "text/plain": [
       "23020496"
      ]
     },
     "execution_count": 8,
     "metadata": {},
     "output_type": "execute_result"
    }
   ],
   "source": [
    "ccall((:clock, \"libc\"), Int32, ())"
   ]
  },
  {
   "cell_type": "code",
   "execution_count": 9,
   "metadata": {
    "ExecuteTime": {
     "end_time": "2018-05-04T23:17:54.577000+02:00",
     "start_time": "2018-05-04T21:17:43.278Z"
    }
   },
   "outputs": [
    {
     "data": {
      "text/plain": [
       "\"/usr/local/bin/fish\""
      ]
     },
     "execution_count": 9,
     "metadata": {},
     "output_type": "execute_result"
    }
   ],
   "source": [
    "ccall((:getenv, \"libc\"), Cstring, (Cstring,), \"SHELL\") |> unsafe_string"
   ]
  },
  {
   "cell_type": "markdown",
   "metadata": {},
   "source": [
    "Can easily wrap functions:"
   ]
  },
  {
   "cell_type": "code",
   "execution_count": 156,
   "metadata": {
    "ExecuteTime": {
     "end_time": "2018-05-05T12:53:09.797000+02:00",
     "start_time": "2018-05-05T10:53:09.692Z"
    }
   },
   "outputs": [
    {
     "data": {
      "text/plain": [
       "getenv (generic function with 1 method)"
      ]
     },
     "execution_count": 156,
     "metadata": {},
     "output_type": "execute_result"
    }
   ],
   "source": [
    "getenv(v) = ccall((:getenv, \"libc\"), Cstring, (Cstring,), v) |> unsafe_string"
   ]
  },
  {
   "cell_type": "code",
   "execution_count": 157,
   "metadata": {
    "ExecuteTime": {
     "end_time": "2018-05-05T12:53:17.044000+02:00",
     "start_time": "2018-05-05T10:53:17.034Z"
    }
   },
   "outputs": [
    {
     "data": {
      "text/plain": [
       "\"/Users/rawlik\""
      ]
     },
     "execution_count": 157,
     "metadata": {},
     "output_type": "execute_result"
    }
   ],
   "source": [
    "getenv(\"HOME\")"
   ]
  },
  {
   "cell_type": "markdown",
   "metadata": {},
   "source": [
    "# C++ integration"
   ]
  },
  {
   "cell_type": "code",
   "execution_count": 11,
   "metadata": {
    "ExecuteTime": {
     "end_time": "2018-05-04T23:18:54.567000+02:00",
     "start_time": "2018-05-04T21:17:53.216Z"
    }
   },
   "outputs": [],
   "source": [
    "using Cxx"
   ]
  },
  {
   "cell_type": "code",
   "execution_count": 12,
   "metadata": {
    "ExecuteTime": {
     "end_time": "2018-05-04T23:18:56.321000+02:00",
     "start_time": "2018-05-04T21:17:54.642Z"
    }
   },
   "outputs": [
    {
     "data": {
      "text/plain": [
       "true"
      ]
     },
     "execution_count": 12,
     "metadata": {},
     "output_type": "execute_result"
    }
   ],
   "source": [
    "cxx\"\"\" #include<iostream> \"\"\""
   ]
  },
  {
   "cell_type": "code",
   "execution_count": 13,
   "metadata": {
    "ExecuteTime": {
     "end_time": "2018-05-04T23:18:56.347000+02:00",
     "start_time": "2018-05-04T21:17:55.534Z"
    }
   },
   "outputs": [
    {
     "data": {
      "text/plain": [
       "true"
      ]
     },
     "execution_count": 13,
     "metadata": {},
     "output_type": "execute_result"
    }
   ],
   "source": [
    "cxx\"\"\"  \n",
    "  void mycppfunction() {   \n",
    "    int z = 0;\n",
    "    int y = 4;\n",
    "    int x = 10;\n",
    "    z = x*y + 2;\n",
    "    std::cout << \"The number is \" << z << std::endl;\n",
    " }\n",
    "\"\"\""
   ]
  },
  {
   "cell_type": "code",
   "execution_count": 14,
   "metadata": {
    "ExecuteTime": {
     "end_time": "2018-05-04T23:18:57.752000+02:00",
     "start_time": "2018-05-04T21:18:05.236Z"
    }
   },
   "outputs": [
    {
     "data": {
      "text/plain": [
       "julia_function (generic function with 1 method)"
      ]
     },
     "execution_count": 14,
     "metadata": {},
     "output_type": "execute_result"
    }
   ],
   "source": [
    "julia_function() = @cxx mycppfunction()"
   ]
  },
  {
   "cell_type": "code",
   "execution_count": 15,
   "metadata": {
    "ExecuteTime": {
     "end_time": "2018-05-04T23:18:58.901000+02:00",
     "start_time": "2018-05-04T21:18:05.982Z"
    }
   },
   "outputs": [
    {
     "name": "stdout",
     "output_type": "stream",
     "text": [
      "The number is 42\n"
     ]
    }
   ],
   "source": [
    "julia_function()"
   ]
  },
  {
   "cell_type": "markdown",
   "metadata": {},
   "source": [
    "# Parallel computing"
   ]
  },
  {
   "cell_type": "code",
   "execution_count": 108,
   "metadata": {
    "ExecuteTime": {
     "end_time": "2018-05-13T08:01:50.831000+02:00",
     "start_time": "2018-05-13T06:01:50.827Z"
    }
   },
   "outputs": [
    {
     "data": {
      "text/plain": [
       "incircle (generic function with 2 methods)"
      ]
     },
     "execution_count": 108,
     "metadata": {},
     "output_type": "execute_result"
    }
   ],
   "source": [
    "incircle(x, y, r) = x^2 + y^2 < r^2"
   ]
  },
  {
   "cell_type": "code",
   "execution_count": 139,
   "metadata": {
    "ExecuteTime": {
     "end_time": "2018-05-13T08:11:50.049000+02:00",
     "start_time": "2018-05-13T06:11:49.259Z"
    }
   },
   "outputs": [
    {
     "name": "stdout",
     "output_type": "stream",
     "text": [
      "  0.766159 seconds (5 allocations: 176 bytes)\n"
     ]
    },
    {
     "data": {
      "text/plain": [
       "3.1415866"
      ]
     },
     "execution_count": 139,
     "metadata": {},
     "output_type": "execute_result"
    }
   ],
   "source": [
    "function estimateπ(N)\n",
    "    inside = 0\n",
    "    for i in 1:N\n",
    "        x = rand() - 0.5\n",
    "        y = rand() - 0.5\n",
    "\n",
    "        incircle(x, y, 0.5) && (inside += 1)\n",
    "    end\n",
    "    inside / N / 0.5^2\n",
    "end\n",
    "    \n",
    "\n",
    "estimateπ(1000)\n",
    "@time estimateπ(100_000_000)"
   ]
  },
  {
   "cell_type": "code",
   "execution_count": 118,
   "metadata": {
    "ExecuteTime": {
     "end_time": "2018-05-13T08:04:35.098000+02:00",
     "start_time": "2018-05-13T06:04:32.686Z"
    }
   },
   "outputs": [
    {
     "data": {
      "text/plain": [
       "4-element Array{Int64,1}:\n",
       " 2\n",
       " 3\n",
       " 4\n",
       " 5"
      ]
     },
     "execution_count": 118,
     "metadata": {},
     "output_type": "execute_result"
    }
   ],
   "source": [
    "addprocs(4)"
   ]
  },
  {
   "cell_type": "code",
   "execution_count": 120,
   "metadata": {
    "ExecuteTime": {
     "end_time": "2018-05-13T08:05:17.684000+02:00",
     "start_time": "2018-05-13T06:05:17.372Z"
    }
   },
   "outputs": [
    {
     "name": "stdout",
     "output_type": "stream",
     "text": [
      "myid() = 1\n",
      "\tFrom worker 2:\tmyid() = 2\n",
      "\tFrom worker 3:\tmyid() = 3\n",
      "\tFrom worker 5:\tmyid() = 5\n",
      "\tFrom worker 4:\tmyid() = 4\n"
     ]
    }
   ],
   "source": [
    "@everywhere @show myid()"
   ]
  },
  {
   "cell_type": "code",
   "execution_count": 121,
   "metadata": {
    "ExecuteTime": {
     "end_time": "2018-05-13T08:05:34.504000+02:00",
     "start_time": "2018-05-13T06:05:34.477Z"
    }
   },
   "outputs": [],
   "source": [
    "@everywhere incircle(x, y, r) = x^2 + y^2 < r^2"
   ]
  },
  {
   "cell_type": "code",
   "execution_count": 143,
   "metadata": {
    "ExecuteTime": {
     "end_time": "2018-05-13T08:13:27.573000+02:00",
     "start_time": "2018-05-13T06:13:26.590Z"
    }
   },
   "outputs": [
    {
     "name": "stdout",
     "output_type": "stream",
     "text": [
      "  0.974254 seconds (3.61 k allocations: 221.415 KiB)\n"
     ]
    },
    {
     "data": {
      "text/plain": [
       "3.14171524"
      ]
     },
     "execution_count": 143,
     "metadata": {},
     "output_type": "execute_result"
    }
   ],
   "source": [
    "N = 100_000_000\n",
    "Nworker = N ÷ nworkers()\n",
    "\n",
    "@time inside = @parallel (+) for i in 1:N\n",
    "    x = rand() - 0.5\n",
    "    y = rand() - 0.5\n",
    "\n",
    "    incircle(x, y, 0.5)\n",
    "end\n",
    "\n",
    "inside / N / 0.5^2"
   ]
  },
  {
   "cell_type": "markdown",
   "metadata": {},
   "source": [
    "# Shell-capabilities"
   ]
  },
  {
   "cell_type": "code",
   "execution_count": 21,
   "metadata": {
    "ExecuteTime": {
     "end_time": "2018-05-13T09:08:30.985000+02:00",
     "start_time": "2018-05-13T07:08:30.885Z"
    }
   },
   "outputs": [
    {
     "name": "stdout",
     "output_type": "stream",
     "text": [
      "README.md\n",
      "REQUIRE\n",
      "apt.txt\n",
      "environment.yml\n",
      "seminar.ipynb\n"
     ]
    }
   ],
   "source": [
    "run(`ls`)"
   ]
  },
  {
   "cell_type": "code",
   "execution_count": 35,
   "metadata": {
    "ExecuteTime": {
     "end_time": "2018-05-13T09:27:38.092000+02:00",
     "start_time": "2018-05-13T07:27:38.089Z"
    }
   },
   "outputs": [
    {
     "data": {
      "text/plain": [
       "\"kirch\""
      ]
     },
     "execution_count": 35,
     "metadata": {},
     "output_type": "execute_result"
    }
   ],
   "source": [
    "notmygroup = \"kirch\""
   ]
  },
  {
   "cell_type": "code",
   "execution_count": 36,
   "metadata": {
    "ExecuteTime": {
     "end_time": "2018-05-13T09:27:38.909000+02:00",
     "start_time": "2018-05-13T07:27:38.344Z"
    }
   },
   "outputs": [
    {
     "name": "stdout",
     "output_type": "stream",
     "text": [
      "AldoAntognini\n",
      "AndreasEggenberger\n",
      "EnricoDelRe\n",
      "FlorianPiegsa\n",
      "GuntherWichmann\n",
      "HannoBertle\n",
      "IvanaBelosevic\n",
      "IvoSchulthess\n",
      "JochenKrempel\n",
      "KarstenSchuhmann\n",
      "ManuelZeyen\n",
      "MartinPototschnig\n",
      "MichalRawlik\n",
      "MiroslawMarszalek\n",
      "RyotoIwai\n",
      "SimonScheidegger\n",
      "SolangeEmmenegger\n",
      "StellaVogiatzi\n"
     ]
    }
   ],
   "source": [
    "run(`ssh mrawlik@login.phys.ethz.ch ls /home/$notmygroup/users`)"
   ]
  },
  {
   "cell_type": "code",
   "execution_count": 53,
   "metadata": {
    "ExecuteTime": {
     "end_time": "2018-05-13T09:37:15.540000+02:00",
     "start_time": "2018-05-13T07:37:14.920Z"
    }
   },
   "outputs": [
    {
     "data": {
      "text/plain": [
       "18-element Array{Array{SubString{String},1},1}:\n",
       " SubString{String}[\"Antognini\"]  \n",
       " SubString{String}[\"Eggenberger\"]\n",
       " SubString{String}[\"Del\", \"Re\"]  \n",
       " SubString{String}[\"Piegsa\"]     \n",
       " SubString{String}[\"Wichmann\"]   \n",
       " SubString{String}[\"Bertle\"]     \n",
       " SubString{String}[\"Belosevic\"]  \n",
       " SubString{String}[\"Schulthess\"] \n",
       " SubString{String}[\"Krempel\"]    \n",
       " SubString{String}[\"Schuhmann\"]  \n",
       " SubString{String}[\"Zeyen\"]      \n",
       " SubString{String}[\"Pototschnig\"]\n",
       " SubString{String}[\"Rawlik\"]     \n",
       " SubString{String}[\"Marszalek\"]  \n",
       " SubString{String}[\"Iwai\"]       \n",
       " SubString{String}[\"Scheidegger\"]\n",
       " SubString{String}[\"Emmenegger\"] \n",
       " SubString{String}[\"Vogiatzi\"]   "
      ]
     },
     "execution_count": 53,
     "metadata": {},
     "output_type": "execute_result"
    }
   ],
   "source": [
    "[ matchall(r\"[A-Z][a-z]+\", s)[2:end]\n",
    "    for s in \n",
    "    readstring(`ssh mrawlik@login.phys.ethz.ch ls /home/$notmygroup/users`) |> split ]"
   ]
  },
  {
   "cell_type": "code",
   "execution_count": 55,
   "metadata": {
    "ExecuteTime": {
     "end_time": "2018-05-13T09:38:56.825000+02:00",
     "start_time": "2018-05-13T07:38:56.141Z"
    }
   },
   "outputs": [
    {
     "name": "stdout",
     "output_type": "stream",
     "text": [
      "      18\n"
     ]
    }
   ],
   "source": [
    "run(pipeline(`ssh mrawlik@login.phys.ethz.ch ls /home/$notmygroup/users`, `wc -l`))"
   ]
  },
  {
   "cell_type": "markdown",
   "metadata": {},
   "source": [
    "# Type system and multiple-dispatch"
   ]
  },
  {
   "cell_type": "code",
   "execution_count": 19,
   "metadata": {
    "ExecuteTime": {
     "end_time": "2018-05-13T09:07:33.457000+02:00",
     "start_time": "2018-05-13T07:07:32.144Z"
    }
   },
   "outputs": [
    {
     "data": {
      "text/html": [
       "187 methods for generic function <b>+</b>:<ul><li> +(x::<b>Bool</b>, z::<b>Complex{Bool}</b>) at <a href=\"https://github.com/JuliaLang/julia/tree/d386e40c17d43b79fc89d3e579fc04547241787c/base/complex.jl#L232\" target=\"_blank\">complex.jl:232</a></li> <li> +(x::<b>Bool</b>, y::<b>Bool</b>) at <a href=\"https://github.com/JuliaLang/julia/tree/d386e40c17d43b79fc89d3e579fc04547241787c/base/bool.jl#L89\" target=\"_blank\">bool.jl:89</a></li> <li> +(x::<b>Bool</b>) at <a href=\"https://github.com/JuliaLang/julia/tree/d386e40c17d43b79fc89d3e579fc04547241787c/base/bool.jl#L86\" target=\"_blank\">bool.jl:86</a></li> <li> +<i>{T<:AbstractFloat}</i>(x::<b>Bool</b>, y::<b>T</b>) at <a href=\"https://github.com/JuliaLang/julia/tree/d386e40c17d43b79fc89d3e579fc04547241787c/base/bool.jl#L96\" target=\"_blank\">bool.jl:96</a></li> <li> +(x::<b>Bool</b>, z::<b>Complex</b>) at <a href=\"https://github.com/JuliaLang/julia/tree/d386e40c17d43b79fc89d3e579fc04547241787c/base/complex.jl#L239\" target=\"_blank\">complex.jl:239</a></li> <li> +(a::<b>Float16</b>, b::<b>Float16</b>) at <a href=\"https://github.com/JuliaLang/julia/tree/d386e40c17d43b79fc89d3e579fc04547241787c/base/float.jl#L372\" target=\"_blank\">float.jl:372</a></li> <li> +(x::<b>Float32</b>, y::<b>Float32</b>) at <a href=\"https://github.com/JuliaLang/julia/tree/d386e40c17d43b79fc89d3e579fc04547241787c/base/float.jl#L374\" target=\"_blank\">float.jl:374</a></li> <li> +(x::<b>Float64</b>, y::<b>Float64</b>) at <a href=\"https://github.com/JuliaLang/julia/tree/d386e40c17d43b79fc89d3e579fc04547241787c/base/float.jl#L375\" target=\"_blank\">float.jl:375</a></li> <li> +(z::<b>Complex{Bool}</b>, x::<b>Bool</b>) at <a href=\"https://github.com/JuliaLang/julia/tree/d386e40c17d43b79fc89d3e579fc04547241787c/base/complex.jl#L233\" target=\"_blank\">complex.jl:233</a></li> <li> +(z::<b>Complex{Bool}</b>, x::<b>Real</b>) at <a href=\"https://github.com/JuliaLang/julia/tree/d386e40c17d43b79fc89d3e579fc04547241787c/base/complex.jl#L247\" target=\"_blank\">complex.jl:247</a></li> <li> +(x::<b>Char</b>, y::<b>Integer</b>) at <a href=\"https://github.com/JuliaLang/julia/tree/d386e40c17d43b79fc89d3e579fc04547241787c/base/char.jl#L40\" target=\"_blank\">char.jl:40</a></li> <li> +(c::<b>BigInt</b>, x::<b>BigFloat</b>) at <a href=\"https://github.com/JuliaLang/julia/tree/d386e40c17d43b79fc89d3e579fc04547241787c/base/mpfr.jl#L312\" target=\"_blank\">mpfr.jl:312</a></li> <li> +(a::<b>BigInt</b>, b::<b>BigInt</b>, c::<b>BigInt</b>, d::<b>BigInt</b>, e::<b>BigInt</b>) at <a href=\"https://github.com/JuliaLang/julia/tree/d386e40c17d43b79fc89d3e579fc04547241787c/base/gmp.jl#L334\" target=\"_blank\">gmp.jl:334</a></li> <li> +(a::<b>BigInt</b>, b::<b>BigInt</b>, c::<b>BigInt</b>, d::<b>BigInt</b>) at <a href=\"https://github.com/JuliaLang/julia/tree/d386e40c17d43b79fc89d3e579fc04547241787c/base/gmp.jl#L327\" target=\"_blank\">gmp.jl:327</a></li> <li> +(a::<b>BigInt</b>, b::<b>BigInt</b>, c::<b>BigInt</b>) at <a href=\"https://github.com/JuliaLang/julia/tree/d386e40c17d43b79fc89d3e579fc04547241787c/base/gmp.jl#L321\" target=\"_blank\">gmp.jl:321</a></li> <li> +(x::<b>BigInt</b>, y::<b>BigInt</b>) at <a href=\"https://github.com/JuliaLang/julia/tree/d386e40c17d43b79fc89d3e579fc04547241787c/base/gmp.jl#L289\" target=\"_blank\">gmp.jl:289</a></li> <li> +(x::<b>BigInt</b>, c::<b>Union{UInt16, UInt32, UInt64, UInt8}</b>) at <a href=\"https://github.com/JuliaLang/julia/tree/d386e40c17d43b79fc89d3e579fc04547241787c/base/gmp.jl#L346\" target=\"_blank\">gmp.jl:346</a></li> <li> +(x::<b>BigInt</b>, c::<b>Union{Int16, Int32, Int64, Int8}</b>) at <a href=\"https://github.com/JuliaLang/julia/tree/d386e40c17d43b79fc89d3e579fc04547241787c/base/gmp.jl#L362\" target=\"_blank\">gmp.jl:362</a></li> <li> +(a::<b>BigFloat</b>, b::<b>BigFloat</b>, c::<b>BigFloat</b>, d::<b>BigFloat</b>, e::<b>BigFloat</b>) at <a href=\"https://github.com/JuliaLang/julia/tree/d386e40c17d43b79fc89d3e579fc04547241787c/base/mpfr.jl#L460\" target=\"_blank\">mpfr.jl:460</a></li> <li> +(a::<b>BigFloat</b>, b::<b>BigFloat</b>, c::<b>BigFloat</b>, d::<b>BigFloat</b>) at <a href=\"https://github.com/JuliaLang/julia/tree/d386e40c17d43b79fc89d3e579fc04547241787c/base/mpfr.jl#L453\" target=\"_blank\">mpfr.jl:453</a></li> <li> +(a::<b>BigFloat</b>, b::<b>BigFloat</b>, c::<b>BigFloat</b>) at <a href=\"https://github.com/JuliaLang/julia/tree/d386e40c17d43b79fc89d3e579fc04547241787c/base/mpfr.jl#L447\" target=\"_blank\">mpfr.jl:447</a></li> <li> +(x::<b>BigFloat</b>, c::<b>BigInt</b>) at <a href=\"https://github.com/JuliaLang/julia/tree/d386e40c17d43b79fc89d3e579fc04547241787c/base/mpfr.jl#L308\" target=\"_blank\">mpfr.jl:308</a></li> <li> +(x::<b>BigFloat</b>, y::<b>BigFloat</b>) at <a href=\"https://github.com/JuliaLang/julia/tree/d386e40c17d43b79fc89d3e579fc04547241787c/base/mpfr.jl#L277\" target=\"_blank\">mpfr.jl:277</a></li> <li> +(x::<b>BigFloat</b>, c::<b>Union{UInt16, UInt32, UInt64, UInt8}</b>) at <a href=\"https://github.com/JuliaLang/julia/tree/d386e40c17d43b79fc89d3e579fc04547241787c/base/mpfr.jl#L284\" target=\"_blank\">mpfr.jl:284</a></li> <li> +(x::<b>BigFloat</b>, c::<b>Union{Int16, Int32, Int64, Int8}</b>) at <a href=\"https://github.com/JuliaLang/julia/tree/d386e40c17d43b79fc89d3e579fc04547241787c/base/mpfr.jl#L292\" target=\"_blank\">mpfr.jl:292</a></li> <li> +(x::<b>BigFloat</b>, c::<b>Union{Float16, Float32, Float64}</b>) at <a href=\"https://github.com/JuliaLang/julia/tree/d386e40c17d43b79fc89d3e579fc04547241787c/base/mpfr.jl#L300\" target=\"_blank\">mpfr.jl:300</a></li> <li> +(B::<b>BitArray{2}</b>, J::<b>UniformScaling</b>) at <a href=\"https://github.com/JuliaLang/julia/tree/d386e40c17d43b79fc89d3e579fc04547241787c/base/linalg/uniformscaling.jl#L59\" target=\"_blank\">linalg/uniformscaling.jl:59</a></li> <li> +(a::<b>Base.Pkg.Resolve.VersionWeights.VWPreBuildItem</b>, b::<b>Base.Pkg.Resolve.VersionWeights.VWPreBuildItem</b>) at <a href=\"https://github.com/JuliaLang/julia/tree/d386e40c17d43b79fc89d3e579fc04547241787c/base/pkg/resolve/versionweight.jl#L87\" target=\"_blank\">pkg/resolve/versionweight.jl:87</a></li> <li> +(a::<b>Base.Pkg.Resolve.VersionWeights.VWPreBuild</b>, b::<b>Base.Pkg.Resolve.VersionWeights.VWPreBuild</b>) at <a href=\"https://github.com/JuliaLang/julia/tree/d386e40c17d43b79fc89d3e579fc04547241787c/base/pkg/resolve/versionweight.jl#L135\" target=\"_blank\">pkg/resolve/versionweight.jl:135</a></li> <li> +(a::<b>Base.Pkg.Resolve.VersionWeights.VersionWeight</b>, b::<b>Base.Pkg.Resolve.VersionWeights.VersionWeight</b>) at <a href=\"https://github.com/JuliaLang/julia/tree/d386e40c17d43b79fc89d3e579fc04547241787c/base/pkg/resolve/versionweight.jl#L197\" target=\"_blank\">pkg/resolve/versionweight.jl:197</a></li> <li> +(a::<b>Base.Pkg.Resolve.MaxSum.FieldValues.FieldValue</b>, b::<b>Base.Pkg.Resolve.MaxSum.FieldValues.FieldValue</b>) at <a href=\"https://github.com/JuliaLang/julia/tree/d386e40c17d43b79fc89d3e579fc04547241787c/base/pkg/resolve/fieldvalue.jl#L44\" target=\"_blank\">pkg/resolve/fieldvalue.jl:44</a></li> <li> +(x::<b>Base.Dates.CompoundPeriod</b>, y::<b>Base.Dates.CompoundPeriod</b>) at <a href=\"https://github.com/JuliaLang/julia/tree/d386e40c17d43b79fc89d3e579fc04547241787c/base/dates/periods.jl#L349\" target=\"_blank\">dates/periods.jl:349</a></li> <li> +(x::<b>Base.Dates.CompoundPeriod</b>, y::<b>Base.Dates.Period</b>) at <a href=\"https://github.com/JuliaLang/julia/tree/d386e40c17d43b79fc89d3e579fc04547241787c/base/dates/periods.jl#L347\" target=\"_blank\">dates/periods.jl:347</a></li> <li> +(x::<b>Base.Dates.CompoundPeriod</b>, y::<b>Base.Dates.TimeType</b>) at <a href=\"https://github.com/JuliaLang/julia/tree/d386e40c17d43b79fc89d3e579fc04547241787c/base/dates/periods.jl#L387\" target=\"_blank\">dates/periods.jl:387</a></li> <li> +(x::<b>Date</b>, y::<b>Base.Dates.Day</b>) at <a href=\"https://github.com/JuliaLang/julia/tree/d386e40c17d43b79fc89d3e579fc04547241787c/base/dates/arithmetic.jl#L77\" target=\"_blank\">dates/arithmetic.jl:77</a></li> <li> +(x::<b>Date</b>, y::<b>Base.Dates.Week</b>) at <a href=\"https://github.com/JuliaLang/julia/tree/d386e40c17d43b79fc89d3e579fc04547241787c/base/dates/arithmetic.jl#L75\" target=\"_blank\">dates/arithmetic.jl:75</a></li> <li> +(dt::<b>Date</b>, z::<b>Base.Dates.Month</b>) at <a href=\"https://github.com/JuliaLang/julia/tree/d386e40c17d43b79fc89d3e579fc04547241787c/base/dates/arithmetic.jl#L58\" target=\"_blank\">dates/arithmetic.jl:58</a></li> <li> +(dt::<b>Date</b>, y::<b>Base.Dates.Year</b>) at <a href=\"https://github.com/JuliaLang/julia/tree/d386e40c17d43b79fc89d3e579fc04547241787c/base/dates/arithmetic.jl#L32\" target=\"_blank\">dates/arithmetic.jl:32</a></li> <li> +(dt::<b>Date</b>, t::<b>Base.Dates.Time</b>) at <a href=\"https://github.com/JuliaLang/julia/tree/d386e40c17d43b79fc89d3e579fc04547241787c/base/dates/arithmetic.jl#L20\" target=\"_blank\">dates/arithmetic.jl:20</a></li> <li> +(t::<b>Base.Dates.Time</b>, dt::<b>Date</b>) at <a href=\"https://github.com/JuliaLang/julia/tree/d386e40c17d43b79fc89d3e579fc04547241787c/base/dates/arithmetic.jl#L24\" target=\"_blank\">dates/arithmetic.jl:24</a></li> <li> +(x::<b>Base.Dates.Time</b>, y::<b>Base.Dates.TimePeriod</b>) at <a href=\"https://github.com/JuliaLang/julia/tree/d386e40c17d43b79fc89d3e579fc04547241787c/base/dates/arithmetic.jl#L81\" target=\"_blank\">dates/arithmetic.jl:81</a></li> <li> +(dt::<b>DateTime</b>, z::<b>Base.Dates.Month</b>) at <a href=\"https://github.com/JuliaLang/julia/tree/d386e40c17d43b79fc89d3e579fc04547241787c/base/dates/arithmetic.jl#L52\" target=\"_blank\">dates/arithmetic.jl:52</a></li> <li> +(dt::<b>DateTime</b>, y::<b>Base.Dates.Year</b>) at <a href=\"https://github.com/JuliaLang/julia/tree/d386e40c17d43b79fc89d3e579fc04547241787c/base/dates/arithmetic.jl#L28\" target=\"_blank\">dates/arithmetic.jl:28</a></li> <li> +(x::<b>DateTime</b>, y::<b>Base.Dates.Period</b>) at <a href=\"https://github.com/JuliaLang/julia/tree/d386e40c17d43b79fc89d3e579fc04547241787c/base/dates/arithmetic.jl#L79\" target=\"_blank\">dates/arithmetic.jl:79</a></li> <li> +(a::<b>PyCall.PyObject</b>, b::<b>PyCall.PyObject</b>) at <a href=\"https://github.com/JuliaPy/PyCall.jl/tree/53d870d4f13e72c362a58705ee3927e11075c478//src/pyoperators.jl#L12\" target=\"_blank\">/Users/rawlik/.julia/v0.6/PyCall/src/pyoperators.jl:12</a></li> <li> +(a::<b>PyCall.PyObject</b>) at <a href=\"https://github.com/JuliaPy/PyCall.jl/tree/53d870d4f13e72c362a58705ee3927e11075c478//src/pyoperators.jl#L42\" target=\"_blank\">/Users/rawlik/.julia/v0.6/PyCall/src/pyoperators.jl:42</a></li> <li> +(a::<b>PyCall.PyObject</b>, b) at <a href=\"https://github.com/JuliaPy/PyCall.jl/tree/53d870d4f13e72c362a58705ee3927e11075c478//src/pyoperators.jl#L14\" target=\"_blank\">/Users/rawlik/.julia/v0.6/PyCall/src/pyoperators.jl:14</a></li> <li> +(y::<b>AbstractFloat</b>, x::<b>Bool</b>) at <a href=\"https://github.com/JuliaLang/julia/tree/d386e40c17d43b79fc89d3e579fc04547241787c/base/bool.jl#L98\" target=\"_blank\">bool.jl:98</a></li> <li> +<i>{T<:Union{Int128, Int16, Int32, Int64, Int8, UInt128, UInt16, UInt32, UInt64, UInt8}}</i>(x::<b>T</b>, y::<b>T</b>) at <a href=\"https://github.com/JuliaLang/julia/tree/d386e40c17d43b79fc89d3e579fc04547241787c/base/int.jl#L32\" target=\"_blank\">int.jl:32</a></li> <li> +(x::<b>Integer</b>, y::<b>Ptr</b>) at <a href=\"https://github.com/JuliaLang/julia/tree/d386e40c17d43b79fc89d3e579fc04547241787c/base/pointer.jl#L128\" target=\"_blank\">pointer.jl:128</a></li> <li> +(z::<b>Complex</b>, w::<b>Complex</b>) at <a href=\"https://github.com/JuliaLang/julia/tree/d386e40c17d43b79fc89d3e579fc04547241787c/base/complex.jl#L221\" target=\"_blank\">complex.jl:221</a></li> <li> +(z::<b>Complex</b>, x::<b>Bool</b>) at <a href=\"https://github.com/JuliaLang/julia/tree/d386e40c17d43b79fc89d3e579fc04547241787c/base/complex.jl#L240\" target=\"_blank\">complex.jl:240</a></li> <li> +(x::<b>Real</b>, z::<b>Complex{Bool}</b>) at <a href=\"https://github.com/JuliaLang/julia/tree/d386e40c17d43b79fc89d3e579fc04547241787c/base/complex.jl#L246\" target=\"_blank\">complex.jl:246</a></li> <li> +(x::<b>Real</b>, z::<b>Complex</b>) at <a href=\"https://github.com/JuliaLang/julia/tree/d386e40c17d43b79fc89d3e579fc04547241787c/base/complex.jl#L258\" target=\"_blank\">complex.jl:258</a></li> <li> +(z::<b>Complex</b>, x::<b>Real</b>) at <a href=\"https://github.com/JuliaLang/julia/tree/d386e40c17d43b79fc89d3e579fc04547241787c/base/complex.jl#L259\" target=\"_blank\">complex.jl:259</a></li> <li> +(x::<b>Rational</b>, y::<b>Rational</b>) at <a href=\"https://github.com/JuliaLang/julia/tree/d386e40c17d43b79fc89d3e579fc04547241787c/base/rational.jl#L245\" target=\"_blank\">rational.jl:245</a></li> <li> +(x::<b>Integer</b>, y::<b>Char</b>) at <a href=\"https://github.com/JuliaLang/julia/tree/d386e40c17d43b79fc89d3e579fc04547241787c/base/char.jl#L41\" target=\"_blank\">char.jl:41</a></li> <li> +(i::<b>Integer</b>, index::<b>CartesianIndex</b>) at <a href=\"https://github.com/JuliaLang/julia/tree/d386e40c17d43b79fc89d3e579fc04547241787c/base/multidimensional.jl#L110\" target=\"_blank\">multidimensional.jl:110</a></li> <li> +(c::<b>Union{UInt16, UInt32, UInt64, UInt8}</b>, x::<b>BigInt</b>) at <a href=\"https://github.com/JuliaLang/julia/tree/d386e40c17d43b79fc89d3e579fc04547241787c/base/gmp.jl#L350\" target=\"_blank\">gmp.jl:350</a></li> <li> +(c::<b>Union{Int16, Int32, Int64, Int8}</b>, x::<b>BigInt</b>) at <a href=\"https://github.com/JuliaLang/julia/tree/d386e40c17d43b79fc89d3e579fc04547241787c/base/gmp.jl#L363\" target=\"_blank\">gmp.jl:363</a></li> <li> +(c::<b>Union{UInt16, UInt32, UInt64, UInt8}</b>, x::<b>BigFloat</b>) at <a href=\"https://github.com/JuliaLang/julia/tree/d386e40c17d43b79fc89d3e579fc04547241787c/base/mpfr.jl#L288\" target=\"_blank\">mpfr.jl:288</a></li> <li> +(c::<b>Union{Int16, Int32, Int64, Int8}</b>, x::<b>BigFloat</b>) at <a href=\"https://github.com/JuliaLang/julia/tree/d386e40c17d43b79fc89d3e579fc04547241787c/base/mpfr.jl#L296\" target=\"_blank\">mpfr.jl:296</a></li> <li> +(c::<b>Union{Float16, Float32, Float64}</b>, x::<b>BigFloat</b>) at <a href=\"https://github.com/JuliaLang/julia/tree/d386e40c17d43b79fc89d3e579fc04547241787c/base/mpfr.jl#L304\" target=\"_blank\">mpfr.jl:304</a></li> <li> +(x::<b>Irrational</b>, y::<b>Irrational</b>) at <a href=\"https://github.com/JuliaLang/julia/tree/d386e40c17d43b79fc89d3e579fc04547241787c/base/irrationals.jl#L109\" target=\"_blank\">irrationals.jl:109</a></li> <li> +(x::<b>Real</b>, r::<b>Base.Use_StepRangeLen_Instead</b>) at <a href=\"https://github.com/JuliaLang/julia/tree/d386e40c17d43b79fc89d3e579fc04547241787c/base/deprecated.jl#L1232\" target=\"_blank\">deprecated.jl:1232</a></li> <li> +<i>{T, f}</i>(x::<b>FixedPointNumbers.Fixed{T,f}</b>, y::<b>FixedPointNumbers.Fixed{T,f}</b>) at <a href=\"https://github.com/JuliaMath/FixedPointNumbers.jl/tree/cf9ebc49d5eaef7e1d8a348762e9a820b6885f3c//src/fixed.jl#L34\" target=\"_blank\">/Users/rawlik/.julia/v0.6/FixedPointNumbers/src/fixed.jl:34</a></li> <li> +<i>{T, f}</i>(x::<b>FixedPointNumbers.Normed{T,f}</b>, y::<b>FixedPointNumbers.Normed{T,f}</b>) at <a href=\"https://github.com/JuliaMath/FixedPointNumbers.jl/tree/cf9ebc49d5eaef7e1d8a348762e9a820b6885f3c//src/normed.jl#L93\" target=\"_blank\">/Users/rawlik/.julia/v0.6/FixedPointNumbers/src/normed.jl:93</a></li> <li> +(x::<b>Number</b>) at <a href=\"https://github.com/JuliaLang/julia/tree/d386e40c17d43b79fc89d3e579fc04547241787c/base/operators.jl#L399\" target=\"_blank\">operators.jl:399</a></li> <li> +<i>{T<:Number}</i>(x::<b>T</b>, y::<b>T</b>) at <a href=\"https://github.com/JuliaLang/julia/tree/d386e40c17d43b79fc89d3e579fc04547241787c/base/promotion.jl#L335\" target=\"_blank\">promotion.jl:335</a></li> <li> +(x::<b>Number</b>, y::<b>Number</b>) at <a href=\"https://github.com/JuliaLang/julia/tree/d386e40c17d43b79fc89d3e579fc04547241787c/base/promotion.jl#L249\" target=\"_blank\">promotion.jl:249</a></li> <li> +(x::<b>Real</b>, r::<b>AbstractUnitRange</b>) at <a href=\"https://github.com/JuliaLang/julia/tree/d386e40c17d43b79fc89d3e579fc04547241787c/base/range.jl#L721\" target=\"_blank\">range.jl:721</a></li> <li> +(x::<b>Number</b>, r::<b>AbstractUnitRange</b>) at <a href=\"https://github.com/JuliaLang/julia/tree/d386e40c17d43b79fc89d3e579fc04547241787c/base/range.jl#L723\" target=\"_blank\">range.jl:723</a></li> <li> +(x::<b>Number</b>, r::<b>StepRangeLen</b>) at <a href=\"https://github.com/JuliaLang/julia/tree/d386e40c17d43b79fc89d3e579fc04547241787c/base/range.jl#L726\" target=\"_blank\">range.jl:726</a></li> <li> +(x::<b>Number</b>, r::<b>LinSpace</b>) at <a href=\"https://github.com/JuliaLang/julia/tree/d386e40c17d43b79fc89d3e579fc04547241787c/base/range.jl#L730\" target=\"_blank\">range.jl:730</a></li> <li> +(x::<b>Number</b>, r::<b>Range</b>) at <a href=\"https://github.com/JuliaLang/julia/tree/d386e40c17d43b79fc89d3e579fc04547241787c/base/range.jl#L724\" target=\"_blank\">range.jl:724</a></li> <li> +(r::<b>Range</b>, x::<b>Number</b>) at <a href=\"https://github.com/JuliaLang/julia/tree/d386e40c17d43b79fc89d3e579fc04547241787c/base/range.jl#L732\" target=\"_blank\">range.jl:732</a></li> <li> +(r1::<b>OrdinalRange</b>, r2::<b>OrdinalRange</b>) at <a href=\"https://github.com/JuliaLang/julia/tree/d386e40c17d43b79fc89d3e579fc04547241787c/base/range.jl#L882\" target=\"_blank\">range.jl:882</a></li> <li> +<i>{T}</i>(r1::<b>LinSpace{T}</b>, r2::<b>LinSpace{T}</b>) at <a href=\"https://github.com/JuliaLang/julia/tree/d386e40c17d43b79fc89d3e579fc04547241787c/base/range.jl#L889\" target=\"_blank\">range.jl:889</a></li> <li> +<i>{R<:Base.TwicePrecision, T}</i>(r1::<b>StepRangeLen{T,R,S} where S</b>, r2::<b>StepRangeLen{T,R,S} where S</b>) at <a href=\"https://github.com/JuliaLang/julia/tree/d386e40c17d43b79fc89d3e579fc04547241787c/base/twiceprecision.jl#L300\" target=\"_blank\">twiceprecision.jl:300</a></li> <li> +<i>{T, S}</i>(r1::<b>StepRangeLen{T,S,S} where S</b>, r2::<b>StepRangeLen{T,S,S} where S</b>) at <a href=\"https://github.com/JuliaLang/julia/tree/d386e40c17d43b79fc89d3e579fc04547241787c/base/range.jl#L905\" target=\"_blank\">range.jl:905</a></li> <li> +(r1::<b>Union{LinSpace, OrdinalRange, StepRangeLen}</b>, r2::<b>Union{LinSpace, OrdinalRange, StepRangeLen}</b>) at <a href=\"https://github.com/JuliaLang/julia/tree/d386e40c17d43b79fc89d3e579fc04547241787c/base/range.jl#L897\" target=\"_blank\">range.jl:897</a></li> <li> +(x::<b>Base.TwicePrecision</b>, y::<b>Number</b>) at <a href=\"https://github.com/JuliaLang/julia/tree/d386e40c17d43b79fc89d3e579fc04547241787c/base/twiceprecision.jl#L455\" target=\"_blank\">twiceprecision.jl:455</a></li> <li> +(x::<b>Number</b>, y::<b>Base.TwicePrecision</b>) at <a href=\"https://github.com/JuliaLang/julia/tree/d386e40c17d43b79fc89d3e579fc04547241787c/base/twiceprecision.jl#L458\" target=\"_blank\">twiceprecision.jl:458</a></li> <li> +<i>{T}</i>(x::<b>Base.TwicePrecision{T}</b>, y::<b>Base.TwicePrecision{T}</b>) at <a href=\"https://github.com/JuliaLang/julia/tree/d386e40c17d43b79fc89d3e579fc04547241787c/base/twiceprecision.jl#L461\" target=\"_blank\">twiceprecision.jl:461</a></li> <li> +(x::<b>Base.TwicePrecision</b>, y::<b>Base.TwicePrecision</b>) at <a href=\"https://github.com/JuliaLang/julia/tree/d386e40c17d43b79fc89d3e579fc04547241787c/base/twiceprecision.jl#L465\" target=\"_blank\">twiceprecision.jl:465</a></li> <li> +(x::<b>Ptr</b>, y::<b>Integer</b>) at <a href=\"https://github.com/JuliaLang/julia/tree/d386e40c17d43b79fc89d3e579fc04547241787c/base/pointer.jl#L126\" target=\"_blank\">pointer.jl:126</a></li> <li> +(A::<b>BitArray</b>, B::<b>BitArray</b>) at <a href=\"https://github.com/JuliaLang/julia/tree/d386e40c17d43b79fc89d3e579fc04547241787c/base/bitarray.jl#L1177\" target=\"_blank\">bitarray.jl:1177</a></li> <li> +(A::<b>SymTridiagonal</b>, B::<b>SymTridiagonal</b>) at <a href=\"https://github.com/JuliaLang/julia/tree/d386e40c17d43b79fc89d3e579fc04547241787c/base/linalg/tridiag.jl#L128\" target=\"_blank\">linalg/tridiag.jl:128</a></li> <li> +(A::<b>Tridiagonal</b>, B::<b>Tridiagonal</b>) at <a href=\"https://github.com/JuliaLang/julia/tree/d386e40c17d43b79fc89d3e579fc04547241787c/base/linalg/tridiag.jl#L624\" target=\"_blank\">linalg/tridiag.jl:624</a></li> <li> +(A::<b>UpperTriangular</b>, B::<b>UpperTriangular</b>) at <a href=\"https://github.com/JuliaLang/julia/tree/d386e40c17d43b79fc89d3e579fc04547241787c/base/linalg/triangular.jl#L419\" target=\"_blank\">linalg/triangular.jl:419</a></li> <li> +(A::<b>LowerTriangular</b>, B::<b>LowerTriangular</b>) at <a href=\"https://github.com/JuliaLang/julia/tree/d386e40c17d43b79fc89d3e579fc04547241787c/base/linalg/triangular.jl#L420\" target=\"_blank\">linalg/triangular.jl:420</a></li> <li> +(A::<b>UpperTriangular</b>, B::<b>Base.LinAlg.UnitUpperTriangular</b>) at <a href=\"https://github.com/JuliaLang/julia/tree/d386e40c17d43b79fc89d3e579fc04547241787c/base/linalg/triangular.jl#L421\" target=\"_blank\">linalg/triangular.jl:421</a></li> <li> +(A::<b>LowerTriangular</b>, B::<b>Base.LinAlg.UnitLowerTriangular</b>) at <a href=\"https://github.com/JuliaLang/julia/tree/d386e40c17d43b79fc89d3e579fc04547241787c/base/linalg/triangular.jl#L422\" target=\"_blank\">linalg/triangular.jl:422</a></li> <li> +(A::<b>Base.LinAlg.UnitUpperTriangular</b>, B::<b>UpperTriangular</b>) at <a href=\"https://github.com/JuliaLang/julia/tree/d386e40c17d43b79fc89d3e579fc04547241787c/base/linalg/triangular.jl#L423\" target=\"_blank\">linalg/triangular.jl:423</a></li> <li> +(A::<b>Base.LinAlg.UnitLowerTriangular</b>, B::<b>LowerTriangular</b>) at <a href=\"https://github.com/JuliaLang/julia/tree/d386e40c17d43b79fc89d3e579fc04547241787c/base/linalg/triangular.jl#L424\" target=\"_blank\">linalg/triangular.jl:424</a></li> <li> +(A::<b>Base.LinAlg.UnitUpperTriangular</b>, B::<b>Base.LinAlg.UnitUpperTriangular</b>) at <a href=\"https://github.com/JuliaLang/julia/tree/d386e40c17d43b79fc89d3e579fc04547241787c/base/linalg/triangular.jl#L425\" target=\"_blank\">linalg/triangular.jl:425</a></li> <li> +(A::<b>Base.LinAlg.UnitLowerTriangular</b>, B::<b>Base.LinAlg.UnitLowerTriangular</b>) at <a href=\"https://github.com/JuliaLang/julia/tree/d386e40c17d43b79fc89d3e579fc04547241787c/base/linalg/triangular.jl#L426\" target=\"_blank\">linalg/triangular.jl:426</a></li> <li> +(A::<b>Base.LinAlg.AbstractTriangular</b>, B::<b>Base.LinAlg.AbstractTriangular</b>) at <a href=\"https://github.com/JuliaLang/julia/tree/d386e40c17d43b79fc89d3e579fc04547241787c/base/linalg/triangular.jl#L427\" target=\"_blank\">linalg/triangular.jl:427</a></li> <li> +(A::<b>Symmetric</b>, x::<b>Bool</b>) at <a href=\"https://github.com/JuliaLang/julia/tree/d386e40c17d43b79fc89d3e579fc04547241787c/base/linalg/symmetric.jl#L274\" target=\"_blank\">linalg/symmetric.jl:274</a></li> <li> +(A::<b>Symmetric</b>, x::<b>Number</b>) at <a href=\"https://github.com/JuliaLang/julia/tree/d386e40c17d43b79fc89d3e579fc04547241787c/base/linalg/symmetric.jl#L276\" target=\"_blank\">linalg/symmetric.jl:276</a></li> <li> +(A::<b>Hermitian</b>, x::<b>Bool</b>) at <a href=\"https://github.com/JuliaLang/julia/tree/d386e40c17d43b79fc89d3e579fc04547241787c/base/linalg/symmetric.jl#L274\" target=\"_blank\">linalg/symmetric.jl:274</a></li> <li> +(A::<b>Hermitian</b>, x::<b>Real</b>) at <a href=\"https://github.com/JuliaLang/julia/tree/d386e40c17d43b79fc89d3e579fc04547241787c/base/linalg/symmetric.jl#L276\" target=\"_blank\">linalg/symmetric.jl:276</a></li> <li> +(Da::<b>Diagonal</b>, Db::<b>Diagonal</b>) at <a href=\"https://github.com/JuliaLang/julia/tree/d386e40c17d43b79fc89d3e579fc04547241787c/base/linalg/diagonal.jl#L140\" target=\"_blank\">linalg/diagonal.jl:140</a></li> <li> +(A::<b>Bidiagonal</b>, B::<b>Bidiagonal</b>) at <a href=\"https://github.com/JuliaLang/julia/tree/d386e40c17d43b79fc89d3e579fc04547241787c/base/linalg/bidiag.jl#L330\" target=\"_blank\">linalg/bidiag.jl:330</a></li> <li> +(UL::<b>UpperTriangular</b>, J::<b>UniformScaling</b>) at <a href=\"https://github.com/JuliaLang/julia/tree/d386e40c17d43b79fc89d3e579fc04547241787c/base/linalg/uniformscaling.jl#L72\" target=\"_blank\">linalg/uniformscaling.jl:72</a></li> <li> +(UL::<b>Base.LinAlg.UnitUpperTriangular</b>, J::<b>UniformScaling</b>) at <a href=\"https://github.com/JuliaLang/julia/tree/d386e40c17d43b79fc89d3e579fc04547241787c/base/linalg/uniformscaling.jl#L75\" target=\"_blank\">linalg/uniformscaling.jl:75</a></li> <li> +(UL::<b>LowerTriangular</b>, J::<b>UniformScaling</b>) at <a href=\"https://github.com/JuliaLang/julia/tree/d386e40c17d43b79fc89d3e579fc04547241787c/base/linalg/uniformscaling.jl#L72\" target=\"_blank\">linalg/uniformscaling.jl:72</a></li> <li> +(UL::<b>Base.LinAlg.UnitLowerTriangular</b>, J::<b>UniformScaling</b>) at <a href=\"https://github.com/JuliaLang/julia/tree/d386e40c17d43b79fc89d3e579fc04547241787c/base/linalg/uniformscaling.jl#L75\" target=\"_blank\">linalg/uniformscaling.jl:75</a></li> <li> +(A::<b>Array</b>, B::<b>SparseMatrixCSC</b>) at <a href=\"https://github.com/JuliaLang/julia/tree/d386e40c17d43b79fc89d3e579fc04547241787c/base/sparse/sparsematrix.jl#L1541\" target=\"_blank\">sparse/sparsematrix.jl:1541</a></li> <li> +(x::<b>Union{Base.ReshapedArray{T,1,A,MI} where MI<:Tuple{Vararg{Base.MultiplicativeInverses.SignedMultiplicativeInverse{Int64},N} where N} where A<:Union{DenseArray, SubArray{T,N,P,I,true} where I<:Tuple{Union{Base.Slice, UnitRange},Vararg{Any,N} where N} where P where N where T}, DenseArray{T,1}, SubArray{T,1,A,I,L} where L} where I<:Tuple{Vararg{Union{Base.AbstractCartesianIndex, Int64, Range{Int64}},N} where N} where A<:Union{Base.ReshapedArray{T,N,A,MI} where MI<:Tuple{Vararg{Base.MultiplicativeInverses.SignedMultiplicativeInverse{Int64},N} where N} where A<:Union{DenseArray, SubArray{T,N,P,I,true} where I<:Tuple{Union{Base.Slice, UnitRange},Vararg{Any,N} where N} where P where N where T} where N where T, DenseArray} where T</b>, y::<b>AbstractSparseArray{Tv,Ti,1} where Ti where Tv</b>) at <a href=\"https://github.com/JuliaLang/julia/tree/d386e40c17d43b79fc89d3e579fc04547241787c/base/sparse/sparsevector.jl#L1340\" target=\"_blank\">sparse/sparsevector.jl:1340</a></li> <li> +(x::<b>Union{Base.ReshapedArray{#s268,N,A,MI} where MI<:Tuple{Vararg{Base.MultiplicativeInverses.SignedMultiplicativeInverse{Int64},N} where N} where A<:Union{DenseArray, SubArray{T,N,P,I,true} where I<:Tuple{Union{Base.Slice, UnitRange},Vararg{Any,N} where N} where P where N where T}, DenseArray{#s268,N}, SubArray{#s268,N,A,I,L} where L} where I<:Tuple{Vararg{Union{Base.AbstractCartesianIndex, Int64, Range{Int64}},N} where N} where A<:Union{Base.ReshapedArray{T,N,A,MI} where MI<:Tuple{Vararg{Base.MultiplicativeInverses.SignedMultiplicativeInverse{Int64},N} where N} where A<:Union{DenseArray, SubArray{T,N,P,I,true} where I<:Tuple{Union{Base.Slice, UnitRange},Vararg{Any,N} where N} where P where N where T} where N where T, DenseArray} where N where #s268<:Union{Base.Dates.CompoundPeriod, Base.Dates.Period}</b>) at <a href=\"https://github.com/JuliaLang/julia/tree/d386e40c17d43b79fc89d3e579fc04547241787c/base/dates/periods.jl#L358\" target=\"_blank\">dates/periods.jl:358</a></li> <li> +(A::<b>SparseMatrixCSC</b>, J::<b>UniformScaling</b>) at <a href=\"https://github.com/JuliaLang/julia/tree/d386e40c17d43b79fc89d3e579fc04547241787c/base/sparse/sparsematrix.jl#L3608\" target=\"_blank\">sparse/sparsematrix.jl:3608</a></li> <li> +<i>{TA, TJ}</i>(A::<b>AbstractArray{TA,2}</b>, J::<b>UniformScaling{TJ}</b>) at <a href=\"https://github.com/JuliaLang/julia/tree/d386e40c17d43b79fc89d3e579fc04547241787c/base/linalg/uniformscaling.jl#L119\" target=\"_blank\">linalg/uniformscaling.jl:119</a></li> <li> +(A::<b>Diagonal</b>, B::<b>Bidiagonal</b>) at <a href=\"https://github.com/JuliaLang/julia/tree/d386e40c17d43b79fc89d3e579fc04547241787c/base/linalg/special.jl#L113\" target=\"_blank\">linalg/special.jl:113</a></li> <li> +(A::<b>Bidiagonal</b>, B::<b>Diagonal</b>) at <a href=\"https://github.com/JuliaLang/julia/tree/d386e40c17d43b79fc89d3e579fc04547241787c/base/linalg/special.jl#L114\" target=\"_blank\">linalg/special.jl:114</a></li> <li> +(A::<b>Diagonal</b>, B::<b>Tridiagonal</b>) at <a href=\"https://github.com/JuliaLang/julia/tree/d386e40c17d43b79fc89d3e579fc04547241787c/base/linalg/special.jl#L113\" target=\"_blank\">linalg/special.jl:113</a></li> <li> +(A::<b>Tridiagonal</b>, B::<b>Diagonal</b>) at <a href=\"https://github.com/JuliaLang/julia/tree/d386e40c17d43b79fc89d3e579fc04547241787c/base/linalg/special.jl#L114\" target=\"_blank\">linalg/special.jl:114</a></li> <li> +(A::<b>Diagonal</b>, B::<b>Array{T,2} where T</b>) at <a href=\"https://github.com/JuliaLang/julia/tree/d386e40c17d43b79fc89d3e579fc04547241787c/base/linalg/special.jl#L113\" target=\"_blank\">linalg/special.jl:113</a></li> <li> +(A::<b>Array{T,2} where T</b>, B::<b>Diagonal</b>) at <a href=\"https://github.com/JuliaLang/julia/tree/d386e40c17d43b79fc89d3e579fc04547241787c/base/linalg/special.jl#L114\" target=\"_blank\">linalg/special.jl:114</a></li> <li> +(A::<b>Bidiagonal</b>, B::<b>Tridiagonal</b>) at <a href=\"https://github.com/JuliaLang/julia/tree/d386e40c17d43b79fc89d3e579fc04547241787c/base/linalg/special.jl#L113\" target=\"_blank\">linalg/special.jl:113</a></li> <li> +(A::<b>Tridiagonal</b>, B::<b>Bidiagonal</b>) at <a href=\"https://github.com/JuliaLang/julia/tree/d386e40c17d43b79fc89d3e579fc04547241787c/base/linalg/special.jl#L114\" target=\"_blank\">linalg/special.jl:114</a></li> <li> +(A::<b>Bidiagonal</b>, B::<b>Array{T,2} where T</b>) at <a href=\"https://github.com/JuliaLang/julia/tree/d386e40c17d43b79fc89d3e579fc04547241787c/base/linalg/special.jl#L113\" target=\"_blank\">linalg/special.jl:113</a></li> <li> +(A::<b>Array{T,2} where T</b>, B::<b>Bidiagonal</b>) at <a href=\"https://github.com/JuliaLang/julia/tree/d386e40c17d43b79fc89d3e579fc04547241787c/base/linalg/special.jl#L114\" target=\"_blank\">linalg/special.jl:114</a></li> <li> +(A::<b>Tridiagonal</b>, B::<b>Array{T,2} where T</b>) at <a href=\"https://github.com/JuliaLang/julia/tree/d386e40c17d43b79fc89d3e579fc04547241787c/base/linalg/special.jl#L113\" target=\"_blank\">linalg/special.jl:113</a></li> <li> +(A::<b>Array{T,2} where T</b>, B::<b>Tridiagonal</b>) at <a href=\"https://github.com/JuliaLang/julia/tree/d386e40c17d43b79fc89d3e579fc04547241787c/base/linalg/special.jl#L114\" target=\"_blank\">linalg/special.jl:114</a></li> <li> +(A::<b>SymTridiagonal</b>, B::<b>Tridiagonal</b>) at <a href=\"https://github.com/JuliaLang/julia/tree/d386e40c17d43b79fc89d3e579fc04547241787c/base/linalg/special.jl#L122\" target=\"_blank\">linalg/special.jl:122</a></li> <li> +(A::<b>Tridiagonal</b>, B::<b>SymTridiagonal</b>) at <a href=\"https://github.com/JuliaLang/julia/tree/d386e40c17d43b79fc89d3e579fc04547241787c/base/linalg/special.jl#L123\" target=\"_blank\">linalg/special.jl:123</a></li> <li> +(A::<b>SymTridiagonal</b>, B::<b>Array{T,2} where T</b>) at <a href=\"https://github.com/JuliaLang/julia/tree/d386e40c17d43b79fc89d3e579fc04547241787c/base/linalg/special.jl#L122\" target=\"_blank\">linalg/special.jl:122</a></li> <li> +(A::<b>Array{T,2} where T</b>, B::<b>SymTridiagonal</b>) at <a href=\"https://github.com/JuliaLang/julia/tree/d386e40c17d43b79fc89d3e579fc04547241787c/base/linalg/special.jl#L123\" target=\"_blank\">linalg/special.jl:123</a></li> <li> +(A::<b>Diagonal</b>, B::<b>SymTridiagonal</b>) at <a href=\"https://github.com/JuliaLang/julia/tree/d386e40c17d43b79fc89d3e579fc04547241787c/base/linalg/special.jl#L131\" target=\"_blank\">linalg/special.jl:131</a></li> <li> +(A::<b>SymTridiagonal</b>, B::<b>Diagonal</b>) at <a href=\"https://github.com/JuliaLang/julia/tree/d386e40c17d43b79fc89d3e579fc04547241787c/base/linalg/special.jl#L132\" target=\"_blank\">linalg/special.jl:132</a></li> <li> +(A::<b>Bidiagonal</b>, B::<b>SymTridiagonal</b>) at <a href=\"https://github.com/JuliaLang/julia/tree/d386e40c17d43b79fc89d3e579fc04547241787c/base/linalg/special.jl#L131\" target=\"_blank\">linalg/special.jl:131</a></li> <li> +(A::<b>SymTridiagonal</b>, B::<b>Bidiagonal</b>) at <a href=\"https://github.com/JuliaLang/julia/tree/d386e40c17d43b79fc89d3e579fc04547241787c/base/linalg/special.jl#L132\" target=\"_blank\">linalg/special.jl:132</a></li> <li> +(A::<b>Diagonal</b>, B::<b>UpperTriangular</b>) at <a href=\"https://github.com/JuliaLang/julia/tree/d386e40c17d43b79fc89d3e579fc04547241787c/base/linalg/special.jl#L143\" target=\"_blank\">linalg/special.jl:143</a></li> <li> +(A::<b>UpperTriangular</b>, B::<b>Diagonal</b>) at <a href=\"https://github.com/JuliaLang/julia/tree/d386e40c17d43b79fc89d3e579fc04547241787c/base/linalg/special.jl#L144\" target=\"_blank\">linalg/special.jl:144</a></li> <li> +(A::<b>Diagonal</b>, B::<b>Base.LinAlg.UnitUpperTriangular</b>) at <a href=\"https://github.com/JuliaLang/julia/tree/d386e40c17d43b79fc89d3e579fc04547241787c/base/linalg/special.jl#L143\" target=\"_blank\">linalg/special.jl:143</a></li> <li> +(A::<b>Base.LinAlg.UnitUpperTriangular</b>, B::<b>Diagonal</b>) at <a href=\"https://github.com/JuliaLang/julia/tree/d386e40c17d43b79fc89d3e579fc04547241787c/base/linalg/special.jl#L144\" target=\"_blank\">linalg/special.jl:144</a></li> <li> +(A::<b>Diagonal</b>, B::<b>LowerTriangular</b>) at <a href=\"https://github.com/JuliaLang/julia/tree/d386e40c17d43b79fc89d3e579fc04547241787c/base/linalg/special.jl#L143\" target=\"_blank\">linalg/special.jl:143</a></li> <li> +(A::<b>LowerTriangular</b>, B::<b>Diagonal</b>) at <a href=\"https://github.com/JuliaLang/julia/tree/d386e40c17d43b79fc89d3e579fc04547241787c/base/linalg/special.jl#L144\" target=\"_blank\">linalg/special.jl:144</a></li> <li> +(A::<b>Diagonal</b>, B::<b>Base.LinAlg.UnitLowerTriangular</b>) at <a href=\"https://github.com/JuliaLang/julia/tree/d386e40c17d43b79fc89d3e579fc04547241787c/base/linalg/special.jl#L143\" target=\"_blank\">linalg/special.jl:143</a></li> <li> +(A::<b>Base.LinAlg.UnitLowerTriangular</b>, B::<b>Diagonal</b>) at <a href=\"https://github.com/JuliaLang/julia/tree/d386e40c17d43b79fc89d3e579fc04547241787c/base/linalg/special.jl#L144\" target=\"_blank\">linalg/special.jl:144</a></li> <li> +(A::<b>Base.LinAlg.AbstractTriangular</b>, B::<b>SymTridiagonal</b>) at <a href=\"https://github.com/JuliaLang/julia/tree/d386e40c17d43b79fc89d3e579fc04547241787c/base/linalg/special.jl#L150\" target=\"_blank\">linalg/special.jl:150</a></li> <li> +(A::<b>SymTridiagonal</b>, B::<b>Base.LinAlg.AbstractTriangular</b>) at <a href=\"https://github.com/JuliaLang/julia/tree/d386e40c17d43b79fc89d3e579fc04547241787c/base/linalg/special.jl#L151\" target=\"_blank\">linalg/special.jl:151</a></li> <li> +(A::<b>Base.LinAlg.AbstractTriangular</b>, B::<b>Tridiagonal</b>) at <a href=\"https://github.com/JuliaLang/julia/tree/d386e40c17d43b79fc89d3e579fc04547241787c/base/linalg/special.jl#L150\" target=\"_blank\">linalg/special.jl:150</a></li> <li> +(A::<b>Tridiagonal</b>, B::<b>Base.LinAlg.AbstractTriangular</b>) at <a href=\"https://github.com/JuliaLang/julia/tree/d386e40c17d43b79fc89d3e579fc04547241787c/base/linalg/special.jl#L151\" target=\"_blank\">linalg/special.jl:151</a></li> <li> +(A::<b>Base.LinAlg.AbstractTriangular</b>, B::<b>Bidiagonal</b>) at <a href=\"https://github.com/JuliaLang/julia/tree/d386e40c17d43b79fc89d3e579fc04547241787c/base/linalg/special.jl#L150\" target=\"_blank\">linalg/special.jl:150</a></li> <li> +(A::<b>Bidiagonal</b>, B::<b>Base.LinAlg.AbstractTriangular</b>) at <a href=\"https://github.com/JuliaLang/julia/tree/d386e40c17d43b79fc89d3e579fc04547241787c/base/linalg/special.jl#L151\" target=\"_blank\">linalg/special.jl:151</a></li> <li> +(A::<b>Base.LinAlg.AbstractTriangular</b>, B::<b>Array{T,2} where T</b>) at <a href=\"https://github.com/JuliaLang/julia/tree/d386e40c17d43b79fc89d3e579fc04547241787c/base/linalg/special.jl#L150\" target=\"_blank\">linalg/special.jl:150</a></li> <li> +(A::<b>Array{T,2} where T</b>, B::<b>Base.LinAlg.AbstractTriangular</b>) at <a href=\"https://github.com/JuliaLang/julia/tree/d386e40c17d43b79fc89d3e579fc04547241787c/base/linalg/special.jl#L151\" target=\"_blank\">linalg/special.jl:151</a></li> <li> +(Y::<b>Union{Base.ReshapedArray{#s267,N,A,MI} where MI<:Tuple{Vararg{Base.MultiplicativeInverses.SignedMultiplicativeInverse{Int64},N} where N} where A<:Union{DenseArray, SubArray{T,N,P,I,true} where I<:Tuple{Union{Base.Slice, UnitRange},Vararg{Any,N} where N} where P where N where T}, DenseArray{#s267,N}, SubArray{#s267,N,A,I,L} where L} where I<:Tuple{Vararg{Union{Base.AbstractCartesianIndex, Int64, Range{Int64}},N} where N} where A<:Union{Base.ReshapedArray{T,N,A,MI} where MI<:Tuple{Vararg{Base.MultiplicativeInverses.SignedMultiplicativeInverse{Int64},N} where N} where A<:Union{DenseArray, SubArray{T,N,P,I,true} where I<:Tuple{Union{Base.Slice, UnitRange},Vararg{Any,N} where N} where P where N where T} where N where T, DenseArray} where N where #s267<:Union{Base.Dates.CompoundPeriod, Base.Dates.Period}</b>, x::<b>Union{Base.Dates.CompoundPeriod, Base.Dates.Period}</b>) at <a href=\"https://github.com/JuliaLang/julia/tree/d386e40c17d43b79fc89d3e579fc04547241787c/base/dates/periods.jl#L363\" target=\"_blank\">dates/periods.jl:363</a></li> <li> +(X::<b>Union{Base.ReshapedArray{#s266,N,A,MI} where MI<:Tuple{Vararg{Base.MultiplicativeInverses.SignedMultiplicativeInverse{Int64},N} where N} where A<:Union{DenseArray, SubArray{T,N,P,I,true} where I<:Tuple{Union{Base.Slice, UnitRange},Vararg{Any,N} where N} where P where N where T}, DenseArray{#s266,N}, SubArray{#s266,N,A,I,L} where L} where I<:Tuple{Vararg{Union{Base.AbstractCartesianIndex, Int64, Range{Int64}},N} where N} where A<:Union{Base.ReshapedArray{T,N,A,MI} where MI<:Tuple{Vararg{Base.MultiplicativeInverses.SignedMultiplicativeInverse{Int64},N} where N} where A<:Union{DenseArray, SubArray{T,N,P,I,true} where I<:Tuple{Union{Base.Slice, UnitRange},Vararg{Any,N} where N} where P where N where T} where N where T, DenseArray} where N where #s266<:Union{Base.Dates.CompoundPeriod, Base.Dates.Period}</b>, Y::<b>Union{Base.ReshapedArray{#s265,N,A,MI} where MI<:Tuple{Vararg{Base.MultiplicativeInverses.SignedMultiplicativeInverse{Int64},N} where N} where A<:Union{DenseArray, SubArray{T,N,P,I,true} where I<:Tuple{Union{Base.Slice, UnitRange},Vararg{Any,N} where N} where P where N where T}, DenseArray{#s265,N}, SubArray{#s265,N,A,I,L} where L} where I<:Tuple{Vararg{Union{Base.AbstractCartesianIndex, Int64, Range{Int64}},N} where N} where A<:Union{Base.ReshapedArray{T,N,A,MI} where MI<:Tuple{Vararg{Base.MultiplicativeInverses.SignedMultiplicativeInverse{Int64},N} where N} where A<:Union{DenseArray, SubArray{T,N,P,I,true} where I<:Tuple{Union{Base.Slice, UnitRange},Vararg{Any,N} where N} where P where N where T} where N where T, DenseArray} where N where #s265<:Union{Base.Dates.CompoundPeriod, Base.Dates.Period}</b>) at <a href=\"https://github.com/JuliaLang/julia/tree/d386e40c17d43b79fc89d3e579fc04547241787c/base/dates/periods.jl#L364\" target=\"_blank\">dates/periods.jl:364</a></li> <li> +(x::<b>Union{Base.ReshapedArray{#s268,N,A,MI} where MI<:Tuple{Vararg{Base.MultiplicativeInverses.SignedMultiplicativeInverse{Int64},N} where N} where A<:Union{DenseArray, SubArray{T,N,P,I,true} where I<:Tuple{Union{Base.Slice, UnitRange},Vararg{Any,N} where N} where P where N where T}, DenseArray{#s268,N}, SubArray{#s268,N,A,I,L} where L} where I<:Tuple{Vararg{Union{Base.AbstractCartesianIndex, Int64, Range{Int64}},N} where N} where A<:Union{Base.ReshapedArray{T,N,A,MI} where MI<:Tuple{Vararg{Base.MultiplicativeInverses.SignedMultiplicativeInverse{Int64},N} where N} where A<:Union{DenseArray, SubArray{T,N,P,I,true} where I<:Tuple{Union{Base.Slice, UnitRange},Vararg{Any,N} where N} where P where N where T} where N where T, DenseArray} where N where #s268<:Union{Base.Dates.CompoundPeriod, Base.Dates.Period}</b>, y::<b>Base.Dates.TimeType</b>) at <a href=\"https://github.com/JuliaLang/julia/tree/d386e40c17d43b79fc89d3e579fc04547241787c/base/dates/arithmetic.jl#L86\" target=\"_blank\">dates/arithmetic.jl:86</a></li> <li> +(r::<b>Range{#s268} where #s268<:Base.Dates.TimeType</b>, x::<b>Base.Dates.Period</b>) at <a href=\"https://github.com/JuliaLang/julia/tree/d386e40c17d43b79fc89d3e579fc04547241787c/base/dates/ranges.jl#L47\" target=\"_blank\">dates/ranges.jl:47</a></li> <li> +(A::<b>SparseMatrixCSC</b>, B::<b>SparseMatrixCSC</b>) at <a href=\"https://github.com/JuliaLang/julia/tree/d386e40c17d43b79fc89d3e579fc04547241787c/base/sparse/sparsematrix.jl#L1537\" target=\"_blank\">sparse/sparsematrix.jl:1537</a></li> <li> +(A::<b>SparseMatrixCSC</b>, B::<b>Array</b>) at <a href=\"https://github.com/JuliaLang/julia/tree/d386e40c17d43b79fc89d3e579fc04547241787c/base/sparse/sparsematrix.jl#L1540\" target=\"_blank\">sparse/sparsematrix.jl:1540</a></li> <li> +(x::<b>AbstractSparseArray{Tv,Ti,1} where Ti where Tv</b>, y::<b>AbstractSparseArray{Tv,Ti,1} where Ti where Tv</b>) at <a href=\"https://github.com/JuliaLang/julia/tree/d386e40c17d43b79fc89d3e579fc04547241787c/base/sparse/sparsevector.jl#L1339\" target=\"_blank\">sparse/sparsevector.jl:1339</a></li> <li> +(x::<b>AbstractSparseArray{Tv,Ti,1} where Ti where Tv</b>, y::<b>Union{Base.ReshapedArray{T,1,A,MI} where MI<:Tuple{Vararg{Base.MultiplicativeInverses.SignedMultiplicativeInverse{Int64},N} where N} where A<:Union{DenseArray, SubArray{T,N,P,I,true} where I<:Tuple{Union{Base.Slice, UnitRange},Vararg{Any,N} where N} where P where N where T}, DenseArray{T,1}, SubArray{T,1,A,I,L} where L} where I<:Tuple{Vararg{Union{Base.AbstractCartesianIndex, Int64, Range{Int64}},N} where N} where A<:Union{Base.ReshapedArray{T,N,A,MI} where MI<:Tuple{Vararg{Base.MultiplicativeInverses.SignedMultiplicativeInverse{Int64},N} where N} where A<:Union{DenseArray, SubArray{T,N,P,I,true} where I<:Tuple{Union{Base.Slice, UnitRange},Vararg{Any,N} where N} where P where N where T} where N where T, DenseArray} where T</b>) at <a href=\"https://github.com/JuliaLang/julia/tree/d386e40c17d43b79fc89d3e579fc04547241787c/base/sparse/sparsevector.jl#L1341\" target=\"_blank\">sparse/sparsevector.jl:1341</a></li> <li> +(x::<b>AbstractArray{#s45,N} where N where #s45<:Number</b>) at <a href=\"https://github.com/JuliaLang/julia/tree/d386e40c17d43b79fc89d3e579fc04547241787c/base/abstractarraymath.jl#L95\" target=\"_blank\">abstractarraymath.jl:95</a></li> <li> +(A::<b>AbstractArray</b>, B::<b>AbstractArray</b>) at <a href=\"https://github.com/JuliaLang/julia/tree/d386e40c17d43b79fc89d3e579fc04547241787c/base/arraymath.jl#L38\" target=\"_blank\">arraymath.jl:38</a></li> <li> +(A::<b>Number</b>, B::<b>AbstractArray</b>) at <a href=\"https://github.com/JuliaLang/julia/tree/d386e40c17d43b79fc89d3e579fc04547241787c/base/arraymath.jl#L45\" target=\"_blank\">arraymath.jl:45</a></li> <li> +(A::<b>AbstractArray</b>, B::<b>Number</b>) at <a href=\"https://github.com/JuliaLang/julia/tree/d386e40c17d43b79fc89d3e579fc04547241787c/base/arraymath.jl#L48\" target=\"_blank\">arraymath.jl:48</a></li> <li> +<i>{N}</i>(index1::<b>CartesianIndex{N}</b>, index2::<b>CartesianIndex{N}</b>) at <a href=\"https://github.com/JuliaLang/julia/tree/d386e40c17d43b79fc89d3e579fc04547241787c/base/multidimensional.jl#L101\" target=\"_blank\">multidimensional.jl:101</a></li> <li> +<i>{N}</i>(index::<b>CartesianIndex{N}</b>, i::<b>Integer</b>) at <a href=\"https://github.com/JuliaLang/julia/tree/d386e40c17d43b79fc89d3e579fc04547241787c/base/multidimensional.jl#L111\" target=\"_blank\">multidimensional.jl:111</a></li> <li> +(J1::<b>UniformScaling</b>, J2::<b>UniformScaling</b>) at <a href=\"https://github.com/JuliaLang/julia/tree/d386e40c17d43b79fc89d3e579fc04547241787c/base/linalg/uniformscaling.jl#L58\" target=\"_blank\">linalg/uniformscaling.jl:58</a></li> <li> +(J::<b>UniformScaling</b>, B::<b>BitArray{2}</b>) at <a href=\"https://github.com/JuliaLang/julia/tree/d386e40c17d43b79fc89d3e579fc04547241787c/base/linalg/uniformscaling.jl#L60\" target=\"_blank\">linalg/uniformscaling.jl:60</a></li> <li> +(J::<b>UniformScaling</b>, A::<b>AbstractArray{T,2} where T</b>) at <a href=\"https://github.com/JuliaLang/julia/tree/d386e40c17d43b79fc89d3e579fc04547241787c/base/linalg/uniformscaling.jl#L61\" target=\"_blank\">linalg/uniformscaling.jl:61</a></li> <li> +<i>{T}</i>(a::<b>Base.Pkg.Resolve.VersionWeights.HierarchicalValue{T}</b>, b::<b>Base.Pkg.Resolve.VersionWeights.HierarchicalValue{T}</b>) at <a href=\"https://github.com/JuliaLang/julia/tree/d386e40c17d43b79fc89d3e579fc04547241787c/base/pkg/resolve/versionweight.jl#L23\" target=\"_blank\">pkg/resolve/versionweight.jl:23</a></li> <li> +<i>{P<:Base.Dates.Period}</i>(x::<b>P</b>, y::<b>P</b>) at <a href=\"https://github.com/JuliaLang/julia/tree/d386e40c17d43b79fc89d3e579fc04547241787c/base/dates/periods.jl#L70\" target=\"_blank\">dates/periods.jl:70</a></li> <li> +(x::<b>Base.Dates.Period</b>, y::<b>Base.Dates.Period</b>) at <a href=\"https://github.com/JuliaLang/julia/tree/d386e40c17d43b79fc89d3e579fc04547241787c/base/dates/periods.jl#L346\" target=\"_blank\">dates/periods.jl:346</a></li> <li> +(y::<b>Base.Dates.Period</b>, x::<b>Base.Dates.CompoundPeriod</b>) at <a href=\"https://github.com/JuliaLang/julia/tree/d386e40c17d43b79fc89d3e579fc04547241787c/base/dates/periods.jl#L348\" target=\"_blank\">dates/periods.jl:348</a></li> <li> +(x::<b>Union{Base.Dates.CompoundPeriod, Base.Dates.Period}</b>) at <a href=\"https://github.com/JuliaLang/julia/tree/d386e40c17d43b79fc89d3e579fc04547241787c/base/dates/periods.jl#L357\" target=\"_blank\">dates/periods.jl:357</a></li> <li> +(x::<b>Union{Base.Dates.CompoundPeriod, Base.Dates.Period}</b>, Y::<b>Union{Base.ReshapedArray{#s268,N,A,MI} where MI<:Tuple{Vararg{Base.MultiplicativeInverses.SignedMultiplicativeInverse{Int64},N} where N} where A<:Union{DenseArray, SubArray{T,N,P,I,true} where I<:Tuple{Union{Base.Slice, UnitRange},Vararg{Any,N} where N} where P where N where T}, DenseArray{#s268,N}, SubArray{#s268,N,A,I,L} where L} where I<:Tuple{Vararg{Union{Base.AbstractCartesianIndex, Int64, Range{Int64}},N} where N} where A<:Union{Base.ReshapedArray{T,N,A,MI} where MI<:Tuple{Vararg{Base.MultiplicativeInverses.SignedMultiplicativeInverse{Int64},N} where N} where A<:Union{DenseArray, SubArray{T,N,P,I,true} where I<:Tuple{Union{Base.Slice, UnitRange},Vararg{Any,N} where N} where P where N where T} where N where T, DenseArray} where N where #s268<:Union{Base.Dates.CompoundPeriod, Base.Dates.Period}</b>) at <a href=\"https://github.com/JuliaLang/julia/tree/d386e40c17d43b79fc89d3e579fc04547241787c/base/dates/periods.jl#L362\" target=\"_blank\">dates/periods.jl:362</a></li> <li> +(x::<b>Base.Dates.TimeType</b>) at <a href=\"https://github.com/JuliaLang/julia/tree/d386e40c17d43b79fc89d3e579fc04547241787c/base/dates/arithmetic.jl#L8\" target=\"_blank\">dates/arithmetic.jl:8</a></li> <li> +(a::<b>Base.Dates.TimeType</b>, b::<b>Base.Dates.Period</b>, c::<b>Base.Dates.Period</b>) at <a href=\"https://github.com/JuliaLang/julia/tree/d386e40c17d43b79fc89d3e579fc04547241787c/base/dates/periods.jl#L378\" target=\"_blank\">dates/periods.jl:378</a></li> <li> +(a::<b>Base.Dates.TimeType</b>, b::<b>Base.Dates.Period</b>, c::<b>Base.Dates.Period</b>, d::<b>Base.Dates.Period...</b>) at <a href=\"https://github.com/JuliaLang/julia/tree/d386e40c17d43b79fc89d3e579fc04547241787c/base/dates/periods.jl#L379\" target=\"_blank\">dates/periods.jl:379</a></li> <li> +(x::<b>Base.Dates.TimeType</b>, y::<b>Base.Dates.CompoundPeriod</b>) at <a href=\"https://github.com/JuliaLang/julia/tree/d386e40c17d43b79fc89d3e579fc04547241787c/base/dates/periods.jl#L382\" target=\"_blank\">dates/periods.jl:382</a></li> <li> +(x::<b>Base.Dates.Instant</b>) at <a href=\"https://github.com/JuliaLang/julia/tree/d386e40c17d43b79fc89d3e579fc04547241787c/base/dates/arithmetic.jl#L4\" target=\"_blank\">dates/arithmetic.jl:4</a></li> <li> +(y::<b>Base.Dates.Period</b>, x::<b>Base.Dates.TimeType</b>) at <a href=\"https://github.com/JuliaLang/julia/tree/d386e40c17d43b79fc89d3e579fc04547241787c/base/dates/arithmetic.jl#L83\" target=\"_blank\">dates/arithmetic.jl:83</a></li> <li> +(x::<b>AbstractArray{#s268,N} where N where #s268<:Base.Dates.TimeType</b>, y::<b>Union{Base.Dates.CompoundPeriod, Base.Dates.Period}</b>) at <a href=\"https://github.com/JuliaLang/julia/tree/d386e40c17d43b79fc89d3e579fc04547241787c/base/dates/arithmetic.jl#L85\" target=\"_blank\">dates/arithmetic.jl:85</a></li> <li> +(x::<b>Base.Dates.Period</b>, r::<b>Range{#s268} where #s268<:Base.Dates.TimeType</b>) at <a href=\"https://github.com/JuliaLang/julia/tree/d386e40c17d43b79fc89d3e579fc04547241787c/base/dates/ranges.jl#L46\" target=\"_blank\">dates/ranges.jl:46</a></li> <li> +(y::<b>Union{Base.Dates.CompoundPeriod, Base.Dates.Period}</b>, x::<b>AbstractArray{#s268,N} where N where #s268<:Base.Dates.TimeType</b>) at <a href=\"https://github.com/JuliaLang/julia/tree/d386e40c17d43b79fc89d3e579fc04547241787c/base/dates/arithmetic.jl#L87\" target=\"_blank\">dates/arithmetic.jl:87</a></li> <li> +(y::<b>Base.Dates.TimeType</b>, x::<b>Union{Base.ReshapedArray{#s268,N,A,MI} where MI<:Tuple{Vararg{Base.MultiplicativeInverses.SignedMultiplicativeInverse{Int64},N} where N} where A<:Union{DenseArray, SubArray{T,N,P,I,true} where I<:Tuple{Union{Base.Slice, UnitRange},Vararg{Any,N} where N} where P where N where T}, DenseArray{#s268,N}, SubArray{#s268,N,A,I,L} where L} where I<:Tuple{Vararg{Union{Base.AbstractCartesianIndex, Int64, Range{Int64}},N} where N} where A<:Union{Base.ReshapedArray{T,N,A,MI} where MI<:Tuple{Vararg{Base.MultiplicativeInverses.SignedMultiplicativeInverse{Int64},N} where N} where A<:Union{DenseArray, SubArray{T,N,P,I,true} where I<:Tuple{Union{Base.Slice, UnitRange},Vararg{Any,N} where N} where P where N where T} where N where T, DenseArray} where N where #s268<:Union{Base.Dates.CompoundPeriod, Base.Dates.Period}</b>) at <a href=\"https://github.com/JuliaLang/julia/tree/d386e40c17d43b79fc89d3e579fc04547241787c/base/dates/arithmetic.jl#L88\" target=\"_blank\">dates/arithmetic.jl:88</a></li> <li> +(J::<b>UniformScaling</b>, x::<b>Number</b>) at <a href=\"https://github.com/JuliaLang/julia/tree/d386e40c17d43b79fc89d3e579fc04547241787c/base/deprecated.jl#L56\" target=\"_blank\">deprecated.jl:56</a></li> <li> +(x::<b>Number</b>, J::<b>UniformScaling</b>) at <a href=\"https://github.com/JuliaLang/julia/tree/d386e40c17d43b79fc89d3e579fc04547241787c/base/deprecated.jl#L56\" target=\"_blank\">deprecated.jl:56</a></li> <li> +<i>{C<:Union{ColorTypes.LMS, ColorTypes.XYZ}}</i>(a::<b>C</b>, b::<b>C</b>) at <a href=\"https://github.com/JuliaGraphics/Colors.jl/tree/ca2e384665e86ac27b29579c3b557758bbe4937e//src/algorithms.jl#L4\" target=\"_blank\">/Users/rawlik/.julia/v0.6/Colors/src/algorithms.jl:4</a></li> <li> +(a, b::<b>PyCall.PyObject</b>) at <a href=\"https://github.com/JuliaPy/PyCall.jl/tree/53d870d4f13e72c362a58705ee3927e11075c478//src/pyoperators.jl#L15\" target=\"_blank\">/Users/rawlik/.julia/v0.6/PyCall/src/pyoperators.jl:15</a></li> <li> +(a, b, c, xs...) at <a href=\"https://github.com/JuliaLang/julia/tree/d386e40c17d43b79fc89d3e579fc04547241787c/base/operators.jl#L424\" target=\"_blank\">operators.jl:424</a></li> </ul>"
      ],
      "text/plain": [
       "# 187 methods for generic function \"+\":\n",
       "+(x::Bool, z::Complex{Bool}) in Base at complex.jl:232\n",
       "+(x::Bool, y::Bool) in Base at bool.jl:89\n",
       "+(x::Bool) in Base at bool.jl:86\n",
       "+(x::Bool, y::T) where T<:AbstractFloat in Base at bool.jl:96\n",
       "+(x::Bool, z::Complex) in Base at complex.jl:239\n",
       "+(a::Float16, b::Float16) in Base at float.jl:372\n",
       "+(x::Float32, y::Float32) in Base at float.jl:374\n",
       "+(x::Float64, y::Float64) in Base at float.jl:375\n",
       "+(z::Complex{Bool}, x::Bool) in Base at complex.jl:233\n",
       "+(z::Complex{Bool}, x::Real) in Base at complex.jl:247\n",
       "+(x::Char, y::Integer) in Base at char.jl:40\n",
       "+(c::BigInt, x::BigFloat) in Base.MPFR at mpfr.jl:312\n",
       "+(a::BigInt, b::BigInt, c::BigInt, d::BigInt, e::BigInt) in Base.GMP at gmp.jl:334\n",
       "+(a::BigInt, b::BigInt, c::BigInt, d::BigInt) in Base.GMP at gmp.jl:327\n",
       "+(a::BigInt, b::BigInt, c::BigInt) in Base.GMP at gmp.jl:321\n",
       "+(x::BigInt, y::BigInt) in Base.GMP at gmp.jl:289\n",
       "+(x::BigInt, c::Union{UInt16, UInt32, UInt64, UInt8}) in Base.GMP at gmp.jl:346\n",
       "+(x::BigInt, c::Union{Int16, Int32, Int64, Int8}) in Base.GMP at gmp.jl:362\n",
       "+(a::BigFloat, b::BigFloat, c::BigFloat, d::BigFloat, e::BigFloat) in Base.MPFR at mpfr.jl:460\n",
       "+(a::BigFloat, b::BigFloat, c::BigFloat, d::BigFloat) in Base.MPFR at mpfr.jl:453\n",
       "+(a::BigFloat, b::BigFloat, c::BigFloat) in Base.MPFR at mpfr.jl:447\n",
       "+(x::BigFloat, c::BigInt) in Base.MPFR at mpfr.jl:308\n",
       "+(x::BigFloat, y::BigFloat) in Base.MPFR at mpfr.jl:277\n",
       "+(x::BigFloat, c::Union{UInt16, UInt32, UInt64, UInt8}) in Base.MPFR at mpfr.jl:284\n",
       "+(x::BigFloat, c::Union{Int16, Int32, Int64, Int8}) in Base.MPFR at mpfr.jl:292\n",
       "+(x::BigFloat, c::Union{Float16, Float32, Float64}) in Base.MPFR at mpfr.jl:300\n",
       "+(B::BitArray{2}, J::UniformScaling) in Base.LinAlg at linalg/uniformscaling.jl:59\n",
       "+(a::Base.Pkg.Resolve.VersionWeights.VWPreBuildItem, b::Base.Pkg.Resolve.VersionWeights.VWPreBuildItem) in Base.Pkg.Resolve.VersionWeights at pkg/resolve/versionweight.jl:87\n",
       "+(a::Base.Pkg.Resolve.VersionWeights.VWPreBuild, b::Base.Pkg.Resolve.VersionWeights.VWPreBuild) in Base.Pkg.Resolve.VersionWeights at pkg/resolve/versionweight.jl:135\n",
       "+(a::Base.Pkg.Resolve.VersionWeights.VersionWeight, b::Base.Pkg.Resolve.VersionWeights.VersionWeight) in Base.Pkg.Resolve.VersionWeights at pkg/resolve/versionweight.jl:197\n",
       "+(a::Base.Pkg.Resolve.MaxSum.FieldValues.FieldValue, b::Base.Pkg.Resolve.MaxSum.FieldValues.FieldValue) in Base.Pkg.Resolve.MaxSum.FieldValues at pkg/resolve/fieldvalue.jl:44\n",
       "+(x::Base.Dates.CompoundPeriod, y::Base.Dates.CompoundPeriod) in Base.Dates at dates/periods.jl:349\n",
       "+(x::Base.Dates.CompoundPeriod, y::Base.Dates.Period) in Base.Dates at dates/periods.jl:347\n",
       "+(x::Base.Dates.CompoundPeriod, y::Base.Dates.TimeType) in Base.Dates at dates/periods.jl:387\n",
       "+(x::Date, y::Base.Dates.Day) in Base.Dates at dates/arithmetic.jl:77\n",
       "+(x::Date, y::Base.Dates.Week) in Base.Dates at dates/arithmetic.jl:75\n",
       "+(dt::Date, z::Base.Dates.Month) in Base.Dates at dates/arithmetic.jl:58\n",
       "+(dt::Date, y::Base.Dates.Year) in Base.Dates at dates/arithmetic.jl:32\n",
       "+(dt::Date, t::Base.Dates.Time) in Base.Dates at dates/arithmetic.jl:20\n",
       "+(t::Base.Dates.Time, dt::Date) in Base.Dates at dates/arithmetic.jl:24\n",
       "+(x::Base.Dates.Time, y::Base.Dates.TimePeriod) in Base.Dates at dates/arithmetic.jl:81\n",
       "+(dt::DateTime, z::Base.Dates.Month) in Base.Dates at dates/arithmetic.jl:52\n",
       "+(dt::DateTime, y::Base.Dates.Year) in Base.Dates at dates/arithmetic.jl:28\n",
       "+(x::DateTime, y::Base.Dates.Period) in Base.Dates at dates/arithmetic.jl:79\n",
       "+(a::PyCall.PyObject, b::PyCall.PyObject) in PyCall at /Users/rawlik/.julia/v0.6/PyCall/src/pyoperators.jl:12\n",
       "+(a::PyCall.PyObject) in PyCall at /Users/rawlik/.julia/v0.6/PyCall/src/pyoperators.jl:42\n",
       "+(a::PyCall.PyObject, b) in PyCall at /Users/rawlik/.julia/v0.6/PyCall/src/pyoperators.jl:14\n",
       "+(y::AbstractFloat, x::Bool) in Base at bool.jl:98\n",
       "+(x::T, y::T) where T<:Union{Int128, Int16, Int32, Int64, Int8, UInt128, UInt16, UInt32, UInt64, UInt8} in Base at int.jl:32\n",
       "+(x::Integer, y::Ptr) in Base at pointer.jl:128\n",
       "+(z::Complex, w::Complex) in Base at complex.jl:221\n",
       "+(z::Complex, x::Bool) in Base at complex.jl:240\n",
       "+(x::Real, z::Complex{Bool}) in Base at complex.jl:246\n",
       "+(x::Real, z::Complex) in Base at complex.jl:258\n",
       "+(z::Complex, x::Real) in Base at complex.jl:259\n",
       "+(x::Rational, y::Rational) in Base at rational.jl:245\n",
       "+(x::Integer, y::Char) in Base at char.jl:41\n",
       "+(i::Integer, index::CartesianIndex) in Base.IteratorsMD at multidimensional.jl:110\n",
       "+(c::Union{UInt16, UInt32, UInt64, UInt8}, x::BigInt) in Base.GMP at gmp.jl:350\n",
       "+(c::Union{Int16, Int32, Int64, Int8}, x::BigInt) in Base.GMP at gmp.jl:363\n",
       "+(c::Union{UInt16, UInt32, UInt64, UInt8}, x::BigFloat) in Base.MPFR at mpfr.jl:288\n",
       "+(c::Union{Int16, Int32, Int64, Int8}, x::BigFloat) in Base.MPFR at mpfr.jl:296\n",
       "+(c::Union{Float16, Float32, Float64}, x::BigFloat) in Base.MPFR at mpfr.jl:304\n",
       "+(x::Irrational, y::Irrational) in Base at irrationals.jl:109\n",
       "+(x::Real, r::Base.Use_StepRangeLen_Instead) in Base at deprecated.jl:1232\n",
       "+(x::FixedPointNumbers.Fixed{T,f}, y::FixedPointNumbers.Fixed{T,f}) where {T, f} in FixedPointNumbers at /Users/rawlik/.julia/v0.6/FixedPointNumbers/src/fixed.jl:34\n",
       "+(x::FixedPointNumbers.Normed{T,f}, y::FixedPointNumbers.Normed{T,f}) where {T, f} in FixedPointNumbers at /Users/rawlik/.julia/v0.6/FixedPointNumbers/src/normed.jl:93\n",
       "+(x::Number) in Base at operators.jl:399\n",
       "+(x::T, y::T) where T<:Number in Base at promotion.jl:335\n",
       "+(x::Number, y::Number) in Base at promotion.jl:249\n",
       "+(x::Real, r::AbstractUnitRange) in Base at range.jl:721\n",
       "+(x::Number, r::AbstractUnitRange) in Base at range.jl:723\n",
       "+(x::Number, r::StepRangeLen) in Base at range.jl:726\n",
       "+(x::Number, r::LinSpace) in Base at range.jl:730\n",
       "+(x::Number, r::Range) in Base at range.jl:724\n",
       "+(r::Range, x::Number) in Base at range.jl:732\n",
       "+(r1::OrdinalRange, r2::OrdinalRange) in Base at range.jl:882\n",
       "+(r1::LinSpace{T}, r2::LinSpace{T}) where T in Base at range.jl:889\n",
       "+(r1::StepRangeLen{T,R,S} where S, r2::StepRangeLen{T,R,S} where S) where {R<:Base.TwicePrecision, T} in Base at twiceprecision.jl:300\n",
       "+(r1::StepRangeLen{T,S,S} where S, r2::StepRangeLen{T,S,S} where S) where {T, S} in Base at range.jl:905\n",
       "+(r1::Union{LinSpace, OrdinalRange, StepRangeLen}, r2::Union{LinSpace, OrdinalRange, StepRangeLen}) in Base at range.jl:897\n",
       "+(x::Base.TwicePrecision, y::Number) in Base at twiceprecision.jl:455\n",
       "+(x::Number, y::Base.TwicePrecision) in Base at twiceprecision.jl:458\n",
       "+(x::Base.TwicePrecision{T}, y::Base.TwicePrecision{T}) where T in Base at twiceprecision.jl:461\n",
       "+(x::Base.TwicePrecision, y::Base.TwicePrecision) in Base at twiceprecision.jl:465\n",
       "+(x::Ptr, y::Integer) in Base at pointer.jl:126\n",
       "+(A::BitArray, B::BitArray) in Base at bitarray.jl:1177\n",
       "+(A::SymTridiagonal, B::SymTridiagonal) in Base.LinAlg at linalg/tridiag.jl:128\n",
       "+(A::Tridiagonal, B::Tridiagonal) in Base.LinAlg at linalg/tridiag.jl:624\n",
       "+(A::UpperTriangular, B::UpperTriangular) in Base.LinAlg at linalg/triangular.jl:419\n",
       "+(A::LowerTriangular, B::LowerTriangular) in Base.LinAlg at linalg/triangular.jl:420\n",
       "+(A::UpperTriangular, B::Base.LinAlg.UnitUpperTriangular) in Base.LinAlg at linalg/triangular.jl:421\n",
       "+(A::LowerTriangular, B::Base.LinAlg.UnitLowerTriangular) in Base.LinAlg at linalg/triangular.jl:422\n",
       "+(A::Base.LinAlg.UnitUpperTriangular, B::UpperTriangular) in Base.LinAlg at linalg/triangular.jl:423\n",
       "+(A::Base.LinAlg.UnitLowerTriangular, B::LowerTriangular) in Base.LinAlg at linalg/triangular.jl:424\n",
       "+(A::Base.LinAlg.UnitUpperTriangular, B::Base.LinAlg.UnitUpperTriangular) in Base.LinAlg at linalg/triangular.jl:425\n",
       "+(A::Base.LinAlg.UnitLowerTriangular, B::Base.LinAlg.UnitLowerTriangular) in Base.LinAlg at linalg/triangular.jl:426\n",
       "+(A::Base.LinAlg.AbstractTriangular, B::Base.LinAlg.AbstractTriangular) in Base.LinAlg at linalg/triangular.jl:427\n",
       "+(A::Symmetric, x::Bool) in Base.LinAlg at linalg/symmetric.jl:274\n",
       "+(A::Symmetric, x::Number) in Base.LinAlg at linalg/symmetric.jl:276\n",
       "+(A::Hermitian, x::Bool) in Base.LinAlg at linalg/symmetric.jl:274\n",
       "+(A::Hermitian, x::Real) in Base.LinAlg at linalg/symmetric.jl:276\n",
       "+(Da::Diagonal, Db::Diagonal) in Base.LinAlg at linalg/diagonal.jl:140\n",
       "+(A::Bidiagonal, B::Bidiagonal) in Base.LinAlg at linalg/bidiag.jl:330\n",
       "+(UL::UpperTriangular, J::UniformScaling) in Base.LinAlg at linalg/uniformscaling.jl:72\n",
       "+(UL::Base.LinAlg.UnitUpperTriangular, J::UniformScaling) in Base.LinAlg at linalg/uniformscaling.jl:75\n",
       "+(UL::LowerTriangular, J::UniformScaling) in Base.LinAlg at linalg/uniformscaling.jl:72\n",
       "+(UL::Base.LinAlg.UnitLowerTriangular, J::UniformScaling) in Base.LinAlg at linalg/uniformscaling.jl:75\n",
       "+(A::Array, B::SparseMatrixCSC) in Base.SparseArrays at sparse/sparsematrix.jl:1541\n",
       "+(x::Union{Base.ReshapedArray{T,1,A,MI} where MI<:Tuple{Vararg{Base.MultiplicativeInverses.SignedMultiplicativeInverse{Int64},N} where N} where A<:Union{DenseArray, SubArray{T,N,P,I,true} where I<:Tuple{Union{Base.Slice, UnitRange},Vararg{Any,N} where N} where P where N where T}, DenseArray{T,1}, SubArray{T,1,A,I,L} where L} where I<:Tuple{Vararg{Union{Base.AbstractCartesianIndex, Int64, Range{Int64}},N} where N} where A<:Union{Base.ReshapedArray{T,N,A,MI} where MI<:Tuple{Vararg{Base.MultiplicativeInverses.SignedMultiplicativeInverse{Int64},N} where N} where A<:Union{DenseArray, SubArray{T,N,P,I,true} where I<:Tuple{Union{Base.Slice, UnitRange},Vararg{Any,N} where N} where P where N where T} where N where T, DenseArray} where T, y::AbstractSparseArray{Tv,Ti,1} where Ti where Tv) in Base.SparseArrays at sparse/sparsevector.jl:1340\n",
       "+(x::Union{Base.ReshapedArray{#s268,N,A,MI} where MI<:Tuple{Vararg{Base.MultiplicativeInverses.SignedMultiplicativeInverse{Int64},N} where N} where A<:Union{DenseArray, SubArray{T,N,P,I,true} where I<:Tuple{Union{Base.Slice, UnitRange},Vararg{Any,N} where N} where P where N where T}, DenseArray{#s268,N}, SubArray{#s268,N,A,I,L} where L} where I<:Tuple{Vararg{Union{Base.AbstractCartesianIndex, Int64, Range{Int64}},N} where N} where A<:Union{Base.ReshapedArray{T,N,A,MI} where MI<:Tuple{Vararg{Base.MultiplicativeInverses.SignedMultiplicativeInverse{Int64},N} where N} where A<:Union{DenseArray, SubArray{T,N,P,I,true} where I<:Tuple{Union{Base.Slice, UnitRange},Vararg{Any,N} where N} where P where N where T} where N where T, DenseArray} where N where #s268<:Union{Base.Dates.CompoundPeriod, Base.Dates.Period}) in Base.Dates at dates/periods.jl:358\n",
       "+(A::SparseMatrixCSC, J::UniformScaling) in Base.SparseArrays at sparse/sparsematrix.jl:3608\n",
       "+(A::AbstractArray{TA,2}, J::UniformScaling{TJ}) where {TA, TJ} in Base.LinAlg at linalg/uniformscaling.jl:119\n",
       "+(A::Diagonal, B::Bidiagonal) in Base.LinAlg at linalg/special.jl:113\n",
       "+(A::Bidiagonal, B::Diagonal) in Base.LinAlg at linalg/special.jl:114\n",
       "+(A::Diagonal, B::Tridiagonal) in Base.LinAlg at linalg/special.jl:113\n",
       "+(A::Tridiagonal, B::Diagonal) in Base.LinAlg at linalg/special.jl:114\n",
       "+(A::Diagonal, B::Array{T,2} where T) in Base.LinAlg at linalg/special.jl:113\n",
       "+(A::Array{T,2} where T, B::Diagonal) in Base.LinAlg at linalg/special.jl:114\n",
       "+(A::Bidiagonal, B::Tridiagonal) in Base.LinAlg at linalg/special.jl:113\n",
       "+(A::Tridiagonal, B::Bidiagonal) in Base.LinAlg at linalg/special.jl:114\n",
       "+(A::Bidiagonal, B::Array{T,2} where T) in Base.LinAlg at linalg/special.jl:113\n",
       "+(A::Array{T,2} where T, B::Bidiagonal) in Base.LinAlg at linalg/special.jl:114\n",
       "+(A::Tridiagonal, B::Array{T,2} where T) in Base.LinAlg at linalg/special.jl:113\n",
       "+(A::Array{T,2} where T, B::Tridiagonal) in Base.LinAlg at linalg/special.jl:114\n",
       "+(A::SymTridiagonal, B::Tridiagonal) in Base.LinAlg at linalg/special.jl:122\n",
       "+(A::Tridiagonal, B::SymTridiagonal) in Base.LinAlg at linalg/special.jl:123\n",
       "+(A::SymTridiagonal, B::Array{T,2} where T) in Base.LinAlg at linalg/special.jl:122\n",
       "+(A::Array{T,2} where T, B::SymTridiagonal) in Base.LinAlg at linalg/special.jl:123\n",
       "+(A::Diagonal, B::SymTridiagonal) in Base.LinAlg at linalg/special.jl:131\n",
       "+(A::SymTridiagonal, B::Diagonal) in Base.LinAlg at linalg/special.jl:132\n",
       "+(A::Bidiagonal, B::SymTridiagonal) in Base.LinAlg at linalg/special.jl:131\n",
       "+(A::SymTridiagonal, B::Bidiagonal) in Base.LinAlg at linalg/special.jl:132\n",
       "+(A::Diagonal, B::UpperTriangular) in Base.LinAlg at linalg/special.jl:143\n",
       "+(A::UpperTriangular, B::Diagonal) in Base.LinAlg at linalg/special.jl:144\n",
       "+(A::Diagonal, B::Base.LinAlg.UnitUpperTriangular) in Base.LinAlg at linalg/special.jl:143\n",
       "+(A::Base.LinAlg.UnitUpperTriangular, B::Diagonal) in Base.LinAlg at linalg/special.jl:144\n",
       "+(A::Diagonal, B::LowerTriangular) in Base.LinAlg at linalg/special.jl:143\n",
       "+(A::LowerTriangular, B::Diagonal) in Base.LinAlg at linalg/special.jl:144\n",
       "+(A::Diagonal, B::Base.LinAlg.UnitLowerTriangular) in Base.LinAlg at linalg/special.jl:143\n",
       "+(A::Base.LinAlg.UnitLowerTriangular, B::Diagonal) in Base.LinAlg at linalg/special.jl:144\n",
       "+(A::Base.LinAlg.AbstractTriangular, B::SymTridiagonal) in Base.LinAlg at linalg/special.jl:150\n",
       "+(A::SymTridiagonal, B::Base.LinAlg.AbstractTriangular) in Base.LinAlg at linalg/special.jl:151\n",
       "+(A::Base.LinAlg.AbstractTriangular, B::Tridiagonal) in Base.LinAlg at linalg/special.jl:150\n",
       "+(A::Tridiagonal, B::Base.LinAlg.AbstractTriangular) in Base.LinAlg at linalg/special.jl:151\n",
       "+(A::Base.LinAlg.AbstractTriangular, B::Bidiagonal) in Base.LinAlg at linalg/special.jl:150\n",
       "+(A::Bidiagonal, B::Base.LinAlg.AbstractTriangular) in Base.LinAlg at linalg/special.jl:151\n",
       "+(A::Base.LinAlg.AbstractTriangular, B::Array{T,2} where T) in Base.LinAlg at linalg/special.jl:150\n",
       "+(A::Array{T,2} where T, B::Base.LinAlg.AbstractTriangular) in Base.LinAlg at linalg/special.jl:151\n",
       "+(Y::Union{Base.ReshapedArray{#s267,N,A,MI} where MI<:Tuple{Vararg{Base.MultiplicativeInverses.SignedMultiplicativeInverse{Int64},N} where N} where A<:Union{DenseArray, SubArray{T,N,P,I,true} where I<:Tuple{Union{Base.Slice, UnitRange},Vararg{Any,N} where N} where P where N where T}, DenseArray{#s267,N}, SubArray{#s267,N,A,I,L} where L} where I<:Tuple{Vararg{Union{Base.AbstractCartesianIndex, Int64, Range{Int64}},N} where N} where A<:Union{Base.ReshapedArray{T,N,A,MI} where MI<:Tuple{Vararg{Base.MultiplicativeInverses.SignedMultiplicativeInverse{Int64},N} where N} where A<:Union{DenseArray, SubArray{T,N,P,I,true} where I<:Tuple{Union{Base.Slice, UnitRange},Vararg{Any,N} where N} where P where N where T} where N where T, DenseArray} where N where #s267<:Union{Base.Dates.CompoundPeriod, Base.Dates.Period}, x::Union{Base.Dates.CompoundPeriod, Base.Dates.Period}) in Base.Dates at dates/periods.jl:363\n",
       "+(X::Union{Base.ReshapedArray{#s266,N,A,MI} where MI<:Tuple{Vararg{Base.MultiplicativeInverses.SignedMultiplicativeInverse{Int64},N} where N} where A<:Union{DenseArray, SubArray{T,N,P,I,true} where I<:Tuple{Union{Base.Slice, UnitRange},Vararg{Any,N} where N} where P where N where T}, DenseArray{#s266,N}, SubArray{#s266,N,A,I,L} where L} where I<:Tuple{Vararg{Union{Base.AbstractCartesianIndex, Int64, Range{Int64}},N} where N} where A<:Union{Base.ReshapedArray{T,N,A,MI} where MI<:Tuple{Vararg{Base.MultiplicativeInverses.SignedMultiplicativeInverse{Int64},N} where N} where A<:Union{DenseArray, SubArray{T,N,P,I,true} where I<:Tuple{Union{Base.Slice, UnitRange},Vararg{Any,N} where N} where P where N where T} where N where T, DenseArray} where N where #s266<:Union{Base.Dates.CompoundPeriod, Base.Dates.Period}, Y::Union{Base.ReshapedArray{#s265,N,A,MI} where MI<:Tuple{Vararg{Base.MultiplicativeInverses.SignedMultiplicativeInverse{Int64},N} where N} where A<:Union{DenseArray, SubArray{T,N,P,I,true} where I<:Tuple{Union{Base.Slice, UnitRange},Vararg{Any,N} where N} where P where N where T}, DenseArray{#s265,N}, SubArray{#s265,N,A,I,L} where L} where I<:Tuple{Vararg{Union{Base.AbstractCartesianIndex, Int64, Range{Int64}},N} where N} where A<:Union{Base.ReshapedArray{T,N,A,MI} where MI<:Tuple{Vararg{Base.MultiplicativeInverses.SignedMultiplicativeInverse{Int64},N} where N} where A<:Union{DenseArray, SubArray{T,N,P,I,true} where I<:Tuple{Union{Base.Slice, UnitRange},Vararg{Any,N} where N} where P where N where T} where N where T, DenseArray} where N where #s265<:Union{Base.Dates.CompoundPeriod, Base.Dates.Period}) in Base.Dates at dates/periods.jl:364\n",
       "+(x::Union{Base.ReshapedArray{#s268,N,A,MI} where MI<:Tuple{Vararg{Base.MultiplicativeInverses.SignedMultiplicativeInverse{Int64},N} where N} where A<:Union{DenseArray, SubArray{T,N,P,I,true} where I<:Tuple{Union{Base.Slice, UnitRange},Vararg{Any,N} where N} where P where N where T}, DenseArray{#s268,N}, SubArray{#s268,N,A,I,L} where L} where I<:Tuple{Vararg{Union{Base.AbstractCartesianIndex, Int64, Range{Int64}},N} where N} where A<:Union{Base.ReshapedArray{T,N,A,MI} where MI<:Tuple{Vararg{Base.MultiplicativeInverses.SignedMultiplicativeInverse{Int64},N} where N} where A<:Union{DenseArray, SubArray{T,N,P,I,true} where I<:Tuple{Union{Base.Slice, UnitRange},Vararg{Any,N} where N} where P where N where T} where N where T, DenseArray} where N where #s268<:Union{Base.Dates.CompoundPeriod, Base.Dates.Period}, y::Base.Dates.TimeType) in Base.Dates at dates/arithmetic.jl:86\n",
       "+(r::Range{#s268} where #s268<:Base.Dates.TimeType, x::Base.Dates.Period) in Base.Dates at dates/ranges.jl:47\n",
       "+(A::SparseMatrixCSC, B::SparseMatrixCSC) in Base.SparseArrays at sparse/sparsematrix.jl:1537\n",
       "+(A::SparseMatrixCSC, B::Array) in Base.SparseArrays at sparse/sparsematrix.jl:1540\n",
       "+(x::AbstractSparseArray{Tv,Ti,1} where Ti where Tv, y::AbstractSparseArray{Tv,Ti,1} where Ti where Tv) in Base.SparseArrays at sparse/sparsevector.jl:1339\n",
       "+(x::AbstractSparseArray{Tv,Ti,1} where Ti where Tv, y::Union{Base.ReshapedArray{T,1,A,MI} where MI<:Tuple{Vararg{Base.MultiplicativeInverses.SignedMultiplicativeInverse{Int64},N} where N} where A<:Union{DenseArray, SubArray{T,N,P,I,true} where I<:Tuple{Union{Base.Slice, UnitRange},Vararg{Any,N} where N} where P where N where T}, DenseArray{T,1}, SubArray{T,1,A,I,L} where L} where I<:Tuple{Vararg{Union{Base.AbstractCartesianIndex, Int64, Range{Int64}},N} where N} where A<:Union{Base.ReshapedArray{T,N,A,MI} where MI<:Tuple{Vararg{Base.MultiplicativeInverses.SignedMultiplicativeInverse{Int64},N} where N} where A<:Union{DenseArray, SubArray{T,N,P,I,true} where I<:Tuple{Union{Base.Slice, UnitRange},Vararg{Any,N} where N} where P where N where T} where N where T, DenseArray} where T) in Base.SparseArrays at sparse/sparsevector.jl:1341\n",
       "+(x::AbstractArray{#s45,N} where N where #s45<:Number) in Base at abstractarraymath.jl:95\n",
       "+(A::AbstractArray, B::AbstractArray) in Base at arraymath.jl:38\n",
       "+(A::Number, B::AbstractArray) in Base at arraymath.jl:45\n",
       "+(A::AbstractArray, B::Number) in Base at arraymath.jl:48\n",
       "+(index1::CartesianIndex{N}, index2::CartesianIndex{N}) where N in Base.IteratorsMD at multidimensional.jl:101\n",
       "+(index::CartesianIndex{N}, i::Integer) where N in Base.IteratorsMD at multidimensional.jl:111\n",
       "+(J1::UniformScaling, J2::UniformScaling) in Base.LinAlg at linalg/uniformscaling.jl:58\n",
       "+(J::UniformScaling, B::BitArray{2}) in Base.LinAlg at linalg/uniformscaling.jl:60\n",
       "+(J::UniformScaling, A::AbstractArray{T,2} where T) in Base.LinAlg at linalg/uniformscaling.jl:61\n",
       "+(a::Base.Pkg.Resolve.VersionWeights.HierarchicalValue{T}, b::Base.Pkg.Resolve.VersionWeights.HierarchicalValue{T}) where T in Base.Pkg.Resolve.VersionWeights at pkg/resolve/versionweight.jl:23\n",
       "+(x::P, y::P) where P<:Base.Dates.Period in Base.Dates at dates/periods.jl:70\n",
       "+(x::Base.Dates.Period, y::Base.Dates.Period) in Base.Dates at dates/periods.jl:346\n",
       "+(y::Base.Dates.Period, x::Base.Dates.CompoundPeriod) in Base.Dates at dates/periods.jl:348\n",
       "+(x::Union{Base.Dates.CompoundPeriod, Base.Dates.Period}) in Base.Dates at dates/periods.jl:357\n",
       "+(x::Union{Base.Dates.CompoundPeriod, Base.Dates.Period}, Y::Union{Base.ReshapedArray{#s268,N,A,MI} where MI<:Tuple{Vararg{Base.MultiplicativeInverses.SignedMultiplicativeInverse{Int64},N} where N} where A<:Union{DenseArray, SubArray{T,N,P,I,true} where I<:Tuple{Union{Base.Slice, UnitRange},Vararg{Any,N} where N} where P where N where T}, DenseArray{#s268,N}, SubArray{#s268,N,A,I,L} where L} where I<:Tuple{Vararg{Union{Base.AbstractCartesianIndex, Int64, Range{Int64}},N} where N} where A<:Union{Base.ReshapedArray{T,N,A,MI} where MI<:Tuple{Vararg{Base.MultiplicativeInverses.SignedMultiplicativeInverse{Int64},N} where N} where A<:Union{DenseArray, SubArray{T,N,P,I,true} where I<:Tuple{Union{Base.Slice, UnitRange},Vararg{Any,N} where N} where P where N where T} where N where T, DenseArray} where N where #s268<:Union{Base.Dates.CompoundPeriod, Base.Dates.Period}) in Base.Dates at dates/periods.jl:362\n",
       "+(x::Base.Dates.TimeType) in Base.Dates at dates/arithmetic.jl:8\n",
       "+(a::Base.Dates.TimeType, b::Base.Dates.Period, c::Base.Dates.Period) in Base.Dates at dates/periods.jl:378\n",
       "+(a::Base.Dates.TimeType, b::Base.Dates.Period, c::Base.Dates.Period, d::Base.Dates.Period...) in Base.Dates at dates/periods.jl:379\n",
       "+(x::Base.Dates.TimeType, y::Base.Dates.CompoundPeriod) in Base.Dates at dates/periods.jl:382\n",
       "+(x::Base.Dates.Instant) in Base.Dates at dates/arithmetic.jl:4\n",
       "+(y::Base.Dates.Period, x::Base.Dates.TimeType) in Base.Dates at dates/arithmetic.jl:83\n",
       "+(x::AbstractArray{#s268,N} where N where #s268<:Base.Dates.TimeType, y::Union{Base.Dates.CompoundPeriod, Base.Dates.Period}) in Base.Dates at dates/arithmetic.jl:85\n",
       "+(x::Base.Dates.Period, r::Range{#s268} where #s268<:Base.Dates.TimeType) in Base.Dates at dates/ranges.jl:46\n",
       "+(y::Union{Base.Dates.CompoundPeriod, Base.Dates.Period}, x::AbstractArray{#s268,N} where N where #s268<:Base.Dates.TimeType) in Base.Dates at dates/arithmetic.jl:87\n",
       "+(y::Base.Dates.TimeType, x::Union{Base.ReshapedArray{#s268,N,A,MI} where MI<:Tuple{Vararg{Base.MultiplicativeInverses.SignedMultiplicativeInverse{Int64},N} where N} where A<:Union{DenseArray, SubArray{T,N,P,I,true} where I<:Tuple{Union{Base.Slice, UnitRange},Vararg{Any,N} where N} where P where N where T}, DenseArray{#s268,N}, SubArray{#s268,N,A,I,L} where L} where I<:Tuple{Vararg{Union{Base.AbstractCartesianIndex, Int64, Range{Int64}},N} where N} where A<:Union{Base.ReshapedArray{T,N,A,MI} where MI<:Tuple{Vararg{Base.MultiplicativeInverses.SignedMultiplicativeInverse{Int64},N} where N} where A<:Union{DenseArray, SubArray{T,N,P,I,true} where I<:Tuple{Union{Base.Slice, UnitRange},Vararg{Any,N} where N} where P where N where T} where N where T, DenseArray} where N where #s268<:Union{Base.Dates.CompoundPeriod, Base.Dates.Period}) in Base.Dates at dates/arithmetic.jl:88\n",
       "+(J::UniformScaling, x::Number) in Base at deprecated.jl:56\n",
       "+(x::Number, J::UniformScaling) in Base at deprecated.jl:56\n",
       "+(a::C, b::C) where C<:Union{ColorTypes.LMS, ColorTypes.XYZ} in Colors at /Users/rawlik/.julia/v0.6/Colors/src/algorithms.jl:4\n",
       "+(a, b::PyCall.PyObject) in PyCall at /Users/rawlik/.julia/v0.6/PyCall/src/pyoperators.jl:15\n",
       "+(a, b, c, xs...) in Base at operators.jl:424"
      ]
     },
     "execution_count": 19,
     "metadata": {},
     "output_type": "execute_result"
    }
   ],
   "source": [
    "methods(+)"
   ]
  },
  {
   "cell_type": "markdown",
   "metadata": {},
   "source": [
    "# The down side of julia"
   ]
  },
  {
   "cell_type": "code",
   "execution_count": 61,
   "metadata": {
    "ExecuteTime": {
     "end_time": "2018-05-13T13:48:22.238000+02:00",
     "start_time": "2018-05-13T11:48:20.519Z"
    }
   },
   "outputs": [
    {
     "name": "stdout",
     "output_type": "stream",
     "text": [
      "4\n",
      "  1.692079 seconds (735 allocations: 39.375 KiB)\n"
     ]
    }
   ],
   "source": [
    "@time `julia -e \"println(2+2)\"` |> run"
   ]
  },
  {
   "cell_type": "code",
   "execution_count": 63,
   "metadata": {
    "ExecuteTime": {
     "end_time": "2018-05-13T13:49:01.301000+02:00",
     "start_time": "2018-05-13T11:49:01.029Z"
    }
   },
   "outputs": [
    {
     "name": "stdout",
     "output_type": "stream",
     "text": [
      "4\n",
      "  0.269003 seconds (712 allocations: 39.391 KiB)\n"
     ]
    }
   ],
   "source": [
    "@time `python3 -c \"print(2+2)\"` |> run"
   ]
  },
  {
   "cell_type": "markdown",
   "metadata": {},
   "source": [
    "# Crash-course"
   ]
  },
  {
   "cell_type": "code",
   "execution_count": 60,
   "metadata": {
    "ExecuteTime": {
     "end_time": "2018-05-13T07:00:07.595000+02:00",
     "start_time": "2018-05-13T05:00:07.441Z"
    }
   },
   "outputs": [
    {
     "data": {
      "text/plain": [
       "2"
      ]
     },
     "execution_count": 60,
     "metadata": {},
     "output_type": "execute_result"
    }
   ],
   "source": [
    "2"
   ]
  },
  {
   "cell_type": "code",
   "execution_count": 61,
   "metadata": {
    "ExecuteTime": {
     "end_time": "2018-05-13T07:00:08.308000+02:00",
     "start_time": "2018-05-13T05:00:08.097Z"
    }
   },
   "outputs": [
    {
     "data": {
      "text/plain": [
       "2 + 1im"
      ]
     },
     "execution_count": 61,
     "metadata": {},
     "output_type": "execute_result"
    }
   ],
   "source": [
    "2 + 1im"
   ]
  },
  {
   "cell_type": "code",
   "execution_count": 62,
   "metadata": {
    "ExecuteTime": {
     "end_time": "2018-05-13T07:00:08.812000+02:00",
     "start_time": "2018-05-13T05:00:08.758Z"
    }
   },
   "outputs": [
    {
     "data": {
      "text/plain": [
       "-1 + 0im"
      ]
     },
     "execution_count": 62,
     "metadata": {},
     "output_type": "execute_result"
    }
   ],
   "source": [
    "1im^2"
   ]
  },
  {
   "cell_type": "code",
   "execution_count": 63,
   "metadata": {
    "ExecuteTime": {
     "end_time": "2018-05-13T07:00:14.788000+02:00",
     "start_time": "2018-05-13T05:00:14.478Z"
    }
   },
   "outputs": [
    {
     "data": {
      "text/plain": [
       "2//3"
      ]
     },
     "execution_count": 63,
     "metadata": {},
     "output_type": "execute_result"
    }
   ],
   "source": [
    "2//3"
   ]
  },
  {
   "cell_type": "code",
   "execution_count": 69,
   "metadata": {
    "ExecuteTime": {
     "end_time": "2018-05-13T07:01:03.638000+02:00",
     "start_time": "2018-05-13T05:01:03.381Z"
    }
   },
   "outputs": [
    {
     "data": {
      "text/plain": [
       "π = 3.1415926535897..."
      ]
     },
     "execution_count": 69,
     "metadata": {},
     "output_type": "execute_result"
    }
   ],
   "source": [
    "pi"
   ]
  },
  {
   "cell_type": "code",
   "execution_count": 70,
   "metadata": {
    "ExecuteTime": {
     "end_time": "2018-05-13T07:01:04.193000+02:00",
     "start_time": "2018-05-13T05:01:04.181Z"
    }
   },
   "outputs": [
    {
     "data": {
      "text/plain": [
       "6.283185307179586"
      ]
     },
     "execution_count": 70,
     "metadata": {},
     "output_type": "execute_result"
    }
   ],
   "source": [
    "2π"
   ]
  },
  {
   "cell_type": "code",
   "execution_count": 71,
   "metadata": {
    "ExecuteTime": {
     "end_time": "2018-05-13T07:01:07.482000+02:00",
     "start_time": "2018-05-13T05:01:07.478Z"
    }
   },
   "outputs": [
    {
     "data": {
      "text/plain": [
       "10"
      ]
     },
     "execution_count": 71,
     "metadata": {},
     "output_type": "execute_result"
    }
   ],
   "source": [
    "2(3+2)"
   ]
  },
  {
   "cell_type": "code",
   "execution_count": 72,
   "metadata": {
    "ExecuteTime": {
     "end_time": "2018-05-13T07:01:07.962000+02:00",
     "start_time": "2018-05-13T05:01:07.956Z"
    }
   },
   "outputs": [
    {
     "data": {
      "text/plain": [
       "2.5"
      ]
     },
     "execution_count": 72,
     "metadata": {},
     "output_type": "execute_result"
    }
   ],
   "source": [
    "5 / 2"
   ]
  },
  {
   "cell_type": "code",
   "execution_count": 73,
   "metadata": {
    "ExecuteTime": {
     "end_time": "2018-05-13T07:01:09.530000+02:00",
     "start_time": "2018-05-13T05:01:09.527Z"
    }
   },
   "outputs": [
    {
     "data": {
      "text/plain": [
       "2"
      ]
     },
     "execution_count": 73,
     "metadata": {},
     "output_type": "execute_result"
    }
   ],
   "source": [
    "5 ÷ 2"
   ]
  },
  {
   "cell_type": "code",
   "execution_count": 74,
   "metadata": {
    "ExecuteTime": {
     "end_time": "2018-05-13T07:01:11.793000+02:00",
     "start_time": "2018-05-13T05:01:11.790Z"
    }
   },
   "outputs": [
    {
     "data": {
      "text/plain": [
       "Inf"
      ]
     },
     "execution_count": 74,
     "metadata": {},
     "output_type": "execute_result"
    }
   ],
   "source": [
    "1 / 0"
   ]
  },
  {
   "cell_type": "code",
   "execution_count": 75,
   "metadata": {
    "ExecuteTime": {
     "end_time": "2018-05-13T07:01:15.850000+02:00",
     "start_time": "2018-05-13T05:01:15.848Z"
    }
   },
   "outputs": [
    {
     "data": {
      "text/plain": [
       "4"
      ]
     },
     "execution_count": 75,
     "metadata": {},
     "output_type": "execute_result"
    }
   ],
   "source": [
    "2 << 1"
   ]
  },
  {
   "cell_type": "markdown",
   "metadata": {},
   "source": [
    "Constants have constant *type*."
   ]
  },
  {
   "cell_type": "code",
   "execution_count": 31,
   "metadata": {
    "ExecuteTime": {
     "end_time": "2018-05-04T23:28:10.629000+02:00",
     "start_time": "2018-05-04T21:28:10.624Z"
    }
   },
   "outputs": [
    {
     "data": {
      "text/plain": [
       "3"
      ]
     },
     "execution_count": 31,
     "metadata": {},
     "output_type": "execute_result"
    }
   ],
   "source": [
    "const constant = 3"
   ]
  },
  {
   "cell_type": "code",
   "execution_count": 32,
   "metadata": {
    "ExecuteTime": {
     "end_time": "2018-05-04T23:28:17.799000+02:00",
     "start_time": "2018-05-04T21:28:17.796Z"
    }
   },
   "outputs": [
    {
     "name": "stderr",
     "output_type": "stream",
     "text": [
      "WARNING: redefining constant constant\n"
     ]
    },
    {
     "data": {
      "text/plain": [
       "4"
      ]
     },
     "execution_count": 32,
     "metadata": {},
     "output_type": "execute_result"
    }
   ],
   "source": [
    "constant = 4"
   ]
  },
  {
   "cell_type": "code",
   "execution_count": 33,
   "metadata": {
    "ExecuteTime": {
     "end_time": "2018-05-04T23:28:23.408000+02:00",
     "start_time": "2018-05-04T21:28:23.400Z"
    }
   },
   "outputs": [
    {
     "ename": "LoadError",
     "evalue": "\u001b[91minvalid redefinition of constant constant\u001b[39m",
     "output_type": "error",
     "traceback": [
      "\u001b[91minvalid redefinition of constant constant\u001b[39m",
      ""
     ]
    }
   ],
   "source": [
    "constant = 3.14"
   ]
  },
  {
   "cell_type": "markdown",
   "metadata": {},
   "source": [
    "## Arrays"
   ]
  },
  {
   "cell_type": "code",
   "execution_count": 34,
   "metadata": {
    "ExecuteTime": {
     "end_time": "2018-05-04T23:29:08.244000+02:00",
     "start_time": "2018-05-04T21:29:07.650Z"
    }
   },
   "outputs": [
    {
     "data": {
      "text/plain": [
       "3-element Array{Int64,1}:\n",
       " 4\n",
       " 5\n",
       " 6"
      ]
     },
     "execution_count": 34,
     "metadata": {},
     "output_type": "execute_result"
    }
   ],
   "source": [
    "a = [4, 5, 6]"
   ]
  },
  {
   "cell_type": "code",
   "execution_count": 35,
   "metadata": {
    "ExecuteTime": {
     "end_time": "2018-05-04T23:29:11.559000+02:00",
     "start_time": "2018-05-04T21:29:11.556Z"
    }
   },
   "outputs": [
    {
     "data": {
      "text/plain": [
       "4"
      ]
     },
     "execution_count": 35,
     "metadata": {},
     "output_type": "execute_result"
    }
   ],
   "source": [
    "a[1]"
   ]
  },
  {
   "cell_type": "code",
   "execution_count": 36,
   "metadata": {
    "ExecuteTime": {
     "end_time": "2018-05-04T23:29:19.926000+02:00",
     "start_time": "2018-05-04T21:29:19.912Z"
    }
   },
   "outputs": [
    {
     "data": {
      "text/plain": [
       "3-element Array{Int64,1}:\n",
       " 4\n",
       " 5\n",
       " 6"
      ]
     },
     "execution_count": 36,
     "metadata": {},
     "output_type": "execute_result"
    }
   ],
   "source": [
    "a = [4; 5; 6]"
   ]
  },
  {
   "cell_type": "code",
   "execution_count": 37,
   "metadata": {
    "ExecuteTime": {
     "end_time": "2018-05-04T23:29:27.770000+02:00",
     "start_time": "2018-05-04T21:29:27.766Z"
    }
   },
   "outputs": [
    {
     "data": {
      "text/plain": [
       "6"
      ]
     },
     "execution_count": 37,
     "metadata": {},
     "output_type": "execute_result"
    }
   ],
   "source": [
    "a[end]"
   ]
  },
  {
   "cell_type": "code",
   "execution_count": 38,
   "metadata": {
    "ExecuteTime": {
     "end_time": "2018-05-04T23:29:36.100000+02:00",
     "start_time": "2018-05-04T21:29:36.096Z"
    }
   },
   "outputs": [
    {
     "data": {
      "text/plain": [
       "5"
      ]
     },
     "execution_count": 38,
     "metadata": {},
     "output_type": "execute_result"
    }
   ],
   "source": [
    "a[end - 1]"
   ]
  },
  {
   "cell_type": "code",
   "execution_count": 39,
   "metadata": {
    "ExecuteTime": {
     "end_time": "2018-05-04T23:29:47.644000+02:00",
     "start_time": "2018-05-04T21:29:47.640Z"
    }
   },
   "outputs": [
    {
     "data": {
      "text/plain": [
       "4"
      ]
     },
     "execution_count": 39,
     "metadata": {},
     "output_type": "execute_result"
    }
   ],
   "source": [
    "a[]"
   ]
  },
  {
   "cell_type": "code",
   "execution_count": 40,
   "metadata": {
    "ExecuteTime": {
     "end_time": "2018-05-04T23:30:10.832000+02:00",
     "start_time": "2018-05-04T21:30:10.798Z"
    }
   },
   "outputs": [
    {
     "data": {
      "text/plain": [
       "2-element Array{Int64,1}:\n",
       " 4\n",
       " 6"
      ]
     },
     "execution_count": 40,
     "metadata": {},
     "output_type": "execute_result"
    }
   ],
   "source": [
    "a[[1, 3]]"
   ]
  },
  {
   "cell_type": "code",
   "execution_count": 41,
   "metadata": {
    "ExecuteTime": {
     "end_time": "2018-05-04T23:30:18.331000+02:00",
     "start_time": "2018-05-04T21:30:18.280Z"
    }
   },
   "outputs": [
    {
     "data": {
      "text/plain": [
       "2-element Array{Int64,1}:\n",
       " 4\n",
       " 6"
      ]
     },
     "execution_count": 41,
     "metadata": {},
     "output_type": "execute_result"
    }
   ],
   "source": [
    "a[[true, false, true]]"
   ]
  },
  {
   "cell_type": "code",
   "execution_count": 42,
   "metadata": {
    "ExecuteTime": {
     "end_time": "2018-05-04T23:30:28.936000+02:00",
     "start_time": "2018-05-04T21:30:28.760Z"
    }
   },
   "outputs": [
    {
     "data": {
      "text/plain": [
       "1:5"
      ]
     },
     "execution_count": 42,
     "metadata": {},
     "output_type": "execute_result"
    }
   ],
   "source": [
    "1:5"
   ]
  },
  {
   "cell_type": "code",
   "execution_count": 43,
   "metadata": {
    "ExecuteTime": {
     "end_time": "2018-05-04T23:30:32.739000+02:00",
     "start_time": "2018-05-04T21:30:32.732Z"
    }
   },
   "outputs": [
    {
     "data": {
      "text/plain": [
       "5-element Array{Int64,1}:\n",
       " 1\n",
       " 2\n",
       " 3\n",
       " 4\n",
       " 5"
      ]
     },
     "execution_count": 43,
     "metadata": {},
     "output_type": "execute_result"
    }
   ],
   "source": [
    "collect(1:5)"
   ]
  },
  {
   "cell_type": "code",
   "execution_count": 44,
   "metadata": {
    "ExecuteTime": {
     "end_time": "2018-05-04T23:30:53.794000+02:00",
     "start_time": "2018-05-04T21:30:53.780Z"
    }
   },
   "outputs": [
    {
     "data": {
      "text/plain": [
       "3-element Array{Int64,1}:\n",
       " 4\n",
       " 5\n",
       " 6"
      ]
     },
     "execution_count": 44,
     "metadata": {},
     "output_type": "execute_result"
    }
   ],
   "source": [
    "a[1:3]"
   ]
  },
  {
   "cell_type": "code",
   "execution_count": 45,
   "metadata": {
    "ExecuteTime": {
     "end_time": "2018-05-04T23:30:57.171000+02:00",
     "start_time": "2018-05-04T21:30:57.168Z"
    }
   },
   "outputs": [
    {
     "data": {
      "text/plain": [
       "2-element Array{Int64,1}:\n",
       " 5\n",
       " 6"
      ]
     },
     "execution_count": 45,
     "metadata": {},
     "output_type": "execute_result"
    }
   ],
   "source": [
    "a[2:end]"
   ]
  },
  {
   "cell_type": "code",
   "execution_count": 46,
   "metadata": {
    "ExecuteTime": {
     "end_time": "2018-05-04T23:31:03.632000+02:00",
     "start_time": "2018-05-04T21:31:03.608Z"
    }
   },
   "outputs": [
    {
     "data": {
      "text/plain": [
       "3-element Array{Int64,1}:\n",
       " 6\n",
       " 5\n",
       " 4"
      ]
     },
     "execution_count": 46,
     "metadata": {},
     "output_type": "execute_result"
    }
   ],
   "source": [
    "a[end:-1:1]"
   ]
  },
  {
   "cell_type": "code",
   "execution_count": 47,
   "metadata": {
    "ExecuteTime": {
     "end_time": "2018-05-04T23:31:10.041000+02:00",
     "start_time": "2018-05-04T21:31:10.038Z"
    }
   },
   "outputs": [
    {
     "data": {
      "text/plain": [
       "0"
      ]
     },
     "execution_count": 47,
     "metadata": {},
     "output_type": "execute_result"
    }
   ],
   "source": [
    "a[1] = 0"
   ]
  },
  {
   "cell_type": "code",
   "execution_count": 48,
   "metadata": {
    "ExecuteTime": {
     "end_time": "2018-05-04T23:31:11.957000+02:00",
     "start_time": "2018-05-04T21:31:11.954Z"
    }
   },
   "outputs": [
    {
     "data": {
      "text/plain": [
       "3-element Array{Int64,1}:\n",
       " 0\n",
       " 5\n",
       " 6"
      ]
     },
     "execution_count": 48,
     "metadata": {},
     "output_type": "execute_result"
    }
   ],
   "source": [
    "a"
   ]
  },
  {
   "cell_type": "code",
   "execution_count": 49,
   "metadata": {
    "ExecuteTime": {
     "end_time": "2018-05-04T23:31:22.828000+02:00",
     "start_time": "2018-05-04T21:31:22.214Z"
    }
   },
   "outputs": [
    {
     "data": {
      "text/plain": [
       "2×2 Array{Int64,2}:\n",
       " 1  2\n",
       " 3  4"
      ]
     },
     "execution_count": 49,
     "metadata": {},
     "output_type": "execute_result"
    }
   ],
   "source": [
    "matrix = [1 2; 3 4]"
   ]
  },
  {
   "cell_type": "code",
   "execution_count": 50,
   "metadata": {
    "ExecuteTime": {
     "end_time": "2018-05-04T23:31:30.022000+02:00",
     "start_time": "2018-05-04T21:31:30.016Z"
    }
   },
   "outputs": [
    {
     "data": {
      "text/plain": [
       "2×2 Array{Int64,2}:\n",
       " 1  2\n",
       " 3  4"
      ]
     },
     "execution_count": 50,
     "metadata": {},
     "output_type": "execute_result"
    }
   ],
   "source": [
    "matrix = [1 2\n",
    "          3 4]"
   ]
  },
  {
   "cell_type": "code",
   "execution_count": 51,
   "metadata": {
    "ExecuteTime": {
     "end_time": "2018-05-04T23:31:43.020000+02:00",
     "start_time": "2018-05-04T21:31:42.420Z"
    }
   },
   "outputs": [
    {
     "data": {
      "text/plain": [
       "3-element Array{Int8,1}:\n",
       " 4\n",
       " 5\n",
       " 6"
      ]
     },
     "execution_count": 51,
     "metadata": {},
     "output_type": "execute_result"
    }
   ],
   "source": [
    "b = Int8[4, 5, 6]"
   ]
  },
  {
   "cell_type": "code",
   "execution_count": 52,
   "metadata": {
    "ExecuteTime": {
     "end_time": "2018-05-04T23:31:49.499000+02:00",
     "start_time": "2018-05-04T21:31:49.468Z"
    }
   },
   "outputs": [
    {
     "data": {
      "text/plain": [
       "3-element Array{Int64,1}:\n",
       "  0\n",
       " 50\n",
       " 60"
      ]
     },
     "execution_count": 52,
     "metadata": {},
     "output_type": "execute_result"
    }
   ],
   "source": [
    "10a"
   ]
  },
  {
   "cell_type": "code",
   "execution_count": 53,
   "metadata": {
    "ExecuteTime": {
     "end_time": "2018-05-04T23:31:56.939000+02:00",
     "start_time": "2018-05-04T21:31:56.848Z"
    }
   },
   "outputs": [
    {
     "data": {
      "text/plain": [
       "2-element Array{Int64,1}:\n",
       "  50\n",
       " 110"
      ]
     },
     "execution_count": 53,
     "metadata": {},
     "output_type": "execute_result"
    }
   ],
   "source": [
    "matrix * [10, 20]"
   ]
  },
  {
   "cell_type": "markdown",
   "metadata": {},
   "source": [
    "Julia distinguishes row and column vectors:"
   ]
  },
  {
   "cell_type": "code",
   "execution_count": 54,
   "metadata": {
    "ExecuteTime": {
     "end_time": "2018-05-04T23:32:06.799000+02:00",
     "start_time": "2018-05-04T21:32:06.796Z"
    }
   },
   "outputs": [
    {
     "data": {
      "text/plain": [
       "2-element Array{Int64,1}:\n",
       " 1\n",
       " 2"
      ]
     },
     "execution_count": 54,
     "metadata": {},
     "output_type": "execute_result"
    }
   ],
   "source": [
    "x = [1, 2]"
   ]
  },
  {
   "cell_type": "code",
   "execution_count": 55,
   "metadata": {
    "ExecuteTime": {
     "end_time": "2018-05-04T23:32:13.708000+02:00",
     "start_time": "2018-05-04T21:32:13.692Z"
    }
   },
   "outputs": [
    {
     "data": {
      "text/plain": [
       "1×2 Array{Int64,2}:\n",
       " 1  2"
      ]
     },
     "execution_count": 55,
     "metadata": {},
     "output_type": "execute_result"
    }
   ],
   "source": [
    "y = [1 2]"
   ]
  },
  {
   "cell_type": "code",
   "execution_count": 56,
   "metadata": {
    "ExecuteTime": {
     "end_time": "2018-05-04T23:32:28.262000+02:00",
     "start_time": "2018-05-04T21:32:27.740Z"
    }
   },
   "outputs": [
    {
     "data": {
      "text/plain": [
       "2×2 Array{Int64,2}:\n",
       " 1  2\n",
       " 2  4"
      ]
     },
     "execution_count": 56,
     "metadata": {},
     "output_type": "execute_result"
    }
   ],
   "source": [
    "x * y"
   ]
  },
  {
   "cell_type": "code",
   "execution_count": 57,
   "metadata": {
    "ExecuteTime": {
     "end_time": "2018-05-04T23:32:38.158000+02:00",
     "start_time": "2018-05-04T21:32:38.154Z"
    }
   },
   "outputs": [
    {
     "data": {
      "text/plain": [
       "1-element Array{Int64,1}:\n",
       " 5"
      ]
     },
     "execution_count": 57,
     "metadata": {},
     "output_type": "execute_result"
    }
   ],
   "source": [
    "y * x"
   ]
  },
  {
   "cell_type": "code",
   "execution_count": 58,
   "metadata": {
    "ExecuteTime": {
     "end_time": "2018-05-04T23:32:45.026000+02:00",
     "start_time": "2018-05-04T21:32:44.930Z"
    }
   },
   "outputs": [
    {
     "data": {
      "text/plain": [
       "2×2 Array{Int64,2}:\n",
       " 1  3\n",
       " 2  4"
      ]
     },
     "execution_count": 58,
     "metadata": {},
     "output_type": "execute_result"
    }
   ],
   "source": [
    "matrix'"
   ]
  },
  {
   "cell_type": "code",
   "execution_count": 59,
   "metadata": {
    "ExecuteTime": {
     "end_time": "2018-05-04T23:32:58.659000+02:00",
     "start_time": "2018-05-04T21:32:58.458Z"
    }
   },
   "outputs": [
    {
     "ename": "LoadError",
     "evalue": "\u001b[91mDimensionMismatch(\"Cannot multiply two vectors\")\u001b[39m",
     "output_type": "error",
     "traceback": [
      "\u001b[91mDimensionMismatch(\"Cannot multiply two vectors\")\u001b[39m",
      "",
      "Stacktrace:",
      " [1] \u001b[1m*\u001b[22m\u001b[22m\u001b[1m(\u001b[22m\u001b[22m::Array{Int64,1}, ::Array{Int64,1}\u001b[1m)\u001b[22m\u001b[22m at \u001b[1m./linalg/rowvector.jl:184\u001b[22m\u001b[22m"
     ]
    }
   ],
   "source": [
    "[1, 2] * [3, 4]"
   ]
  },
  {
   "cell_type": "markdown",
   "metadata": {},
   "source": [
    "Use the so-called dot operators to perform operations element-wise"
   ]
  },
  {
   "cell_type": "code",
   "execution_count": 60,
   "metadata": {
    "ExecuteTime": {
     "end_time": "2018-05-04T23:33:08.127000+02:00",
     "start_time": "2018-05-04T21:33:07.426Z"
    }
   },
   "outputs": [
    {
     "data": {
      "text/plain": [
       "2-element Array{Int64,1}:\n",
       " 3\n",
       " 8"
      ]
     },
     "execution_count": 60,
     "metadata": {},
     "output_type": "execute_result"
    }
   ],
   "source": [
    "[1, 2] .* [3, 4]"
   ]
  },
  {
   "cell_type": "markdown",
   "metadata": {},
   "source": [
    "Dot operators support broadcasting - singleton dimensions are automatically expanded"
   ]
  },
  {
   "cell_type": "code",
   "execution_count": 61,
   "metadata": {
    "ExecuteTime": {
     "end_time": "2018-05-04T23:33:15.157000+02:00",
     "start_time": "2018-05-04T21:33:15.022Z"
    }
   },
   "outputs": [
    {
     "data": {
      "text/plain": [
       "2×2 Array{Int64,2}:\n",
       " 10  20\n",
       " 60  80"
      ]
     },
     "execution_count": 61,
     "metadata": {},
     "output_type": "execute_result"
    }
   ],
   "source": [
    "[1 2; 3 4] .* [10, 20]"
   ]
  },
  {
   "cell_type": "code",
   "execution_count": 62,
   "metadata": {
    "ExecuteTime": {
     "end_time": "2018-05-04T23:33:46.848000+02:00",
     "start_time": "2018-05-04T21:33:46.754Z"
    }
   },
   "outputs": [
    {
     "data": {
      "text/plain": [
       "2×2 Array{Int64,2}:\n",
       " 10  20\n",
       " 60  80"
      ]
     },
     "execution_count": 62,
     "metadata": {},
     "output_type": "execute_result"
    }
   ],
   "source": [
    "[1 2; 3 4] .* [10 10; 20 20]"
   ]
  },
  {
   "cell_type": "code",
   "execution_count": 63,
   "metadata": {
    "ExecuteTime": {
     "end_time": "2018-05-04T23:33:51.516000+02:00",
     "start_time": "2018-05-04T21:33:51.512Z"
    }
   },
   "outputs": [
    {
     "data": {
      "text/plain": [
       "3-element Array{Int64,1}:\n",
       " 0\n",
       " 5\n",
       " 6"
      ]
     },
     "execution_count": 63,
     "metadata": {},
     "output_type": "execute_result"
    }
   ],
   "source": [
    "a"
   ]
  },
  {
   "cell_type": "code",
   "execution_count": 64,
   "metadata": {
    "ExecuteTime": {
     "end_time": "2018-05-04T23:33:55.328000+02:00",
     "start_time": "2018-05-04T21:33:55.322Z"
    }
   },
   "outputs": [
    {
     "data": {
      "text/plain": [
       "3-element Array{Int64,1}:\n",
       " 7\n",
       " 7\n",
       " 7"
      ]
     },
     "execution_count": 64,
     "metadata": {},
     "output_type": "execute_result"
    }
   ],
   "source": [
    "a .= 7"
   ]
  },
  {
   "cell_type": "code",
   "execution_count": 65,
   "metadata": {
    "ExecuteTime": {
     "end_time": "2018-05-04T23:34:04.773000+02:00",
     "start_time": "2018-05-04T21:34:04.768Z"
    }
   },
   "outputs": [
    {
     "data": {
      "text/plain": [
       "3-element Array{Int64,1}:\n",
       " 10\n",
       " 20\n",
       " 30"
      ]
     },
     "execution_count": 65,
     "metadata": {},
     "output_type": "execute_result"
    }
   ],
   "source": [
    "b = [1, 2, 3]\n",
    "c = [10, 20, 30]"
   ]
  },
  {
   "cell_type": "code",
   "execution_count": 66,
   "metadata": {
    "ExecuteTime": {
     "end_time": "2018-05-04T23:34:13.140000+02:00",
     "start_time": "2018-05-04T21:34:13.120Z"
    }
   },
   "outputs": [
    {
     "data": {
      "text/plain": [
       "3-element Array{Int64,1}:\n",
       " 10\n",
       " 40\n",
       " 90"
      ]
     },
     "execution_count": 66,
     "metadata": {},
     "output_type": "execute_result"
    }
   ],
   "source": [
    "a .= b .* c"
   ]
  },
  {
   "cell_type": "code",
   "execution_count": 67,
   "metadata": {
    "ExecuteTime": {
     "end_time": "2018-05-04T23:34:21.852000+02:00",
     "start_time": "2018-05-04T21:34:21.688Z"
    }
   },
   "outputs": [
    {
     "data": {
      "text/plain": [
       "3-element Array{Int64,1}:\n",
       " 10\n",
       " 40\n",
       " 90"
      ]
     },
     "execution_count": 67,
     "metadata": {},
     "output_type": "execute_result"
    }
   ],
   "source": [
    "@. a = b * c"
   ]
  },
  {
   "cell_type": "code",
   "execution_count": 68,
   "metadata": {
    "ExecuteTime": {
     "end_time": "2018-05-04T23:34:29.508000+02:00",
     "start_time": "2018-05-04T21:34:28.400Z"
    }
   },
   "outputs": [
    {
     "data": {
      "text/plain": [
       "2-element Array{Int64,1}:\n",
       " 40\n",
       " 90"
      ]
     },
     "execution_count": 68,
     "metadata": {},
     "output_type": "execute_result"
    }
   ],
   "source": [
    "a[a.>20]"
   ]
  },
  {
   "cell_type": "markdown",
   "metadata": {},
   "source": [
    "## Strings"
   ]
  },
  {
   "cell_type": "code",
   "execution_count": 69,
   "metadata": {
    "ExecuteTime": {
     "end_time": "2018-05-04T23:35:03.963000+02:00",
     "start_time": "2018-05-04T21:35:03.848Z"
    }
   },
   "outputs": [
    {
     "data": {
      "text/plain": [
       "\"This is a string.\""
      ]
     },
     "execution_count": 69,
     "metadata": {},
     "output_type": "execute_result"
    }
   ],
   "source": [
    "s = \"This is a string.\""
   ]
  },
  {
   "cell_type": "code",
   "execution_count": 70,
   "metadata": {
    "ExecuteTime": {
     "end_time": "2018-05-04T23:35:08.971000+02:00",
     "start_time": "2018-05-04T21:35:08.966Z"
    }
   },
   "outputs": [
    {
     "data": {
      "text/plain": [
       "\"You can\\nhave multiline strings, too.\""
      ]
     },
     "execution_count": 70,
     "metadata": {},
     "output_type": "execute_result"
    }
   ],
   "source": [
    "\"\"\"You can\n",
    "have multiline strings, too.\"\"\""
   ]
  },
  {
   "cell_type": "code",
   "execution_count": 71,
   "metadata": {
    "ExecuteTime": {
     "end_time": "2018-05-04T23:35:14.993000+02:00",
     "start_time": "2018-05-04T21:35:14.790Z"
    }
   },
   "outputs": [
    {
     "data": {
      "text/plain": [
       "'a': ASCII/Unicode U+0061 (category Ll: Letter, lowercase)"
      ]
     },
     "execution_count": 71,
     "metadata": {},
     "output_type": "execute_result"
    }
   ],
   "source": [
    "'a'"
   ]
  },
  {
   "cell_type": "code",
   "execution_count": 72,
   "metadata": {
    "ExecuteTime": {
     "end_time": "2018-05-04T23:35:22.087000+02:00",
     "start_time": "2018-05-04T21:35:22.084Z"
    }
   },
   "outputs": [
    {
     "data": {
      "text/plain": [
       "'T': ASCII/Unicode U+0054 (category Lu: Letter, uppercase)"
      ]
     },
     "execution_count": 72,
     "metadata": {},
     "output_type": "execute_result"
    }
   ],
   "source": [
    "s[1]"
   ]
  },
  {
   "cell_type": "code",
   "execution_count": 73,
   "metadata": {
    "ExecuteTime": {
     "end_time": "2018-05-04T23:35:27.961000+02:00",
     "start_time": "2018-05-04T21:35:27.958Z"
    }
   },
   "outputs": [
    {
     "data": {
      "text/plain": [
       "\"This\""
      ]
     },
     "execution_count": 73,
     "metadata": {},
     "output_type": "execute_result"
    }
   ],
   "source": [
    "s[1:4]"
   ]
  },
  {
   "cell_type": "code",
   "execution_count": 74,
   "metadata": {
    "ExecuteTime": {
     "end_time": "2018-05-04T23:35:35.403000+02:00",
     "start_time": "2018-05-04T21:35:35.400Z"
    }
   },
   "outputs": [
    {
     "data": {
      "text/plain": [
       "\"Θεσσαλονίκη\""
      ]
     },
     "execution_count": 74,
     "metadata": {},
     "output_type": "execute_result"
    }
   ],
   "source": [
    "utf8string = \"Θεσσαλονίκη\""
   ]
  },
  {
   "cell_type": "code",
   "execution_count": 75,
   "metadata": {
    "ExecuteTime": {
     "end_time": "2018-05-04T23:35:42.629000+02:00",
     "start_time": "2018-05-04T21:35:42.624Z"
    }
   },
   "outputs": [
    {
     "data": {
      "text/plain": [
       "'Θ': Unicode U+0398 (category Lu: Letter, uppercase)"
      ]
     },
     "execution_count": 75,
     "metadata": {},
     "output_type": "execute_result"
    }
   ],
   "source": [
    "utf8string[1]"
   ]
  },
  {
   "cell_type": "code",
   "execution_count": 76,
   "metadata": {
    "ExecuteTime": {
     "end_time": "2018-05-04T23:35:45.503000+02:00",
     "start_time": "2018-05-04T21:35:45.440Z"
    }
   },
   "outputs": [
    {
     "ename": "LoadError",
     "evalue": "\u001b[91mUnicodeError: invalid character index 2 (0x98 is a continuation byte)\u001b[39m",
     "output_type": "error",
     "traceback": [
      "\u001b[91mUnicodeError: invalid character index 2 (0x98 is a continuation byte)\u001b[39m",
      "",
      "Stacktrace:",
      " [1] \u001b[1mslow_utf8_next\u001b[22m\u001b[22m\u001b[1m(\u001b[22m\u001b[22m::Ptr{UInt8}, ::UInt8, ::Int64, ::Int64\u001b[1m)\u001b[22m\u001b[22m at \u001b[1m./strings/string.jl:172\u001b[22m\u001b[22m",
      " [2] \u001b[1mnext\u001b[22m\u001b[22m at \u001b[1m./strings/string.jl:204\u001b[22m\u001b[22m [inlined]",
      " [3] \u001b[1mgetindex\u001b[22m\u001b[22m\u001b[1m(\u001b[22m\u001b[22m::String, ::Int64\u001b[1m)\u001b[22m\u001b[22m at \u001b[1m./strings/basic.jl:32\u001b[22m\u001b[22m"
     ]
    }
   ],
   "source": [
    "utf8string[2]"
   ]
  },
  {
   "cell_type": "code",
   "execution_count": 77,
   "metadata": {
    "ExecuteTime": {
     "end_time": "2018-05-04T23:35:53.739000+02:00",
     "start_time": "2018-05-04T21:35:53.112Z"
    }
   },
   "outputs": [
    {
     "data": {
      "text/plain": [
       "11-element Array{Char,1}:\n",
       " 'Θ'\n",
       " 'ε'\n",
       " 'σ'\n",
       " 'σ'\n",
       " 'α'\n",
       " 'λ'\n",
       " 'ο'\n",
       " 'ν'\n",
       " 'ί'\n",
       " 'κ'\n",
       " 'η'"
      ]
     },
     "execution_count": 77,
     "metadata": {},
     "output_type": "execute_result"
    }
   ],
   "source": [
    "[ c for c in utf8string ]"
   ]
  },
  {
   "cell_type": "code",
   "execution_count": 78,
   "metadata": {
    "ExecuteTime": {
     "end_time": "2018-05-04T23:36:03.466000+02:00",
     "start_time": "2018-05-04T21:36:02.830Z"
    }
   },
   "outputs": [
    {
     "ename": "LoadError",
     "evalue": "\u001b[91mMethodError: no method matching setindex!(::String, ::String, ::Int64)\u001b[39m",
     "output_type": "error",
     "traceback": [
      "\u001b[91mMethodError: no method matching setindex!(::String, ::String, ::Int64)\u001b[39m",
      ""
     ]
    }
   ],
   "source": [
    "s[1] = \"T\""
   ]
  },
  {
   "cell_type": "markdown",
   "metadata": {},
   "source": [
    "`$` is used for interpolation."
   ]
  },
  {
   "cell_type": "code",
   "execution_count": 79,
   "metadata": {
    "ExecuteTime": {
     "end_time": "2018-05-04T23:36:13.295000+02:00",
     "start_time": "2018-05-04T21:36:13.280Z"
    }
   },
   "outputs": [
    {
     "data": {
      "text/plain": [
       "\"pi is π = 3.1415926535897...\""
      ]
     },
     "execution_count": 79,
     "metadata": {},
     "output_type": "execute_result"
    }
   ],
   "source": [
    "\"pi is $pi\""
   ]
  },
  {
   "cell_type": "code",
   "execution_count": 80,
   "metadata": {
    "ExecuteTime": {
     "end_time": "2018-05-04T23:36:17.906000+02:00",
     "start_time": "2018-05-04T21:36:17.902Z"
    }
   },
   "outputs": [
    {
     "data": {
      "text/plain": [
       "\"2 + 2 = 4\""
      ]
     },
     "execution_count": 80,
     "metadata": {},
     "output_type": "execute_result"
    }
   ],
   "source": [
    "\"2 + 2 = $(2 + 2)\""
   ]
  },
  {
   "cell_type": "code",
   "execution_count": 81,
   "metadata": {
    "ExecuteTime": {
     "end_time": "2018-05-04T23:36:37.478000+02:00",
     "start_time": "2018-05-04T21:36:37.294Z"
    }
   },
   "outputs": [
    {
     "name": "stdout",
     "output_type": "stream",
     "text": [
      "5 is less than 5.300000"
     ]
    }
   ],
   "source": [
    "@printf \"%d is less than %f\" 4.5 5.3"
   ]
  },
  {
   "cell_type": "code",
   "execution_count": 82,
   "metadata": {
    "ExecuteTime": {
     "end_time": "2018-05-04T23:36:41.862000+02:00",
     "start_time": "2018-05-04T21:36:41.808Z"
    }
   },
   "outputs": [
    {
     "data": {
      "text/plain": [
       "\"5 is less than 5.300000\""
      ]
     },
     "execution_count": 82,
     "metadata": {},
     "output_type": "execute_result"
    }
   ],
   "source": [
    "@sprintf \"%d is less than %f\" 4.5 5.3"
   ]
  },
  {
   "cell_type": "code",
   "execution_count": 83,
   "metadata": {
    "ExecuteTime": {
     "end_time": "2018-05-04T23:36:55.920000+02:00",
     "start_time": "2018-05-04T21:36:55.900Z"
    }
   },
   "outputs": [
    {
     "name": "stdout",
     "output_type": "stream",
     "text": [
      "Print without newline... Print with newline at the end.\n"
     ]
    }
   ],
   "source": [
    "print(\"Print without newline... \")\n",
    "println(\"Print with newline at the end.\")"
   ]
  },
  {
   "cell_type": "code",
   "execution_count": 84,
   "metadata": {
    "ExecuteTime": {
     "end_time": "2018-05-04T23:37:10.343000+02:00",
     "start_time": "2018-05-04T21:37:10.336Z"
    }
   },
   "outputs": [
    {
     "data": {
      "text/plain": [
       "\"onetwo\""
      ]
     },
     "execution_count": 84,
     "metadata": {},
     "output_type": "execute_result"
    }
   ],
   "source": [
    "\"one\" * \"two\""
   ]
  },
  {
   "cell_type": "code",
   "execution_count": 85,
   "metadata": {
    "ExecuteTime": {
     "end_time": "2018-05-04T23:37:19.443000+02:00",
     "start_time": "2018-05-04T21:37:19.436Z"
    }
   },
   "outputs": [
    {
     "data": {
      "text/plain": [
       "\"oneoneone\""
      ]
     },
     "execution_count": 85,
     "metadata": {},
     "output_type": "execute_result"
    }
   ],
   "source": [
    "\"one\"^3"
   ]
  },
  {
   "cell_type": "code",
   "execution_count": 86,
   "metadata": {
    "ExecuteTime": {
     "end_time": "2018-05-04T23:37:28.262000+02:00",
     "start_time": "2018-05-04T21:37:28.258Z"
    }
   },
   "outputs": [
    {
     "data": {
      "text/plain": [
       "false"
      ]
     },
     "execution_count": 86,
     "metadata": {},
     "output_type": "execute_result"
    }
   ],
   "source": [
    "ismatch(r\"^\\s*(?:#|$)\", \"not a comment\")"
   ]
  },
  {
   "cell_type": "code",
   "execution_count": 87,
   "metadata": {
    "ExecuteTime": {
     "end_time": "2018-05-04T23:37:32.255000+02:00",
     "start_time": "2018-05-04T21:37:32.250Z"
    }
   },
   "outputs": [
    {
     "data": {
      "text/plain": [
       "true"
      ]
     },
     "execution_count": 87,
     "metadata": {},
     "output_type": "execute_result"
    }
   ],
   "source": [
    "ismatch(r\"^\\s*(?:#|$)\", \"# a comment\")"
   ]
  },
  {
   "cell_type": "code",
   "execution_count": 88,
   "metadata": {
    "ExecuteTime": {
     "end_time": "2018-05-04T23:37:36.865000+02:00",
     "start_time": "2018-05-04T21:37:36.394Z"
    }
   },
   "outputs": [
    {
     "data": {
      "text/plain": [
       "3-element Array{UInt8,1}:\n",
       " 0x61\n",
       " 0x62\n",
       " 0x63"
      ]
     },
     "execution_count": 88,
     "metadata": {},
     "output_type": "execute_result"
    }
   ],
   "source": [
    "b\"abc\""
   ]
  },
  {
   "cell_type": "code",
   "execution_count": null,
   "metadata": {},
   "outputs": [],
   "source": [
    "\n",
    "##############\n",
    "# Collections\n",
    "##############\n",
    "\n",
    "a = [] # => Any[]\n",
    "# Any is the supertype of all types  (more on that later).\n",
    "# This means, that this vector can hold anything.\n",
    "\n",
    "# Add stuff to the end of a with push! (single element)\n",
    "# and append! (another collection)\n",
    "push!(a, 1)     # => Any[1]\n",
    "push!(a, 2)     # => Any[1,2]\n",
    "push!(a, 4)     # => Any[1,2,4]\n",
    "push!(a, 3)     # => Any[1,2,4,3]\n",
    "append!(a, [\"six\", π]) # => Any[1,2,4,3,\"six\",π = 3.14…]\n",
    "# By convention, function names that end in exclamations points indicate that\n",
    "# they modify their arguments. Usually it is the first argument being modified.\n",
    "\n",
    "# Remove from the end with pop\n",
    "pop!(a) # => π = 3.14…\n",
    "a # => [1,2,4,3,\"six\"]\n",
    "\n",
    "# we also have shift and unshift\n",
    "shift!(a) # => 1\n",
    "a # => [2,4,3,\"six\"]\n",
    "unshift!(a, 7) # => [7,2,4,3,\"six\"]\n",
    "\n",
    "# Remove elements from an array by index with splice!\n",
    "splice!(a, 2) # => 2\n",
    "a # => [7,4,3,\"six\"]\n",
    "\n",
    "# Check for existence in a list with in\n",
    "in(1, a) # => false\n",
    "3 in a # => true\n",
    "\n",
    "# Examine the length with length\n",
    "length(a) # => 4\n",
    "\n",
    "# Sorting\n",
    "arr = [5,4,6] # => 3-element Int64 Array: [5,4,6]\n",
    "sort(arr) # => [4,5,6]\n",
    "arr # => [5,4,6]\n",
    "sort!(arr) # => [4,5,6]\n",
    "arr # => [4,5,6]\n",
    "\n",
    "\n",
    "# Tuples are immutable.\n",
    "tup = (1, 2, 3) # => (1,2,3) # an (Int64,Int64,Int64) tuple.\n",
    "tup[1] # => 1\n",
    "try:\n",
    "    tup[1] = 3 # => ERROR: MethodError: no method matching\n",
    "               #    setindex!(::Tuple{Int64,Int64,Int64}, ::Int64, ::Int64)\n",
    "catch e\n",
    "    println(e)\n",
    "end\n",
    "\n",
    "# Many list functions also work on tuples\n",
    "length(tup) # => 3\n",
    "tup[1:2] # => (1,2)\n",
    "2 in tup # => true\n",
    "\n",
    "# You can unpack tuples into variables\n",
    "a, b, c = (1, 2, 3) # => (1,2,3)\n",
    "a # => 1\n",
    "b # => 2\n",
    "c # => 3\n",
    "\n",
    "# Tuples are created even if you leave out the parentheses\n",
    "d, g, h = 4, 5, 6 # => (4,5,6)\n",
    "\n",
    "# A 1-element tuple is distinct from the value it contains\n",
    "(1,) == 1 # => false\n",
    "(1) == 1 # => true\n",
    "\n",
    "# Look how easy it is to swap two values\n",
    "g, d = d, g  # => (4,5)\n",
    "g # => 4\n",
    "d # => 5\n",
    "\n",
    "\n",
    "# Dictionaries store mappings\n",
    "empty_dict = Dict() # => Dict{Any,Any} with 0 entries\n",
    "\n",
    "# You can create a dictionary using a literal\n",
    "filled_dict = Dict(\"one\"=> 1, \"two\"=> 2, \"three\"=> 3)\n",
    "# => Dict{String,Int64}\n",
    "\n",
    "# Look up values with []\n",
    "filled_dict[\"one\"] # => 1\n",
    "\n",
    "# Get all keys\n",
    "keys(filled_dict) # => Base.KeyIterator for a Dict{String,Int64} with 3 entries.\n",
    "                  #    Keys:\n",
    "                  #     \"two\"\n",
    "                  #     \"one\"\n",
    "                  #     \"three\"\n",
    "# Note - dictionary keys are not sorted or in the order you inserted them.\n",
    "\n",
    "# Get all values\n",
    "values(filled_dict) # => Base.ValueIterator for a Dict{String,Int64} with\n",
    "                    #    3 entries. Values:\n",
    "                    #     2\n",
    "                    #     1\n",
    "                    #     3\n",
    "# Note - Same as above regarding key ordering.\n",
    "\n",
    "# Check for existence of keys in a dictionary with in, haskey\n",
    "in((\"one\" => 1), filled_dict) # => true\n",
    "(\"two\" => 3) in filled_dict # => false\n",
    "haskey(filled_dict, \"one\") # => true\n",
    "haskey(filled_dict, 1) # => false\n",
    "\n",
    "# Trying to look up a non-existent key will raise an error\n",
    "try\n",
    "    filled_dict[\"four\"] # => KeyError: key \"four\" not found\n",
    "catch e\n",
    "    println(e)\n",
    "end\n",
    "\n",
    "# Use the get method to avoid that error by providing a default value\n",
    "# get(dictionary,key,default_value)\n",
    "get(filled_dict, \"one\", 4) # => 1\n",
    "get(filled_dict, \"four\", 4) # => 4\n",
    "\n",
    "# Use Sets to represent collections of unordered, unique values\n",
    "empty_set = Set() # => Set{Any}[]\n",
    "# Initialize a set with values\n",
    "filled_set = Set([1,2,2,3,4]) # => Set([4, 2, 3, 1])\n",
    "\n",
    "# Add more values to a set\n",
    "push!(filled_set, 5) # => Set{Int64}([4,2,3,5,1])\n",
    "filled_set # => Set{Int64}([4,2,3,5,1])\n",
    "\n",
    "# Check if the values are in the set\n",
    "2 in filled_set # => true\n",
    "10 in filled_set # => false\n",
    "\n",
    "# There are functions for set intersection, union, and difference.\n",
    "other_set = Set([3, 4, 5, 6]) # => Set{Int64}([4,3,5,6])\n",
    "intersect(filled_set, other_set) # => Set{Int64}([4,3,5])\n",
    "filled_set ∩ other_set # => Set{Int64}([4,3,5]) # The same with ∩ (\\cap)\n",
    "union(filled_set, other_set) # => Set{Int64}([4,2,3,5,6,1])\n",
    "filled_set ∪ other_set # => Set{Int64}([4,2,3,5,6,1]) # The same ∪ (\\cup)\n",
    "setdiff(Set([1,2,3,4]), Set([2,3,5])) # => Set{Int64}([4,1])\n",
    "\n",
    "# Set operations work on arrays, too\n",
    "[1,2,3,4] ∩ [2,3,4] # => 3-element Array{Int64,1}: [2,3,4]\n",
    "\n",
    "\n",
    "\n",
    "\n",
    "####################################################\n",
    "## Control Flow\n",
    "####################################################\n",
    "\n",
    "# Let's make a variable\n",
    "some_var = 5\n",
    "\n",
    "# Here is an if statement. Indentation is not meaningful in Julia.\n",
    "if some_var > 10\n",
    "    println(\"some_var is totally bigger than 10.\")\n",
    "elseif some_var < 10    # This elseif clause is optional.\n",
    "    println(\"some_var is smaller than 10.\")\n",
    "else                    # The else clause is optional too.\n",
    "    println(\"some_var is indeed 10.\")\n",
    "end\n",
    "# => prints \"some var is smaller than 10\"\n",
    "\n",
    "# if statement can return variables\n",
    "result = if some_var > 10\n",
    "    \"greater than 10\"\n",
    "else\n",
    "    \"smaller of equal 10\"\n",
    "end\n",
    "result # => smaller of equal 10\n",
    "\n",
    "# There is the ternary operator\n",
    "result = some_var > 5 ? \"greater than 5\" : \"smaller of equal 5\"\n",
    "result # => smaller of equal 5\n",
    "\n",
    "# For loops iterate over iterables.\n",
    "# Iterable types include Range, Array, Set, Dict, and AbstractString.\n",
    "for animal = [\"dog\", \"cat\", \"mouse\"]\n",
    "    println(\"$animal is a mammal\")\n",
    "end\n",
    "# prints:\n",
    "#    dog is a mammal\n",
    "#    cat is a mammal\n",
    "#    mouse is a mammal\n",
    "\n",
    "# You can use 'in' instead of '='.\n",
    "for i in 1:3\n",
    "    println(\"i is now $i\")\n",
    "end\n",
    "# prints:\n",
    "#    i is now 1\n",
    "#    i is now 2\n",
    "#    i is now 3\n",
    "\n",
    "for a in Dict(\"dog\" => \"mammal\", \"cat\" => \"mammal\", \"mouse\" => \"mammal\")\n",
    "    println(\"$(a[1]) is a $(a[2])\")\n",
    "end\n",
    "# prints:\n",
    "#    dog is a mammal\n",
    "#    cat is a mammal\n",
    "#    mouse is a mammal\n",
    "\n",
    "for (k,v) in Dict(\"dog\" => \"mammal\", \"cat\" => \"mammal\", \"mouse\" => \"mammal\")\n",
    "    println(\"$k is a $v\")\n",
    "end\n",
    "# prints:\n",
    "#    dog is a mammal\n",
    "#    cat is a mammal\n",
    "#    mouse is a mammal\n",
    "\n",
    "# While loops loop while a condition is true\n",
    "x = 0\n",
    "while x < 4\n",
    "    println(x)\n",
    "    x += 1  # Shorthand for x = x + 1\n",
    "end\n",
    "# prints:\n",
    "#   0\n",
    "#   1\n",
    "#   2\n",
    "#   3\n",
    "\n",
    "# Handle exceptions with a try/catch block\n",
    "try\n",
    "   error(\"help\")\n",
    "catch e\n",
    "   println(\"caught it $e\")\n",
    "end\n",
    "# => caught it ErrorException(\"help\")\n",
    "\n",
    "\n",
    "\n",
    "\n",
    "####################################################\n",
    "## Functions\n",
    "####################################################\n",
    "\n",
    "# The keyword 'function' creates new functions\n",
    "#function name(arglist)\n",
    "#  body...\n",
    "#end\n",
    "function add(x, y)\n",
    "    println(\"x is $x and y is $y\")\n",
    "\n",
    "    # Functions return the value of their last statement\n",
    "    x + y\n",
    "end\n",
    "\n",
    "add(5, 6) # => 11,\n",
    "# prints out \"x is 5 and y is 6\"\n",
    "\n",
    "# By the way, every binary operator is a function, too, so:\n",
    "+(5, 6) # => 11\n",
    "\n",
    "# Compact assignment of functions\n",
    "add(x, y) = x + y # => \"f (generic function with 1 method)\"\n",
    "add(3, 4) # => 7\n",
    "\n",
    "# Function can also return multiple values as tuple\n",
    "add_subtract(x, y) = x + y, x - y\n",
    "add_subtract(3, 4) # => (7, -1)\n",
    "\n",
    "# You can define functions that take a variable number of\n",
    "# positional arguments\n",
    "function varargs(args...)\n",
    "    return args\n",
    "    # use the keyword return to return anywhere in the function\n",
    "end\n",
    "# => varargs (generic function with 1 method)\n",
    "\n",
    "varargs(1,2,3) # => (1,2,3)\n",
    "\n",
    "# The ... is called a splat.\n",
    "# We just used it in a function definition.\n",
    "# It can also be used in a function call,\n",
    "# where it will splat an Array or Tuple's contents into the argument list.\n",
    "add([5,6]...) # this is equivalent to add(5,6)\n",
    "\n",
    "x = (5,6)     # => (5,6)\n",
    "add(x...)     # this is equivalent to add(5,6)\n",
    "\n",
    "# You can define functions with optional positional arguments\n",
    "function defaults(a, b, x = 5, y = 6)\n",
    "    return \"$a $b and $x $y\"\n",
    "end\n",
    "\n",
    "defaults('h','g') # => \"h g and 5 6\"\n",
    "defaults('h','g','j') # => \"h g and j 6\"\n",
    "defaults('h','g','j','k') # => \"h g and j k\"\n",
    "try\n",
    "    defaults('h') # => ERROR: no method defaults(Char,)\n",
    "    defaults() # => ERROR: no methods defaults()\n",
    "catch e\n",
    "    println(e)\n",
    "end\n",
    "\n",
    "# You can define functions that take keyword arguments,\n",
    "# specified after a semicolon\n",
    "function keyword_args(; k1 = 4, name2 = \"hello\") # note the ;\n",
    "    return Dict(\"k1\"=>k1, \"name2\"=>name2)\n",
    "end\n",
    "\n",
    "keyword_args(name2 = \"ness\") # => [\"name2\"=>\"ness\",\"k1\"=>4]\n",
    "keyword_args(k1 = \"mine\") # => [\"k1\"=>\"mine\",\"name2\"=>\"hello\"]\n",
    "keyword_args() # => [\"name2\"=>\"hello\",\"k1\"=>4]\n",
    "\n",
    "# You can combine all kinds of arguments in the same function\n",
    "function all_the_args(normal_arg, optional_positional_arg=2; keyword_arg=\"foo\")\n",
    "    println(\"normal arg: $normal_arg\")\n",
    "    println(\"optional arg: $optional_positional_arg\")\n",
    "    println(\"keyword arg: $keyword_arg\")\n",
    "end\n",
    "\n",
    "all_the_args(1, 3, keyword_arg=4)\n",
    "# prints:\n",
    "#   normal arg: 1\n",
    "#   optional arg: 3\n",
    "#   keyword arg: 4\n",
    "\n",
    "# Julia has first class functions\n",
    "function create_adder(x)\n",
    "    adder = function (y)\n",
    "        return x + y\n",
    "    end\n",
    "    return adder\n",
    "end\n",
    "\n",
    "# This is \"stabby lambda syntax\" for creating anonymous functions\n",
    "(x -> x > 2)(3) # => true\n",
    "\n",
    "# This function is identical to create_adder implementation above.\n",
    "function create_adder(x)\n",
    "    y -> x + y\n",
    "end\n",
    "\n",
    "# You can also name the internal function, if you want\n",
    "function create_adder(x)\n",
    "    function adder(y)\n",
    "        x + y\n",
    "    end\n",
    "    adder\n",
    "end\n",
    "\n",
    "add_10 = create_adder(10)\n",
    "add_10(3) # => 13\n",
    "\n",
    "\n",
    "# There are built-in higher order functions\n",
    "map(iszero, [1, 0, 3, 0]) # => [false, true, false, true]\n",
    "filter(x -> x > 5, [3, 4, 5, 6, 7]) # => [6, 7]\n",
    "\n",
    "# The \"do\" block creates an anonymous function and passes is as the first\n",
    "# argument.\n",
    "result = map([1, 2, 3, 4, 5, 6]) do x\n",
    "    x % 2 == 0\n",
    "end\n",
    "result # => [false, true, false, true, false, true]\n",
    "result == map(x -> x % 2 == 0, [1, 2, 3, 4, 5, 6]) # => true\n",
    "\n",
    "# Negating a function returns a function with its return value negated\n",
    "map(!iszero, [1, 0, 3, 0]) # => [true, false, true, false]\n",
    "\n",
    "# The binary operator ∘ (\\circ) combines functions\n",
    "map( (-) ∘ √, [1, 4, 16]) # => [-1.00, -2.00, -4.00]\n",
    "# √, \\sqrt[TAB], is the square root. It can also be used without parentheses\n",
    "√2 # => 1.41…\n",
    "\n",
    "# We can use list comprehensions for nicer maps\n",
    "[add_10(i) for i=[1, 2, 3]] # => [11, 12, 13]\n",
    "[add_10(i) for i in [1, 2, 3]] # => [11, 12, 13]\n",
    "\n",
    "# List comprehensions work in more dimensions, too\n",
    "[x+y for x in 1:2, y in 10:10:30] # => 2×3 Array{Int64,2}:\n",
    "                                  #     11  21  31\n",
    "                                  #     12  22  32\n",
    "\n",
    "\n",
    "# Function followed by a dot acts element-wise\n",
    "isfinite.([1, 1/0, NaN]) # => [true, false, false]\n",
    "\n",
    "x = rand(3)\n",
    "abs.(sin.(x).^2 .+ cos.(x).^2 .- 1) .≤ eps(Float64) # => [true, true, true]\n",
    "# Many dot operations are automatically fused into a single loop.\n",
    "\n",
    "# @. adds a dot to every function and operator\n",
    "@. abs(sin(x)^2 + cos(x)^2 - 1) ≤ eps(Float64) # => [true, true, true]\n",
    "\n",
    "\n",
    "\n",
    "\n",
    "####################################################\n",
    "## Types\n",
    "####################################################\n",
    "\n",
    "# Julia has a type system.\n",
    "# Every value has a type; variables do not have types themselves.\n",
    "# You can use the `typeof` function to get the type of a value.\n",
    "typeof(5) # => Int64\n",
    "\n",
    "# Types are first-class values\n",
    "typeof(Int64) # => DataType\n",
    "typeof(DataType) # => DataType\n",
    "# DataType is the type that represents types, including itself.\n",
    "\n",
    "# Types are used for documentation, optimizations, and dispatch.\n",
    "# They are not statically checked.\n",
    "\n",
    "# Users can define types\n",
    "struct Tiger\n",
    "  taillength::Float64\n",
    "  coatcolor # not including a type annotation is the same as `::Any`\n",
    "end\n",
    "\n",
    "# The default constructor's arguments are the properties\n",
    "# of the type, in the order they are listed in the definition\n",
    "tigger = Tiger(3.5, \"orange\") # => Tiger(3.5,\"orange\")\n",
    "\n",
    "# The type doubles as the constructor function for values of that type\n",
    "sherekhan = typeof(tigger)(5.6, \"fire\") # => Tiger(5.6,\"fire\")\n",
    "\n",
    "# These struct-style types are called concrete types\n",
    "# They can be instantiated, but cannot have subtypes.\n",
    "# The other kind of types is abstract types.\n",
    "\n",
    "# abstract type Name\n",
    "abstract type Cat  # just a name and point in the type hierarchy\n",
    "end\n",
    "\n",
    "# Abstract types cannot be instantiated, but can have subtypes.\n",
    "# For example, Number is an abstract type\n",
    "subtypes(Number) # => 2-element Array{Union{DataType, UnionAll},1}:\n",
    "                 #     Complex\n",
    "                 #     Real\n",
    "subtypes(Cat) # => 0-element Array{Union{DataType, UnionAll},1}\n",
    "\n",
    "# AbstractString, as the name implies, is also an abstract type\n",
    "subtypes(AbstractString) # => 6-element Array{Union{DataType, UnionAll},1}:\n",
    "                         #     Base.SubstitutionString\n",
    "                         #     Base.Test.GenericString\n",
    "                         #     DirectIndexString\n",
    "                         #     RevString\n",
    "                         #     String\n",
    "                         #     SubString\n",
    "# Every type has a super type; use the `supertype` function to get it.\n",
    "typeof(5) # => Int64\n",
    "supertype(Int64) # => Signed\n",
    "supertype(Signed) # => Integer\n",
    "supertype(Integer) # => Real\n",
    "supertype(Real) # => Number\n",
    "supertype(Number) # => Any\n",
    "supertype(supertype(Signed)) # => Real\n",
    "supertype(Any) # => Any\n",
    "# All of these type, except for Int64, are abstract.\n",
    "typeof(\"fire\") # => String\n",
    "supertype(String) # => AbstractString\n",
    "supertype(AbstractString) # => Any\n",
    "\n",
    "# <: is the subtyping operator\n",
    "type Lion <: Cat # Lion is a subtype of Cat\n",
    "  mane_color\n",
    "  roar::AbstractString\n",
    "end\n",
    "\n",
    "# You can define more constructors for your type\n",
    "# Just define a function of the same name as the type\n",
    "# and call an existing constructor to get a value of the correct type\n",
    "Lion(roar::AbstractString) = Lion(\"green\", roar)\n",
    "# This is an outer constructor because it's outside the type definition\n",
    "\n",
    "type Panther <: Cat # Panther is also a subtype of Cat\n",
    "  eye_color\n",
    "  Panther() = new(\"green\")\n",
    "  # Panthers will only have this constructor, and no default constructor.\n",
    "  # new() is a spetial function available in inner constructors, that creates\n",
    "  # objects of the block's type.\n",
    "end\n",
    "# Using inner constructors, like Panther does, gives you control\n",
    "# over how values of the type can be created.\n",
    "# When possible, you should use outer constructors rather than inner ones.\n",
    "\n",
    "\n",
    "\n",
    "\n",
    "####################################################\n",
    "## Multiple-Dispatch\n",
    "####################################################\n",
    "\n",
    "# In Julia, all named functions are generic functions\n",
    "# This means that they are built up from many small methods\n",
    "# Each constructor for Lion is a method of the generic function Lion.\n",
    "\n",
    "# For a non-constructor example, let's make a function meow:\n",
    "\n",
    "# Definitions for Lion, Panther, Tiger\n",
    "function meow(animal::Lion)\n",
    "    animal.roar # access type properties using dot notation\n",
    "end\n",
    "\n",
    "function meow(animal::Panther)\n",
    "    \"grrr\"\n",
    "end\n",
    "\n",
    "function meow(animal::Tiger)\n",
    "    \"rawwwr\"\n",
    "end\n",
    "\n",
    "# Testing the meow function\n",
    "meow(tigger) # => \"rawwr\"\n",
    "meow(Lion(\"brown\",\"ROAAR\")) # => \"ROAAR\"\n",
    "meow(Panther()) # => \"grrr\"\n",
    "\n",
    "# Review the local type hierarchy\n",
    "issubtype(Tiger, Cat) # => false\n",
    "issubtype(Lion, Cat) # => true\n",
    "issubtype(Panther, Cat) # => true\n",
    "\n",
    "# Defining a function that takes Cats\n",
    "function pet_cat(cat::Cat)\n",
    "    println(\"The cat says $(meow(cat))\")\n",
    "end\n",
    "\n",
    "pet_cat(Lion(\"42\")) # => prints \"The cat says 42\"\n",
    "try\n",
    "    pet_cat(tigger) # => ERROR: no method matching pet_cat(::Tiger)\n",
    "catch e\n",
    "    println(e)\n",
    "end\n",
    "\n",
    "# In OO languages, single dispatch is common;\n",
    "# this means that the method is picked based on the type of the first argument.\n",
    "# In Julia, all of the argument types contribute to selecting the best method.\n",
    "\n",
    "# Let's define a function with more arguments, so we can see the difference\n",
    "function fight(t::Tiger, c::Cat)\n",
    "    println(\"The $(t.coatcolor) tiger wins!\")\n",
    "end\n",
    "# => fight (generic function with 1 method)\n",
    "\n",
    "fight(tigger, Panther()) # => prints The orange tiger wins!\n",
    "fight(tigger, Lion(\"ROAR\")) # => prints The orange tiger wins!\n",
    "\n",
    "# Let's change the behavior when the Cat is specifically a Lion\n",
    "fight(t::Tiger, l::Lion) = println(\"The $(l.mane_color)-maned lion wins!\")\n",
    "# => fight (generic function with 2 methods)\n",
    "\n",
    "fight(tigger, Panther()) # => prints The orange tiger wins!\n",
    "fight(tigger, Lion(\"ROAR\")) # => prints The green-maned lion wins!\n",
    "\n",
    "# We don't need a Tiger in order to fight\n",
    "fight(l::Lion, c::Cat) = println(\"The victorious cat says $(meow(c))\")\n",
    "# => fight (generic function with 3 methods)\n",
    "\n",
    "fight(Lion(\"balooga!\"), Panther()) # => prints The victorious cat says grrr\n",
    "\n",
    "# review the methods we created\n",
    "methods(fight) # => 3 methods for generic function \"fight\":\n",
    "               #     fight(t::Tiger, l::Lion)\n",
    "               #     fight(t::Tiger, c::Cat)\n",
    "               #     fight(l::Lion, c::Cat)\n",
    "\n",
    "try\n",
    "    fight(Panther(), Lion(\"RAWR\")) # => MethodError: no method matching\n",
    "                                   #    fight(::Panther, ::Lion)\n",
    "catch e\n",
    "    println(e)\n",
    "end\n",
    "\n",
    "# Also let the cat go first\n",
    "fight(c::Cat, l::Lion) = println(\"The cat beats the Lion\")\n",
    "try\n",
    "    fight(Lion(\"RAR\"), Lion(\"brown\", \"rarrr\"))\n",
    "    # => MethodError: fight(::Lion, ::Lion) is ambiguous. Candidates:\n",
    "    #    fight(c::Cat, l::Lion)\n",
    "    #    fight(l::Lion, c::Cat)\n",
    "    #  Possible fix, define\n",
    "    #    fight(::Lion, ::Lion)\n",
    "catch e\n",
    "    println(e)\n",
    "end\n",
    "\n",
    "fight(l1::Lion, l2::Lion) = println(\"The lions come to a tie\")\n",
    "fight(Lion(\"RAR\"), Lion(\"brown\", \"rarrr\")) # => prints The lions come to a tie\n",
    "\n",
    "\n",
    "\n",
    "\n",
    "#########\n",
    "# Macros\n",
    "#########\n",
    "\n",
    "v = 9\n",
    "\n",
    "@show 10 * √v # => 30.0\n",
    "# prints \"10 * √v = 30.0\"\n",
    "\n",
    "@time inv(rand(100, 100)) # => 100x100 Array{Float64,2}...\n",
    "# prints \"  0.306575 seconds (76.98 k allocations: 4.521 MiB)\"\n",
    "\n",
    "@time inv(rand(100, 100)) # => 100x100 Array{Float64,2}...\n",
    "# prints \"    0.001164 seconds (19 allocations: 286.781 KiB)\"\n",
    "# The second time is faster. The first time the functions were compiled.\n",
    "\n",
    "a = rand(10)\n",
    "pointer(a) # => Ptr{Float64} @0x000000010d97fb10\n",
    "# Slicing produces a new Array\n",
    "pointer(a[1:10]) == pointer(a) # => false\n",
    "# The @view macro produces a SubArray sharing memory with the original\n",
    "pointer(@view a[1:10]) == pointer(a) # => true"
   ]
  },
  {
   "cell_type": "code",
   "execution_count": null,
   "metadata": {},
   "outputs": [],
   "source": []
  }
 ],
 "metadata": {
  "kernelspec": {
   "display_name": "Julia 0.6.2",
   "language": "julia",
   "name": "julia-0.6"
  },
  "language_info": {
   "file_extension": ".jl",
   "mimetype": "application/julia",
   "name": "julia",
   "version": "0.6.2"
  },
  "toc": {
   "toc_cell": false,
   "toc_number_sections": true,
   "toc_threshold": 6,
   "toc_window_display": false
  }
 },
 "nbformat": 4,
 "nbformat_minor": 2
}
