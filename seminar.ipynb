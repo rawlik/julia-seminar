{
 "cells": [
  {
   "cell_type": "markdown",
   "metadata": {},
   "source": [
    "# Introduction"
   ]
  },
  {
   "cell_type": "code",
   "execution_count": 93,
   "metadata": {
    "ExecuteTime": {
     "end_time": "2018-05-05T09:27:39.334000+02:00",
     "start_time": "2018-05-05T07:27:39.330Z"
    }
   },
   "outputs": [
    {
     "data": {
      "text/plain": [
       "square_area (generic function with 1 method)"
      ]
     },
     "execution_count": 93,
     "metadata": {},
     "output_type": "execute_result"
    }
   ],
   "source": [
    "square_area(a) = a * a"
   ]
  },
  {
   "cell_type": "code",
   "execution_count": 94,
   "metadata": {
    "ExecuteTime": {
     "end_time": "2018-05-05T09:27:40.511000+02:00",
     "start_time": "2018-05-05T07:27:40.504Z"
    }
   },
   "outputs": [
    {
     "name": "stdout",
     "output_type": "stream",
     "text": [
      "\t.section\t__TEXT,__text,regular,pure_instructions\n",
      "Filename: In[93]\n",
      "\tpushq\t%rbp\n",
      "\tmovq\t%rsp, %rbp\n",
      "Source line: 1\n",
      "\timull\t%edi, %edi\n",
      "\tmovl\t%edi, %eax\n",
      "\tpopq\t%rbp\n",
      "\tretq\n",
      "\tnopl\t(%rax,%rax)\n"
     ]
    }
   ],
   "source": [
    "code_native(square_area, (Int32,))"
   ]
  },
  {
   "cell_type": "code",
   "execution_count": 124,
   "metadata": {
    "ExecuteTime": {
     "end_time": "2018-05-05T09:39:33.303000+02:00",
     "start_time": "2018-05-05T07:39:33.232Z"
    }
   },
   "outputs": [
    {
     "name": "stdout",
     "output_type": "stream",
     "text": [
      "  0.005179 seconds (5 allocations: 176 bytes)\n"
     ]
    },
    {
     "data": {
      "text/plain": [
       "5.0000005e13"
      ]
     },
     "execution_count": 124,
     "metadata": {},
     "output_type": "execute_result"
    }
   ],
   "source": [
    "N = 10_000_000\n",
    "a = float.(collect(1:N))\n",
    "\n",
    "sum(a)\n",
    "@time sum(a)"
   ]
  },
  {
   "cell_type": "code",
   "execution_count": 120,
   "metadata": {
    "ExecuteTime": {
     "end_time": "2018-05-05T09:39:15.037000+02:00",
     "start_time": "2018-05-05T07:39:15.030Z"
    }
   },
   "outputs": [
    {
     "data": {
      "text/plain": [
       "mysum (generic function with 1 method)"
      ]
     },
     "execution_count": 120,
     "metadata": {},
     "output_type": "execute_result"
    }
   ],
   "source": [
    "function mysum(a)\n",
    "    result = zero(eltype(a))\n",
    "    for x in a\n",
    "        result += x\n",
    "    end\n",
    "    result\n",
    "end"
   ]
  },
  {
   "cell_type": "markdown",
   "metadata": {},
   "source": [
    "First time it is compiled"
   ]
  },
  {
   "cell_type": "code",
   "execution_count": 112,
   "metadata": {
    "ExecuteTime": {
     "end_time": "2018-05-05T09:38:15.922000+02:00",
     "start_time": "2018-05-05T07:38:15.900Z"
    }
   },
   "outputs": [
    {
     "data": {
      "text/plain": [
       "5.0000005e13"
      ]
     },
     "execution_count": 112,
     "metadata": {},
     "output_type": "execute_result"
    }
   ],
   "source": [
    "mysum(a)"
   ]
  },
  {
   "cell_type": "code",
   "execution_count": 125,
   "metadata": {
    "ExecuteTime": {
     "end_time": "2018-05-05T09:39:35.184000+02:00",
     "start_time": "2018-05-05T07:39:35.168Z"
    }
   },
   "outputs": [
    {
     "name": "stdout",
     "output_type": "stream",
     "text": [
      "  0.010983 seconds (5 allocations: 176 bytes)\n"
     ]
    },
    {
     "data": {
      "text/plain": [
       "5.0000005e13"
      ]
     },
     "execution_count": 125,
     "metadata": {},
     "output_type": "execute_result"
    }
   ],
   "source": [
    "@time mysum(a)"
   ]
  },
  {
   "cell_type": "code",
   "execution_count": 136,
   "metadata": {
    "ExecuteTime": {
     "end_time": "2018-05-05T12:45:49.831000+02:00",
     "start_time": "2018-05-05T10:45:49.824Z"
    }
   },
   "outputs": [
    {
     "data": {
      "text/plain": [
       "PyObject <function pymysum at 0x125f66a60>"
      ]
     },
     "execution_count": 136,
     "metadata": {},
     "output_type": "execute_result"
    }
   ],
   "source": [
    "using PyCall\n",
    "\n",
    "py\"\"\"\n",
    "def pymysum(a):\n",
    "    result = 0\n",
    "    for x in a:\n",
    "        result += x\n",
    "    return result\n",
    "\"\"\"\n",
    "\n",
    "pymysum = py\"pymysum\""
   ]
  },
  {
   "cell_type": "code",
   "execution_count": 138,
   "metadata": {
    "ExecuteTime": {
     "end_time": "2018-05-05T12:45:55.191000+02:00",
     "start_time": "2018-05-05T10:45:54.072Z"
    }
   },
   "outputs": [
    {
     "name": "stdout",
     "output_type": "stream",
     "text": [
      "  1.114607 seconds (28 allocations: 1.016 KiB)\n"
     ]
    },
    {
     "data": {
      "text/plain": [
       "5.0000005e13"
      ]
     },
     "execution_count": 138,
     "metadata": {},
     "output_type": "execute_result"
    }
   ],
   "source": [
    "@time pymysum(a)"
   ]
  },
  {
   "cell_type": "code",
   "execution_count": 140,
   "metadata": {
    "ExecuteTime": {
     "end_time": "2018-05-05T12:46:50.304000+02:00",
     "start_time": "2018-05-05T10:46:50.050Z"
    }
   },
   "outputs": [],
   "source": [
    "@pyimport numpy as np"
   ]
  },
  {
   "cell_type": "code",
   "execution_count": 142,
   "metadata": {
    "ExecuteTime": {
     "end_time": "2018-05-05T12:46:58.148000+02:00",
     "start_time": "2018-05-05T10:46:58.136Z"
    }
   },
   "outputs": [
    {
     "name": "stdout",
     "output_type": "stream",
     "text": [
      "  0.006432 seconds (28 allocations: 1.016 KiB)\n"
     ]
    },
    {
     "data": {
      "text/plain": [
       "5.0000005e13"
      ]
     },
     "execution_count": 142,
     "metadata": {},
     "output_type": "execute_result"
    }
   ],
   "source": [
    "@time np.sum(a)"
   ]
  },
  {
   "cell_type": "code",
   "execution_count": 134,
   "metadata": {
    "ExecuteTime": {
     "end_time": "2018-05-05T09:49:58.307000+02:00",
     "start_time": "2018-05-05T07:49:58.290Z"
    },
    "scrolled": true
   },
   "outputs": [
    {
     "name": "stdout",
     "output_type": "stream",
     "text": [
      "# This file is a part of Julia. License is MIT: https://julialang.org/license\n",
      "\n",
      "## reductions ##\n",
      "\n",
      "###### Generic (map)reduce functions ######\n",
      "\n",
      "if Int === Int32\n",
      "const SmallSigned = Union{Int8,Int16}\n",
      "const SmallUnsigned = Union{UInt8,UInt16}\n",
      "else\n",
      "const SmallSigned = Union{Int8,Int16,Int32}\n",
      "const SmallUnsigned = Union{UInt8,UInt16,UInt32}\n",
      "end\n",
      "\n",
      "const CommonReduceResult = Union{UInt64,UInt128,Int64,Int128,Float32,Float64}\n",
      "const WidenReduceResult = Union{SmallSigned, SmallUnsigned, Float16}\n",
      "\n",
      "# r_promote_type: promote T to the type of reduce(op, ::Array{T})\n",
      "# (some \"extra\" methods are required here to avoid ambiguity warnings)\n",
      "r_promote_type(op, ::Type{T}) where {T} = T\n",
      "r_promote_type(op, ::Type{T}) where {T<:WidenReduceResult} = widen(T)\n",
      "r_promote_type(::typeof(+), ::Type{T}) where {T<:WidenReduceResult} = widen(T)\n",
      "r_promote_type(::typeof(*), ::Type{T}) where {T<:WidenReduceResult} = widen(T)\n",
      "r_promote_type(::typeof(+), ::Type{T}) where {T<:Number} = typeof(zero(T)+zero(T))\n",
      "r_promote_type(::typeof(*), ::Type{T}) where {T<:Number} = typeof(one(T)*one(T))\n",
      "r_promote_type(::typeof(scalarmax), ::Type{T}) where {T<:WidenReduceResult} = T\n",
      "r_promote_type(::typeof(scalarmin), ::Type{T}) where {T<:WidenReduceResult} = T\n",
      "r_promote_type(::typeof(max), ::Type{T}) where {T<:WidenReduceResult} = T\n",
      "r_promote_type(::typeof(min), ::Type{T}) where {T<:WidenReduceResult} = T\n",
      "\n",
      "# r_promote: promote x to the type of reduce(op, [x])\n",
      "r_promote(op, x::T) where {T} = convert(r_promote_type(op, T), x)\n",
      "\n",
      "## foldl && mapfoldl\n",
      "\n",
      "function mapfoldl_impl(f, op, v0, itr, i)\n",
      "    # Unroll the while loop once; if v0 is known, the call to op may\n",
      "    # be evaluated at compile time\n",
      "    if done(itr, i)\n",
      "        return r_promote(op, v0)\n",
      "    else\n",
      "        (x, i) = next(itr, i)\n",
      "        v = op(r_promote(op, v0), f(x))\n",
      "        while !done(itr, i)\n",
      "            @inbounds (x, i) = next(itr, i)\n",
      "            v = op(v, f(x))\n",
      "        end\n",
      "        return v\n",
      "    end\n",
      "end\n",
      "\n",
      "\"\"\"\n",
      "    mapfoldl(f, op, v0, itr)\n",
      "\n",
      "Like [`mapreduce`](@ref), but with guaranteed left associativity, as in [`foldl`](@ref).\n",
      "`v0` will be used exactly once.\n",
      "\"\"\"\n",
      "mapfoldl(f, op, v0, itr) = mapfoldl_impl(f, op, v0, itr, start(itr))\n",
      "\n",
      "\"\"\"\n",
      "    mapfoldl(f, op, itr)\n",
      "\n",
      "Like `mapfoldl(f, op, v0, itr)`, but using the first element of `itr` as `v0`. In general,\n",
      "this cannot be used with empty collections (see `reduce(op, itr)`).\n",
      "\"\"\"\n",
      "function mapfoldl(f, op, itr)\n",
      "    i = start(itr)\n",
      "    if done(itr, i)\n",
      "        return Base.mr_empty_iter(f, op, itr, iteratoreltype(itr))\n",
      "    end\n",
      "    (x, i) = next(itr, i)\n",
      "    v0 = f(x)\n",
      "    mapfoldl_impl(f, op, v0, itr, i)\n",
      "end\n",
      "\n",
      "\"\"\"\n",
      "    foldl(op, v0, itr)\n",
      "\n",
      "Like [`reduce`](@ref), but with guaranteed left associativity. `v0` will be used\n",
      "exactly once.\n",
      "\n",
      "```jldoctest\n",
      "julia> foldl(-, 1, 2:5)\n",
      "-13\n",
      "```\n",
      "\"\"\"\n",
      "foldl(op, v0, itr) = mapfoldl(identity, op, v0, itr)\n",
      "\n",
      "\"\"\"\n",
      "    foldl(op, itr)\n",
      "\n",
      "Like `foldl(op, v0, itr)`, but using the first element of `itr` as `v0`. In general, this\n",
      "cannot be used with empty collections (see `reduce(op, itr)`).\n",
      "\n",
      "```jldoctest\n",
      "julia> foldl(-, 2:5)\n",
      "-10\n",
      "```\n",
      "\"\"\"\n",
      "foldl(op, itr) = mapfoldl(identity, op, itr)\n",
      "\n",
      "## foldr & mapfoldr\n",
      "\n",
      "function mapfoldr_impl(f, op, v0, itr, i::Integer)\n",
      "    # Unroll the while loop once; if v0 is known, the call to op may\n",
      "    # be evaluated at compile time\n",
      "    if isempty(itr) || i == 0\n",
      "        return r_promote(op, v0)\n",
      "    else\n",
      "        x = itr[i]\n",
      "        v  = op(f(x), r_promote(op, v0))\n",
      "        while i > 1\n",
      "            x = itr[i -= 1]\n",
      "            v = op(f(x), v)\n",
      "        end\n",
      "        return v\n",
      "    end\n",
      "end\n",
      "\n",
      "\"\"\"\n",
      "    mapfoldr(f, op, v0, itr)\n",
      "\n",
      "Like [`mapreduce`](@ref), but with guaranteed right associativity, as in [`foldr`](@ref).\n",
      "`v0` will be used exactly once.\n",
      "\"\"\"\n",
      "mapfoldr(f, op, v0, itr) = mapfoldr_impl(f, op, v0, itr, endof(itr))\n",
      "\n",
      "\"\"\"\n",
      "    mapfoldr(f, op, itr)\n",
      "\n",
      "Like `mapfoldr(f, op, v0, itr)`, but using the first element of `itr` as `v0`. In general,\n",
      "this cannot be used with empty collections (see `reduce(op, itr)`).\n",
      "\"\"\"\n",
      "function mapfoldr(f, op, itr)\n",
      "    i = endof(itr)\n",
      "    if isempty(itr)\n",
      "        return Base.mr_empty_iter(f, op, itr, iteratoreltype(itr))\n",
      "    end\n",
      "    return mapfoldr_impl(f, op, f(itr[i]), itr, i-1)\n",
      "end\n",
      "\n",
      "\"\"\"\n",
      "    foldr(op, v0, itr)\n",
      "\n",
      "Like [`reduce`](@ref), but with guaranteed right associativity. `v0` will be used\n",
      "exactly once.\n",
      "\n",
      "```jldoctest\n",
      "julia> foldr(-, 1, 2:5)\n",
      "-1\n",
      "```\n",
      "\"\"\"\n",
      "foldr(op, v0, itr) = mapfoldr(identity, op, v0, itr)\n",
      "\n",
      "\"\"\"\n",
      "    foldr(op, itr)\n",
      "\n",
      "Like `foldr(op, v0, itr)`, but using the last element of `itr` as `v0`. In general, this\n",
      "cannot be used with empty collections (see `reduce(op, itr)`).\n",
      "\n",
      "```jldoctest\n",
      "julia> foldr(-, 2:5)\n",
      "-2\n",
      "```\n",
      "\"\"\"\n",
      "foldr(op, itr) = mapfoldr(identity, op, itr)\n",
      "\n",
      "## reduce & mapreduce\n",
      "\n",
      "# `mapreduce_impl()` is called by `mapreduce()` (via `_mapreduce()`, when `A`\n",
      "# supports linear indexing) and does actual calculations (for `A[ifirst:ilast]` subset).\n",
      "# For efficiency, no parameter validity checks are done, it's the caller's responsibility.\n",
      "# `ifirst:ilast` range is assumed to be a valid non-empty subset of `A` indices.\n",
      "\n",
      "# This is a generic implementation of `mapreduce_impl()`,\n",
      "# certain `op` (e.g. `min` and `max`) may have their own specialized versions.\n",
      "function mapreduce_impl(f, op, A::AbstractArray, ifirst::Integer, ilast::Integer, blksize::Int=pairwise_blocksize(f, op))\n",
      "    if ifirst == ilast\n",
      "        @inbounds a1 = A[ifirst]\n",
      "        return r_promote(op, f(a1))\n",
      "    elseif ifirst + blksize > ilast\n",
      "        # sequential portion\n",
      "        @inbounds a1 = A[ifirst]\n",
      "        @inbounds a2 = A[ifirst+1]\n",
      "        v = op(r_promote(op, f(a1)), r_promote(op, f(a2)))\n",
      "        @simd for i = ifirst + 2 : ilast\n",
      "            @inbounds ai = A[i]\n",
      "            v = op(v, f(ai))\n",
      "        end\n",
      "        return v\n",
      "    else\n",
      "        # pairwise portion\n",
      "        imid = (ifirst + ilast) >> 1\n",
      "        v1 = mapreduce_impl(f, op, A, ifirst, imid, blksize)\n",
      "        v2 = mapreduce_impl(f, op, A, imid+1, ilast, blksize)\n",
      "        return op(v1, v2)\n",
      "    end\n",
      "end\n",
      "\n",
      "\"\"\"\n",
      "    mapreduce(f, op, itr)\n",
      "\n",
      "Like `mapreduce(f, op, v0, itr)`. In general, this cannot be used with empty collections\n",
      "(see `reduce(op, itr)`).\n",
      "\"\"\"\n",
      "mapreduce(f, op, itr) = mapfoldl(f, op, itr)\n",
      "\n",
      "\"\"\"\n",
      "    mapreduce(f, op, v0, itr)\n",
      "\n",
      "Apply function `f` to each element in `itr`, and then reduce the result using the binary\n",
      "function `op`. `v0` must be a neutral element for `op` that will be returned for empty\n",
      "collections. It is unspecified whether `v0` is used for non-empty collections.\n",
      "\n",
      "[`mapreduce`](@ref) is functionally equivalent to calling `reduce(op, v0,\n",
      "map(f, itr))`, but will in general execute faster since no intermediate collection needs to\n",
      "be created. See documentation for [`reduce`](@ref) and [`map`](@ref).\n",
      "\n",
      "```jldoctest\n",
      "julia> mapreduce(x->x^2, +, [1:3;]) # == 1 + 4 + 9\n",
      "14\n",
      "```\n",
      "\n",
      "The associativity of the reduction is implementation-dependent. Additionally, some\n",
      "implementations may reuse the return value of `f` for elements that appear multiple times in\n",
      "`itr`. Use [`mapfoldl`](@ref) or [`mapfoldr`](@ref) instead for\n",
      "guaranteed left or right associativity and invocation of `f` for every value.\n",
      "\"\"\"\n",
      "mapreduce(f, op, v0, itr) = mapfoldl(f, op, v0, itr)\n",
      "\n",
      "# Note: sum_seq usually uses four or more accumulators after partial\n",
      "# unrolling, so each accumulator gets at most 256 numbers\n",
      "pairwise_blocksize(f, op) = 1024\n",
      "\n",
      "# This combination appears to show a benefit from a larger block size\n",
      "pairwise_blocksize(::typeof(abs2), ::typeof(+)) = 4096\n",
      "\n",
      "\n",
      "# handling empty arrays\n",
      "_empty_reduce_error() = throw(ArgumentError(\"reducing over an empty collection is not allowed\"))\n",
      "mr_empty(f, op, T) = _empty_reduce_error()\n",
      "# use zero(T)::T to improve type information when zero(T) is not defined\n",
      "mr_empty(::typeof(identity), op::typeof(+), T) = r_promote(op, zero(T)::T)\n",
      "mr_empty(::typeof(abs), op::typeof(+), T) = r_promote(op, abs(zero(T)::T))\n",
      "mr_empty(::typeof(abs2), op::typeof(+), T) = r_promote(op, abs2(zero(T)::T))\n",
      "mr_empty(::typeof(identity), op::typeof(*), T) = r_promote(op, one(T)::T)\n",
      "mr_empty(::typeof(abs), op::typeof(scalarmax), T) = abs(zero(T)::T)\n",
      "mr_empty(::typeof(abs2), op::typeof(scalarmax), T) = abs2(zero(T)::T)\n",
      "mr_empty(::typeof(abs), op::typeof(max), T) = mr_empty(abs, scalarmax, T)\n",
      "mr_empty(::typeof(abs2), op::typeof(max), T) = mr_empty(abs2, scalarmax, T)\n",
      "mr_empty(f, op::typeof(&), T) = true\n",
      "mr_empty(f, op::typeof(|), T) = false\n",
      "\n",
      "mr_empty_iter(f, op, itr, ::HasEltype) = mr_empty(f, op, eltype(itr))\n",
      "mr_empty_iter(f, op::typeof(&), itr, ::EltypeUnknown) = true\n",
      "mr_empty_iter(f, op::typeof(|), itr, ::EltypeUnknown) = false\n",
      "mr_empty_iter(f, op, itr, ::EltypeUnknown) = _empty_reduce_error()\n",
      "\n",
      "_mapreduce(f, op, A::AbstractArray) = _mapreduce(f, op, IndexStyle(A), A)\n",
      "\n",
      "function _mapreduce(f, op, ::IndexLinear, A::AbstractArray{T}) where T\n",
      "    inds = linearindices(A)\n",
      "    n = length(inds)\n",
      "    if n == 0\n",
      "        return mr_empty(f, op, T)\n",
      "    elseif n == 1\n",
      "        @inbounds a1 = A[inds[1]]\n",
      "        return r_promote(op, f(a1))\n",
      "    elseif n < 16 # process short array here, avoid mapreduce_impl() compilation\n",
      "        @inbounds i = inds[1]\n",
      "        @inbounds a1 = A[i]\n",
      "        @inbounds a2 = A[i+=1]\n",
      "        s = op(r_promote(op, f(a1)), r_promote(op, f(a2)))\n",
      "        while i < last(inds)\n",
      "            @inbounds Ai = A[i+=1]\n",
      "            s = op(s, f(Ai))\n",
      "        end\n",
      "        return s\n",
      "    else\n",
      "        return mapreduce_impl(f, op, A, first(inds), last(inds))\n",
      "    end\n",
      "end\n",
      "\n",
      "_mapreduce(f, op, ::IndexCartesian, A::AbstractArray) = mapfoldl(f, op, A)\n",
      "\n",
      "mapreduce(f, op, A::AbstractArray) = _mapreduce(f, op, IndexStyle(A), A)\n",
      "mapreduce(f, op, a::Number) = f(a)\n",
      "\n",
      "\"\"\"\n",
      "    reduce(op, v0, itr)\n",
      "\n",
      "Reduce the given collection `ìtr` with the given binary operator `op`. `v0` must be a\n",
      "neutral element for `op` that will be returned for empty collections. It is unspecified\n",
      "whether `v0` is used for non-empty collections.\n",
      "\n",
      "Reductions for certain commonly-used operators have special implementations which should be\n",
      "used instead: `maximum(itr)`, `minimum(itr)`, `sum(itr)`, `prod(itr)`, `any(itr)`,\n",
      "`all(itr)`.\n",
      "\n",
      "The associativity of the reduction is implementation dependent. This means that you can't\n",
      "use non-associative operations like `-` because it is undefined whether `reduce(-,[1,2,3])`\n",
      "should be evaluated as `(1-2)-3` or `1-(2-3)`. Use [`foldl`](@ref) or\n",
      "[`foldr`](@ref) instead for guaranteed left or right associativity.\n",
      "\n",
      "Some operations accumulate error, and parallelism will also be easier if the reduction can\n",
      "be executed in groups. Future versions of Julia might change the algorithm. Note that the\n",
      "elements are not reordered if you use an ordered collection.\n",
      "\n",
      "# Examples\n",
      "\n",
      "```jldoctest\n",
      "julia> reduce(*, 1, [2; 3; 4])\n",
      "24\n",
      "```\n",
      "\"\"\"\n",
      "reduce(op, v0, itr) = mapreduce(identity, op, v0, itr)\n",
      "\n",
      "\"\"\"\n",
      "    reduce(op, itr)\n",
      "\n",
      "Like `reduce(op, v0, itr)`. This cannot be used with empty collections, except for some\n",
      "special cases (e.g. when `op` is one of `+`, `*`, `max`, `min`, `&`, `|`) when Julia can\n",
      "determine the neutral element of `op`.\n",
      "\n",
      "```jldoctest\n",
      "julia> reduce(*, [2; 3; 4])\n",
      "24\n",
      "```\n",
      "\"\"\"\n",
      "reduce(op, itr) = mapreduce(identity, op, itr)\n",
      "reduce(op, a::Number) = a\n",
      "\n",
      "###### Specific reduction functions ######\n",
      "\n",
      "## sum\n",
      "\n",
      "\"\"\"\n",
      "    sum(f, itr)\n",
      "\n",
      "Sum the results of calling function `f` on each element of `itr`.\n",
      "\n",
      "```jldoctest\n",
      "julia> sum(abs2, [2; 3; 4])\n",
      "29\n",
      "```\n",
      "\"\"\"\n",
      "sum(f::Callable, a) = mapreduce(f, +, a)\n",
      "\n",
      "\"\"\"\n",
      "    sum(itr)\n",
      "\n"
     ]
    },
    {
     "name": "stdout",
     "output_type": "stream",
     "text": [
      "Returns the sum of all elements in a collection.\n",
      "\n",
      "```jldoctest\n",
      "julia> sum(1:20)\n",
      "210\n",
      "```\n",
      "\"\"\"\n",
      "sum(a) = mapreduce(identity, +, a)\n",
      "sum(a::AbstractArray{Bool}) = countnz(a)\n",
      "\n",
      "\n",
      "# Kahan (compensated) summation: O(1) error growth, at the expense\n",
      "# of a considerable increase in computational expense.\n",
      "\n",
      "\"\"\"\n",
      "    sum_kbn(A)\n",
      "\n",
      "Returns the sum of all elements of `A`, using the Kahan-Babuska-Neumaier compensated\n",
      "summation algorithm for additional accuracy.\n",
      "\"\"\"\n",
      "function sum_kbn(A)\n",
      "    T = _default_eltype(typeof(A))\n",
      "    c = r_promote(+, zero(T)::T)\n",
      "    i = start(A)\n",
      "    if done(A, i)\n",
      "        return c\n",
      "    end\n",
      "    Ai, i = next(A, i)\n",
      "    s = Ai - c\n",
      "    while !(done(A, i))\n",
      "        Ai, i = next(A, i)\n",
      "        t = s + Ai\n",
      "        if abs(s) >= abs(Ai)\n",
      "            c -= ((s-t) + Ai)\n",
      "        else\n",
      "            c -= ((Ai-t) + s)\n",
      "        end\n",
      "        s = t\n",
      "    end\n",
      "    s - c\n",
      "end\n",
      "\n",
      "## prod\n",
      "\"\"\"\n",
      "    prod(f, itr)\n",
      "\n",
      "Returns the product of `f` applied to each element of `itr`.\n",
      "\n",
      "```jldoctest\n",
      "julia> prod(abs2, [2; 3; 4])\n",
      "576\n",
      "```\n",
      "\"\"\"\n",
      "prod(f::Callable, a) = mapreduce(f, *, a)\n",
      "\n",
      "\"\"\"\n",
      "    prod(itr)\n",
      "\n",
      "Returns the product of all elements of a collection.\n",
      "\n",
      "```jldoctest\n",
      "julia> prod(1:20)\n",
      "2432902008176640000\n",
      "```\n",
      "\"\"\"\n",
      "prod(a) = mapreduce(identity, *, a)\n",
      "\n",
      "## maximum & minimum\n",
      "\n",
      "function mapreduce_impl(f, op::Union{typeof(scalarmax),\n",
      "                                     typeof(scalarmin),\n",
      "                                     typeof(max),\n",
      "                                     typeof(min)},\n",
      "                        A::AbstractArray, first::Int, last::Int)\n",
      "    # locate the first non NaN number\n",
      "    @inbounds a1 = A[first]\n",
      "    v = f(a1)\n",
      "    i = first + 1\n",
      "    while (v == v) && (i <= last)\n",
      "        @inbounds ai = A[i]\n",
      "        v = op(v, f(ai))\n",
      "        i += 1\n",
      "    end\n",
      "    v\n",
      "end\n",
      "\n",
      "maximum(f::Callable, a) = mapreduce(f, scalarmax, a)\n",
      "minimum(f::Callable, a) = mapreduce(f, scalarmin, a)\n",
      "\n",
      "\"\"\"\n",
      "    maximum(itr)\n",
      "\n",
      "Returns the largest element in a collection.\n",
      "\n",
      "```jldoctest\n",
      "julia> maximum(-20.5:10)\n",
      "9.5\n",
      "\n",
      "julia> maximum([1,2,3])\n",
      "3\n",
      "```\n",
      "\"\"\"\n",
      "maximum(a) = mapreduce(identity, scalarmax, a)\n",
      "\n",
      "\"\"\"\n",
      "    minimum(itr)\n",
      "\n",
      "Returns the smallest element in a collection.\n",
      "\n",
      "```jldoctest\n",
      "julia> minimum(-20.5:10)\n",
      "-20.5\n",
      "\n",
      "julia> minimum([1,2,3])\n",
      "1\n",
      "```\n",
      "\"\"\"\n",
      "minimum(a) = mapreduce(identity, scalarmin, a)\n",
      "\n",
      "## extrema\n",
      "\n",
      "extrema(r::Range) = (minimum(r), maximum(r))\n",
      "extrema(x::Real) = (x, x)\n",
      "\n",
      "\"\"\"\n",
      "    extrema(itr) -> Tuple\n",
      "\n",
      "Compute both the minimum and maximum element in a single pass, and return them as a 2-tuple.\n",
      "\n",
      "```jldoctest\n",
      "julia> extrema(2:10)\n",
      "(2, 10)\n",
      "\n",
      "julia> extrema([9,pi,4.5])\n",
      "(3.141592653589793, 9.0)\n",
      "```\n",
      "\"\"\"\n",
      "function extrema(itr)\n",
      "    s = start(itr)\n",
      "    done(itr, s) && throw(ArgumentError(\"collection must be non-empty\"))\n",
      "    (v, s) = next(itr, s)\n",
      "    vmin = vmax = v\n",
      "    while !done(itr, s)\n",
      "        (x, s) = next(itr, s)\n",
      "        vmax = max(x, vmax)\n",
      "        vmin = min(x, vmin)\n",
      "    end\n",
      "    return (vmin, vmax)\n",
      "end\n",
      "\n",
      "## all & any\n",
      "\n",
      "\"\"\"\n",
      "    any(itr) -> Bool\n",
      "\n",
      "Test whether any elements of a boolean collection are `true`, returning `true` as\n",
      "soon as the first `true` value in `itr` is encountered (short-circuiting).\n",
      "\n",
      "```jldoctest\n",
      "julia> a = [true,false,false,true]\n",
      "4-element Array{Bool,1}:\n",
      "  true\n",
      " false\n",
      " false\n",
      "  true\n",
      "\n",
      "julia> any(a)\n",
      "true\n",
      "\n",
      "julia> any((println(i); v) for (i, v) in enumerate(a))\n",
      "1\n",
      "true\n",
      "```\n",
      "\"\"\"\n",
      "any(itr) = any(identity, itr)\n",
      "\n",
      "\"\"\"\n",
      "    all(itr) -> Bool\n",
      "\n",
      "Test whether all elements of a boolean collection are `true`, returning `false` as\n",
      "soon as the first `false` value in `itr` is encountered (short-circuiting).\n",
      "\n",
      "```jldoctest\n",
      "julia> a = [true,false,false,true]\n",
      "4-element Array{Bool,1}:\n",
      "  true\n",
      " false\n",
      " false\n",
      "  true\n",
      "\n",
      "julia> all(a)\n",
      "false\n",
      "\n",
      "julia> all((println(i); v) for (i, v) in enumerate(a))\n",
      "1\n",
      "2\n",
      "false\n",
      "```\n",
      "\"\"\"\n",
      "all(itr) = all(identity, itr)\n",
      "\n",
      "\"\"\"\n",
      "    any(p, itr) -> Bool\n",
      "\n",
      "Determine whether predicate `p` returns `true` for any elements of `itr`, returning\n",
      "`true` as soon as the first item in `itr` for which `p` returns `true` is encountered\n",
      "(short-circuiting).\n",
      "\n",
      "```jldoctest\n",
      "julia> any(i->(4<=i<=6), [3,5,7])\n",
      "true\n",
      "\n",
      "julia> any(i -> (println(i); i > 3), 1:10)\n",
      "1\n",
      "2\n",
      "3\n",
      "4\n",
      "true\n",
      "```\n",
      "\"\"\"\n",
      "function any(f, itr)\n",
      "    for x in itr\n",
      "        f(x) && return true\n",
      "    end\n",
      "    return false\n",
      "end\n",
      "\n",
      "\"\"\"\n",
      "    all(p, itr) -> Bool\n",
      "\n",
      "Determine whether predicate `p` returns `true` for all elements of `itr`, returning\n",
      "`false` as soon as the first item in `itr` for which `p` returns `false` is encountered\n",
      "(short-circuiting).\n",
      "\n",
      "```jldoctest\n",
      "julia> all(i->(4<=i<=6), [4,5,6])\n",
      "true\n",
      "\n",
      "julia> all(i -> (println(i); i < 3), 1:10)\n",
      "1\n",
      "2\n",
      "3\n",
      "false\n",
      "```\n",
      "\"\"\"\n",
      "function all(f, itr)\n",
      "    for x in itr\n",
      "        f(x) || return false\n",
      "    end\n",
      "    return true\n",
      "end\n",
      "\n",
      "## in & contains\n",
      "\n",
      "\"\"\"\n",
      "    in(item, collection) -> Bool\n",
      "    ∈(item,collection) -> Bool\n",
      "    ∋(collection,item) -> Bool\n",
      "    ∉(item,collection) -> Bool\n",
      "    ∌(collection,item) -> Bool\n",
      "\n",
      "Determine whether an item is in the given collection, in the sense that it is `==` to one of\n",
      "the values generated by iterating over the collection. Some collections need a slightly\n",
      "different definition; for example [`Set`](@ref)s check whether the item\n",
      "[`isequal`](@ref) to one of the elements. [`Dict`](@ref)s look for\n",
      "`(key,value)` pairs, and the key is compared using [`isequal`](@ref). To test for\n",
      "the presence of a key in a dictionary, use [`haskey`](@ref) or `k in keys(dict)`.\n",
      "\n",
      "```jldoctest\n",
      "julia> a = 1:3:20\n",
      "1:3:19\n",
      "\n",
      "julia> 4 in a\n",
      "true\n",
      "\n",
      "julia> 5 in a\n",
      "false\n",
      "```\n",
      "\"\"\"\n",
      "in(x, itr) = any(y -> y == x, itr)\n",
      "\n",
      "const ∈ = in\n",
      "∉(x, itr)=!∈(x, itr)\n",
      "∋(itr, x)= ∈(x, itr)\n",
      "∌(itr, x)=!∋(itr, x)\n",
      "\n",
      "\"\"\"\n",
      "    contains(fun, itr, x) -> Bool\n",
      "\n",
      "Returns `true` if there is at least one element `y` in `itr` such that `fun(y,x)` is `true`.\n",
      "\n",
      "```jldoctest\n",
      "julia> vec = [10, 100, 200]\n",
      "3-element Array{Int64,1}:\n",
      "  10\n",
      " 100\n",
      " 200\n",
      "\n",
      "julia> contains(==, vec, 200)\n",
      "true\n",
      "\n",
      "julia> contains(==, vec, 300)\n",
      "false\n",
      "\n",
      "julia> contains(>, vec, 100)\n",
      "true\n",
      "\n",
      "julia> contains(>, vec, 200)\n",
      "false\n",
      "```\n",
      "\"\"\"\n",
      "function contains(eq::Function, itr, x)\n",
      "    for y in itr\n",
      "        eq(y, x) && return true\n",
      "    end\n",
      "    return false\n",
      "end\n",
      "\n",
      "\n",
      "## countnz & count\n",
      "\n",
      "\"\"\"\n",
      "    count(p, itr) -> Integer\n",
      "    count(itr) -> Integer\n",
      "\n",
      "Count the number of elements in `itr` for which predicate `p` returns `true`.\n",
      "If `p` is omitted, counts the number of `true` elements in `itr` (which\n",
      "should be a collection of boolean values).\n",
      "\n",
      "```jldoctest\n",
      "julia> count(i->(4<=i<=6), [2,3,4,5,6])\n",
      "3\n",
      "\n",
      "julia> count([true, false, true, true])\n",
      "3\n",
      "```\n",
      "\"\"\"\n",
      "function count(pred, itr)\n",
      "    n = 0\n",
      "    for x in itr\n",
      "        n += pred(x)::Bool\n",
      "    end\n",
      "    return n\n",
      "end\n",
      "function count(pred, a::AbstractArray)\n",
      "    n = 0\n",
      "    for i in eachindex(a)\n",
      "        @inbounds n += pred(a[i])::Bool\n",
      "    end\n",
      "    return n\n",
      "end\n",
      "count(itr) = count(identity, itr)\n",
      "\n",
      "\"\"\"\n",
      "    countnz(A) -> Integer\n",
      "\n",
      "Counts the number of nonzero values in array `A` (dense or sparse). Note that this is not a constant-time operation.\n",
      "For sparse matrices, one should usually use [`nnz`](@ref), which returns the number of stored values.\n",
      "\n",
      "```jldoctest\n",
      "julia> A = [1 2 4; 0 0 1; 1 1 0]\n",
      "3×3 Array{Int64,2}:\n",
      " 1  2  4\n",
      " 0  0  1\n",
      " 1  1  0\n",
      "\n",
      "julia> countnz(A)\n",
      "6\n",
      "```\n",
      "\"\"\"\n",
      "countnz(a) = count(x -> x != 0, a)\n"
     ]
    }
   ],
   "source": [
    "@less sum(a)"
   ]
  },
  {
   "cell_type": "markdown",
   "metadata": {},
   "source": [
    "python's `main()` can be found here: https://github.com/python/cpython/blob/master/Programs/python.c\n",
    "\n",
    "```C\n",
    "/* Minimal main program -- everything is loaded from the library */\n",
    "\n",
    "#include \"Python.h\"\n",
    "\n",
    "#ifdef MS_WINDOWS\n",
    "int\n",
    "wmain(int argc, wchar_t **argv)\n",
    "{\n",
    "    return Py_Main(argc, argv);\n",
    "}\n",
    "#else\n",
    "int\n",
    "main(int argc, char **argv)\n",
    "{\n",
    "    return _Py_UnixMain(argc, argv);\n",
    "}\n",
    "#endif\n",
    "```"
   ]
  },
  {
   "cell_type": "markdown",
   "metadata": {},
   "source": [
    "# Highlights"
   ]
  },
  {
   "cell_type": "markdown",
   "metadata": {},
   "source": [
    "Can, and should, write type-agnostic functions (implicit templates):"
   ]
  },
  {
   "cell_type": "code",
   "execution_count": 153,
   "metadata": {
    "ExecuteTime": {
     "end_time": "2018-05-05T12:49:32.696000+02:00",
     "start_time": "2018-05-05T10:49:32.692Z"
    }
   },
   "outputs": [
    {
     "name": "stdout",
     "output_type": "stream",
     "text": [
      "\t.section\t__TEXT,__text,regular,pure_instructions\n",
      "Filename: In[93]\n",
      "\tpushq\t%rbp\n",
      "\tmovq\t%rsp, %rbp\n",
      "Source line: 1\n",
      "\timull\t%edi, %edi\n",
      "\tmovl\t%edi, %eax\n",
      "\tpopq\t%rbp\n",
      "\tretq\n",
      "\tnopl\t(%rax,%rax)\n"
     ]
    }
   ],
   "source": [
    "code_native(square_area, (Int32,))"
   ]
  },
  {
   "cell_type": "code",
   "execution_count": 154,
   "metadata": {
    "ExecuteTime": {
     "end_time": "2018-05-05T12:49:42.620000+02:00",
     "start_time": "2018-05-05T10:49:42.614Z"
    }
   },
   "outputs": [
    {
     "name": "stdout",
     "output_type": "stream",
     "text": [
      "\t.section\t__TEXT,__text,regular,pure_instructions\n",
      "Filename: In[93]\n",
      "\tpushq\t%rbp\n",
      "\tmovq\t%rsp, %rbp\n",
      "Source line: 1\n",
      "\tmulsd\t%xmm0, %xmm0\n",
      "\tpopq\t%rbp\n",
      "\tretq\n",
      "\tnopw\t(%rax,%rax)\n"
     ]
    }
   ],
   "source": [
    "code_native(square_area, (Float64,))"
   ]
  },
  {
   "cell_type": "code",
   "execution_count": 155,
   "metadata": {
    "ExecuteTime": {
     "end_time": "2018-05-05T12:50:42.725000+02:00",
     "start_time": "2018-05-05T10:50:42.720Z"
    }
   },
   "outputs": [
    {
     "data": {
      "text/plain": [
       "mysum (generic function with 1 method)"
      ]
     },
     "execution_count": 155,
     "metadata": {},
     "output_type": "execute_result"
    }
   ],
   "source": [
    "function mysum(a)\n",
    "    result = zero(eltype(a))\n",
    "    for x in a\n",
    "        result += x\n",
    "    end\n",
    "    result\n",
    "end"
   ]
  },
  {
   "cell_type": "markdown",
   "metadata": {},
   "source": [
    "# Crash-course"
   ]
  },
  {
   "cell_type": "code",
   "execution_count": 89,
   "metadata": {
    "ExecuteTime": {
     "end_time": "2018-05-04T23:39:40.383000+02:00",
     "start_time": "2018-05-04T21:39:40.292Z"
    }
   },
   "outputs": [
    {
     "data": {
      "text/plain": [
       "square_area (generic function with 1 method)"
      ]
     },
     "execution_count": 89,
     "metadata": {},
     "output_type": "execute_result"
    }
   ],
   "source": [
    "square_area(a) = a * a"
   ]
  },
  {
   "cell_type": "code",
   "execution_count": 90,
   "metadata": {
    "ExecuteTime": {
     "end_time": "2018-05-04T23:39:59.357000+02:00",
     "start_time": "2018-05-04T21:39:59.288Z"
    }
   },
   "outputs": [
    {
     "name": "stdout",
     "output_type": "stream",
     "text": [
      "\t.section\t__TEXT,__text,regular,pure_instructions\n",
      "Filename: In[89]\n",
      "\tpushq\t%rbp\n",
      "\tmovq\t%rsp, %rbp\n",
      "Source line: 1\n",
      "\timull\t%edi, %edi\n",
      "\tmovl\t%edi, %eax\n",
      "\tpopq\t%rbp\n",
      "\tretq\n",
      "\tnopl\t(%rax,%rax)\n"
     ]
    }
   ],
   "source": [
    "code_native(square_area, (Int32,))"
   ]
  },
  {
   "cell_type": "code",
   "execution_count": 91,
   "metadata": {
    "ExecuteTime": {
     "end_time": "2018-05-04T23:40:07.005000+02:00",
     "start_time": "2018-05-04T21:40:06.998Z"
    }
   },
   "outputs": [
    {
     "name": "stdout",
     "output_type": "stream",
     "text": [
      "\t.section\t__TEXT,__text,regular,pure_instructions\n",
      "Filename: In[89]\n",
      "\tpushq\t%rbp\n",
      "\tmovq\t%rsp, %rbp\n",
      "Source line: 1\n",
      "\tmulsd\t%xmm0, %xmm0\n",
      "\tpopq\t%rbp\n",
      "\tretq\n",
      "\tnopw\t(%rax,%rax)\n"
     ]
    }
   ],
   "source": [
    "code_native(square_area, (Float64,))"
   ]
  },
  {
   "cell_type": "code",
   "execution_count": null,
   "metadata": {},
   "outputs": [],
   "source": []
  },
  {
   "cell_type": "code",
   "execution_count": 17,
   "metadata": {
    "ExecuteTime": {
     "end_time": "2018-05-04T23:24:28.669000+02:00",
     "start_time": "2018-05-04T21:24:28.664Z"
    }
   },
   "outputs": [
    {
     "data": {
      "text/plain": [
       "2"
      ]
     },
     "execution_count": 17,
     "metadata": {},
     "output_type": "execute_result"
    }
   ],
   "source": [
    "2"
   ]
  },
  {
   "cell_type": "code",
   "execution_count": 18,
   "metadata": {
    "ExecuteTime": {
     "end_time": "2018-05-04T23:24:44.370000+02:00",
     "start_time": "2018-05-04T21:24:44.178Z"
    }
   },
   "outputs": [
    {
     "data": {
      "text/plain": [
       "2 + 1im"
      ]
     },
     "execution_count": 18,
     "metadata": {},
     "output_type": "execute_result"
    }
   ],
   "source": [
    "2 + 1im"
   ]
  },
  {
   "cell_type": "code",
   "execution_count": 20,
   "metadata": {
    "ExecuteTime": {
     "end_time": "2018-05-04T23:25:08.165000+02:00",
     "start_time": "2018-05-04T21:25:08.124Z"
    }
   },
   "outputs": [
    {
     "data": {
      "text/plain": [
       "-1 + 0im"
      ]
     },
     "execution_count": 20,
     "metadata": {},
     "output_type": "execute_result"
    }
   ],
   "source": [
    "1im^2"
   ]
  },
  {
   "cell_type": "code",
   "execution_count": 21,
   "metadata": {
    "ExecuteTime": {
     "end_time": "2018-05-04T23:25:21.706000+02:00",
     "start_time": "2018-05-04T21:25:21.524Z"
    }
   },
   "outputs": [
    {
     "data": {
      "text/plain": [
       "2//3"
      ]
     },
     "execution_count": 21,
     "metadata": {},
     "output_type": "execute_result"
    }
   ],
   "source": [
    "2//3"
   ]
  },
  {
   "cell_type": "code",
   "execution_count": 22,
   "metadata": {
    "ExecuteTime": {
     "end_time": "2018-05-04T23:25:27.997000+02:00",
     "start_time": "2018-05-04T21:25:27.792Z"
    }
   },
   "outputs": [
    {
     "data": {
      "text/plain": [
       "π = 3.1415926535897..."
      ]
     },
     "execution_count": 22,
     "metadata": {},
     "output_type": "execute_result"
    }
   ],
   "source": [
    "pi"
   ]
  },
  {
   "cell_type": "code",
   "execution_count": 25,
   "metadata": {
    "ExecuteTime": {
     "end_time": "2018-05-04T23:25:46.276000+02:00",
     "start_time": "2018-05-04T21:25:46.264Z"
    }
   },
   "outputs": [
    {
     "data": {
      "text/plain": [
       "6.283185307179586"
      ]
     },
     "execution_count": 25,
     "metadata": {},
     "output_type": "execute_result"
    }
   ],
   "source": [
    "2π"
   ]
  },
  {
   "cell_type": "code",
   "execution_count": 26,
   "metadata": {
    "ExecuteTime": {
     "end_time": "2018-05-04T23:25:58.099000+02:00",
     "start_time": "2018-05-04T21:25:58.096Z"
    }
   },
   "outputs": [
    {
     "data": {
      "text/plain": [
       "10"
      ]
     },
     "execution_count": 26,
     "metadata": {},
     "output_type": "execute_result"
    }
   ],
   "source": [
    "2(3+2)"
   ]
  },
  {
   "cell_type": "code",
   "execution_count": 27,
   "metadata": {
    "ExecuteTime": {
     "end_time": "2018-05-04T23:26:13.923000+02:00",
     "start_time": "2018-05-04T21:26:13.918Z"
    }
   },
   "outputs": [
    {
     "data": {
      "text/plain": [
       "2.5"
      ]
     },
     "execution_count": 27,
     "metadata": {},
     "output_type": "execute_result"
    }
   ],
   "source": [
    "5 / 2"
   ]
  },
  {
   "cell_type": "code",
   "execution_count": 28,
   "metadata": {
    "ExecuteTime": {
     "end_time": "2018-05-04T23:26:19.106000+02:00",
     "start_time": "2018-05-04T21:26:19.102Z"
    }
   },
   "outputs": [
    {
     "data": {
      "text/plain": [
       "2"
      ]
     },
     "execution_count": 28,
     "metadata": {},
     "output_type": "execute_result"
    }
   ],
   "source": [
    "5 ÷ 2"
   ]
  },
  {
   "cell_type": "code",
   "execution_count": 29,
   "metadata": {
    "ExecuteTime": {
     "end_time": "2018-05-04T23:26:29.101000+02:00",
     "start_time": "2018-05-04T21:26:29.098Z"
    }
   },
   "outputs": [
    {
     "data": {
      "text/plain": [
       "Inf"
      ]
     },
     "execution_count": 29,
     "metadata": {},
     "output_type": "execute_result"
    }
   ],
   "source": [
    "1 / 0"
   ]
  },
  {
   "cell_type": "code",
   "execution_count": 30,
   "metadata": {
    "ExecuteTime": {
     "end_time": "2018-05-04T23:26:39.779000+02:00",
     "start_time": "2018-05-04T21:26:39.774Z"
    }
   },
   "outputs": [
    {
     "data": {
      "text/plain": [
       "4"
      ]
     },
     "execution_count": 30,
     "metadata": {},
     "output_type": "execute_result"
    }
   ],
   "source": [
    "2 << 1"
   ]
  },
  {
   "cell_type": "markdown",
   "metadata": {},
   "source": [
    "Constants have constant *type*."
   ]
  },
  {
   "cell_type": "code",
   "execution_count": 31,
   "metadata": {
    "ExecuteTime": {
     "end_time": "2018-05-04T23:28:10.629000+02:00",
     "start_time": "2018-05-04T21:28:10.624Z"
    }
   },
   "outputs": [
    {
     "data": {
      "text/plain": [
       "3"
      ]
     },
     "execution_count": 31,
     "metadata": {},
     "output_type": "execute_result"
    }
   ],
   "source": [
    "const constant = 3"
   ]
  },
  {
   "cell_type": "code",
   "execution_count": 32,
   "metadata": {
    "ExecuteTime": {
     "end_time": "2018-05-04T23:28:17.799000+02:00",
     "start_time": "2018-05-04T21:28:17.796Z"
    }
   },
   "outputs": [
    {
     "name": "stderr",
     "output_type": "stream",
     "text": [
      "WARNING: redefining constant constant\n"
     ]
    },
    {
     "data": {
      "text/plain": [
       "4"
      ]
     },
     "execution_count": 32,
     "metadata": {},
     "output_type": "execute_result"
    }
   ],
   "source": [
    "constant = 4"
   ]
  },
  {
   "cell_type": "code",
   "execution_count": 33,
   "metadata": {
    "ExecuteTime": {
     "end_time": "2018-05-04T23:28:23.408000+02:00",
     "start_time": "2018-05-04T21:28:23.400Z"
    }
   },
   "outputs": [
    {
     "ename": "LoadError",
     "evalue": "\u001b[91minvalid redefinition of constant constant\u001b[39m",
     "output_type": "error",
     "traceback": [
      "\u001b[91minvalid redefinition of constant constant\u001b[39m",
      ""
     ]
    }
   ],
   "source": [
    "constant = 3.14"
   ]
  },
  {
   "cell_type": "markdown",
   "metadata": {},
   "source": [
    "## Arrays"
   ]
  },
  {
   "cell_type": "code",
   "execution_count": 34,
   "metadata": {
    "ExecuteTime": {
     "end_time": "2018-05-04T23:29:08.244000+02:00",
     "start_time": "2018-05-04T21:29:07.650Z"
    }
   },
   "outputs": [
    {
     "data": {
      "text/plain": [
       "3-element Array{Int64,1}:\n",
       " 4\n",
       " 5\n",
       " 6"
      ]
     },
     "execution_count": 34,
     "metadata": {},
     "output_type": "execute_result"
    }
   ],
   "source": [
    "a = [4, 5, 6]"
   ]
  },
  {
   "cell_type": "code",
   "execution_count": 35,
   "metadata": {
    "ExecuteTime": {
     "end_time": "2018-05-04T23:29:11.559000+02:00",
     "start_time": "2018-05-04T21:29:11.556Z"
    }
   },
   "outputs": [
    {
     "data": {
      "text/plain": [
       "4"
      ]
     },
     "execution_count": 35,
     "metadata": {},
     "output_type": "execute_result"
    }
   ],
   "source": [
    "a[1]"
   ]
  },
  {
   "cell_type": "code",
   "execution_count": 36,
   "metadata": {
    "ExecuteTime": {
     "end_time": "2018-05-04T23:29:19.926000+02:00",
     "start_time": "2018-05-04T21:29:19.912Z"
    }
   },
   "outputs": [
    {
     "data": {
      "text/plain": [
       "3-element Array{Int64,1}:\n",
       " 4\n",
       " 5\n",
       " 6"
      ]
     },
     "execution_count": 36,
     "metadata": {},
     "output_type": "execute_result"
    }
   ],
   "source": [
    "a = [4; 5; 6]"
   ]
  },
  {
   "cell_type": "code",
   "execution_count": 37,
   "metadata": {
    "ExecuteTime": {
     "end_time": "2018-05-04T23:29:27.770000+02:00",
     "start_time": "2018-05-04T21:29:27.766Z"
    }
   },
   "outputs": [
    {
     "data": {
      "text/plain": [
       "6"
      ]
     },
     "execution_count": 37,
     "metadata": {},
     "output_type": "execute_result"
    }
   ],
   "source": [
    "a[end]"
   ]
  },
  {
   "cell_type": "code",
   "execution_count": 38,
   "metadata": {
    "ExecuteTime": {
     "end_time": "2018-05-04T23:29:36.100000+02:00",
     "start_time": "2018-05-04T21:29:36.096Z"
    }
   },
   "outputs": [
    {
     "data": {
      "text/plain": [
       "5"
      ]
     },
     "execution_count": 38,
     "metadata": {},
     "output_type": "execute_result"
    }
   ],
   "source": [
    "a[end - 1]"
   ]
  },
  {
   "cell_type": "code",
   "execution_count": 39,
   "metadata": {
    "ExecuteTime": {
     "end_time": "2018-05-04T23:29:47.644000+02:00",
     "start_time": "2018-05-04T21:29:47.640Z"
    }
   },
   "outputs": [
    {
     "data": {
      "text/plain": [
       "4"
      ]
     },
     "execution_count": 39,
     "metadata": {},
     "output_type": "execute_result"
    }
   ],
   "source": [
    "a[]"
   ]
  },
  {
   "cell_type": "code",
   "execution_count": 40,
   "metadata": {
    "ExecuteTime": {
     "end_time": "2018-05-04T23:30:10.832000+02:00",
     "start_time": "2018-05-04T21:30:10.798Z"
    }
   },
   "outputs": [
    {
     "data": {
      "text/plain": [
       "2-element Array{Int64,1}:\n",
       " 4\n",
       " 6"
      ]
     },
     "execution_count": 40,
     "metadata": {},
     "output_type": "execute_result"
    }
   ],
   "source": [
    "a[[1, 3]]"
   ]
  },
  {
   "cell_type": "code",
   "execution_count": 41,
   "metadata": {
    "ExecuteTime": {
     "end_time": "2018-05-04T23:30:18.331000+02:00",
     "start_time": "2018-05-04T21:30:18.280Z"
    }
   },
   "outputs": [
    {
     "data": {
      "text/plain": [
       "2-element Array{Int64,1}:\n",
       " 4\n",
       " 6"
      ]
     },
     "execution_count": 41,
     "metadata": {},
     "output_type": "execute_result"
    }
   ],
   "source": [
    "a[[true, false, true]]"
   ]
  },
  {
   "cell_type": "code",
   "execution_count": 42,
   "metadata": {
    "ExecuteTime": {
     "end_time": "2018-05-04T23:30:28.936000+02:00",
     "start_time": "2018-05-04T21:30:28.760Z"
    }
   },
   "outputs": [
    {
     "data": {
      "text/plain": [
       "1:5"
      ]
     },
     "execution_count": 42,
     "metadata": {},
     "output_type": "execute_result"
    }
   ],
   "source": [
    "1:5"
   ]
  },
  {
   "cell_type": "code",
   "execution_count": 43,
   "metadata": {
    "ExecuteTime": {
     "end_time": "2018-05-04T23:30:32.739000+02:00",
     "start_time": "2018-05-04T21:30:32.732Z"
    }
   },
   "outputs": [
    {
     "data": {
      "text/plain": [
       "5-element Array{Int64,1}:\n",
       " 1\n",
       " 2\n",
       " 3\n",
       " 4\n",
       " 5"
      ]
     },
     "execution_count": 43,
     "metadata": {},
     "output_type": "execute_result"
    }
   ],
   "source": [
    "collect(1:5)"
   ]
  },
  {
   "cell_type": "code",
   "execution_count": 44,
   "metadata": {
    "ExecuteTime": {
     "end_time": "2018-05-04T23:30:53.794000+02:00",
     "start_time": "2018-05-04T21:30:53.780Z"
    }
   },
   "outputs": [
    {
     "data": {
      "text/plain": [
       "3-element Array{Int64,1}:\n",
       " 4\n",
       " 5\n",
       " 6"
      ]
     },
     "execution_count": 44,
     "metadata": {},
     "output_type": "execute_result"
    }
   ],
   "source": [
    "a[1:3]"
   ]
  },
  {
   "cell_type": "code",
   "execution_count": 45,
   "metadata": {
    "ExecuteTime": {
     "end_time": "2018-05-04T23:30:57.171000+02:00",
     "start_time": "2018-05-04T21:30:57.168Z"
    }
   },
   "outputs": [
    {
     "data": {
      "text/plain": [
       "2-element Array{Int64,1}:\n",
       " 5\n",
       " 6"
      ]
     },
     "execution_count": 45,
     "metadata": {},
     "output_type": "execute_result"
    }
   ],
   "source": [
    "a[2:end]"
   ]
  },
  {
   "cell_type": "code",
   "execution_count": 46,
   "metadata": {
    "ExecuteTime": {
     "end_time": "2018-05-04T23:31:03.632000+02:00",
     "start_time": "2018-05-04T21:31:03.608Z"
    }
   },
   "outputs": [
    {
     "data": {
      "text/plain": [
       "3-element Array{Int64,1}:\n",
       " 6\n",
       " 5\n",
       " 4"
      ]
     },
     "execution_count": 46,
     "metadata": {},
     "output_type": "execute_result"
    }
   ],
   "source": [
    "a[end:-1:1]"
   ]
  },
  {
   "cell_type": "code",
   "execution_count": 47,
   "metadata": {
    "ExecuteTime": {
     "end_time": "2018-05-04T23:31:10.041000+02:00",
     "start_time": "2018-05-04T21:31:10.038Z"
    }
   },
   "outputs": [
    {
     "data": {
      "text/plain": [
       "0"
      ]
     },
     "execution_count": 47,
     "metadata": {},
     "output_type": "execute_result"
    }
   ],
   "source": [
    "a[1] = 0"
   ]
  },
  {
   "cell_type": "code",
   "execution_count": 48,
   "metadata": {
    "ExecuteTime": {
     "end_time": "2018-05-04T23:31:11.957000+02:00",
     "start_time": "2018-05-04T21:31:11.954Z"
    }
   },
   "outputs": [
    {
     "data": {
      "text/plain": [
       "3-element Array{Int64,1}:\n",
       " 0\n",
       " 5\n",
       " 6"
      ]
     },
     "execution_count": 48,
     "metadata": {},
     "output_type": "execute_result"
    }
   ],
   "source": [
    "a"
   ]
  },
  {
   "cell_type": "code",
   "execution_count": 49,
   "metadata": {
    "ExecuteTime": {
     "end_time": "2018-05-04T23:31:22.828000+02:00",
     "start_time": "2018-05-04T21:31:22.214Z"
    }
   },
   "outputs": [
    {
     "data": {
      "text/plain": [
       "2×2 Array{Int64,2}:\n",
       " 1  2\n",
       " 3  4"
      ]
     },
     "execution_count": 49,
     "metadata": {},
     "output_type": "execute_result"
    }
   ],
   "source": [
    "matrix = [1 2; 3 4]"
   ]
  },
  {
   "cell_type": "code",
   "execution_count": 50,
   "metadata": {
    "ExecuteTime": {
     "end_time": "2018-05-04T23:31:30.022000+02:00",
     "start_time": "2018-05-04T21:31:30.016Z"
    }
   },
   "outputs": [
    {
     "data": {
      "text/plain": [
       "2×2 Array{Int64,2}:\n",
       " 1  2\n",
       " 3  4"
      ]
     },
     "execution_count": 50,
     "metadata": {},
     "output_type": "execute_result"
    }
   ],
   "source": [
    "matrix = [1 2\n",
    "          3 4]"
   ]
  },
  {
   "cell_type": "code",
   "execution_count": 51,
   "metadata": {
    "ExecuteTime": {
     "end_time": "2018-05-04T23:31:43.020000+02:00",
     "start_time": "2018-05-04T21:31:42.420Z"
    }
   },
   "outputs": [
    {
     "data": {
      "text/plain": [
       "3-element Array{Int8,1}:\n",
       " 4\n",
       " 5\n",
       " 6"
      ]
     },
     "execution_count": 51,
     "metadata": {},
     "output_type": "execute_result"
    }
   ],
   "source": [
    "b = Int8[4, 5, 6]"
   ]
  },
  {
   "cell_type": "code",
   "execution_count": 52,
   "metadata": {
    "ExecuteTime": {
     "end_time": "2018-05-04T23:31:49.499000+02:00",
     "start_time": "2018-05-04T21:31:49.468Z"
    }
   },
   "outputs": [
    {
     "data": {
      "text/plain": [
       "3-element Array{Int64,1}:\n",
       "  0\n",
       " 50\n",
       " 60"
      ]
     },
     "execution_count": 52,
     "metadata": {},
     "output_type": "execute_result"
    }
   ],
   "source": [
    "10a"
   ]
  },
  {
   "cell_type": "code",
   "execution_count": 53,
   "metadata": {
    "ExecuteTime": {
     "end_time": "2018-05-04T23:31:56.939000+02:00",
     "start_time": "2018-05-04T21:31:56.848Z"
    }
   },
   "outputs": [
    {
     "data": {
      "text/plain": [
       "2-element Array{Int64,1}:\n",
       "  50\n",
       " 110"
      ]
     },
     "execution_count": 53,
     "metadata": {},
     "output_type": "execute_result"
    }
   ],
   "source": [
    "matrix * [10, 20]"
   ]
  },
  {
   "cell_type": "markdown",
   "metadata": {},
   "source": [
    "Julia distinguishes row and column vectors:"
   ]
  },
  {
   "cell_type": "code",
   "execution_count": 54,
   "metadata": {
    "ExecuteTime": {
     "end_time": "2018-05-04T23:32:06.799000+02:00",
     "start_time": "2018-05-04T21:32:06.796Z"
    }
   },
   "outputs": [
    {
     "data": {
      "text/plain": [
       "2-element Array{Int64,1}:\n",
       " 1\n",
       " 2"
      ]
     },
     "execution_count": 54,
     "metadata": {},
     "output_type": "execute_result"
    }
   ],
   "source": [
    "x = [1, 2]"
   ]
  },
  {
   "cell_type": "code",
   "execution_count": 55,
   "metadata": {
    "ExecuteTime": {
     "end_time": "2018-05-04T23:32:13.708000+02:00",
     "start_time": "2018-05-04T21:32:13.692Z"
    }
   },
   "outputs": [
    {
     "data": {
      "text/plain": [
       "1×2 Array{Int64,2}:\n",
       " 1  2"
      ]
     },
     "execution_count": 55,
     "metadata": {},
     "output_type": "execute_result"
    }
   ],
   "source": [
    "y = [1 2]"
   ]
  },
  {
   "cell_type": "code",
   "execution_count": 56,
   "metadata": {
    "ExecuteTime": {
     "end_time": "2018-05-04T23:32:28.262000+02:00",
     "start_time": "2018-05-04T21:32:27.740Z"
    }
   },
   "outputs": [
    {
     "data": {
      "text/plain": [
       "2×2 Array{Int64,2}:\n",
       " 1  2\n",
       " 2  4"
      ]
     },
     "execution_count": 56,
     "metadata": {},
     "output_type": "execute_result"
    }
   ],
   "source": [
    "x * y"
   ]
  },
  {
   "cell_type": "code",
   "execution_count": 57,
   "metadata": {
    "ExecuteTime": {
     "end_time": "2018-05-04T23:32:38.158000+02:00",
     "start_time": "2018-05-04T21:32:38.154Z"
    }
   },
   "outputs": [
    {
     "data": {
      "text/plain": [
       "1-element Array{Int64,1}:\n",
       " 5"
      ]
     },
     "execution_count": 57,
     "metadata": {},
     "output_type": "execute_result"
    }
   ],
   "source": [
    "y * x"
   ]
  },
  {
   "cell_type": "code",
   "execution_count": 58,
   "metadata": {
    "ExecuteTime": {
     "end_time": "2018-05-04T23:32:45.026000+02:00",
     "start_time": "2018-05-04T21:32:44.930Z"
    }
   },
   "outputs": [
    {
     "data": {
      "text/plain": [
       "2×2 Array{Int64,2}:\n",
       " 1  3\n",
       " 2  4"
      ]
     },
     "execution_count": 58,
     "metadata": {},
     "output_type": "execute_result"
    }
   ],
   "source": [
    "matrix'"
   ]
  },
  {
   "cell_type": "code",
   "execution_count": 59,
   "metadata": {
    "ExecuteTime": {
     "end_time": "2018-05-04T23:32:58.659000+02:00",
     "start_time": "2018-05-04T21:32:58.458Z"
    }
   },
   "outputs": [
    {
     "ename": "LoadError",
     "evalue": "\u001b[91mDimensionMismatch(\"Cannot multiply two vectors\")\u001b[39m",
     "output_type": "error",
     "traceback": [
      "\u001b[91mDimensionMismatch(\"Cannot multiply two vectors\")\u001b[39m",
      "",
      "Stacktrace:",
      " [1] \u001b[1m*\u001b[22m\u001b[22m\u001b[1m(\u001b[22m\u001b[22m::Array{Int64,1}, ::Array{Int64,1}\u001b[1m)\u001b[22m\u001b[22m at \u001b[1m./linalg/rowvector.jl:184\u001b[22m\u001b[22m"
     ]
    }
   ],
   "source": [
    "[1, 2] * [3, 4]"
   ]
  },
  {
   "cell_type": "markdown",
   "metadata": {},
   "source": [
    "Use the so-called dot operators to perform operations element-wise"
   ]
  },
  {
   "cell_type": "code",
   "execution_count": 60,
   "metadata": {
    "ExecuteTime": {
     "end_time": "2018-05-04T23:33:08.127000+02:00",
     "start_time": "2018-05-04T21:33:07.426Z"
    }
   },
   "outputs": [
    {
     "data": {
      "text/plain": [
       "2-element Array{Int64,1}:\n",
       " 3\n",
       " 8"
      ]
     },
     "execution_count": 60,
     "metadata": {},
     "output_type": "execute_result"
    }
   ],
   "source": [
    "[1, 2] .* [3, 4]"
   ]
  },
  {
   "cell_type": "markdown",
   "metadata": {},
   "source": [
    "Dot operators support broadcasting - singleton dimensions are automatically expanded"
   ]
  },
  {
   "cell_type": "code",
   "execution_count": 61,
   "metadata": {
    "ExecuteTime": {
     "end_time": "2018-05-04T23:33:15.157000+02:00",
     "start_time": "2018-05-04T21:33:15.022Z"
    }
   },
   "outputs": [
    {
     "data": {
      "text/plain": [
       "2×2 Array{Int64,2}:\n",
       " 10  20\n",
       " 60  80"
      ]
     },
     "execution_count": 61,
     "metadata": {},
     "output_type": "execute_result"
    }
   ],
   "source": [
    "[1 2; 3 4] .* [10, 20]"
   ]
  },
  {
   "cell_type": "code",
   "execution_count": 62,
   "metadata": {
    "ExecuteTime": {
     "end_time": "2018-05-04T23:33:46.848000+02:00",
     "start_time": "2018-05-04T21:33:46.754Z"
    }
   },
   "outputs": [
    {
     "data": {
      "text/plain": [
       "2×2 Array{Int64,2}:\n",
       " 10  20\n",
       " 60  80"
      ]
     },
     "execution_count": 62,
     "metadata": {},
     "output_type": "execute_result"
    }
   ],
   "source": [
    "[1 2; 3 4] .* [10 10; 20 20]"
   ]
  },
  {
   "cell_type": "code",
   "execution_count": 63,
   "metadata": {
    "ExecuteTime": {
     "end_time": "2018-05-04T23:33:51.516000+02:00",
     "start_time": "2018-05-04T21:33:51.512Z"
    }
   },
   "outputs": [
    {
     "data": {
      "text/plain": [
       "3-element Array{Int64,1}:\n",
       " 0\n",
       " 5\n",
       " 6"
      ]
     },
     "execution_count": 63,
     "metadata": {},
     "output_type": "execute_result"
    }
   ],
   "source": [
    "a"
   ]
  },
  {
   "cell_type": "code",
   "execution_count": 64,
   "metadata": {
    "ExecuteTime": {
     "end_time": "2018-05-04T23:33:55.328000+02:00",
     "start_time": "2018-05-04T21:33:55.322Z"
    }
   },
   "outputs": [
    {
     "data": {
      "text/plain": [
       "3-element Array{Int64,1}:\n",
       " 7\n",
       " 7\n",
       " 7"
      ]
     },
     "execution_count": 64,
     "metadata": {},
     "output_type": "execute_result"
    }
   ],
   "source": [
    "a .= 7"
   ]
  },
  {
   "cell_type": "code",
   "execution_count": 65,
   "metadata": {
    "ExecuteTime": {
     "end_time": "2018-05-04T23:34:04.773000+02:00",
     "start_time": "2018-05-04T21:34:04.768Z"
    }
   },
   "outputs": [
    {
     "data": {
      "text/plain": [
       "3-element Array{Int64,1}:\n",
       " 10\n",
       " 20\n",
       " 30"
      ]
     },
     "execution_count": 65,
     "metadata": {},
     "output_type": "execute_result"
    }
   ],
   "source": [
    "b = [1, 2, 3]\n",
    "c = [10, 20, 30]"
   ]
  },
  {
   "cell_type": "code",
   "execution_count": 66,
   "metadata": {
    "ExecuteTime": {
     "end_time": "2018-05-04T23:34:13.140000+02:00",
     "start_time": "2018-05-04T21:34:13.120Z"
    }
   },
   "outputs": [
    {
     "data": {
      "text/plain": [
       "3-element Array{Int64,1}:\n",
       " 10\n",
       " 40\n",
       " 90"
      ]
     },
     "execution_count": 66,
     "metadata": {},
     "output_type": "execute_result"
    }
   ],
   "source": [
    "a .= b .* c"
   ]
  },
  {
   "cell_type": "code",
   "execution_count": 67,
   "metadata": {
    "ExecuteTime": {
     "end_time": "2018-05-04T23:34:21.852000+02:00",
     "start_time": "2018-05-04T21:34:21.688Z"
    }
   },
   "outputs": [
    {
     "data": {
      "text/plain": [
       "3-element Array{Int64,1}:\n",
       " 10\n",
       " 40\n",
       " 90"
      ]
     },
     "execution_count": 67,
     "metadata": {},
     "output_type": "execute_result"
    }
   ],
   "source": [
    "@. a = b * c"
   ]
  },
  {
   "cell_type": "code",
   "execution_count": 68,
   "metadata": {
    "ExecuteTime": {
     "end_time": "2018-05-04T23:34:29.508000+02:00",
     "start_time": "2018-05-04T21:34:28.400Z"
    }
   },
   "outputs": [
    {
     "data": {
      "text/plain": [
       "2-element Array{Int64,1}:\n",
       " 40\n",
       " 90"
      ]
     },
     "execution_count": 68,
     "metadata": {},
     "output_type": "execute_result"
    }
   ],
   "source": [
    "a[a.>20]"
   ]
  },
  {
   "cell_type": "markdown",
   "metadata": {},
   "source": [
    "## Strings"
   ]
  },
  {
   "cell_type": "code",
   "execution_count": 69,
   "metadata": {
    "ExecuteTime": {
     "end_time": "2018-05-04T23:35:03.963000+02:00",
     "start_time": "2018-05-04T21:35:03.848Z"
    }
   },
   "outputs": [
    {
     "data": {
      "text/plain": [
       "\"This is a string.\""
      ]
     },
     "execution_count": 69,
     "metadata": {},
     "output_type": "execute_result"
    }
   ],
   "source": [
    "s = \"This is a string.\""
   ]
  },
  {
   "cell_type": "code",
   "execution_count": 70,
   "metadata": {
    "ExecuteTime": {
     "end_time": "2018-05-04T23:35:08.971000+02:00",
     "start_time": "2018-05-04T21:35:08.966Z"
    }
   },
   "outputs": [
    {
     "data": {
      "text/plain": [
       "\"You can\\nhave multiline strings, too.\""
      ]
     },
     "execution_count": 70,
     "metadata": {},
     "output_type": "execute_result"
    }
   ],
   "source": [
    "\"\"\"You can\n",
    "have multiline strings, too.\"\"\""
   ]
  },
  {
   "cell_type": "code",
   "execution_count": 71,
   "metadata": {
    "ExecuteTime": {
     "end_time": "2018-05-04T23:35:14.993000+02:00",
     "start_time": "2018-05-04T21:35:14.790Z"
    }
   },
   "outputs": [
    {
     "data": {
      "text/plain": [
       "'a': ASCII/Unicode U+0061 (category Ll: Letter, lowercase)"
      ]
     },
     "execution_count": 71,
     "metadata": {},
     "output_type": "execute_result"
    }
   ],
   "source": [
    "'a'"
   ]
  },
  {
   "cell_type": "code",
   "execution_count": 72,
   "metadata": {
    "ExecuteTime": {
     "end_time": "2018-05-04T23:35:22.087000+02:00",
     "start_time": "2018-05-04T21:35:22.084Z"
    }
   },
   "outputs": [
    {
     "data": {
      "text/plain": [
       "'T': ASCII/Unicode U+0054 (category Lu: Letter, uppercase)"
      ]
     },
     "execution_count": 72,
     "metadata": {},
     "output_type": "execute_result"
    }
   ],
   "source": [
    "s[1]"
   ]
  },
  {
   "cell_type": "code",
   "execution_count": 73,
   "metadata": {
    "ExecuteTime": {
     "end_time": "2018-05-04T23:35:27.961000+02:00",
     "start_time": "2018-05-04T21:35:27.958Z"
    }
   },
   "outputs": [
    {
     "data": {
      "text/plain": [
       "\"This\""
      ]
     },
     "execution_count": 73,
     "metadata": {},
     "output_type": "execute_result"
    }
   ],
   "source": [
    "s[1:4]"
   ]
  },
  {
   "cell_type": "code",
   "execution_count": 74,
   "metadata": {
    "ExecuteTime": {
     "end_time": "2018-05-04T23:35:35.403000+02:00",
     "start_time": "2018-05-04T21:35:35.400Z"
    }
   },
   "outputs": [
    {
     "data": {
      "text/plain": [
       "\"Θεσσαλονίκη\""
      ]
     },
     "execution_count": 74,
     "metadata": {},
     "output_type": "execute_result"
    }
   ],
   "source": [
    "utf8string = \"Θεσσαλονίκη\""
   ]
  },
  {
   "cell_type": "code",
   "execution_count": 75,
   "metadata": {
    "ExecuteTime": {
     "end_time": "2018-05-04T23:35:42.629000+02:00",
     "start_time": "2018-05-04T21:35:42.624Z"
    }
   },
   "outputs": [
    {
     "data": {
      "text/plain": [
       "'Θ': Unicode U+0398 (category Lu: Letter, uppercase)"
      ]
     },
     "execution_count": 75,
     "metadata": {},
     "output_type": "execute_result"
    }
   ],
   "source": [
    "utf8string[1]"
   ]
  },
  {
   "cell_type": "code",
   "execution_count": 76,
   "metadata": {
    "ExecuteTime": {
     "end_time": "2018-05-04T23:35:45.503000+02:00",
     "start_time": "2018-05-04T21:35:45.440Z"
    }
   },
   "outputs": [
    {
     "ename": "LoadError",
     "evalue": "\u001b[91mUnicodeError: invalid character index 2 (0x98 is a continuation byte)\u001b[39m",
     "output_type": "error",
     "traceback": [
      "\u001b[91mUnicodeError: invalid character index 2 (0x98 is a continuation byte)\u001b[39m",
      "",
      "Stacktrace:",
      " [1] \u001b[1mslow_utf8_next\u001b[22m\u001b[22m\u001b[1m(\u001b[22m\u001b[22m::Ptr{UInt8}, ::UInt8, ::Int64, ::Int64\u001b[1m)\u001b[22m\u001b[22m at \u001b[1m./strings/string.jl:172\u001b[22m\u001b[22m",
      " [2] \u001b[1mnext\u001b[22m\u001b[22m at \u001b[1m./strings/string.jl:204\u001b[22m\u001b[22m [inlined]",
      " [3] \u001b[1mgetindex\u001b[22m\u001b[22m\u001b[1m(\u001b[22m\u001b[22m::String, ::Int64\u001b[1m)\u001b[22m\u001b[22m at \u001b[1m./strings/basic.jl:32\u001b[22m\u001b[22m"
     ]
    }
   ],
   "source": [
    "utf8string[2]"
   ]
  },
  {
   "cell_type": "code",
   "execution_count": 77,
   "metadata": {
    "ExecuteTime": {
     "end_time": "2018-05-04T23:35:53.739000+02:00",
     "start_time": "2018-05-04T21:35:53.112Z"
    }
   },
   "outputs": [
    {
     "data": {
      "text/plain": [
       "11-element Array{Char,1}:\n",
       " 'Θ'\n",
       " 'ε'\n",
       " 'σ'\n",
       " 'σ'\n",
       " 'α'\n",
       " 'λ'\n",
       " 'ο'\n",
       " 'ν'\n",
       " 'ί'\n",
       " 'κ'\n",
       " 'η'"
      ]
     },
     "execution_count": 77,
     "metadata": {},
     "output_type": "execute_result"
    }
   ],
   "source": [
    "[ c for c in utf8string ]"
   ]
  },
  {
   "cell_type": "code",
   "execution_count": 78,
   "metadata": {
    "ExecuteTime": {
     "end_time": "2018-05-04T23:36:03.466000+02:00",
     "start_time": "2018-05-04T21:36:02.830Z"
    }
   },
   "outputs": [
    {
     "ename": "LoadError",
     "evalue": "\u001b[91mMethodError: no method matching setindex!(::String, ::String, ::Int64)\u001b[39m",
     "output_type": "error",
     "traceback": [
      "\u001b[91mMethodError: no method matching setindex!(::String, ::String, ::Int64)\u001b[39m",
      ""
     ]
    }
   ],
   "source": [
    "s[1] = \"T\""
   ]
  },
  {
   "cell_type": "markdown",
   "metadata": {},
   "source": [
    "`$` is used for interpolation."
   ]
  },
  {
   "cell_type": "code",
   "execution_count": 79,
   "metadata": {
    "ExecuteTime": {
     "end_time": "2018-05-04T23:36:13.295000+02:00",
     "start_time": "2018-05-04T21:36:13.280Z"
    }
   },
   "outputs": [
    {
     "data": {
      "text/plain": [
       "\"pi is π = 3.1415926535897...\""
      ]
     },
     "execution_count": 79,
     "metadata": {},
     "output_type": "execute_result"
    }
   ],
   "source": [
    "\"pi is $pi\""
   ]
  },
  {
   "cell_type": "code",
   "execution_count": 80,
   "metadata": {
    "ExecuteTime": {
     "end_time": "2018-05-04T23:36:17.906000+02:00",
     "start_time": "2018-05-04T21:36:17.902Z"
    }
   },
   "outputs": [
    {
     "data": {
      "text/plain": [
       "\"2 + 2 = 4\""
      ]
     },
     "execution_count": 80,
     "metadata": {},
     "output_type": "execute_result"
    }
   ],
   "source": [
    "\"2 + 2 = $(2 + 2)\""
   ]
  },
  {
   "cell_type": "code",
   "execution_count": 81,
   "metadata": {
    "ExecuteTime": {
     "end_time": "2018-05-04T23:36:37.478000+02:00",
     "start_time": "2018-05-04T21:36:37.294Z"
    }
   },
   "outputs": [
    {
     "name": "stdout",
     "output_type": "stream",
     "text": [
      "5 is less than 5.300000"
     ]
    }
   ],
   "source": [
    "@printf \"%d is less than %f\" 4.5 5.3"
   ]
  },
  {
   "cell_type": "code",
   "execution_count": 82,
   "metadata": {
    "ExecuteTime": {
     "end_time": "2018-05-04T23:36:41.862000+02:00",
     "start_time": "2018-05-04T21:36:41.808Z"
    }
   },
   "outputs": [
    {
     "data": {
      "text/plain": [
       "\"5 is less than 5.300000\""
      ]
     },
     "execution_count": 82,
     "metadata": {},
     "output_type": "execute_result"
    }
   ],
   "source": [
    "@sprintf \"%d is less than %f\" 4.5 5.3"
   ]
  },
  {
   "cell_type": "code",
   "execution_count": 83,
   "metadata": {
    "ExecuteTime": {
     "end_time": "2018-05-04T23:36:55.920000+02:00",
     "start_time": "2018-05-04T21:36:55.900Z"
    }
   },
   "outputs": [
    {
     "name": "stdout",
     "output_type": "stream",
     "text": [
      "Print without newline... Print with newline at the end.\n"
     ]
    }
   ],
   "source": [
    "print(\"Print without newline... \")\n",
    "println(\"Print with newline at the end.\")"
   ]
  },
  {
   "cell_type": "code",
   "execution_count": 84,
   "metadata": {
    "ExecuteTime": {
     "end_time": "2018-05-04T23:37:10.343000+02:00",
     "start_time": "2018-05-04T21:37:10.336Z"
    }
   },
   "outputs": [
    {
     "data": {
      "text/plain": [
       "\"onetwo\""
      ]
     },
     "execution_count": 84,
     "metadata": {},
     "output_type": "execute_result"
    }
   ],
   "source": [
    "\"one\" * \"two\""
   ]
  },
  {
   "cell_type": "code",
   "execution_count": 85,
   "metadata": {
    "ExecuteTime": {
     "end_time": "2018-05-04T23:37:19.443000+02:00",
     "start_time": "2018-05-04T21:37:19.436Z"
    }
   },
   "outputs": [
    {
     "data": {
      "text/plain": [
       "\"oneoneone\""
      ]
     },
     "execution_count": 85,
     "metadata": {},
     "output_type": "execute_result"
    }
   ],
   "source": [
    "\"one\"^3"
   ]
  },
  {
   "cell_type": "code",
   "execution_count": 86,
   "metadata": {
    "ExecuteTime": {
     "end_time": "2018-05-04T23:37:28.262000+02:00",
     "start_time": "2018-05-04T21:37:28.258Z"
    }
   },
   "outputs": [
    {
     "data": {
      "text/plain": [
       "false"
      ]
     },
     "execution_count": 86,
     "metadata": {},
     "output_type": "execute_result"
    }
   ],
   "source": [
    "ismatch(r\"^\\s*(?:#|$)\", \"not a comment\")"
   ]
  },
  {
   "cell_type": "code",
   "execution_count": 87,
   "metadata": {
    "ExecuteTime": {
     "end_time": "2018-05-04T23:37:32.255000+02:00",
     "start_time": "2018-05-04T21:37:32.250Z"
    }
   },
   "outputs": [
    {
     "data": {
      "text/plain": [
       "true"
      ]
     },
     "execution_count": 87,
     "metadata": {},
     "output_type": "execute_result"
    }
   ],
   "source": [
    "ismatch(r\"^\\s*(?:#|$)\", \"# a comment\")"
   ]
  },
  {
   "cell_type": "code",
   "execution_count": 88,
   "metadata": {
    "ExecuteTime": {
     "end_time": "2018-05-04T23:37:36.865000+02:00",
     "start_time": "2018-05-04T21:37:36.394Z"
    }
   },
   "outputs": [
    {
     "data": {
      "text/plain": [
       "3-element Array{UInt8,1}:\n",
       " 0x61\n",
       " 0x62\n",
       " 0x63"
      ]
     },
     "execution_count": 88,
     "metadata": {},
     "output_type": "execute_result"
    }
   ],
   "source": [
    "b\"abc\""
   ]
  },
  {
   "cell_type": "code",
   "execution_count": null,
   "metadata": {},
   "outputs": [],
   "source": [
    "\n",
    "##############\n",
    "# Collections\n",
    "##############\n",
    "\n",
    "a = [] # => Any[]\n",
    "# Any is the supertype of all types  (more on that later).\n",
    "# This means, that this vector can hold anything.\n",
    "\n",
    "# Add stuff to the end of a with push! (single element)\n",
    "# and append! (another collection)\n",
    "push!(a, 1)     # => Any[1]\n",
    "push!(a, 2)     # => Any[1,2]\n",
    "push!(a, 4)     # => Any[1,2,4]\n",
    "push!(a, 3)     # => Any[1,2,4,3]\n",
    "append!(a, [\"six\", π]) # => Any[1,2,4,3,\"six\",π = 3.14…]\n",
    "# By convention, function names that end in exclamations points indicate that\n",
    "# they modify their arguments. Usually it is the first argument being modified.\n",
    "\n",
    "# Remove from the end with pop\n",
    "pop!(a) # => π = 3.14…\n",
    "a # => [1,2,4,3,\"six\"]\n",
    "\n",
    "# we also have shift and unshift\n",
    "shift!(a) # => 1\n",
    "a # => [2,4,3,\"six\"]\n",
    "unshift!(a, 7) # => [7,2,4,3,\"six\"]\n",
    "\n",
    "# Remove elements from an array by index with splice!\n",
    "splice!(a, 2) # => 2\n",
    "a # => [7,4,3,\"six\"]\n",
    "\n",
    "# Check for existence in a list with in\n",
    "in(1, a) # => false\n",
    "3 in a # => true\n",
    "\n",
    "# Examine the length with length\n",
    "length(a) # => 4\n",
    "\n",
    "# Sorting\n",
    "arr = [5,4,6] # => 3-element Int64 Array: [5,4,6]\n",
    "sort(arr) # => [4,5,6]\n",
    "arr # => [5,4,6]\n",
    "sort!(arr) # => [4,5,6]\n",
    "arr # => [4,5,6]\n",
    "\n",
    "\n",
    "# Tuples are immutable.\n",
    "tup = (1, 2, 3) # => (1,2,3) # an (Int64,Int64,Int64) tuple.\n",
    "tup[1] # => 1\n",
    "try:\n",
    "    tup[1] = 3 # => ERROR: MethodError: no method matching\n",
    "               #    setindex!(::Tuple{Int64,Int64,Int64}, ::Int64, ::Int64)\n",
    "catch e\n",
    "    println(e)\n",
    "end\n",
    "\n",
    "# Many list functions also work on tuples\n",
    "length(tup) # => 3\n",
    "tup[1:2] # => (1,2)\n",
    "2 in tup # => true\n",
    "\n",
    "# You can unpack tuples into variables\n",
    "a, b, c = (1, 2, 3) # => (1,2,3)\n",
    "a # => 1\n",
    "b # => 2\n",
    "c # => 3\n",
    "\n",
    "# Tuples are created even if you leave out the parentheses\n",
    "d, g, h = 4, 5, 6 # => (4,5,6)\n",
    "\n",
    "# A 1-element tuple is distinct from the value it contains\n",
    "(1,) == 1 # => false\n",
    "(1) == 1 # => true\n",
    "\n",
    "# Look how easy it is to swap two values\n",
    "g, d = d, g  # => (4,5)\n",
    "g # => 4\n",
    "d # => 5\n",
    "\n",
    "\n",
    "# Dictionaries store mappings\n",
    "empty_dict = Dict() # => Dict{Any,Any} with 0 entries\n",
    "\n",
    "# You can create a dictionary using a literal\n",
    "filled_dict = Dict(\"one\"=> 1, \"two\"=> 2, \"three\"=> 3)\n",
    "# => Dict{String,Int64}\n",
    "\n",
    "# Look up values with []\n",
    "filled_dict[\"one\"] # => 1\n",
    "\n",
    "# Get all keys\n",
    "keys(filled_dict) # => Base.KeyIterator for a Dict{String,Int64} with 3 entries.\n",
    "                  #    Keys:\n",
    "                  #     \"two\"\n",
    "                  #     \"one\"\n",
    "                  #     \"three\"\n",
    "# Note - dictionary keys are not sorted or in the order you inserted them.\n",
    "\n",
    "# Get all values\n",
    "values(filled_dict) # => Base.ValueIterator for a Dict{String,Int64} with\n",
    "                    #    3 entries. Values:\n",
    "                    #     2\n",
    "                    #     1\n",
    "                    #     3\n",
    "# Note - Same as above regarding key ordering.\n",
    "\n",
    "# Check for existence of keys in a dictionary with in, haskey\n",
    "in((\"one\" => 1), filled_dict) # => true\n",
    "(\"two\" => 3) in filled_dict # => false\n",
    "haskey(filled_dict, \"one\") # => true\n",
    "haskey(filled_dict, 1) # => false\n",
    "\n",
    "# Trying to look up a non-existent key will raise an error\n",
    "try\n",
    "    filled_dict[\"four\"] # => KeyError: key \"four\" not found\n",
    "catch e\n",
    "    println(e)\n",
    "end\n",
    "\n",
    "# Use the get method to avoid that error by providing a default value\n",
    "# get(dictionary,key,default_value)\n",
    "get(filled_dict, \"one\", 4) # => 1\n",
    "get(filled_dict, \"four\", 4) # => 4\n",
    "\n",
    "# Use Sets to represent collections of unordered, unique values\n",
    "empty_set = Set() # => Set{Any}[]\n",
    "# Initialize a set with values\n",
    "filled_set = Set([1,2,2,3,4]) # => Set([4, 2, 3, 1])\n",
    "\n",
    "# Add more values to a set\n",
    "push!(filled_set, 5) # => Set{Int64}([4,2,3,5,1])\n",
    "filled_set # => Set{Int64}([4,2,3,5,1])\n",
    "\n",
    "# Check if the values are in the set\n",
    "2 in filled_set # => true\n",
    "10 in filled_set # => false\n",
    "\n",
    "# There are functions for set intersection, union, and difference.\n",
    "other_set = Set([3, 4, 5, 6]) # => Set{Int64}([4,3,5,6])\n",
    "intersect(filled_set, other_set) # => Set{Int64}([4,3,5])\n",
    "filled_set ∩ other_set # => Set{Int64}([4,3,5]) # The same with ∩ (\\cap)\n",
    "union(filled_set, other_set) # => Set{Int64}([4,2,3,5,6,1])\n",
    "filled_set ∪ other_set # => Set{Int64}([4,2,3,5,6,1]) # The same ∪ (\\cup)\n",
    "setdiff(Set([1,2,3,4]), Set([2,3,5])) # => Set{Int64}([4,1])\n",
    "\n",
    "# Set operations work on arrays, too\n",
    "[1,2,3,4] ∩ [2,3,4] # => 3-element Array{Int64,1}: [2,3,4]\n",
    "\n",
    "\n",
    "\n",
    "\n",
    "####################################################\n",
    "## Control Flow\n",
    "####################################################\n",
    "\n",
    "# Let's make a variable\n",
    "some_var = 5\n",
    "\n",
    "# Here is an if statement. Indentation is not meaningful in Julia.\n",
    "if some_var > 10\n",
    "    println(\"some_var is totally bigger than 10.\")\n",
    "elseif some_var < 10    # This elseif clause is optional.\n",
    "    println(\"some_var is smaller than 10.\")\n",
    "else                    # The else clause is optional too.\n",
    "    println(\"some_var is indeed 10.\")\n",
    "end\n",
    "# => prints \"some var is smaller than 10\"\n",
    "\n",
    "# if statement can return variables\n",
    "result = if some_var > 10\n",
    "    \"greater than 10\"\n",
    "else\n",
    "    \"smaller of equal 10\"\n",
    "end\n",
    "result # => smaller of equal 10\n",
    "\n",
    "# There is the ternary operator\n",
    "result = some_var > 5 ? \"greater than 5\" : \"smaller of equal 5\"\n",
    "result # => smaller of equal 5\n",
    "\n",
    "# For loops iterate over iterables.\n",
    "# Iterable types include Range, Array, Set, Dict, and AbstractString.\n",
    "for animal = [\"dog\", \"cat\", \"mouse\"]\n",
    "    println(\"$animal is a mammal\")\n",
    "end\n",
    "# prints:\n",
    "#    dog is a mammal\n",
    "#    cat is a mammal\n",
    "#    mouse is a mammal\n",
    "\n",
    "# You can use 'in' instead of '='.\n",
    "for i in 1:3\n",
    "    println(\"i is now $i\")\n",
    "end\n",
    "# prints:\n",
    "#    i is now 1\n",
    "#    i is now 2\n",
    "#    i is now 3\n",
    "\n",
    "for a in Dict(\"dog\" => \"mammal\", \"cat\" => \"mammal\", \"mouse\" => \"mammal\")\n",
    "    println(\"$(a[1]) is a $(a[2])\")\n",
    "end\n",
    "# prints:\n",
    "#    dog is a mammal\n",
    "#    cat is a mammal\n",
    "#    mouse is a mammal\n",
    "\n",
    "for (k,v) in Dict(\"dog\" => \"mammal\", \"cat\" => \"mammal\", \"mouse\" => \"mammal\")\n",
    "    println(\"$k is a $v\")\n",
    "end\n",
    "# prints:\n",
    "#    dog is a mammal\n",
    "#    cat is a mammal\n",
    "#    mouse is a mammal\n",
    "\n",
    "# While loops loop while a condition is true\n",
    "x = 0\n",
    "while x < 4\n",
    "    println(x)\n",
    "    x += 1  # Shorthand for x = x + 1\n",
    "end\n",
    "# prints:\n",
    "#   0\n",
    "#   1\n",
    "#   2\n",
    "#   3\n",
    "\n",
    "# Handle exceptions with a try/catch block\n",
    "try\n",
    "   error(\"help\")\n",
    "catch e\n",
    "   println(\"caught it $e\")\n",
    "end\n",
    "# => caught it ErrorException(\"help\")\n",
    "\n",
    "\n",
    "\n",
    "\n",
    "####################################################\n",
    "## Functions\n",
    "####################################################\n",
    "\n",
    "# The keyword 'function' creates new functions\n",
    "#function name(arglist)\n",
    "#  body...\n",
    "#end\n",
    "function add(x, y)\n",
    "    println(\"x is $x and y is $y\")\n",
    "\n",
    "    # Functions return the value of their last statement\n",
    "    x + y\n",
    "end\n",
    "\n",
    "add(5, 6) # => 11,\n",
    "# prints out \"x is 5 and y is 6\"\n",
    "\n",
    "# By the way, every binary operator is a function, too, so:\n",
    "+(5, 6) # => 11\n",
    "\n",
    "# Compact assignment of functions\n",
    "add(x, y) = x + y # => \"f (generic function with 1 method)\"\n",
    "add(3, 4) # => 7\n",
    "\n",
    "# Function can also return multiple values as tuple\n",
    "add_subtract(x, y) = x + y, x - y\n",
    "add_subtract(3, 4) # => (7, -1)\n",
    "\n",
    "# You can define functions that take a variable number of\n",
    "# positional arguments\n",
    "function varargs(args...)\n",
    "    return args\n",
    "    # use the keyword return to return anywhere in the function\n",
    "end\n",
    "# => varargs (generic function with 1 method)\n",
    "\n",
    "varargs(1,2,3) # => (1,2,3)\n",
    "\n",
    "# The ... is called a splat.\n",
    "# We just used it in a function definition.\n",
    "# It can also be used in a function call,\n",
    "# where it will splat an Array or Tuple's contents into the argument list.\n",
    "add([5,6]...) # this is equivalent to add(5,6)\n",
    "\n",
    "x = (5,6)     # => (5,6)\n",
    "add(x...)     # this is equivalent to add(5,6)\n",
    "\n",
    "# You can define functions with optional positional arguments\n",
    "function defaults(a, b, x = 5, y = 6)\n",
    "    return \"$a $b and $x $y\"\n",
    "end\n",
    "\n",
    "defaults('h','g') # => \"h g and 5 6\"\n",
    "defaults('h','g','j') # => \"h g and j 6\"\n",
    "defaults('h','g','j','k') # => \"h g and j k\"\n",
    "try\n",
    "    defaults('h') # => ERROR: no method defaults(Char,)\n",
    "    defaults() # => ERROR: no methods defaults()\n",
    "catch e\n",
    "    println(e)\n",
    "end\n",
    "\n",
    "# You can define functions that take keyword arguments,\n",
    "# specified after a semicolon\n",
    "function keyword_args(; k1 = 4, name2 = \"hello\") # note the ;\n",
    "    return Dict(\"k1\"=>k1, \"name2\"=>name2)\n",
    "end\n",
    "\n",
    "keyword_args(name2 = \"ness\") # => [\"name2\"=>\"ness\",\"k1\"=>4]\n",
    "keyword_args(k1 = \"mine\") # => [\"k1\"=>\"mine\",\"name2\"=>\"hello\"]\n",
    "keyword_args() # => [\"name2\"=>\"hello\",\"k1\"=>4]\n",
    "\n",
    "# You can combine all kinds of arguments in the same function\n",
    "function all_the_args(normal_arg, optional_positional_arg=2; keyword_arg=\"foo\")\n",
    "    println(\"normal arg: $normal_arg\")\n",
    "    println(\"optional arg: $optional_positional_arg\")\n",
    "    println(\"keyword arg: $keyword_arg\")\n",
    "end\n",
    "\n",
    "all_the_args(1, 3, keyword_arg=4)\n",
    "# prints:\n",
    "#   normal arg: 1\n",
    "#   optional arg: 3\n",
    "#   keyword arg: 4\n",
    "\n",
    "# Julia has first class functions\n",
    "function create_adder(x)\n",
    "    adder = function (y)\n",
    "        return x + y\n",
    "    end\n",
    "    return adder\n",
    "end\n",
    "\n",
    "# This is \"stabby lambda syntax\" for creating anonymous functions\n",
    "(x -> x > 2)(3) # => true\n",
    "\n",
    "# This function is identical to create_adder implementation above.\n",
    "function create_adder(x)\n",
    "    y -> x + y\n",
    "end\n",
    "\n",
    "# You can also name the internal function, if you want\n",
    "function create_adder(x)\n",
    "    function adder(y)\n",
    "        x + y\n",
    "    end\n",
    "    adder\n",
    "end\n",
    "\n",
    "add_10 = create_adder(10)\n",
    "add_10(3) # => 13\n",
    "\n",
    "\n",
    "# There are built-in higher order functions\n",
    "map(iszero, [1, 0, 3, 0]) # => [false, true, false, true]\n",
    "filter(x -> x > 5, [3, 4, 5, 6, 7]) # => [6, 7]\n",
    "\n",
    "# The \"do\" block creates an anonymous function and passes is as the first\n",
    "# argument.\n",
    "result = map([1, 2, 3, 4, 5, 6]) do x\n",
    "    x % 2 == 0\n",
    "end\n",
    "result # => [false, true, false, true, false, true]\n",
    "result == map(x -> x % 2 == 0, [1, 2, 3, 4, 5, 6]) # => true\n",
    "\n",
    "# Negating a function returns a function with its return value negated\n",
    "map(!iszero, [1, 0, 3, 0]) # => [true, false, true, false]\n",
    "\n",
    "# The binary operator ∘ (\\circ) combines functions\n",
    "map( (-) ∘ √, [1, 4, 16]) # => [-1.00, -2.00, -4.00]\n",
    "# √, \\sqrt[TAB], is the square root. It can also be used without parentheses\n",
    "√2 # => 1.41…\n",
    "\n",
    "# We can use list comprehensions for nicer maps\n",
    "[add_10(i) for i=[1, 2, 3]] # => [11, 12, 13]\n",
    "[add_10(i) for i in [1, 2, 3]] # => [11, 12, 13]\n",
    "\n",
    "# List comprehensions work in more dimensions, too\n",
    "[x+y for x in 1:2, y in 10:10:30] # => 2×3 Array{Int64,2}:\n",
    "                                  #     11  21  31\n",
    "                                  #     12  22  32\n",
    "\n",
    "\n",
    "# Function followed by a dot acts element-wise\n",
    "isfinite.([1, 1/0, NaN]) # => [true, false, false]\n",
    "\n",
    "x = rand(3)\n",
    "abs.(sin.(x).^2 .+ cos.(x).^2 .- 1) .≤ eps(Float64) # => [true, true, true]\n",
    "# Many dot operations are automatically fused into a single loop.\n",
    "\n",
    "# @. adds a dot to every function and operator\n",
    "@. abs(sin(x)^2 + cos(x)^2 - 1) ≤ eps(Float64) # => [true, true, true]\n",
    "\n",
    "\n",
    "\n",
    "\n",
    "####################################################\n",
    "## Types\n",
    "####################################################\n",
    "\n",
    "# Julia has a type system.\n",
    "# Every value has a type; variables do not have types themselves.\n",
    "# You can use the `typeof` function to get the type of a value.\n",
    "typeof(5) # => Int64\n",
    "\n",
    "# Types are first-class values\n",
    "typeof(Int64) # => DataType\n",
    "typeof(DataType) # => DataType\n",
    "# DataType is the type that represents types, including itself.\n",
    "\n",
    "# Types are used for documentation, optimizations, and dispatch.\n",
    "# They are not statically checked.\n",
    "\n",
    "# Users can define types\n",
    "struct Tiger\n",
    "  taillength::Float64\n",
    "  coatcolor # not including a type annotation is the same as `::Any`\n",
    "end\n",
    "\n",
    "# The default constructor's arguments are the properties\n",
    "# of the type, in the order they are listed in the definition\n",
    "tigger = Tiger(3.5, \"orange\") # => Tiger(3.5,\"orange\")\n",
    "\n",
    "# The type doubles as the constructor function for values of that type\n",
    "sherekhan = typeof(tigger)(5.6, \"fire\") # => Tiger(5.6,\"fire\")\n",
    "\n",
    "# These struct-style types are called concrete types\n",
    "# They can be instantiated, but cannot have subtypes.\n",
    "# The other kind of types is abstract types.\n",
    "\n",
    "# abstract type Name\n",
    "abstract type Cat  # just a name and point in the type hierarchy\n",
    "end\n",
    "\n",
    "# Abstract types cannot be instantiated, but can have subtypes.\n",
    "# For example, Number is an abstract type\n",
    "subtypes(Number) # => 2-element Array{Union{DataType, UnionAll},1}:\n",
    "                 #     Complex\n",
    "                 #     Real\n",
    "subtypes(Cat) # => 0-element Array{Union{DataType, UnionAll},1}\n",
    "\n",
    "# AbstractString, as the name implies, is also an abstract type\n",
    "subtypes(AbstractString) # => 6-element Array{Union{DataType, UnionAll},1}:\n",
    "                         #     Base.SubstitutionString\n",
    "                         #     Base.Test.GenericString\n",
    "                         #     DirectIndexString\n",
    "                         #     RevString\n",
    "                         #     String\n",
    "                         #     SubString\n",
    "# Every type has a super type; use the `supertype` function to get it.\n",
    "typeof(5) # => Int64\n",
    "supertype(Int64) # => Signed\n",
    "supertype(Signed) # => Integer\n",
    "supertype(Integer) # => Real\n",
    "supertype(Real) # => Number\n",
    "supertype(Number) # => Any\n",
    "supertype(supertype(Signed)) # => Real\n",
    "supertype(Any) # => Any\n",
    "# All of these type, except for Int64, are abstract.\n",
    "typeof(\"fire\") # => String\n",
    "supertype(String) # => AbstractString\n",
    "supertype(AbstractString) # => Any\n",
    "\n",
    "# <: is the subtyping operator\n",
    "type Lion <: Cat # Lion is a subtype of Cat\n",
    "  mane_color\n",
    "  roar::AbstractString\n",
    "end\n",
    "\n",
    "# You can define more constructors for your type\n",
    "# Just define a function of the same name as the type\n",
    "# and call an existing constructor to get a value of the correct type\n",
    "Lion(roar::AbstractString) = Lion(\"green\", roar)\n",
    "# This is an outer constructor because it's outside the type definition\n",
    "\n",
    "type Panther <: Cat # Panther is also a subtype of Cat\n",
    "  eye_color\n",
    "  Panther() = new(\"green\")\n",
    "  # Panthers will only have this constructor, and no default constructor.\n",
    "  # new() is a spetial function available in inner constructors, that creates\n",
    "  # objects of the block's type.\n",
    "end\n",
    "# Using inner constructors, like Panther does, gives you control\n",
    "# over how values of the type can be created.\n",
    "# When possible, you should use outer constructors rather than inner ones.\n",
    "\n",
    "\n",
    "\n",
    "\n",
    "####################################################\n",
    "## Multiple-Dispatch\n",
    "####################################################\n",
    "\n",
    "# In Julia, all named functions are generic functions\n",
    "# This means that they are built up from many small methods\n",
    "# Each constructor for Lion is a method of the generic function Lion.\n",
    "\n",
    "# For a non-constructor example, let's make a function meow:\n",
    "\n",
    "# Definitions for Lion, Panther, Tiger\n",
    "function meow(animal::Lion)\n",
    "    animal.roar # access type properties using dot notation\n",
    "end\n",
    "\n",
    "function meow(animal::Panther)\n",
    "    \"grrr\"\n",
    "end\n",
    "\n",
    "function meow(animal::Tiger)\n",
    "    \"rawwwr\"\n",
    "end\n",
    "\n",
    "# Testing the meow function\n",
    "meow(tigger) # => \"rawwr\"\n",
    "meow(Lion(\"brown\",\"ROAAR\")) # => \"ROAAR\"\n",
    "meow(Panther()) # => \"grrr\"\n",
    "\n",
    "# Review the local type hierarchy\n",
    "issubtype(Tiger, Cat) # => false\n",
    "issubtype(Lion, Cat) # => true\n",
    "issubtype(Panther, Cat) # => true\n",
    "\n",
    "# Defining a function that takes Cats\n",
    "function pet_cat(cat::Cat)\n",
    "    println(\"The cat says $(meow(cat))\")\n",
    "end\n",
    "\n",
    "pet_cat(Lion(\"42\")) # => prints \"The cat says 42\"\n",
    "try\n",
    "    pet_cat(tigger) # => ERROR: no method matching pet_cat(::Tiger)\n",
    "catch e\n",
    "    println(e)\n",
    "end\n",
    "\n",
    "# In OO languages, single dispatch is common;\n",
    "# this means that the method is picked based on the type of the first argument.\n",
    "# In Julia, all of the argument types contribute to selecting the best method.\n",
    "\n",
    "# Let's define a function with more arguments, so we can see the difference\n",
    "function fight(t::Tiger, c::Cat)\n",
    "    println(\"The $(t.coatcolor) tiger wins!\")\n",
    "end\n",
    "# => fight (generic function with 1 method)\n",
    "\n",
    "fight(tigger, Panther()) # => prints The orange tiger wins!\n",
    "fight(tigger, Lion(\"ROAR\")) # => prints The orange tiger wins!\n",
    "\n",
    "# Let's change the behavior when the Cat is specifically a Lion\n",
    "fight(t::Tiger, l::Lion) = println(\"The $(l.mane_color)-maned lion wins!\")\n",
    "# => fight (generic function with 2 methods)\n",
    "\n",
    "fight(tigger, Panther()) # => prints The orange tiger wins!\n",
    "fight(tigger, Lion(\"ROAR\")) # => prints The green-maned lion wins!\n",
    "\n",
    "# We don't need a Tiger in order to fight\n",
    "fight(l::Lion, c::Cat) = println(\"The victorious cat says $(meow(c))\")\n",
    "# => fight (generic function with 3 methods)\n",
    "\n",
    "fight(Lion(\"balooga!\"), Panther()) # => prints The victorious cat says grrr\n",
    "\n",
    "# review the methods we created\n",
    "methods(fight) # => 3 methods for generic function \"fight\":\n",
    "               #     fight(t::Tiger, l::Lion)\n",
    "               #     fight(t::Tiger, c::Cat)\n",
    "               #     fight(l::Lion, c::Cat)\n",
    "\n",
    "try\n",
    "    fight(Panther(), Lion(\"RAWR\")) # => MethodError: no method matching\n",
    "                                   #    fight(::Panther, ::Lion)\n",
    "catch e\n",
    "    println(e)\n",
    "end\n",
    "\n",
    "# Also let the cat go first\n",
    "fight(c::Cat, l::Lion) = println(\"The cat beats the Lion\")\n",
    "try\n",
    "    fight(Lion(\"RAR\"), Lion(\"brown\", \"rarrr\"))\n",
    "    # => MethodError: fight(::Lion, ::Lion) is ambiguous. Candidates:\n",
    "    #    fight(c::Cat, l::Lion)\n",
    "    #    fight(l::Lion, c::Cat)\n",
    "    #  Possible fix, define\n",
    "    #    fight(::Lion, ::Lion)\n",
    "catch e\n",
    "    println(e)\n",
    "end\n",
    "\n",
    "fight(l1::Lion, l2::Lion) = println(\"The lions come to a tie\")\n",
    "fight(Lion(\"RAR\"), Lion(\"brown\", \"rarrr\")) # => prints The lions come to a tie\n",
    "\n",
    "\n",
    "\n",
    "\n",
    "#########\n",
    "# Macros\n",
    "#########\n",
    "\n",
    "v = 9\n",
    "\n",
    "@show 10 * √v # => 30.0\n",
    "# prints \"10 * √v = 30.0\"\n",
    "\n",
    "@time inv(rand(100, 100)) # => 100x100 Array{Float64,2}...\n",
    "# prints \"  0.306575 seconds (76.98 k allocations: 4.521 MiB)\"\n",
    "\n",
    "@time inv(rand(100, 100)) # => 100x100 Array{Float64,2}...\n",
    "# prints \"    0.001164 seconds (19 allocations: 286.781 KiB)\"\n",
    "# The second time is faster. The first time the functions were compiled.\n",
    "\n",
    "a = rand(10)\n",
    "pointer(a) # => Ptr{Float64} @0x000000010d97fb10\n",
    "# Slicing produces a new Array\n",
    "pointer(a[1:10]) == pointer(a) # => false\n",
    "# The @view macro produces a SubArray sharing memory with the original\n",
    "pointer(@view a[1:10]) == pointer(a) # => true"
   ]
  },
  {
   "cell_type": "markdown",
   "metadata": {},
   "source": [
    "# Intergrating with Python"
   ]
  },
  {
   "cell_type": "code",
   "execution_count": 1,
   "metadata": {
    "ExecuteTime": {
     "end_time": "2018-05-04T23:17:38.032000+02:00",
     "start_time": "2018-05-04T21:17:29.620Z"
    }
   },
   "outputs": [],
   "source": [
    "using PyCall"
   ]
  },
  {
   "cell_type": "code",
   "execution_count": 2,
   "metadata": {
    "ExecuteTime": {
     "end_time": "2018-05-04T23:17:42.808000+02:00",
     "start_time": "2018-05-04T21:17:30.020Z"
    }
   },
   "outputs": [
    {
     "data": {
      "text/plain": [
       "0.7390851332151607"
      ]
     },
     "execution_count": 2,
     "metadata": {},
     "output_type": "execute_result"
    }
   ],
   "source": [
    "@pyimport scipy.optimize as so\n",
    "so.newton(x -> cos(x) - x, 1)"
   ]
  },
  {
   "cell_type": "markdown",
   "metadata": {},
   "source": [
    "Single line `py\"...\"` returns a value, but has to be a single expression."
   ]
  },
  {
   "cell_type": "code",
   "execution_count": 16,
   "metadata": {
    "ExecuteTime": {
     "end_time": "2018-05-04T23:19:17.640000+02:00",
     "start_time": "2018-05-04T21:19:17.514Z"
    }
   },
   "outputs": [
    {
     "data": {
      "text/plain": [
       "2"
      ]
     },
     "execution_count": 16,
     "metadata": {},
     "output_type": "execute_result"
    }
   ],
   "source": [
    "py\"len([12, 23])\""
   ]
  },
  {
   "cell_type": "markdown",
   "metadata": {},
   "source": [
    "Multiline `py\"\"\"...\"\"\"` can execute arbitrary python code, but returns `nothing`."
   ]
  },
  {
   "cell_type": "code",
   "execution_count": 4,
   "metadata": {
    "ExecuteTime": {
     "end_time": "2018-05-04T23:17:44.247000+02:00",
     "start_time": "2018-05-04T21:17:31.812Z"
    }
   },
   "outputs": [
    {
     "data": {
      "text/plain": [
       "PyObject <function python_add at 0x1258dce18>"
      ]
     },
     "execution_count": 4,
     "metadata": {},
     "output_type": "execute_result"
    }
   ],
   "source": [
    "py\"\"\"\n",
    "def python_add(a, b):\n",
    "    return a + b\n",
    "\"\"\"\n",
    "python_add = py\"python_add\""
   ]
  },
  {
   "cell_type": "code",
   "execution_count": 5,
   "metadata": {
    "ExecuteTime": {
     "end_time": "2018-05-04T23:17:44.541000+02:00",
     "start_time": "2018-05-04T21:17:32.310Z"
    }
   },
   "outputs": [
    {
     "data": {
      "text/plain": [
       "4"
      ]
     },
     "execution_count": 5,
     "metadata": {},
     "output_type": "execute_result"
    }
   ],
   "source": [
    "python_add(2, 2)"
   ]
  },
  {
   "cell_type": "markdown",
   "metadata": {
    "ExecuteTime": {
     "end_time": "2018-05-04T22:49:42.682000+02:00",
     "start_time": "2018-05-04T20:49:42.678Z"
    }
   },
   "source": [
    "# Plotting with matplotlib"
   ]
  },
  {
   "cell_type": "code",
   "execution_count": 6,
   "metadata": {
    "ExecuteTime": {
     "end_time": "2018-05-04T23:17:49.757000+02:00",
     "start_time": "2018-05-04T21:17:39.916Z"
    }
   },
   "outputs": [],
   "source": [
    "using PyPlot"
   ]
  },
  {
   "cell_type": "code",
   "execution_count": 7,
   "metadata": {
    "ExecuteTime": {
     "end_time": "2018-05-04T23:17:53.954000+02:00",
     "start_time": "2018-05-04T21:17:40.340Z"
    }
   },
   "outputs": [
    {
     "data": {
      "image/png": "[encoded data removed]",
      "text/plain": [
       "PyPlot.Figure(PyObject <Figure size 640x480 with 1 Axes>)"
      ]
     },
     "metadata": {},
     "output_type": "display_data"
    },
    {
     "data": {
      "text/plain": [
       "PyObject Text(24,0.5,'intensity (a.u.)')"
      ]
     },
     "execution_count": 7,
     "metadata": {},
     "output_type": "execute_result"
    }
   ],
   "source": [
    "errorbar(0:9, rand(10), fmt = \".\", yerr = 0.1)\n",
    "xlabel(\"whatever (a.u.)\")\n",
    "ylabel(\"intensity (a.u.)\")"
   ]
  },
  {
   "cell_type": "markdown",
   "metadata": {},
   "source": [
    "# Calling C"
   ]
  },
  {
   "cell_type": "code",
   "execution_count": 8,
   "metadata": {
    "ExecuteTime": {
     "end_time": "2018-05-04T23:17:54.152000+02:00",
     "start_time": "2018-05-04T21:17:42.748Z"
    }
   },
   "outputs": [
    {
     "data": {
      "text/plain": [
       "23020496"
      ]
     },
     "execution_count": 8,
     "metadata": {},
     "output_type": "execute_result"
    }
   ],
   "source": [
    "ccall((:clock, \"libc\"), Int32, ())"
   ]
  },
  {
   "cell_type": "code",
   "execution_count": 9,
   "metadata": {
    "ExecuteTime": {
     "end_time": "2018-05-04T23:17:54.577000+02:00",
     "start_time": "2018-05-04T21:17:43.278Z"
    }
   },
   "outputs": [
    {
     "data": {
      "text/plain": [
       "\"/usr/local/bin/fish\""
      ]
     },
     "execution_count": 9,
     "metadata": {},
     "output_type": "execute_result"
    }
   ],
   "source": [
    "ccall((:getenv, \"libc\"), Cstring, (Cstring,), \"SHELL\") |> unsafe_string"
   ]
  },
  {
   "cell_type": "markdown",
   "metadata": {},
   "source": [
    "Can easily wrap functions:"
   ]
  },
  {
   "cell_type": "code",
   "execution_count": 156,
   "metadata": {
    "ExecuteTime": {
     "end_time": "2018-05-05T12:53:09.797000+02:00",
     "start_time": "2018-05-05T10:53:09.692Z"
    }
   },
   "outputs": [
    {
     "data": {
      "text/plain": [
       "getenv (generic function with 1 method)"
      ]
     },
     "execution_count": 156,
     "metadata": {},
     "output_type": "execute_result"
    }
   ],
   "source": [
    "getenv(v) = ccall((:getenv, \"libc\"), Cstring, (Cstring,), v) |> unsafe_string"
   ]
  },
  {
   "cell_type": "code",
   "execution_count": 157,
   "metadata": {
    "ExecuteTime": {
     "end_time": "2018-05-05T12:53:17.044000+02:00",
     "start_time": "2018-05-05T10:53:17.034Z"
    }
   },
   "outputs": [
    {
     "data": {
      "text/plain": [
       "\"/Users/rawlik\""
      ]
     },
     "execution_count": 157,
     "metadata": {},
     "output_type": "execute_result"
    }
   ],
   "source": [
    "getenv(\"HOME\")"
   ]
  },
  {
   "cell_type": "markdown",
   "metadata": {},
   "source": [
    "# C++ integration"
   ]
  },
  {
   "cell_type": "code",
   "execution_count": 11,
   "metadata": {
    "ExecuteTime": {
     "end_time": "2018-05-04T23:18:54.567000+02:00",
     "start_time": "2018-05-04T21:17:53.216Z"
    }
   },
   "outputs": [],
   "source": [
    "using Cxx"
   ]
  },
  {
   "cell_type": "code",
   "execution_count": 12,
   "metadata": {
    "ExecuteTime": {
     "end_time": "2018-05-04T23:18:56.321000+02:00",
     "start_time": "2018-05-04T21:17:54.642Z"
    }
   },
   "outputs": [
    {
     "data": {
      "text/plain": [
       "true"
      ]
     },
     "execution_count": 12,
     "metadata": {},
     "output_type": "execute_result"
    }
   ],
   "source": [
    "cxx\"\"\" #include<iostream> \"\"\""
   ]
  },
  {
   "cell_type": "code",
   "execution_count": 13,
   "metadata": {
    "ExecuteTime": {
     "end_time": "2018-05-04T23:18:56.347000+02:00",
     "start_time": "2018-05-04T21:17:55.534Z"
    }
   },
   "outputs": [
    {
     "data": {
      "text/plain": [
       "true"
      ]
     },
     "execution_count": 13,
     "metadata": {},
     "output_type": "execute_result"
    }
   ],
   "source": [
    "cxx\"\"\"  \n",
    "  void mycppfunction() {   \n",
    "    int z = 0;\n",
    "    int y = 4;\n",
    "    int x = 10;\n",
    "    z = x*y + 2;\n",
    "    std::cout << \"The number is \" << z << std::endl;\n",
    " }\n",
    "\"\"\""
   ]
  },
  {
   "cell_type": "code",
   "execution_count": 14,
   "metadata": {
    "ExecuteTime": {
     "end_time": "2018-05-04T23:18:57.752000+02:00",
     "start_time": "2018-05-04T21:18:05.236Z"
    }
   },
   "outputs": [
    {
     "data": {
      "text/plain": [
       "julia_function (generic function with 1 method)"
      ]
     },
     "execution_count": 14,
     "metadata": {},
     "output_type": "execute_result"
    }
   ],
   "source": [
    "julia_function() = @cxx mycppfunction()"
   ]
  },
  {
   "cell_type": "code",
   "execution_count": 15,
   "metadata": {
    "ExecuteTime": {
     "end_time": "2018-05-04T23:18:58.901000+02:00",
     "start_time": "2018-05-04T21:18:05.982Z"
    }
   },
   "outputs": [
    {
     "name": "stdout",
     "output_type": "stream",
     "text": [
      "The number is 42\n"
     ]
    }
   ],
   "source": [
    "julia_function()"
   ]
  },
  {
   "cell_type": "code",
   "execution_count": null,
   "metadata": {},
   "outputs": [],
   "source": []
  }
 ],
 "metadata": {
  "kernelspec": {
   "display_name": "Julia 0.6.2",
   "language": "julia",
   "name": "julia-0.6"
  },
  "language_info": {
   "file_extension": ".jl",
   "mimetype": "application/julia",
   "name": "julia",
   "version": "0.6.2"
  },
  "toc": {
   "toc_cell": false,
   "toc_number_sections": true,
   "toc_threshold": 6,
   "toc_window_display": false
  }
 },
 "nbformat": 4,
 "nbformat_minor": 2
}
