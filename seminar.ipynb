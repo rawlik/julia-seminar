{
 "cells": [
  {
   "cell_type": "markdown",
   "metadata": {},
   "source": [
    "# Intergrating with Python"
   ]
  },
  {
   "cell_type": "code",
   "execution_count": 1,
   "metadata": {
    "ExecuteTime": {
     "end_time": "2018-05-04T23:17:38.032000+02:00",
     "start_time": "2018-05-04T21:17:29.620Z"
    }
   },
   "outputs": [],
   "source": [
    "using PyCall"
   ]
  },
  {
   "cell_type": "code",
   "execution_count": 2,
   "metadata": {
    "ExecuteTime": {
     "end_time": "2018-05-04T23:17:42.808000+02:00",
     "start_time": "2018-05-04T21:17:30.020Z"
    }
   },
   "outputs": [
    {
     "data": {
      "text/plain": [
       "0.7390851332151607"
      ]
     },
     "execution_count": 2,
     "metadata": {},
     "output_type": "execute_result"
    }
   ],
   "source": [
    "@pyimport scipy.optimize as so\n",
    "so.newton(x -> cos(x) - x, 1)"
   ]
  },
  {
   "cell_type": "markdown",
   "metadata": {},
   "source": [
    "Single line `py\"...\"` returns a value, but has to be a single expression."
   ]
  },
  {
   "cell_type": "code",
   "execution_count": 16,
   "metadata": {
    "ExecuteTime": {
     "end_time": "2018-05-04T23:19:17.640000+02:00",
     "start_time": "2018-05-04T21:19:17.514Z"
    }
   },
   "outputs": [
    {
     "data": {
      "text/plain": [
       "2"
      ]
     },
     "execution_count": 16,
     "metadata": {},
     "output_type": "execute_result"
    }
   ],
   "source": [
    "py\"len([12, 23])\""
   ]
  },
  {
   "cell_type": "markdown",
   "metadata": {},
   "source": [
    "Multiline `py\"\"\"...\"\"\"` can execute arbitrary python code, but returns `nothing`."
   ]
  },
  {
   "cell_type": "code",
   "execution_count": 4,
   "metadata": {
    "ExecuteTime": {
     "end_time": "2018-05-04T23:17:44.247000+02:00",
     "start_time": "2018-05-04T21:17:31.812Z"
    }
   },
   "outputs": [
    {
     "data": {
      "text/plain": [
       "PyObject <function python_add at 0x1258dce18>"
      ]
     },
     "execution_count": 4,
     "metadata": {},
     "output_type": "execute_result"
    }
   ],
   "source": [
    "py\"\"\"\n",
    "def python_add(a, b):\n",
    "    return a + b\n",
    "\"\"\"\n",
    "python_add = py\"python_add\""
   ]
  },
  {
   "cell_type": "code",
   "execution_count": 5,
   "metadata": {
    "ExecuteTime": {
     "end_time": "2018-05-04T23:17:44.541000+02:00",
     "start_time": "2018-05-04T21:17:32.310Z"
    }
   },
   "outputs": [
    {
     "data": {
      "text/plain": [
       "4"
      ]
     },
     "execution_count": 5,
     "metadata": {},
     "output_type": "execute_result"
    }
   ],
   "source": [
    "python_add(2, 2)"
   ]
  },
  {
   "cell_type": "markdown",
   "metadata": {
    "ExecuteTime": {
     "end_time": "2018-05-04T22:49:42.682000+02:00",
     "start_time": "2018-05-04T20:49:42.678Z"
    }
   },
   "source": [
    "# Plotting with matplotlib"
   ]
  },
  {
   "cell_type": "code",
   "execution_count": 6,
   "metadata": {
    "ExecuteTime": {
     "end_time": "2018-05-04T23:17:49.757000+02:00",
     "start_time": "2018-05-04T21:17:39.916Z"
    }
   },
   "outputs": [],
   "source": [
    "using PyPlot"
   ]
  },
  {
   "cell_type": "code",
   "execution_count": 7,
   "metadata": {
    "ExecuteTime": {
     "end_time": "2018-05-04T23:17:53.954000+02:00",
     "start_time": "2018-05-04T21:17:40.340Z"
    }
   },
   "outputs": [
    {
     "data": {
      "image/png": "[encoded data removed]",
      "text/plain": [
       "PyPlot.Figure(PyObject <Figure size 640x480 with 1 Axes>)"
      ]
     },
     "metadata": {},
     "output_type": "display_data"
    },
    {
     "data": {
      "text/plain": [
       "PyObject Text(24,0.5,'intensity (a.u.)')"
      ]
     },
     "execution_count": 7,
     "metadata": {},
     "output_type": "execute_result"
    }
   ],
   "source": [
    "errorbar(0:9, rand(10), fmt = \".\", yerr = 0.1)\n",
    "xlabel(\"whatever (a.u.)\")\n",
    "ylabel(\"intensity (a.u.)\")"
   ]
  },
  {
   "cell_type": "markdown",
   "metadata": {},
   "source": [
    "# Calling C"
   ]
  },
  {
   "cell_type": "code",
   "execution_count": 8,
   "metadata": {
    "ExecuteTime": {
     "end_time": "2018-05-04T23:17:54.152000+02:00",
     "start_time": "2018-05-04T21:17:42.748Z"
    }
   },
   "outputs": [
    {
     "data": {
      "text/plain": [
       "23020496"
      ]
     },
     "execution_count": 8,
     "metadata": {},
     "output_type": "execute_result"
    }
   ],
   "source": [
    "ccall((:clock, \"libc\"), Int32, ())"
   ]
  },
  {
   "cell_type": "code",
   "execution_count": 9,
   "metadata": {
    "ExecuteTime": {
     "end_time": "2018-05-04T23:17:54.577000+02:00",
     "start_time": "2018-05-04T21:17:43.278Z"
    }
   },
   "outputs": [
    {
     "data": {
      "text/plain": [
       "\"/usr/local/bin/fish\""
      ]
     },
     "execution_count": 9,
     "metadata": {},
     "output_type": "execute_result"
    }
   ],
   "source": [
    "ccall((:getenv, \"libc\"), Cstring, (Cstring,), \"SHELL\") |> unsafe_string"
   ]
  },
  {
   "cell_type": "markdown",
   "metadata": {},
   "source": [
    "# C++ integration"
   ]
  },
  {
   "cell_type": "code",
   "execution_count": 11,
   "metadata": {
    "ExecuteTime": {
     "end_time": "2018-05-04T23:18:54.567000+02:00",
     "start_time": "2018-05-04T21:17:53.216Z"
    }
   },
   "outputs": [],
   "source": [
    "using Cxx"
   ]
  },
  {
   "cell_type": "code",
   "execution_count": 12,
   "metadata": {
    "ExecuteTime": {
     "end_time": "2018-05-04T23:18:56.321000+02:00",
     "start_time": "2018-05-04T21:17:54.642Z"
    }
   },
   "outputs": [
    {
     "data": {
      "text/plain": [
       "true"
      ]
     },
     "execution_count": 12,
     "metadata": {},
     "output_type": "execute_result"
    }
   ],
   "source": [
    "cxx\"\"\" #include<iostream> \"\"\""
   ]
  },
  {
   "cell_type": "code",
   "execution_count": 13,
   "metadata": {
    "ExecuteTime": {
     "end_time": "2018-05-04T23:18:56.347000+02:00",
     "start_time": "2018-05-04T21:17:55.534Z"
    }
   },
   "outputs": [
    {
     "data": {
      "text/plain": [
       "true"
      ]
     },
     "execution_count": 13,
     "metadata": {},
     "output_type": "execute_result"
    }
   ],
   "source": [
    "cxx\"\"\"  \n",
    "  void mycppfunction() {   \n",
    "    int z = 0;\n",
    "    int y = 4;\n",
    "    int x = 10;\n",
    "    z = x*y + 2;\n",
    "    std::cout << \"The number is \" << z << std::endl;\n",
    " }\n",
    "\"\"\""
   ]
  },
  {
   "cell_type": "code",
   "execution_count": 14,
   "metadata": {
    "ExecuteTime": {
     "end_time": "2018-05-04T23:18:57.752000+02:00",
     "start_time": "2018-05-04T21:18:05.236Z"
    }
   },
   "outputs": [
    {
     "data": {
      "text/plain": [
       "julia_function (generic function with 1 method)"
      ]
     },
     "execution_count": 14,
     "metadata": {},
     "output_type": "execute_result"
    }
   ],
   "source": [
    "julia_function() = @cxx mycppfunction()"
   ]
  },
  {
   "cell_type": "code",
   "execution_count": 15,
   "metadata": {
    "ExecuteTime": {
     "end_time": "2018-05-04T23:18:58.901000+02:00",
     "start_time": "2018-05-04T21:18:05.982Z"
    }
   },
   "outputs": [
    {
     "name": "stdout",
     "output_type": "stream",
     "text": [
      "The number is 42\n"
     ]
    }
   ],
   "source": [
    "julia_function()"
   ]
  },
  {
   "cell_type": "code",
   "execution_count": null,
   "metadata": {},
   "outputs": [],
   "source": []
  }
 ],
 "metadata": {
  "kernelspec": {
   "display_name": "Julia 0.6.2",
   "language": "julia",
   "name": "julia-0.6"
  },
  "language_info": {
   "file_extension": ".jl",
   "mimetype": "application/julia",
   "name": "julia",
   "version": "0.6.2"
  },
  "toc": {
   "toc_cell": false,
   "toc_number_sections": true,
   "toc_threshold": 6,
   "toc_window_display": false
  }
 },
 "nbformat": 4,
 "nbformat_minor": 2
}
